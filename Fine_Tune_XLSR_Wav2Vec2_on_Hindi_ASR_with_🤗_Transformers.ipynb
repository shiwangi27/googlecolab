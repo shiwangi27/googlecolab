{
  "nbformat": 4,
  "nbformat_minor": 0,
  "metadata": {
    "colab": {
      "name": "Fine-Tune XLSR-Wav2Vec2 on Hindi ASR with 🤗 Transformers.ipynb",
      "provenance": [],
      "collapsed_sections": [],
      "toc_visible": true,
      "machine_shape": "hm",
      "include_colab_link": true
    },
    "kernelspec": {
      "name": "python3",
      "display_name": "Python 3"
    },
    "widgets": {
      "application/vnd.jupyter.widget-state+json": {
        "e1a62138fde24008bc678835b383136a": {
          "model_module": "@jupyter-widgets/controls",
          "model_name": "HBoxModel",
          "state": {
            "_view_name": "HBoxView",
            "_dom_classes": [],
            "_model_name": "HBoxModel",
            "_view_module": "@jupyter-widgets/controls",
            "_model_module_version": "1.5.0",
            "_view_count": null,
            "_view_module_version": "1.5.0",
            "box_style": "",
            "layout": "IPY_MODEL_ad540ce0adf54b358f6a8e6b159dd783",
            "_model_module": "@jupyter-widgets/controls",
            "children": [
              "IPY_MODEL_2b8b4a47107445deb6003b3a6a07d264",
              "IPY_MODEL_fc5b9b6199604967bd2bcf8117c0e422"
            ]
          }
        },
        "ad540ce0adf54b358f6a8e6b159dd783": {
          "model_module": "@jupyter-widgets/base",
          "model_name": "LayoutModel",
          "state": {
            "_view_name": "LayoutView",
            "grid_template_rows": null,
            "right": null,
            "justify_content": null,
            "_view_module": "@jupyter-widgets/base",
            "overflow": null,
            "_model_module_version": "1.2.0",
            "_view_count": null,
            "flex_flow": null,
            "width": null,
            "min_width": null,
            "border": null,
            "align_items": null,
            "bottom": null,
            "_model_module": "@jupyter-widgets/base",
            "top": null,
            "grid_column": null,
            "overflow_y": null,
            "overflow_x": null,
            "grid_auto_flow": null,
            "grid_area": null,
            "grid_template_columns": null,
            "flex": null,
            "_model_name": "LayoutModel",
            "justify_items": null,
            "grid_row": null,
            "max_height": null,
            "align_content": null,
            "visibility": null,
            "align_self": null,
            "height": null,
            "min_height": null,
            "padding": null,
            "grid_auto_rows": null,
            "grid_gap": null,
            "max_width": null,
            "order": null,
            "_view_module_version": "1.2.0",
            "grid_template_areas": null,
            "object_position": null,
            "object_fit": null,
            "grid_auto_columns": null,
            "margin": null,
            "display": null,
            "left": null
          }
        },
        "2b8b4a47107445deb6003b3a6a07d264": {
          "model_module": "@jupyter-widgets/controls",
          "model_name": "FloatProgressModel",
          "state": {
            "_view_name": "ProgressView",
            "style": "IPY_MODEL_9d3c2e64636a46f98de5755cb342bce1",
            "_dom_classes": [],
            "description": "Downloading: ",
            "_model_name": "FloatProgressModel",
            "bar_style": "success",
            "max": 4323,
            "_view_module": "@jupyter-widgets/controls",
            "_model_module_version": "1.5.0",
            "value": 4323,
            "_view_count": null,
            "_view_module_version": "1.5.0",
            "orientation": "horizontal",
            "min": 0,
            "description_tooltip": null,
            "_model_module": "@jupyter-widgets/controls",
            "layout": "IPY_MODEL_0daba6a7ca214cb1a44d541ea16adb1a"
          }
        },
        "fc5b9b6199604967bd2bcf8117c0e422": {
          "model_module": "@jupyter-widgets/controls",
          "model_name": "HTMLModel",
          "state": {
            "_view_name": "HTMLView",
            "style": "IPY_MODEL_b9b200fd87a746c6bce84d354f8af552",
            "_dom_classes": [],
            "description": "",
            "_model_name": "HTMLModel",
            "placeholder": "​",
            "_view_module": "@jupyter-widgets/controls",
            "_model_module_version": "1.5.0",
            "value": " 22.0k/? [00:00&lt;00:00, 62.8kB/s]",
            "_view_count": null,
            "_view_module_version": "1.5.0",
            "description_tooltip": null,
            "_model_module": "@jupyter-widgets/controls",
            "layout": "IPY_MODEL_975a4595391c4c568939815e38a469fb"
          }
        },
        "9d3c2e64636a46f98de5755cb342bce1": {
          "model_module": "@jupyter-widgets/controls",
          "model_name": "ProgressStyleModel",
          "state": {
            "_view_name": "StyleView",
            "_model_name": "ProgressStyleModel",
            "description_width": "initial",
            "_view_module": "@jupyter-widgets/base",
            "_model_module_version": "1.5.0",
            "_view_count": null,
            "_view_module_version": "1.2.0",
            "bar_color": null,
            "_model_module": "@jupyter-widgets/controls"
          }
        },
        "0daba6a7ca214cb1a44d541ea16adb1a": {
          "model_module": "@jupyter-widgets/base",
          "model_name": "LayoutModel",
          "state": {
            "_view_name": "LayoutView",
            "grid_template_rows": null,
            "right": null,
            "justify_content": null,
            "_view_module": "@jupyter-widgets/base",
            "overflow": null,
            "_model_module_version": "1.2.0",
            "_view_count": null,
            "flex_flow": null,
            "width": null,
            "min_width": null,
            "border": null,
            "align_items": null,
            "bottom": null,
            "_model_module": "@jupyter-widgets/base",
            "top": null,
            "grid_column": null,
            "overflow_y": null,
            "overflow_x": null,
            "grid_auto_flow": null,
            "grid_area": null,
            "grid_template_columns": null,
            "flex": null,
            "_model_name": "LayoutModel",
            "justify_items": null,
            "grid_row": null,
            "max_height": null,
            "align_content": null,
            "visibility": null,
            "align_self": null,
            "height": null,
            "min_height": null,
            "padding": null,
            "grid_auto_rows": null,
            "grid_gap": null,
            "max_width": null,
            "order": null,
            "_view_module_version": "1.2.0",
            "grid_template_areas": null,
            "object_position": null,
            "object_fit": null,
            "grid_auto_columns": null,
            "margin": null,
            "display": null,
            "left": null
          }
        },
        "b9b200fd87a746c6bce84d354f8af552": {
          "model_module": "@jupyter-widgets/controls",
          "model_name": "DescriptionStyleModel",
          "state": {
            "_view_name": "StyleView",
            "_model_name": "DescriptionStyleModel",
            "description_width": "",
            "_view_module": "@jupyter-widgets/base",
            "_model_module_version": "1.5.0",
            "_view_count": null,
            "_view_module_version": "1.2.0",
            "_model_module": "@jupyter-widgets/controls"
          }
        },
        "975a4595391c4c568939815e38a469fb": {
          "model_module": "@jupyter-widgets/base",
          "model_name": "LayoutModel",
          "state": {
            "_view_name": "LayoutView",
            "grid_template_rows": null,
            "right": null,
            "justify_content": null,
            "_view_module": "@jupyter-widgets/base",
            "overflow": null,
            "_model_module_version": "1.2.0",
            "_view_count": null,
            "flex_flow": null,
            "width": null,
            "min_width": null,
            "border": null,
            "align_items": null,
            "bottom": null,
            "_model_module": "@jupyter-widgets/base",
            "top": null,
            "grid_column": null,
            "overflow_y": null,
            "overflow_x": null,
            "grid_auto_flow": null,
            "grid_area": null,
            "grid_template_columns": null,
            "flex": null,
            "_model_name": "LayoutModel",
            "justify_items": null,
            "grid_row": null,
            "max_height": null,
            "align_content": null,
            "visibility": null,
            "align_self": null,
            "height": null,
            "min_height": null,
            "padding": null,
            "grid_auto_rows": null,
            "grid_gap": null,
            "max_width": null,
            "order": null,
            "_view_module_version": "1.2.0",
            "grid_template_areas": null,
            "object_position": null,
            "object_fit": null,
            "grid_auto_columns": null,
            "margin": null,
            "display": null,
            "left": null
          }
        },
        "a10b53a572464af8ae2605462070334a": {
          "model_module": "@jupyter-widgets/controls",
          "model_name": "HBoxModel",
          "state": {
            "_view_name": "HBoxView",
            "_dom_classes": [],
            "_model_name": "HBoxModel",
            "_view_module": "@jupyter-widgets/controls",
            "_model_module_version": "1.5.0",
            "_view_count": null,
            "_view_module_version": "1.5.0",
            "box_style": "",
            "layout": "IPY_MODEL_e00714e66f46480fa470bb48ba212b63",
            "_model_module": "@jupyter-widgets/controls",
            "children": [
              "IPY_MODEL_eb2f3a5f7e0f4cfc803b58a494413c50",
              "IPY_MODEL_d4d74ad7de5240938961acf56d40989c"
            ]
          }
        },
        "e00714e66f46480fa470bb48ba212b63": {
          "model_module": "@jupyter-widgets/base",
          "model_name": "LayoutModel",
          "state": {
            "_view_name": "LayoutView",
            "grid_template_rows": null,
            "right": null,
            "justify_content": null,
            "_view_module": "@jupyter-widgets/base",
            "overflow": null,
            "_model_module_version": "1.2.0",
            "_view_count": null,
            "flex_flow": null,
            "width": null,
            "min_width": null,
            "border": null,
            "align_items": null,
            "bottom": null,
            "_model_module": "@jupyter-widgets/base",
            "top": null,
            "grid_column": null,
            "overflow_y": null,
            "overflow_x": null,
            "grid_auto_flow": null,
            "grid_area": null,
            "grid_template_columns": null,
            "flex": null,
            "_model_name": "LayoutModel",
            "justify_items": null,
            "grid_row": null,
            "max_height": null,
            "align_content": null,
            "visibility": null,
            "align_self": null,
            "height": null,
            "min_height": null,
            "padding": null,
            "grid_auto_rows": null,
            "grid_gap": null,
            "max_width": null,
            "order": null,
            "_view_module_version": "1.2.0",
            "grid_template_areas": null,
            "object_position": null,
            "object_fit": null,
            "grid_auto_columns": null,
            "margin": null,
            "display": null,
            "left": null
          }
        },
        "eb2f3a5f7e0f4cfc803b58a494413c50": {
          "model_module": "@jupyter-widgets/controls",
          "model_name": "FloatProgressModel",
          "state": {
            "_view_name": "ProgressView",
            "style": "IPY_MODEL_480c671f44704038bf91172df1be33ab",
            "_dom_classes": [],
            "description": "Downloading: ",
            "_model_name": "FloatProgressModel",
            "bar_style": "success",
            "max": 9954,
            "_view_module": "@jupyter-widgets/controls",
            "_model_module_version": "1.5.0",
            "value": 9954,
            "_view_count": null,
            "_view_module_version": "1.5.0",
            "orientation": "horizontal",
            "min": 0,
            "description_tooltip": null,
            "_model_module": "@jupyter-widgets/controls",
            "layout": "IPY_MODEL_ae626b3ee2e34147ad05ad0fa205e3ac"
          }
        },
        "d4d74ad7de5240938961acf56d40989c": {
          "model_module": "@jupyter-widgets/controls",
          "model_name": "HTMLModel",
          "state": {
            "_view_name": "HTMLView",
            "style": "IPY_MODEL_643649ff50994e11b368de66c2c58ea2",
            "_dom_classes": [],
            "description": "",
            "_model_name": "HTMLModel",
            "placeholder": "​",
            "_view_module": "@jupyter-widgets/controls",
            "_model_module_version": "1.5.0",
            "value": " 153k/? [00:00&lt;00:00, 1.93MB/s]",
            "_view_count": null,
            "_view_module_version": "1.5.0",
            "description_tooltip": null,
            "_model_module": "@jupyter-widgets/controls",
            "layout": "IPY_MODEL_cfb78c7433934b3ba0752e2e63f6f153"
          }
        },
        "480c671f44704038bf91172df1be33ab": {
          "model_module": "@jupyter-widgets/controls",
          "model_name": "ProgressStyleModel",
          "state": {
            "_view_name": "StyleView",
            "_model_name": "ProgressStyleModel",
            "description_width": "initial",
            "_view_module": "@jupyter-widgets/base",
            "_model_module_version": "1.5.0",
            "_view_count": null,
            "_view_module_version": "1.2.0",
            "bar_color": null,
            "_model_module": "@jupyter-widgets/controls"
          }
        },
        "ae626b3ee2e34147ad05ad0fa205e3ac": {
          "model_module": "@jupyter-widgets/base",
          "model_name": "LayoutModel",
          "state": {
            "_view_name": "LayoutView",
            "grid_template_rows": null,
            "right": null,
            "justify_content": null,
            "_view_module": "@jupyter-widgets/base",
            "overflow": null,
            "_model_module_version": "1.2.0",
            "_view_count": null,
            "flex_flow": null,
            "width": null,
            "min_width": null,
            "border": null,
            "align_items": null,
            "bottom": null,
            "_model_module": "@jupyter-widgets/base",
            "top": null,
            "grid_column": null,
            "overflow_y": null,
            "overflow_x": null,
            "grid_auto_flow": null,
            "grid_area": null,
            "grid_template_columns": null,
            "flex": null,
            "_model_name": "LayoutModel",
            "justify_items": null,
            "grid_row": null,
            "max_height": null,
            "align_content": null,
            "visibility": null,
            "align_self": null,
            "height": null,
            "min_height": null,
            "padding": null,
            "grid_auto_rows": null,
            "grid_gap": null,
            "max_width": null,
            "order": null,
            "_view_module_version": "1.2.0",
            "grid_template_areas": null,
            "object_position": null,
            "object_fit": null,
            "grid_auto_columns": null,
            "margin": null,
            "display": null,
            "left": null
          }
        },
        "643649ff50994e11b368de66c2c58ea2": {
          "model_module": "@jupyter-widgets/controls",
          "model_name": "DescriptionStyleModel",
          "state": {
            "_view_name": "StyleView",
            "_model_name": "DescriptionStyleModel",
            "description_width": "",
            "_view_module": "@jupyter-widgets/base",
            "_model_module_version": "1.5.0",
            "_view_count": null,
            "_view_module_version": "1.2.0",
            "_model_module": "@jupyter-widgets/controls"
          }
        },
        "cfb78c7433934b3ba0752e2e63f6f153": {
          "model_module": "@jupyter-widgets/base",
          "model_name": "LayoutModel",
          "state": {
            "_view_name": "LayoutView",
            "grid_template_rows": null,
            "right": null,
            "justify_content": null,
            "_view_module": "@jupyter-widgets/base",
            "overflow": null,
            "_model_module_version": "1.2.0",
            "_view_count": null,
            "flex_flow": null,
            "width": null,
            "min_width": null,
            "border": null,
            "align_items": null,
            "bottom": null,
            "_model_module": "@jupyter-widgets/base",
            "top": null,
            "grid_column": null,
            "overflow_y": null,
            "overflow_x": null,
            "grid_auto_flow": null,
            "grid_area": null,
            "grid_template_columns": null,
            "flex": null,
            "_model_name": "LayoutModel",
            "justify_items": null,
            "grid_row": null,
            "max_height": null,
            "align_content": null,
            "visibility": null,
            "align_self": null,
            "height": null,
            "min_height": null,
            "padding": null,
            "grid_auto_rows": null,
            "grid_gap": null,
            "max_width": null,
            "order": null,
            "_view_module_version": "1.2.0",
            "grid_template_areas": null,
            "object_position": null,
            "object_fit": null,
            "grid_auto_columns": null,
            "margin": null,
            "display": null,
            "left": null
          }
        },
        "7a38ade4845046988cd63b95fda88f1f": {
          "model_module": "@jupyter-widgets/controls",
          "model_name": "HBoxModel",
          "state": {
            "_view_name": "HBoxView",
            "_dom_classes": [],
            "_model_name": "HBoxModel",
            "_view_module": "@jupyter-widgets/controls",
            "_model_module_version": "1.5.0",
            "_view_count": null,
            "_view_module_version": "1.5.0",
            "box_style": "",
            "layout": "IPY_MODEL_bb39f7a54b0e422cbc13cc4e265277ed",
            "_model_module": "@jupyter-widgets/controls",
            "children": [
              "IPY_MODEL_1a7d536127dd410e86223059fa22f51d",
              "IPY_MODEL_88c09d58b3624fc59f4ef17b025551f4"
            ]
          }
        },
        "bb39f7a54b0e422cbc13cc4e265277ed": {
          "model_module": "@jupyter-widgets/base",
          "model_name": "LayoutModel",
          "state": {
            "_view_name": "LayoutView",
            "grid_template_rows": null,
            "right": null,
            "justify_content": null,
            "_view_module": "@jupyter-widgets/base",
            "overflow": null,
            "_model_module_version": "1.2.0",
            "_view_count": null,
            "flex_flow": null,
            "width": null,
            "min_width": null,
            "border": null,
            "align_items": null,
            "bottom": null,
            "_model_module": "@jupyter-widgets/base",
            "top": null,
            "grid_column": null,
            "overflow_y": null,
            "overflow_x": null,
            "grid_auto_flow": null,
            "grid_area": null,
            "grid_template_columns": null,
            "flex": null,
            "_model_name": "LayoutModel",
            "justify_items": null,
            "grid_row": null,
            "max_height": null,
            "align_content": null,
            "visibility": null,
            "align_self": null,
            "height": null,
            "min_height": null,
            "padding": null,
            "grid_auto_rows": null,
            "grid_gap": null,
            "max_width": null,
            "order": null,
            "_view_module_version": "1.2.0",
            "grid_template_areas": null,
            "object_position": null,
            "object_fit": null,
            "grid_auto_columns": null,
            "margin": null,
            "display": null,
            "left": null
          }
        },
        "1a7d536127dd410e86223059fa22f51d": {
          "model_module": "@jupyter-widgets/controls",
          "model_name": "FloatProgressModel",
          "state": {
            "_view_name": "ProgressView",
            "style": "IPY_MODEL_745fd2328fb7429bb1b44a78775ba8de",
            "_dom_classes": [],
            "description": "Downloading: 100%",
            "_model_name": "FloatProgressModel",
            "bar_style": "success",
            "max": 21424045,
            "_view_module": "@jupyter-widgets/controls",
            "_model_module_version": "1.5.0",
            "value": 21424045,
            "_view_count": null,
            "_view_module_version": "1.5.0",
            "orientation": "horizontal",
            "min": 0,
            "description_tooltip": null,
            "_model_module": "@jupyter-widgets/controls",
            "layout": "IPY_MODEL_b4690991c86d48e2b0c5d4842c18bc00"
          }
        },
        "88c09d58b3624fc59f4ef17b025551f4": {
          "model_module": "@jupyter-widgets/controls",
          "model_name": "HTMLModel",
          "state": {
            "_view_name": "HTMLView",
            "style": "IPY_MODEL_62f0fe1b49bb447384a34e0363dc0b05",
            "_dom_classes": [],
            "description": "",
            "_model_name": "HTMLModel",
            "placeholder": "​",
            "_view_module": "@jupyter-widgets/controls",
            "_model_module_version": "1.5.0",
            "value": " 21.4M/21.4M [00:00&lt;00:00, 26.0MB/s]",
            "_view_count": null,
            "_view_module_version": "1.5.0",
            "description_tooltip": null,
            "_model_module": "@jupyter-widgets/controls",
            "layout": "IPY_MODEL_909013801cf54f88b13142421dc42e8b"
          }
        },
        "745fd2328fb7429bb1b44a78775ba8de": {
          "model_module": "@jupyter-widgets/controls",
          "model_name": "ProgressStyleModel",
          "state": {
            "_view_name": "StyleView",
            "_model_name": "ProgressStyleModel",
            "description_width": "initial",
            "_view_module": "@jupyter-widgets/base",
            "_model_module_version": "1.5.0",
            "_view_count": null,
            "_view_module_version": "1.2.0",
            "bar_color": null,
            "_model_module": "@jupyter-widgets/controls"
          }
        },
        "b4690991c86d48e2b0c5d4842c18bc00": {
          "model_module": "@jupyter-widgets/base",
          "model_name": "LayoutModel",
          "state": {
            "_view_name": "LayoutView",
            "grid_template_rows": null,
            "right": null,
            "justify_content": null,
            "_view_module": "@jupyter-widgets/base",
            "overflow": null,
            "_model_module_version": "1.2.0",
            "_view_count": null,
            "flex_flow": null,
            "width": null,
            "min_width": null,
            "border": null,
            "align_items": null,
            "bottom": null,
            "_model_module": "@jupyter-widgets/base",
            "top": null,
            "grid_column": null,
            "overflow_y": null,
            "overflow_x": null,
            "grid_auto_flow": null,
            "grid_area": null,
            "grid_template_columns": null,
            "flex": null,
            "_model_name": "LayoutModel",
            "justify_items": null,
            "grid_row": null,
            "max_height": null,
            "align_content": null,
            "visibility": null,
            "align_self": null,
            "height": null,
            "min_height": null,
            "padding": null,
            "grid_auto_rows": null,
            "grid_gap": null,
            "max_width": null,
            "order": null,
            "_view_module_version": "1.2.0",
            "grid_template_areas": null,
            "object_position": null,
            "object_fit": null,
            "grid_auto_columns": null,
            "margin": null,
            "display": null,
            "left": null
          }
        },
        "62f0fe1b49bb447384a34e0363dc0b05": {
          "model_module": "@jupyter-widgets/controls",
          "model_name": "DescriptionStyleModel",
          "state": {
            "_view_name": "StyleView",
            "_model_name": "DescriptionStyleModel",
            "description_width": "",
            "_view_module": "@jupyter-widgets/base",
            "_model_module_version": "1.5.0",
            "_view_count": null,
            "_view_module_version": "1.2.0",
            "_model_module": "@jupyter-widgets/controls"
          }
        },
        "909013801cf54f88b13142421dc42e8b": {
          "model_module": "@jupyter-widgets/base",
          "model_name": "LayoutModel",
          "state": {
            "_view_name": "LayoutView",
            "grid_template_rows": null,
            "right": null,
            "justify_content": null,
            "_view_module": "@jupyter-widgets/base",
            "overflow": null,
            "_model_module_version": "1.2.0",
            "_view_count": null,
            "flex_flow": null,
            "width": null,
            "min_width": null,
            "border": null,
            "align_items": null,
            "bottom": null,
            "_model_module": "@jupyter-widgets/base",
            "top": null,
            "grid_column": null,
            "overflow_y": null,
            "overflow_x": null,
            "grid_auto_flow": null,
            "grid_area": null,
            "grid_template_columns": null,
            "flex": null,
            "_model_name": "LayoutModel",
            "justify_items": null,
            "grid_row": null,
            "max_height": null,
            "align_content": null,
            "visibility": null,
            "align_self": null,
            "height": null,
            "min_height": null,
            "padding": null,
            "grid_auto_rows": null,
            "grid_gap": null,
            "max_width": null,
            "order": null,
            "_view_module_version": "1.2.0",
            "grid_template_areas": null,
            "object_position": null,
            "object_fit": null,
            "grid_auto_columns": null,
            "margin": null,
            "display": null,
            "left": null
          }
        },
        "20b374d8b70842a392588c73d43eda49": {
          "model_module": "@jupyter-widgets/controls",
          "model_name": "HBoxModel",
          "state": {
            "_view_name": "HBoxView",
            "_dom_classes": [],
            "_model_name": "HBoxModel",
            "_view_module": "@jupyter-widgets/controls",
            "_model_module_version": "1.5.0",
            "_view_count": null,
            "_view_module_version": "1.5.0",
            "box_style": "",
            "layout": "IPY_MODEL_80dd9437f15b41dba5c9e39cb6784e0f",
            "_model_module": "@jupyter-widgets/controls",
            "children": [
              "IPY_MODEL_593376793421450d9df4954f764985fa",
              "IPY_MODEL_f498af253a1d425eb803d945df1e5a87"
            ]
          }
        },
        "80dd9437f15b41dba5c9e39cb6784e0f": {
          "model_module": "@jupyter-widgets/base",
          "model_name": "LayoutModel",
          "state": {
            "_view_name": "LayoutView",
            "grid_template_rows": null,
            "right": null,
            "justify_content": null,
            "_view_module": "@jupyter-widgets/base",
            "overflow": null,
            "_model_module_version": "1.2.0",
            "_view_count": null,
            "flex_flow": null,
            "width": null,
            "min_width": null,
            "border": null,
            "align_items": null,
            "bottom": null,
            "_model_module": "@jupyter-widgets/base",
            "top": null,
            "grid_column": null,
            "overflow_y": null,
            "overflow_x": null,
            "grid_auto_flow": null,
            "grid_area": null,
            "grid_template_columns": null,
            "flex": null,
            "_model_name": "LayoutModel",
            "justify_items": null,
            "grid_row": null,
            "max_height": null,
            "align_content": null,
            "visibility": null,
            "align_self": null,
            "height": null,
            "min_height": null,
            "padding": null,
            "grid_auto_rows": null,
            "grid_gap": null,
            "max_width": null,
            "order": null,
            "_view_module_version": "1.2.0",
            "grid_template_areas": null,
            "object_position": null,
            "object_fit": null,
            "grid_auto_columns": null,
            "margin": null,
            "display": null,
            "left": null
          }
        },
        "593376793421450d9df4954f764985fa": {
          "model_module": "@jupyter-widgets/controls",
          "model_name": "FloatProgressModel",
          "state": {
            "_view_name": "ProgressView",
            "style": "IPY_MODEL_7b79af8682494017bef0f8df6b72e9dd",
            "_dom_classes": [],
            "description": "",
            "_model_name": "FloatProgressModel",
            "bar_style": "info",
            "max": 1,
            "_view_module": "@jupyter-widgets/controls",
            "_model_module_version": "1.5.0",
            "value": 1,
            "_view_count": null,
            "_view_module_version": "1.5.0",
            "orientation": "horizontal",
            "min": 0,
            "description_tooltip": null,
            "_model_module": "@jupyter-widgets/controls",
            "layout": "IPY_MODEL_8c1a2a27569d4ab2976791f87fa3f741"
          }
        },
        "f498af253a1d425eb803d945df1e5a87": {
          "model_module": "@jupyter-widgets/controls",
          "model_name": "HTMLModel",
          "state": {
            "_view_name": "HTMLView",
            "style": "IPY_MODEL_1453f88f32954cebb7da8cdf6a7d27c8",
            "_dom_classes": [],
            "description": "",
            "_model_name": "HTMLModel",
            "placeholder": "​",
            "_view_module": "@jupyter-widgets/controls",
            "_model_module_version": "1.5.0",
            "value": " 157/0 [00:02&lt;00:00,  2.08s/ examples]",
            "_view_count": null,
            "_view_module_version": "1.5.0",
            "description_tooltip": null,
            "_model_module": "@jupyter-widgets/controls",
            "layout": "IPY_MODEL_42dd84a812d942239146122eeb34d5e6"
          }
        },
        "7b79af8682494017bef0f8df6b72e9dd": {
          "model_module": "@jupyter-widgets/controls",
          "model_name": "ProgressStyleModel",
          "state": {
            "_view_name": "StyleView",
            "_model_name": "ProgressStyleModel",
            "description_width": "initial",
            "_view_module": "@jupyter-widgets/base",
            "_model_module_version": "1.5.0",
            "_view_count": null,
            "_view_module_version": "1.2.0",
            "bar_color": null,
            "_model_module": "@jupyter-widgets/controls"
          }
        },
        "8c1a2a27569d4ab2976791f87fa3f741": {
          "model_module": "@jupyter-widgets/base",
          "model_name": "LayoutModel",
          "state": {
            "_view_name": "LayoutView",
            "grid_template_rows": null,
            "right": null,
            "justify_content": null,
            "_view_module": "@jupyter-widgets/base",
            "overflow": null,
            "_model_module_version": "1.2.0",
            "_view_count": null,
            "flex_flow": null,
            "width": null,
            "min_width": null,
            "border": null,
            "align_items": null,
            "bottom": null,
            "_model_module": "@jupyter-widgets/base",
            "top": null,
            "grid_column": null,
            "overflow_y": null,
            "overflow_x": null,
            "grid_auto_flow": null,
            "grid_area": null,
            "grid_template_columns": null,
            "flex": null,
            "_model_name": "LayoutModel",
            "justify_items": null,
            "grid_row": null,
            "max_height": null,
            "align_content": null,
            "visibility": null,
            "align_self": null,
            "height": null,
            "min_height": null,
            "padding": null,
            "grid_auto_rows": null,
            "grid_gap": null,
            "max_width": null,
            "order": null,
            "_view_module_version": "1.2.0",
            "grid_template_areas": null,
            "object_position": null,
            "object_fit": null,
            "grid_auto_columns": null,
            "margin": null,
            "display": null,
            "left": null
          }
        },
        "1453f88f32954cebb7da8cdf6a7d27c8": {
          "model_module": "@jupyter-widgets/controls",
          "model_name": "DescriptionStyleModel",
          "state": {
            "_view_name": "StyleView",
            "_model_name": "DescriptionStyleModel",
            "description_width": "",
            "_view_module": "@jupyter-widgets/base",
            "_model_module_version": "1.5.0",
            "_view_count": null,
            "_view_module_version": "1.2.0",
            "_model_module": "@jupyter-widgets/controls"
          }
        },
        "42dd84a812d942239146122eeb34d5e6": {
          "model_module": "@jupyter-widgets/base",
          "model_name": "LayoutModel",
          "state": {
            "_view_name": "LayoutView",
            "grid_template_rows": null,
            "right": null,
            "justify_content": null,
            "_view_module": "@jupyter-widgets/base",
            "overflow": null,
            "_model_module_version": "1.2.0",
            "_view_count": null,
            "flex_flow": null,
            "width": null,
            "min_width": null,
            "border": null,
            "align_items": null,
            "bottom": null,
            "_model_module": "@jupyter-widgets/base",
            "top": null,
            "grid_column": null,
            "overflow_y": null,
            "overflow_x": null,
            "grid_auto_flow": null,
            "grid_area": null,
            "grid_template_columns": null,
            "flex": null,
            "_model_name": "LayoutModel",
            "justify_items": null,
            "grid_row": null,
            "max_height": null,
            "align_content": null,
            "visibility": null,
            "align_self": null,
            "height": null,
            "min_height": null,
            "padding": null,
            "grid_auto_rows": null,
            "grid_gap": null,
            "max_width": null,
            "order": null,
            "_view_module_version": "1.2.0",
            "grid_template_areas": null,
            "object_position": null,
            "object_fit": null,
            "grid_auto_columns": null,
            "margin": null,
            "display": null,
            "left": null
          }
        },
        "a463cf7471454ac39aa6f807fbf47816": {
          "model_module": "@jupyter-widgets/controls",
          "model_name": "HBoxModel",
          "state": {
            "_view_name": "HBoxView",
            "_dom_classes": [],
            "_model_name": "HBoxModel",
            "_view_module": "@jupyter-widgets/controls",
            "_model_module_version": "1.5.0",
            "_view_count": null,
            "_view_module_version": "1.5.0",
            "box_style": "",
            "layout": "IPY_MODEL_488592e7dc444c1a9763ed2f5c995462",
            "_model_module": "@jupyter-widgets/controls",
            "children": [
              "IPY_MODEL_4f13e1f68cc8470883b8fe5facbed4ae",
              "IPY_MODEL_02cc3a5b9b054df9aa7ad843d2d2cc95"
            ]
          }
        },
        "488592e7dc444c1a9763ed2f5c995462": {
          "model_module": "@jupyter-widgets/base",
          "model_name": "LayoutModel",
          "state": {
            "_view_name": "LayoutView",
            "grid_template_rows": null,
            "right": null,
            "justify_content": null,
            "_view_module": "@jupyter-widgets/base",
            "overflow": null,
            "_model_module_version": "1.2.0",
            "_view_count": null,
            "flex_flow": null,
            "width": null,
            "min_width": null,
            "border": null,
            "align_items": null,
            "bottom": null,
            "_model_module": "@jupyter-widgets/base",
            "top": null,
            "grid_column": null,
            "overflow_y": null,
            "overflow_x": null,
            "grid_auto_flow": null,
            "grid_area": null,
            "grid_template_columns": null,
            "flex": null,
            "_model_name": "LayoutModel",
            "justify_items": null,
            "grid_row": null,
            "max_height": null,
            "align_content": null,
            "visibility": null,
            "align_self": null,
            "height": null,
            "min_height": null,
            "padding": null,
            "grid_auto_rows": null,
            "grid_gap": null,
            "max_width": null,
            "order": null,
            "_view_module_version": "1.2.0",
            "grid_template_areas": null,
            "object_position": null,
            "object_fit": null,
            "grid_auto_columns": null,
            "margin": null,
            "display": null,
            "left": null
          }
        },
        "4f13e1f68cc8470883b8fe5facbed4ae": {
          "model_module": "@jupyter-widgets/controls",
          "model_name": "FloatProgressModel",
          "state": {
            "_view_name": "ProgressView",
            "style": "IPY_MODEL_7c065201531c4492b7314f2cb316f00a",
            "_dom_classes": [],
            "description": "",
            "_model_name": "FloatProgressModel",
            "bar_style": "info",
            "max": 1,
            "_view_module": "@jupyter-widgets/controls",
            "_model_module_version": "1.5.0",
            "value": 1,
            "_view_count": null,
            "_view_module_version": "1.5.0",
            "orientation": "horizontal",
            "min": 0,
            "description_tooltip": null,
            "_model_module": "@jupyter-widgets/controls",
            "layout": "IPY_MODEL_7ce06757b54c483a8cc3fae73a5ddce9"
          }
        },
        "02cc3a5b9b054df9aa7ad843d2d2cc95": {
          "model_module": "@jupyter-widgets/controls",
          "model_name": "HTMLModel",
          "state": {
            "_view_name": "HTMLView",
            "style": "IPY_MODEL_4cf83016ed584a659645b34ce1be247e",
            "_dom_classes": [],
            "description": "",
            "_model_name": "HTMLModel",
            "placeholder": "​",
            "_view_module": "@jupyter-widgets/controls",
            "_model_module_version": "1.5.0",
            "value": " 127/0 [00:00&lt;00:00, 2580.71 examples/s]",
            "_view_count": null,
            "_view_module_version": "1.5.0",
            "description_tooltip": null,
            "_model_module": "@jupyter-widgets/controls",
            "layout": "IPY_MODEL_c3c637dc6918427ca967de3594659950"
          }
        },
        "7c065201531c4492b7314f2cb316f00a": {
          "model_module": "@jupyter-widgets/controls",
          "model_name": "ProgressStyleModel",
          "state": {
            "_view_name": "StyleView",
            "_model_name": "ProgressStyleModel",
            "description_width": "initial",
            "_view_module": "@jupyter-widgets/base",
            "_model_module_version": "1.5.0",
            "_view_count": null,
            "_view_module_version": "1.2.0",
            "bar_color": null,
            "_model_module": "@jupyter-widgets/controls"
          }
        },
        "7ce06757b54c483a8cc3fae73a5ddce9": {
          "model_module": "@jupyter-widgets/base",
          "model_name": "LayoutModel",
          "state": {
            "_view_name": "LayoutView",
            "grid_template_rows": null,
            "right": null,
            "justify_content": null,
            "_view_module": "@jupyter-widgets/base",
            "overflow": null,
            "_model_module_version": "1.2.0",
            "_view_count": null,
            "flex_flow": null,
            "width": null,
            "min_width": null,
            "border": null,
            "align_items": null,
            "bottom": null,
            "_model_module": "@jupyter-widgets/base",
            "top": null,
            "grid_column": null,
            "overflow_y": null,
            "overflow_x": null,
            "grid_auto_flow": null,
            "grid_area": null,
            "grid_template_columns": null,
            "flex": null,
            "_model_name": "LayoutModel",
            "justify_items": null,
            "grid_row": null,
            "max_height": null,
            "align_content": null,
            "visibility": null,
            "align_self": null,
            "height": null,
            "min_height": null,
            "padding": null,
            "grid_auto_rows": null,
            "grid_gap": null,
            "max_width": null,
            "order": null,
            "_view_module_version": "1.2.0",
            "grid_template_areas": null,
            "object_position": null,
            "object_fit": null,
            "grid_auto_columns": null,
            "margin": null,
            "display": null,
            "left": null
          }
        },
        "4cf83016ed584a659645b34ce1be247e": {
          "model_module": "@jupyter-widgets/controls",
          "model_name": "DescriptionStyleModel",
          "state": {
            "_view_name": "StyleView",
            "_model_name": "DescriptionStyleModel",
            "description_width": "",
            "_view_module": "@jupyter-widgets/base",
            "_model_module_version": "1.5.0",
            "_view_count": null,
            "_view_module_version": "1.2.0",
            "_model_module": "@jupyter-widgets/controls"
          }
        },
        "c3c637dc6918427ca967de3594659950": {
          "model_module": "@jupyter-widgets/base",
          "model_name": "LayoutModel",
          "state": {
            "_view_name": "LayoutView",
            "grid_template_rows": null,
            "right": null,
            "justify_content": null,
            "_view_module": "@jupyter-widgets/base",
            "overflow": null,
            "_model_module_version": "1.2.0",
            "_view_count": null,
            "flex_flow": null,
            "width": null,
            "min_width": null,
            "border": null,
            "align_items": null,
            "bottom": null,
            "_model_module": "@jupyter-widgets/base",
            "top": null,
            "grid_column": null,
            "overflow_y": null,
            "overflow_x": null,
            "grid_auto_flow": null,
            "grid_area": null,
            "grid_template_columns": null,
            "flex": null,
            "_model_name": "LayoutModel",
            "justify_items": null,
            "grid_row": null,
            "max_height": null,
            "align_content": null,
            "visibility": null,
            "align_self": null,
            "height": null,
            "min_height": null,
            "padding": null,
            "grid_auto_rows": null,
            "grid_gap": null,
            "max_width": null,
            "order": null,
            "_view_module_version": "1.2.0",
            "grid_template_areas": null,
            "object_position": null,
            "object_fit": null,
            "grid_auto_columns": null,
            "margin": null,
            "display": null,
            "left": null
          }
        },
        "90c6e8c2db2641e3a5b629718c733b7e": {
          "model_module": "@jupyter-widgets/controls",
          "model_name": "HBoxModel",
          "state": {
            "_view_name": "HBoxView",
            "_dom_classes": [],
            "_model_name": "HBoxModel",
            "_view_module": "@jupyter-widgets/controls",
            "_model_module_version": "1.5.0",
            "_view_count": null,
            "_view_module_version": "1.5.0",
            "box_style": "",
            "layout": "IPY_MODEL_7631f4fa37ec47808674fa66c324190c",
            "_model_module": "@jupyter-widgets/controls",
            "children": [
              "IPY_MODEL_8bb3df7e51944e9082380b254ef644de",
              "IPY_MODEL_7b443c24ffa74f0395ac3713eca89747"
            ]
          }
        },
        "7631f4fa37ec47808674fa66c324190c": {
          "model_module": "@jupyter-widgets/base",
          "model_name": "LayoutModel",
          "state": {
            "_view_name": "LayoutView",
            "grid_template_rows": null,
            "right": null,
            "justify_content": null,
            "_view_module": "@jupyter-widgets/base",
            "overflow": null,
            "_model_module_version": "1.2.0",
            "_view_count": null,
            "flex_flow": null,
            "width": null,
            "min_width": null,
            "border": null,
            "align_items": null,
            "bottom": null,
            "_model_module": "@jupyter-widgets/base",
            "top": null,
            "grid_column": null,
            "overflow_y": null,
            "overflow_x": null,
            "grid_auto_flow": null,
            "grid_area": null,
            "grid_template_columns": null,
            "flex": null,
            "_model_name": "LayoutModel",
            "justify_items": null,
            "grid_row": null,
            "max_height": null,
            "align_content": null,
            "visibility": null,
            "align_self": null,
            "height": null,
            "min_height": null,
            "padding": null,
            "grid_auto_rows": null,
            "grid_gap": null,
            "max_width": null,
            "order": null,
            "_view_module_version": "1.2.0",
            "grid_template_areas": null,
            "object_position": null,
            "object_fit": null,
            "grid_auto_columns": null,
            "margin": null,
            "display": null,
            "left": null
          }
        },
        "8bb3df7e51944e9082380b254ef644de": {
          "model_module": "@jupyter-widgets/controls",
          "model_name": "FloatProgressModel",
          "state": {
            "_view_name": "ProgressView",
            "style": "IPY_MODEL_f133bf6433f64eb7a88d194add8362d3",
            "_dom_classes": [],
            "description": "",
            "_model_name": "FloatProgressModel",
            "bar_style": "info",
            "max": 1,
            "_view_module": "@jupyter-widgets/controls",
            "_model_module_version": "1.5.0",
            "value": 1,
            "_view_count": null,
            "_view_module_version": "1.5.0",
            "orientation": "horizontal",
            "min": 0,
            "description_tooltip": null,
            "_model_module": "@jupyter-widgets/controls",
            "layout": "IPY_MODEL_5e8b8e2c26234982aafd32a83cadef1c"
          }
        },
        "7b443c24ffa74f0395ac3713eca89747": {
          "model_module": "@jupyter-widgets/controls",
          "model_name": "HTMLModel",
          "state": {
            "_view_name": "HTMLView",
            "style": "IPY_MODEL_e894adfefd4d408bb5fb062327fa112e",
            "_dom_classes": [],
            "description": "",
            "_model_name": "HTMLModel",
            "placeholder": "​",
            "_view_module": "@jupyter-widgets/controls",
            "_model_module_version": "1.5.0",
            "value": " 135/0 [00:00&lt;00:00, 2550.41 examples/s]",
            "_view_count": null,
            "_view_module_version": "1.5.0",
            "description_tooltip": null,
            "_model_module": "@jupyter-widgets/controls",
            "layout": "IPY_MODEL_6a670c4c4156466a9467f2806bf7e15c"
          }
        },
        "f133bf6433f64eb7a88d194add8362d3": {
          "model_module": "@jupyter-widgets/controls",
          "model_name": "ProgressStyleModel",
          "state": {
            "_view_name": "StyleView",
            "_model_name": "ProgressStyleModel",
            "description_width": "initial",
            "_view_module": "@jupyter-widgets/base",
            "_model_module_version": "1.5.0",
            "_view_count": null,
            "_view_module_version": "1.2.0",
            "bar_color": null,
            "_model_module": "@jupyter-widgets/controls"
          }
        },
        "5e8b8e2c26234982aafd32a83cadef1c": {
          "model_module": "@jupyter-widgets/base",
          "model_name": "LayoutModel",
          "state": {
            "_view_name": "LayoutView",
            "grid_template_rows": null,
            "right": null,
            "justify_content": null,
            "_view_module": "@jupyter-widgets/base",
            "overflow": null,
            "_model_module_version": "1.2.0",
            "_view_count": null,
            "flex_flow": null,
            "width": null,
            "min_width": null,
            "border": null,
            "align_items": null,
            "bottom": null,
            "_model_module": "@jupyter-widgets/base",
            "top": null,
            "grid_column": null,
            "overflow_y": null,
            "overflow_x": null,
            "grid_auto_flow": null,
            "grid_area": null,
            "grid_template_columns": null,
            "flex": null,
            "_model_name": "LayoutModel",
            "justify_items": null,
            "grid_row": null,
            "max_height": null,
            "align_content": null,
            "visibility": null,
            "align_self": null,
            "height": null,
            "min_height": null,
            "padding": null,
            "grid_auto_rows": null,
            "grid_gap": null,
            "max_width": null,
            "order": null,
            "_view_module_version": "1.2.0",
            "grid_template_areas": null,
            "object_position": null,
            "object_fit": null,
            "grid_auto_columns": null,
            "margin": null,
            "display": null,
            "left": null
          }
        },
        "e894adfefd4d408bb5fb062327fa112e": {
          "model_module": "@jupyter-widgets/controls",
          "model_name": "DescriptionStyleModel",
          "state": {
            "_view_name": "StyleView",
            "_model_name": "DescriptionStyleModel",
            "description_width": "",
            "_view_module": "@jupyter-widgets/base",
            "_model_module_version": "1.5.0",
            "_view_count": null,
            "_view_module_version": "1.2.0",
            "_model_module": "@jupyter-widgets/controls"
          }
        },
        "6a670c4c4156466a9467f2806bf7e15c": {
          "model_module": "@jupyter-widgets/base",
          "model_name": "LayoutModel",
          "state": {
            "_view_name": "LayoutView",
            "grid_template_rows": null,
            "right": null,
            "justify_content": null,
            "_view_module": "@jupyter-widgets/base",
            "overflow": null,
            "_model_module_version": "1.2.0",
            "_view_count": null,
            "flex_flow": null,
            "width": null,
            "min_width": null,
            "border": null,
            "align_items": null,
            "bottom": null,
            "_model_module": "@jupyter-widgets/base",
            "top": null,
            "grid_column": null,
            "overflow_y": null,
            "overflow_x": null,
            "grid_auto_flow": null,
            "grid_area": null,
            "grid_template_columns": null,
            "flex": null,
            "_model_name": "LayoutModel",
            "justify_items": null,
            "grid_row": null,
            "max_height": null,
            "align_content": null,
            "visibility": null,
            "align_self": null,
            "height": null,
            "min_height": null,
            "padding": null,
            "grid_auto_rows": null,
            "grid_gap": null,
            "max_width": null,
            "order": null,
            "_view_module_version": "1.2.0",
            "grid_template_areas": null,
            "object_position": null,
            "object_fit": null,
            "grid_auto_columns": null,
            "margin": null,
            "display": null,
            "left": null
          }
        },
        "602662f42df54746ae41d93a5a31963d": {
          "model_module": "@jupyter-widgets/controls",
          "model_name": "HBoxModel",
          "state": {
            "_view_name": "HBoxView",
            "_dom_classes": [],
            "_model_name": "HBoxModel",
            "_view_module": "@jupyter-widgets/controls",
            "_model_module_version": "1.5.0",
            "_view_count": null,
            "_view_module_version": "1.5.0",
            "box_style": "",
            "layout": "IPY_MODEL_69350669455c4408bc6997c115dd8be6",
            "_model_module": "@jupyter-widgets/controls",
            "children": [
              "IPY_MODEL_cbbcffc347944a279640d0dc70fe7951",
              "IPY_MODEL_50a8556b1e804c3e8f4eb471e4971db3"
            ]
          }
        },
        "69350669455c4408bc6997c115dd8be6": {
          "model_module": "@jupyter-widgets/base",
          "model_name": "LayoutModel",
          "state": {
            "_view_name": "LayoutView",
            "grid_template_rows": null,
            "right": null,
            "justify_content": null,
            "_view_module": "@jupyter-widgets/base",
            "overflow": null,
            "_model_module_version": "1.2.0",
            "_view_count": null,
            "flex_flow": null,
            "width": null,
            "min_width": null,
            "border": null,
            "align_items": null,
            "bottom": null,
            "_model_module": "@jupyter-widgets/base",
            "top": null,
            "grid_column": null,
            "overflow_y": null,
            "overflow_x": null,
            "grid_auto_flow": null,
            "grid_area": null,
            "grid_template_columns": null,
            "flex": null,
            "_model_name": "LayoutModel",
            "justify_items": null,
            "grid_row": null,
            "max_height": null,
            "align_content": null,
            "visibility": null,
            "align_self": null,
            "height": null,
            "min_height": null,
            "padding": null,
            "grid_auto_rows": null,
            "grid_gap": null,
            "max_width": null,
            "order": null,
            "_view_module_version": "1.2.0",
            "grid_template_areas": null,
            "object_position": null,
            "object_fit": null,
            "grid_auto_columns": null,
            "margin": null,
            "display": null,
            "left": null
          }
        },
        "cbbcffc347944a279640d0dc70fe7951": {
          "model_module": "@jupyter-widgets/controls",
          "model_name": "FloatProgressModel",
          "state": {
            "_view_name": "ProgressView",
            "style": "IPY_MODEL_92b0bfec30924ed3b698e9e7d03be0e5",
            "_dom_classes": [],
            "description": "",
            "_model_name": "FloatProgressModel",
            "bar_style": "info",
            "max": 1,
            "_view_module": "@jupyter-widgets/controls",
            "_model_module_version": "1.5.0",
            "value": 1,
            "_view_count": null,
            "_view_module_version": "1.5.0",
            "orientation": "horizontal",
            "min": 0,
            "description_tooltip": null,
            "_model_module": "@jupyter-widgets/controls",
            "layout": "IPY_MODEL_13bee8db45f045dea2f4b098e2c68913"
          }
        },
        "50a8556b1e804c3e8f4eb471e4971db3": {
          "model_module": "@jupyter-widgets/controls",
          "model_name": "HTMLModel",
          "state": {
            "_view_name": "HTMLView",
            "style": "IPY_MODEL_5d4e75c75bf44585bd0d6e329aa1c9dc",
            "_dom_classes": [],
            "description": "",
            "_model_name": "HTMLModel",
            "placeholder": "​",
            "_view_module": "@jupyter-widgets/controls",
            "_model_module_version": "1.5.0",
            "value": " 139/0 [00:00&lt;00:00, 2877.01 examples/s]",
            "_view_count": null,
            "_view_module_version": "1.5.0",
            "description_tooltip": null,
            "_model_module": "@jupyter-widgets/controls",
            "layout": "IPY_MODEL_a509ca9fd82d41bcb68a9a59f03c8a95"
          }
        },
        "92b0bfec30924ed3b698e9e7d03be0e5": {
          "model_module": "@jupyter-widgets/controls",
          "model_name": "ProgressStyleModel",
          "state": {
            "_view_name": "StyleView",
            "_model_name": "ProgressStyleModel",
            "description_width": "initial",
            "_view_module": "@jupyter-widgets/base",
            "_model_module_version": "1.5.0",
            "_view_count": null,
            "_view_module_version": "1.2.0",
            "bar_color": null,
            "_model_module": "@jupyter-widgets/controls"
          }
        },
        "13bee8db45f045dea2f4b098e2c68913": {
          "model_module": "@jupyter-widgets/base",
          "model_name": "LayoutModel",
          "state": {
            "_view_name": "LayoutView",
            "grid_template_rows": null,
            "right": null,
            "justify_content": null,
            "_view_module": "@jupyter-widgets/base",
            "overflow": null,
            "_model_module_version": "1.2.0",
            "_view_count": null,
            "flex_flow": null,
            "width": null,
            "min_width": null,
            "border": null,
            "align_items": null,
            "bottom": null,
            "_model_module": "@jupyter-widgets/base",
            "top": null,
            "grid_column": null,
            "overflow_y": null,
            "overflow_x": null,
            "grid_auto_flow": null,
            "grid_area": null,
            "grid_template_columns": null,
            "flex": null,
            "_model_name": "LayoutModel",
            "justify_items": null,
            "grid_row": null,
            "max_height": null,
            "align_content": null,
            "visibility": null,
            "align_self": null,
            "height": null,
            "min_height": null,
            "padding": null,
            "grid_auto_rows": null,
            "grid_gap": null,
            "max_width": null,
            "order": null,
            "_view_module_version": "1.2.0",
            "grid_template_areas": null,
            "object_position": null,
            "object_fit": null,
            "grid_auto_columns": null,
            "margin": null,
            "display": null,
            "left": null
          }
        },
        "5d4e75c75bf44585bd0d6e329aa1c9dc": {
          "model_module": "@jupyter-widgets/controls",
          "model_name": "DescriptionStyleModel",
          "state": {
            "_view_name": "StyleView",
            "_model_name": "DescriptionStyleModel",
            "description_width": "",
            "_view_module": "@jupyter-widgets/base",
            "_model_module_version": "1.5.0",
            "_view_count": null,
            "_view_module_version": "1.2.0",
            "_model_module": "@jupyter-widgets/controls"
          }
        },
        "a509ca9fd82d41bcb68a9a59f03c8a95": {
          "model_module": "@jupyter-widgets/base",
          "model_name": "LayoutModel",
          "state": {
            "_view_name": "LayoutView",
            "grid_template_rows": null,
            "right": null,
            "justify_content": null,
            "_view_module": "@jupyter-widgets/base",
            "overflow": null,
            "_model_module_version": "1.2.0",
            "_view_count": null,
            "flex_flow": null,
            "width": null,
            "min_width": null,
            "border": null,
            "align_items": null,
            "bottom": null,
            "_model_module": "@jupyter-widgets/base",
            "top": null,
            "grid_column": null,
            "overflow_y": null,
            "overflow_x": null,
            "grid_auto_flow": null,
            "grid_area": null,
            "grid_template_columns": null,
            "flex": null,
            "_model_name": "LayoutModel",
            "justify_items": null,
            "grid_row": null,
            "max_height": null,
            "align_content": null,
            "visibility": null,
            "align_self": null,
            "height": null,
            "min_height": null,
            "padding": null,
            "grid_auto_rows": null,
            "grid_gap": null,
            "max_width": null,
            "order": null,
            "_view_module_version": "1.2.0",
            "grid_template_areas": null,
            "object_position": null,
            "object_fit": null,
            "grid_auto_columns": null,
            "margin": null,
            "display": null,
            "left": null
          }
        },
        "53003a1517ca409094a861d9a2f22426": {
          "model_module": "@jupyter-widgets/controls",
          "model_name": "HBoxModel",
          "state": {
            "_view_name": "HBoxView",
            "_dom_classes": [],
            "_model_name": "HBoxModel",
            "_view_module": "@jupyter-widgets/controls",
            "_model_module_version": "1.5.0",
            "_view_count": null,
            "_view_module_version": "1.5.0",
            "box_style": "",
            "layout": "IPY_MODEL_d88b8a5b399440528a20a3cd18db6172",
            "_model_module": "@jupyter-widgets/controls",
            "children": [
              "IPY_MODEL_ded9f1c012154764bf7e08d40d812b5f",
              "IPY_MODEL_f4eacc96a60a4a9aa978f5cc25dcc06c"
            ]
          }
        },
        "d88b8a5b399440528a20a3cd18db6172": {
          "model_module": "@jupyter-widgets/base",
          "model_name": "LayoutModel",
          "state": {
            "_view_name": "LayoutView",
            "grid_template_rows": null,
            "right": null,
            "justify_content": null,
            "_view_module": "@jupyter-widgets/base",
            "overflow": null,
            "_model_module_version": "1.2.0",
            "_view_count": null,
            "flex_flow": null,
            "width": null,
            "min_width": null,
            "border": null,
            "align_items": null,
            "bottom": null,
            "_model_module": "@jupyter-widgets/base",
            "top": null,
            "grid_column": null,
            "overflow_y": null,
            "overflow_x": null,
            "grid_auto_flow": null,
            "grid_area": null,
            "grid_template_columns": null,
            "flex": null,
            "_model_name": "LayoutModel",
            "justify_items": null,
            "grid_row": null,
            "max_height": null,
            "align_content": null,
            "visibility": null,
            "align_self": null,
            "height": null,
            "min_height": null,
            "padding": null,
            "grid_auto_rows": null,
            "grid_gap": null,
            "max_width": null,
            "order": null,
            "_view_module_version": "1.2.0",
            "grid_template_areas": null,
            "object_position": null,
            "object_fit": null,
            "grid_auto_columns": null,
            "margin": null,
            "display": null,
            "left": null
          }
        },
        "ded9f1c012154764bf7e08d40d812b5f": {
          "model_module": "@jupyter-widgets/controls",
          "model_name": "FloatProgressModel",
          "state": {
            "_view_name": "ProgressView",
            "style": "IPY_MODEL_e6fe22d92c1f4d48ada70fa4955d9bf5",
            "_dom_classes": [],
            "description": "",
            "_model_name": "FloatProgressModel",
            "bar_style": "info",
            "max": 1,
            "_view_module": "@jupyter-widgets/controls",
            "_model_module_version": "1.5.0",
            "value": 1,
            "_view_count": null,
            "_view_module_version": "1.5.0",
            "orientation": "horizontal",
            "min": 0,
            "description_tooltip": null,
            "_model_module": "@jupyter-widgets/controls",
            "layout": "IPY_MODEL_b4bb6c880d9d4818be755a5a4e502aab"
          }
        },
        "f4eacc96a60a4a9aa978f5cc25dcc06c": {
          "model_module": "@jupyter-widgets/controls",
          "model_name": "HTMLModel",
          "state": {
            "_view_name": "HTMLView",
            "style": "IPY_MODEL_ecf1e9699dca472fb15307d3c46761b9",
            "_dom_classes": [],
            "description": "",
            "_model_name": "HTMLModel",
            "placeholder": "​",
            "_view_module": "@jupyter-widgets/controls",
            "_model_module_version": "1.5.0",
            "value": " 60/0 [00:00&lt;00:00, 1185.63 examples/s]",
            "_view_count": null,
            "_view_module_version": "1.5.0",
            "description_tooltip": null,
            "_model_module": "@jupyter-widgets/controls",
            "layout": "IPY_MODEL_abf99e47654845a7943340b1cb2e11ad"
          }
        },
        "e6fe22d92c1f4d48ada70fa4955d9bf5": {
          "model_module": "@jupyter-widgets/controls",
          "model_name": "ProgressStyleModel",
          "state": {
            "_view_name": "StyleView",
            "_model_name": "ProgressStyleModel",
            "description_width": "initial",
            "_view_module": "@jupyter-widgets/base",
            "_model_module_version": "1.5.0",
            "_view_count": null,
            "_view_module_version": "1.2.0",
            "bar_color": null,
            "_model_module": "@jupyter-widgets/controls"
          }
        },
        "b4bb6c880d9d4818be755a5a4e502aab": {
          "model_module": "@jupyter-widgets/base",
          "model_name": "LayoutModel",
          "state": {
            "_view_name": "LayoutView",
            "grid_template_rows": null,
            "right": null,
            "justify_content": null,
            "_view_module": "@jupyter-widgets/base",
            "overflow": null,
            "_model_module_version": "1.2.0",
            "_view_count": null,
            "flex_flow": null,
            "width": null,
            "min_width": null,
            "border": null,
            "align_items": null,
            "bottom": null,
            "_model_module": "@jupyter-widgets/base",
            "top": null,
            "grid_column": null,
            "overflow_y": null,
            "overflow_x": null,
            "grid_auto_flow": null,
            "grid_area": null,
            "grid_template_columns": null,
            "flex": null,
            "_model_name": "LayoutModel",
            "justify_items": null,
            "grid_row": null,
            "max_height": null,
            "align_content": null,
            "visibility": null,
            "align_self": null,
            "height": null,
            "min_height": null,
            "padding": null,
            "grid_auto_rows": null,
            "grid_gap": null,
            "max_width": null,
            "order": null,
            "_view_module_version": "1.2.0",
            "grid_template_areas": null,
            "object_position": null,
            "object_fit": null,
            "grid_auto_columns": null,
            "margin": null,
            "display": null,
            "left": null
          }
        },
        "ecf1e9699dca472fb15307d3c46761b9": {
          "model_module": "@jupyter-widgets/controls",
          "model_name": "DescriptionStyleModel",
          "state": {
            "_view_name": "StyleView",
            "_model_name": "DescriptionStyleModel",
            "description_width": "",
            "_view_module": "@jupyter-widgets/base",
            "_model_module_version": "1.5.0",
            "_view_count": null,
            "_view_module_version": "1.2.0",
            "_model_module": "@jupyter-widgets/controls"
          }
        },
        "abf99e47654845a7943340b1cb2e11ad": {
          "model_module": "@jupyter-widgets/base",
          "model_name": "LayoutModel",
          "state": {
            "_view_name": "LayoutView",
            "grid_template_rows": null,
            "right": null,
            "justify_content": null,
            "_view_module": "@jupyter-widgets/base",
            "overflow": null,
            "_model_module_version": "1.2.0",
            "_view_count": null,
            "flex_flow": null,
            "width": null,
            "min_width": null,
            "border": null,
            "align_items": null,
            "bottom": null,
            "_model_module": "@jupyter-widgets/base",
            "top": null,
            "grid_column": null,
            "overflow_y": null,
            "overflow_x": null,
            "grid_auto_flow": null,
            "grid_area": null,
            "grid_template_columns": null,
            "flex": null,
            "_model_name": "LayoutModel",
            "justify_items": null,
            "grid_row": null,
            "max_height": null,
            "align_content": null,
            "visibility": null,
            "align_self": null,
            "height": null,
            "min_height": null,
            "padding": null,
            "grid_auto_rows": null,
            "grid_gap": null,
            "max_width": null,
            "order": null,
            "_view_module_version": "1.2.0",
            "grid_template_areas": null,
            "object_position": null,
            "object_fit": null,
            "grid_auto_columns": null,
            "margin": null,
            "display": null,
            "left": null
          }
        },
        "7598da416fd94672a1a76af54a57942b": {
          "model_module": "@jupyter-widgets/controls",
          "model_name": "HBoxModel",
          "state": {
            "_view_name": "HBoxView",
            "_dom_classes": [],
            "_model_name": "HBoxModel",
            "_view_module": "@jupyter-widgets/controls",
            "_model_module_version": "1.5.0",
            "_view_count": null,
            "_view_module_version": "1.5.0",
            "box_style": "",
            "layout": "IPY_MODEL_1ea52b69b05b40e38edad599a72851f3",
            "_model_module": "@jupyter-widgets/controls",
            "children": [
              "IPY_MODEL_4182fa74f48a4a52b585a64ac015f5ee",
              "IPY_MODEL_5ad09da3110946eab100c8a319f0e2f7"
            ]
          }
        },
        "1ea52b69b05b40e38edad599a72851f3": {
          "model_module": "@jupyter-widgets/base",
          "model_name": "LayoutModel",
          "state": {
            "_view_name": "LayoutView",
            "grid_template_rows": null,
            "right": null,
            "justify_content": null,
            "_view_module": "@jupyter-widgets/base",
            "overflow": null,
            "_model_module_version": "1.2.0",
            "_view_count": null,
            "flex_flow": null,
            "width": null,
            "min_width": null,
            "border": null,
            "align_items": null,
            "bottom": null,
            "_model_module": "@jupyter-widgets/base",
            "top": null,
            "grid_column": null,
            "overflow_y": null,
            "overflow_x": null,
            "grid_auto_flow": null,
            "grid_area": null,
            "grid_template_columns": null,
            "flex": null,
            "_model_name": "LayoutModel",
            "justify_items": null,
            "grid_row": null,
            "max_height": null,
            "align_content": null,
            "visibility": null,
            "align_self": null,
            "height": null,
            "min_height": null,
            "padding": null,
            "grid_auto_rows": null,
            "grid_gap": null,
            "max_width": null,
            "order": null,
            "_view_module_version": "1.2.0",
            "grid_template_areas": null,
            "object_position": null,
            "object_fit": null,
            "grid_auto_columns": null,
            "margin": null,
            "display": null,
            "left": null
          }
        },
        "4182fa74f48a4a52b585a64ac015f5ee": {
          "model_module": "@jupyter-widgets/controls",
          "model_name": "FloatProgressModel",
          "state": {
            "_view_name": "ProgressView",
            "style": "IPY_MODEL_17fdf2b4e6b54ad489b767eda2e9c9ef",
            "_dom_classes": [],
            "description": "100%",
            "_model_name": "FloatProgressModel",
            "bar_style": "success",
            "max": 13843,
            "_view_module": "@jupyter-widgets/controls",
            "_model_module_version": "1.5.0",
            "value": 13843,
            "_view_count": null,
            "_view_module_version": "1.5.0",
            "orientation": "horizontal",
            "min": 0,
            "description_tooltip": null,
            "_model_module": "@jupyter-widgets/controls",
            "layout": "IPY_MODEL_0159697d898743fa8af6db9defb29034"
          }
        },
        "5ad09da3110946eab100c8a319f0e2f7": {
          "model_module": "@jupyter-widgets/controls",
          "model_name": "HTMLModel",
          "state": {
            "_view_name": "HTMLView",
            "style": "IPY_MODEL_344cf53f3be04281a5785595f5e1067a",
            "_dom_classes": [],
            "description": "",
            "_model_name": "HTMLModel",
            "placeholder": "​",
            "_view_module": "@jupyter-widgets/controls",
            "_model_module_version": "1.5.0",
            "value": " 13843/13843 [00:00&lt;00:00, 16300.12ex/s]",
            "_view_count": null,
            "_view_module_version": "1.5.0",
            "description_tooltip": null,
            "_model_module": "@jupyter-widgets/controls",
            "layout": "IPY_MODEL_d8b54d106bf84a7195337a1568e36572"
          }
        },
        "17fdf2b4e6b54ad489b767eda2e9c9ef": {
          "model_module": "@jupyter-widgets/controls",
          "model_name": "ProgressStyleModel",
          "state": {
            "_view_name": "StyleView",
            "_model_name": "ProgressStyleModel",
            "description_width": "initial",
            "_view_module": "@jupyter-widgets/base",
            "_model_module_version": "1.5.0",
            "_view_count": null,
            "_view_module_version": "1.2.0",
            "bar_color": null,
            "_model_module": "@jupyter-widgets/controls"
          }
        },
        "0159697d898743fa8af6db9defb29034": {
          "model_module": "@jupyter-widgets/base",
          "model_name": "LayoutModel",
          "state": {
            "_view_name": "LayoutView",
            "grid_template_rows": null,
            "right": null,
            "justify_content": null,
            "_view_module": "@jupyter-widgets/base",
            "overflow": null,
            "_model_module_version": "1.2.0",
            "_view_count": null,
            "flex_flow": null,
            "width": null,
            "min_width": null,
            "border": null,
            "align_items": null,
            "bottom": null,
            "_model_module": "@jupyter-widgets/base",
            "top": null,
            "grid_column": null,
            "overflow_y": null,
            "overflow_x": null,
            "grid_auto_flow": null,
            "grid_area": null,
            "grid_template_columns": null,
            "flex": null,
            "_model_name": "LayoutModel",
            "justify_items": null,
            "grid_row": null,
            "max_height": null,
            "align_content": null,
            "visibility": null,
            "align_self": null,
            "height": null,
            "min_height": null,
            "padding": null,
            "grid_auto_rows": null,
            "grid_gap": null,
            "max_width": null,
            "order": null,
            "_view_module_version": "1.2.0",
            "grid_template_areas": null,
            "object_position": null,
            "object_fit": null,
            "grid_auto_columns": null,
            "margin": null,
            "display": null,
            "left": null
          }
        },
        "344cf53f3be04281a5785595f5e1067a": {
          "model_module": "@jupyter-widgets/controls",
          "model_name": "DescriptionStyleModel",
          "state": {
            "_view_name": "StyleView",
            "_model_name": "DescriptionStyleModel",
            "description_width": "",
            "_view_module": "@jupyter-widgets/base",
            "_model_module_version": "1.5.0",
            "_view_count": null,
            "_view_module_version": "1.2.0",
            "_model_module": "@jupyter-widgets/controls"
          }
        },
        "d8b54d106bf84a7195337a1568e36572": {
          "model_module": "@jupyter-widgets/base",
          "model_name": "LayoutModel",
          "state": {
            "_view_name": "LayoutView",
            "grid_template_rows": null,
            "right": null,
            "justify_content": null,
            "_view_module": "@jupyter-widgets/base",
            "overflow": null,
            "_model_module_version": "1.2.0",
            "_view_count": null,
            "flex_flow": null,
            "width": null,
            "min_width": null,
            "border": null,
            "align_items": null,
            "bottom": null,
            "_model_module": "@jupyter-widgets/base",
            "top": null,
            "grid_column": null,
            "overflow_y": null,
            "overflow_x": null,
            "grid_auto_flow": null,
            "grid_area": null,
            "grid_template_columns": null,
            "flex": null,
            "_model_name": "LayoutModel",
            "justify_items": null,
            "grid_row": null,
            "max_height": null,
            "align_content": null,
            "visibility": null,
            "align_self": null,
            "height": null,
            "min_height": null,
            "padding": null,
            "grid_auto_rows": null,
            "grid_gap": null,
            "max_width": null,
            "order": null,
            "_view_module_version": "1.2.0",
            "grid_template_areas": null,
            "object_position": null,
            "object_fit": null,
            "grid_auto_columns": null,
            "margin": null,
            "display": null,
            "left": null
          }
        },
        "d235cfa8ef84497198373f0cf985daa4": {
          "model_module": "@jupyter-widgets/controls",
          "model_name": "HBoxModel",
          "state": {
            "_view_name": "HBoxView",
            "_dom_classes": [],
            "_model_name": "HBoxModel",
            "_view_module": "@jupyter-widgets/controls",
            "_model_module_version": "1.5.0",
            "_view_count": null,
            "_view_module_version": "1.5.0",
            "box_style": "",
            "layout": "IPY_MODEL_baa04c9274b947c1bdc5844e5d7eef13",
            "_model_module": "@jupyter-widgets/controls",
            "children": [
              "IPY_MODEL_745837e227434c7fa7abff7f3ebe0d2c",
              "IPY_MODEL_5d4ef5df83644d69873a16aa00c55bf2"
            ]
          }
        },
        "baa04c9274b947c1bdc5844e5d7eef13": {
          "model_module": "@jupyter-widgets/base",
          "model_name": "LayoutModel",
          "state": {
            "_view_name": "LayoutView",
            "grid_template_rows": null,
            "right": null,
            "justify_content": null,
            "_view_module": "@jupyter-widgets/base",
            "overflow": null,
            "_model_module_version": "1.2.0",
            "_view_count": null,
            "flex_flow": null,
            "width": null,
            "min_width": null,
            "border": null,
            "align_items": null,
            "bottom": null,
            "_model_module": "@jupyter-widgets/base",
            "top": null,
            "grid_column": null,
            "overflow_y": null,
            "overflow_x": null,
            "grid_auto_flow": null,
            "grid_area": null,
            "grid_template_columns": null,
            "flex": null,
            "_model_name": "LayoutModel",
            "justify_items": null,
            "grid_row": null,
            "max_height": null,
            "align_content": null,
            "visibility": null,
            "align_self": null,
            "height": null,
            "min_height": null,
            "padding": null,
            "grid_auto_rows": null,
            "grid_gap": null,
            "max_width": null,
            "order": null,
            "_view_module_version": "1.2.0",
            "grid_template_areas": null,
            "object_position": null,
            "object_fit": null,
            "grid_auto_columns": null,
            "margin": null,
            "display": null,
            "left": null
          }
        },
        "745837e227434c7fa7abff7f3ebe0d2c": {
          "model_module": "@jupyter-widgets/controls",
          "model_name": "FloatProgressModel",
          "state": {
            "_view_name": "ProgressView",
            "style": "IPY_MODEL_06d6464cc8e74179b8d16f04a6833493",
            "_dom_classes": [],
            "description": "100%",
            "_model_name": "FloatProgressModel",
            "bar_style": "success",
            "max": 127,
            "_view_module": "@jupyter-widgets/controls",
            "_model_module_version": "1.5.0",
            "value": 127,
            "_view_count": null,
            "_view_module_version": "1.5.0",
            "orientation": "horizontal",
            "min": 0,
            "description_tooltip": null,
            "_model_module": "@jupyter-widgets/controls",
            "layout": "IPY_MODEL_d68684ec73d64f35ad82c42cf44b56b1"
          }
        },
        "5d4ef5df83644d69873a16aa00c55bf2": {
          "model_module": "@jupyter-widgets/controls",
          "model_name": "HTMLModel",
          "state": {
            "_view_name": "HTMLView",
            "style": "IPY_MODEL_9c9155f197a747a18c8fdc3d75c41f6d",
            "_dom_classes": [],
            "description": "",
            "_model_name": "HTMLModel",
            "placeholder": "​",
            "_view_module": "@jupyter-widgets/controls",
            "_model_module_version": "1.5.0",
            "value": " 127/127 [00:00&lt;00:00, 1128.62ex/s]",
            "_view_count": null,
            "_view_module_version": "1.5.0",
            "description_tooltip": null,
            "_model_module": "@jupyter-widgets/controls",
            "layout": "IPY_MODEL_28e8cf793d0c4e7397ad40520a7d8ba9"
          }
        },
        "06d6464cc8e74179b8d16f04a6833493": {
          "model_module": "@jupyter-widgets/controls",
          "model_name": "ProgressStyleModel",
          "state": {
            "_view_name": "StyleView",
            "_model_name": "ProgressStyleModel",
            "description_width": "initial",
            "_view_module": "@jupyter-widgets/base",
            "_model_module_version": "1.5.0",
            "_view_count": null,
            "_view_module_version": "1.2.0",
            "bar_color": null,
            "_model_module": "@jupyter-widgets/controls"
          }
        },
        "d68684ec73d64f35ad82c42cf44b56b1": {
          "model_module": "@jupyter-widgets/base",
          "model_name": "LayoutModel",
          "state": {
            "_view_name": "LayoutView",
            "grid_template_rows": null,
            "right": null,
            "justify_content": null,
            "_view_module": "@jupyter-widgets/base",
            "overflow": null,
            "_model_module_version": "1.2.0",
            "_view_count": null,
            "flex_flow": null,
            "width": null,
            "min_width": null,
            "border": null,
            "align_items": null,
            "bottom": null,
            "_model_module": "@jupyter-widgets/base",
            "top": null,
            "grid_column": null,
            "overflow_y": null,
            "overflow_x": null,
            "grid_auto_flow": null,
            "grid_area": null,
            "grid_template_columns": null,
            "flex": null,
            "_model_name": "LayoutModel",
            "justify_items": null,
            "grid_row": null,
            "max_height": null,
            "align_content": null,
            "visibility": null,
            "align_self": null,
            "height": null,
            "min_height": null,
            "padding": null,
            "grid_auto_rows": null,
            "grid_gap": null,
            "max_width": null,
            "order": null,
            "_view_module_version": "1.2.0",
            "grid_template_areas": null,
            "object_position": null,
            "object_fit": null,
            "grid_auto_columns": null,
            "margin": null,
            "display": null,
            "left": null
          }
        },
        "9c9155f197a747a18c8fdc3d75c41f6d": {
          "model_module": "@jupyter-widgets/controls",
          "model_name": "DescriptionStyleModel",
          "state": {
            "_view_name": "StyleView",
            "_model_name": "DescriptionStyleModel",
            "description_width": "",
            "_view_module": "@jupyter-widgets/base",
            "_model_module_version": "1.5.0",
            "_view_count": null,
            "_view_module_version": "1.2.0",
            "_model_module": "@jupyter-widgets/controls"
          }
        },
        "28e8cf793d0c4e7397ad40520a7d8ba9": {
          "model_module": "@jupyter-widgets/base",
          "model_name": "LayoutModel",
          "state": {
            "_view_name": "LayoutView",
            "grid_template_rows": null,
            "right": null,
            "justify_content": null,
            "_view_module": "@jupyter-widgets/base",
            "overflow": null,
            "_model_module_version": "1.2.0",
            "_view_count": null,
            "flex_flow": null,
            "width": null,
            "min_width": null,
            "border": null,
            "align_items": null,
            "bottom": null,
            "_model_module": "@jupyter-widgets/base",
            "top": null,
            "grid_column": null,
            "overflow_y": null,
            "overflow_x": null,
            "grid_auto_flow": null,
            "grid_area": null,
            "grid_template_columns": null,
            "flex": null,
            "_model_name": "LayoutModel",
            "justify_items": null,
            "grid_row": null,
            "max_height": null,
            "align_content": null,
            "visibility": null,
            "align_self": null,
            "height": null,
            "min_height": null,
            "padding": null,
            "grid_auto_rows": null,
            "grid_gap": null,
            "max_width": null,
            "order": null,
            "_view_module_version": "1.2.0",
            "grid_template_areas": null,
            "object_position": null,
            "object_fit": null,
            "grid_auto_columns": null,
            "margin": null,
            "display": null,
            "left": null
          }
        },
        "06e81aba9e5e48b2ae69c53641d7a173": {
          "model_module": "@jupyter-widgets/controls",
          "model_name": "HBoxModel",
          "state": {
            "_view_name": "HBoxView",
            "_dom_classes": [],
            "_model_name": "HBoxModel",
            "_view_module": "@jupyter-widgets/controls",
            "_model_module_version": "1.5.0",
            "_view_count": null,
            "_view_module_version": "1.5.0",
            "box_style": "",
            "layout": "IPY_MODEL_38f8b4d158ea4274be98a6649322c7d1",
            "_model_module": "@jupyter-widgets/controls",
            "children": [
              "IPY_MODEL_0ab0f5ad816c44a095ff124ad75088e0",
              "IPY_MODEL_4a4b6f192ee742b7998b3b76cb943830"
            ]
          }
        },
        "38f8b4d158ea4274be98a6649322c7d1": {
          "model_module": "@jupyter-widgets/base",
          "model_name": "LayoutModel",
          "state": {
            "_view_name": "LayoutView",
            "grid_template_rows": null,
            "right": null,
            "justify_content": null,
            "_view_module": "@jupyter-widgets/base",
            "overflow": null,
            "_model_module_version": "1.2.0",
            "_view_count": null,
            "flex_flow": null,
            "width": null,
            "min_width": null,
            "border": null,
            "align_items": null,
            "bottom": null,
            "_model_module": "@jupyter-widgets/base",
            "top": null,
            "grid_column": null,
            "overflow_y": null,
            "overflow_x": null,
            "grid_auto_flow": null,
            "grid_area": null,
            "grid_template_columns": null,
            "flex": null,
            "_model_name": "LayoutModel",
            "justify_items": null,
            "grid_row": null,
            "max_height": null,
            "align_content": null,
            "visibility": null,
            "align_self": null,
            "height": null,
            "min_height": null,
            "padding": null,
            "grid_auto_rows": null,
            "grid_gap": null,
            "max_width": null,
            "order": null,
            "_view_module_version": "1.2.0",
            "grid_template_areas": null,
            "object_position": null,
            "object_fit": null,
            "grid_auto_columns": null,
            "margin": null,
            "display": null,
            "left": null
          }
        },
        "0ab0f5ad816c44a095ff124ad75088e0": {
          "model_module": "@jupyter-widgets/controls",
          "model_name": "FloatProgressModel",
          "state": {
            "_view_name": "ProgressView",
            "style": "IPY_MODEL_08ac6edbb8b14af4983d9a645da9ba13",
            "_dom_classes": [],
            "description": "100%",
            "_model_name": "FloatProgressModel",
            "bar_style": "success",
            "max": 14,
            "_view_module": "@jupyter-widgets/controls",
            "_model_module_version": "1.5.0",
            "value": 14,
            "_view_count": null,
            "_view_module_version": "1.5.0",
            "orientation": "horizontal",
            "min": 0,
            "description_tooltip": null,
            "_model_module": "@jupyter-widgets/controls",
            "layout": "IPY_MODEL_9a44a011ad9f4fb8b8b87ec14263a4d5"
          }
        },
        "4a4b6f192ee742b7998b3b76cb943830": {
          "model_module": "@jupyter-widgets/controls",
          "model_name": "HTMLModel",
          "state": {
            "_view_name": "HTMLView",
            "style": "IPY_MODEL_4e170b28c453463faf58d7050519572f",
            "_dom_classes": [],
            "description": "",
            "_model_name": "HTMLModel",
            "placeholder": "​",
            "_view_module": "@jupyter-widgets/controls",
            "_model_module_version": "1.5.0",
            "value": " 14/14 [00:21&lt;00:00,  1.57s/ba]",
            "_view_count": null,
            "_view_module_version": "1.5.0",
            "description_tooltip": null,
            "_model_module": "@jupyter-widgets/controls",
            "layout": "IPY_MODEL_895be1a608654b7d8006aedc8bc1349c"
          }
        },
        "08ac6edbb8b14af4983d9a645da9ba13": {
          "model_module": "@jupyter-widgets/controls",
          "model_name": "ProgressStyleModel",
          "state": {
            "_view_name": "StyleView",
            "_model_name": "ProgressStyleModel",
            "description_width": "initial",
            "_view_module": "@jupyter-widgets/base",
            "_model_module_version": "1.5.0",
            "_view_count": null,
            "_view_module_version": "1.2.0",
            "bar_color": null,
            "_model_module": "@jupyter-widgets/controls"
          }
        },
        "9a44a011ad9f4fb8b8b87ec14263a4d5": {
          "model_module": "@jupyter-widgets/base",
          "model_name": "LayoutModel",
          "state": {
            "_view_name": "LayoutView",
            "grid_template_rows": null,
            "right": null,
            "justify_content": null,
            "_view_module": "@jupyter-widgets/base",
            "overflow": null,
            "_model_module_version": "1.2.0",
            "_view_count": null,
            "flex_flow": null,
            "width": null,
            "min_width": null,
            "border": null,
            "align_items": null,
            "bottom": null,
            "_model_module": "@jupyter-widgets/base",
            "top": null,
            "grid_column": null,
            "overflow_y": null,
            "overflow_x": null,
            "grid_auto_flow": null,
            "grid_area": null,
            "grid_template_columns": null,
            "flex": null,
            "_model_name": "LayoutModel",
            "justify_items": null,
            "grid_row": null,
            "max_height": null,
            "align_content": null,
            "visibility": null,
            "align_self": null,
            "height": null,
            "min_height": null,
            "padding": null,
            "grid_auto_rows": null,
            "grid_gap": null,
            "max_width": null,
            "order": null,
            "_view_module_version": "1.2.0",
            "grid_template_areas": null,
            "object_position": null,
            "object_fit": null,
            "grid_auto_columns": null,
            "margin": null,
            "display": null,
            "left": null
          }
        },
        "4e170b28c453463faf58d7050519572f": {
          "model_module": "@jupyter-widgets/controls",
          "model_name": "DescriptionStyleModel",
          "state": {
            "_view_name": "StyleView",
            "_model_name": "DescriptionStyleModel",
            "description_width": "",
            "_view_module": "@jupyter-widgets/base",
            "_model_module_version": "1.5.0",
            "_view_count": null,
            "_view_module_version": "1.2.0",
            "_model_module": "@jupyter-widgets/controls"
          }
        },
        "895be1a608654b7d8006aedc8bc1349c": {
          "model_module": "@jupyter-widgets/base",
          "model_name": "LayoutModel",
          "state": {
            "_view_name": "LayoutView",
            "grid_template_rows": null,
            "right": null,
            "justify_content": null,
            "_view_module": "@jupyter-widgets/base",
            "overflow": null,
            "_model_module_version": "1.2.0",
            "_view_count": null,
            "flex_flow": null,
            "width": null,
            "min_width": null,
            "border": null,
            "align_items": null,
            "bottom": null,
            "_model_module": "@jupyter-widgets/base",
            "top": null,
            "grid_column": null,
            "overflow_y": null,
            "overflow_x": null,
            "grid_auto_flow": null,
            "grid_area": null,
            "grid_template_columns": null,
            "flex": null,
            "_model_name": "LayoutModel",
            "justify_items": null,
            "grid_row": null,
            "max_height": null,
            "align_content": null,
            "visibility": null,
            "align_self": null,
            "height": null,
            "min_height": null,
            "padding": null,
            "grid_auto_rows": null,
            "grid_gap": null,
            "max_width": null,
            "order": null,
            "_view_module_version": "1.2.0",
            "grid_template_areas": null,
            "object_position": null,
            "object_fit": null,
            "grid_auto_columns": null,
            "margin": null,
            "display": null,
            "left": null
          }
        },
        "5fd34d15f0a0489a8dc93fd99912ff1b": {
          "model_module": "@jupyter-widgets/controls",
          "model_name": "HBoxModel",
          "state": {
            "_view_name": "HBoxView",
            "_dom_classes": [],
            "_model_name": "HBoxModel",
            "_view_module": "@jupyter-widgets/controls",
            "_model_module_version": "1.5.0",
            "_view_count": null,
            "_view_module_version": "1.5.0",
            "box_style": "",
            "layout": "IPY_MODEL_20ccfebdef3e4aa6b0f3525621b3f12c",
            "_model_module": "@jupyter-widgets/controls",
            "children": [
              "IPY_MODEL_4fcb64f209bb4def87e561cc39c6beb5",
              "IPY_MODEL_ae36878c73e540aa8e1712d2e01cf3d6"
            ]
          }
        },
        "20ccfebdef3e4aa6b0f3525621b3f12c": {
          "model_module": "@jupyter-widgets/base",
          "model_name": "LayoutModel",
          "state": {
            "_view_name": "LayoutView",
            "grid_template_rows": null,
            "right": null,
            "justify_content": null,
            "_view_module": "@jupyter-widgets/base",
            "overflow": null,
            "_model_module_version": "1.2.0",
            "_view_count": null,
            "flex_flow": null,
            "width": null,
            "min_width": null,
            "border": null,
            "align_items": null,
            "bottom": null,
            "_model_module": "@jupyter-widgets/base",
            "top": null,
            "grid_column": null,
            "overflow_y": null,
            "overflow_x": null,
            "grid_auto_flow": null,
            "grid_area": null,
            "grid_template_columns": null,
            "flex": null,
            "_model_name": "LayoutModel",
            "justify_items": null,
            "grid_row": null,
            "max_height": null,
            "align_content": null,
            "visibility": null,
            "align_self": null,
            "height": null,
            "min_height": null,
            "padding": null,
            "grid_auto_rows": null,
            "grid_gap": null,
            "max_width": null,
            "order": null,
            "_view_module_version": "1.2.0",
            "grid_template_areas": null,
            "object_position": null,
            "object_fit": null,
            "grid_auto_columns": null,
            "margin": null,
            "display": null,
            "left": null
          }
        },
        "4fcb64f209bb4def87e561cc39c6beb5": {
          "model_module": "@jupyter-widgets/controls",
          "model_name": "FloatProgressModel",
          "state": {
            "_view_name": "ProgressView",
            "style": "IPY_MODEL_643b099bd8b44d2b8352583842ef5c9d",
            "_dom_classes": [],
            "description": "100%",
            "_model_name": "FloatProgressModel",
            "bar_style": "success",
            "max": 1,
            "_view_module": "@jupyter-widgets/controls",
            "_model_module_version": "1.5.0",
            "value": 1,
            "_view_count": null,
            "_view_module_version": "1.5.0",
            "orientation": "horizontal",
            "min": 0,
            "description_tooltip": null,
            "_model_module": "@jupyter-widgets/controls",
            "layout": "IPY_MODEL_5d0150484e3a431c85695d01fdebff75"
          }
        },
        "ae36878c73e540aa8e1712d2e01cf3d6": {
          "model_module": "@jupyter-widgets/controls",
          "model_name": "HTMLModel",
          "state": {
            "_view_name": "HTMLView",
            "style": "IPY_MODEL_1721395393124cd0aa9c151dde2aa8dd",
            "_dom_classes": [],
            "description": "",
            "_model_name": "HTMLModel",
            "placeholder": "​",
            "_view_module": "@jupyter-widgets/controls",
            "_model_module_version": "1.5.0",
            "value": " 1/1 [00:01&lt;00:00,  1.80s/ba]",
            "_view_count": null,
            "_view_module_version": "1.5.0",
            "description_tooltip": null,
            "_model_module": "@jupyter-widgets/controls",
            "layout": "IPY_MODEL_f9fc9b24afc9427b8c319f2b838b144c"
          }
        },
        "643b099bd8b44d2b8352583842ef5c9d": {
          "model_module": "@jupyter-widgets/controls",
          "model_name": "ProgressStyleModel",
          "state": {
            "_view_name": "StyleView",
            "_model_name": "ProgressStyleModel",
            "description_width": "initial",
            "_view_module": "@jupyter-widgets/base",
            "_model_module_version": "1.5.0",
            "_view_count": null,
            "_view_module_version": "1.2.0",
            "bar_color": null,
            "_model_module": "@jupyter-widgets/controls"
          }
        },
        "5d0150484e3a431c85695d01fdebff75": {
          "model_module": "@jupyter-widgets/base",
          "model_name": "LayoutModel",
          "state": {
            "_view_name": "LayoutView",
            "grid_template_rows": null,
            "right": null,
            "justify_content": null,
            "_view_module": "@jupyter-widgets/base",
            "overflow": null,
            "_model_module_version": "1.2.0",
            "_view_count": null,
            "flex_flow": null,
            "width": null,
            "min_width": null,
            "border": null,
            "align_items": null,
            "bottom": null,
            "_model_module": "@jupyter-widgets/base",
            "top": null,
            "grid_column": null,
            "overflow_y": null,
            "overflow_x": null,
            "grid_auto_flow": null,
            "grid_area": null,
            "grid_template_columns": null,
            "flex": null,
            "_model_name": "LayoutModel",
            "justify_items": null,
            "grid_row": null,
            "max_height": null,
            "align_content": null,
            "visibility": null,
            "align_self": null,
            "height": null,
            "min_height": null,
            "padding": null,
            "grid_auto_rows": null,
            "grid_gap": null,
            "max_width": null,
            "order": null,
            "_view_module_version": "1.2.0",
            "grid_template_areas": null,
            "object_position": null,
            "object_fit": null,
            "grid_auto_columns": null,
            "margin": null,
            "display": null,
            "left": null
          }
        },
        "1721395393124cd0aa9c151dde2aa8dd": {
          "model_module": "@jupyter-widgets/controls",
          "model_name": "DescriptionStyleModel",
          "state": {
            "_view_name": "StyleView",
            "_model_name": "DescriptionStyleModel",
            "description_width": "",
            "_view_module": "@jupyter-widgets/base",
            "_model_module_version": "1.5.0",
            "_view_count": null,
            "_view_module_version": "1.2.0",
            "_model_module": "@jupyter-widgets/controls"
          }
        },
        "f9fc9b24afc9427b8c319f2b838b144c": {
          "model_module": "@jupyter-widgets/base",
          "model_name": "LayoutModel",
          "state": {
            "_view_name": "LayoutView",
            "grid_template_rows": null,
            "right": null,
            "justify_content": null,
            "_view_module": "@jupyter-widgets/base",
            "overflow": null,
            "_model_module_version": "1.2.0",
            "_view_count": null,
            "flex_flow": null,
            "width": null,
            "min_width": null,
            "border": null,
            "align_items": null,
            "bottom": null,
            "_model_module": "@jupyter-widgets/base",
            "top": null,
            "grid_column": null,
            "overflow_y": null,
            "overflow_x": null,
            "grid_auto_flow": null,
            "grid_area": null,
            "grid_template_columns": null,
            "flex": null,
            "_model_name": "LayoutModel",
            "justify_items": null,
            "grid_row": null,
            "max_height": null,
            "align_content": null,
            "visibility": null,
            "align_self": null,
            "height": null,
            "min_height": null,
            "padding": null,
            "grid_auto_rows": null,
            "grid_gap": null,
            "max_width": null,
            "order": null,
            "_view_module_version": "1.2.0",
            "grid_template_areas": null,
            "object_position": null,
            "object_fit": null,
            "grid_auto_columns": null,
            "margin": null,
            "display": null,
            "left": null
          }
        },
        "3869dfba3a2a475ba6f8788cca991587": {
          "model_module": "@jupyter-widgets/controls",
          "model_name": "HBoxModel",
          "state": {
            "_view_name": "HBoxView",
            "_dom_classes": [],
            "_model_name": "HBoxModel",
            "_view_module": "@jupyter-widgets/controls",
            "_model_module_version": "1.5.0",
            "_view_count": null,
            "_view_module_version": "1.5.0",
            "box_style": "",
            "layout": "IPY_MODEL_82a7bbcbfbe145d68d6c1f83f9068808",
            "_model_module": "@jupyter-widgets/controls",
            "children": [
              "IPY_MODEL_e34a9e78503b4ccc907c21742c2e78d4",
              "IPY_MODEL_6b23ae5d8f8c4f4bac703ec8b8462715"
            ]
          }
        },
        "82a7bbcbfbe145d68d6c1f83f9068808": {
          "model_module": "@jupyter-widgets/base",
          "model_name": "LayoutModel",
          "state": {
            "_view_name": "LayoutView",
            "grid_template_rows": null,
            "right": null,
            "justify_content": null,
            "_view_module": "@jupyter-widgets/base",
            "overflow": null,
            "_model_module_version": "1.2.0",
            "_view_count": null,
            "flex_flow": null,
            "width": null,
            "min_width": null,
            "border": null,
            "align_items": null,
            "bottom": null,
            "_model_module": "@jupyter-widgets/base",
            "top": null,
            "grid_column": null,
            "overflow_y": null,
            "overflow_x": null,
            "grid_auto_flow": null,
            "grid_area": null,
            "grid_template_columns": null,
            "flex": null,
            "_model_name": "LayoutModel",
            "justify_items": null,
            "grid_row": null,
            "max_height": null,
            "align_content": null,
            "visibility": null,
            "align_self": null,
            "height": null,
            "min_height": null,
            "padding": null,
            "grid_auto_rows": null,
            "grid_gap": null,
            "max_width": null,
            "order": null,
            "_view_module_version": "1.2.0",
            "grid_template_areas": null,
            "object_position": null,
            "object_fit": null,
            "grid_auto_columns": null,
            "margin": null,
            "display": null,
            "left": null
          }
        },
        "e34a9e78503b4ccc907c21742c2e78d4": {
          "model_module": "@jupyter-widgets/controls",
          "model_name": "FloatProgressModel",
          "state": {
            "_view_name": "ProgressView",
            "style": "IPY_MODEL_8024dcbc7e184cfbb86557272b3055b1",
            "_dom_classes": [],
            "description": "100%",
            "_model_name": "FloatProgressModel",
            "bar_style": "success",
            "max": 1,
            "_view_module": "@jupyter-widgets/controls",
            "_model_module_version": "1.5.0",
            "value": 1,
            "_view_count": null,
            "_view_module_version": "1.5.0",
            "orientation": "horizontal",
            "min": 0,
            "description_tooltip": null,
            "_model_module": "@jupyter-widgets/controls",
            "layout": "IPY_MODEL_61e1d460c4a74d75aa8a95da91735494"
          }
        },
        "6b23ae5d8f8c4f4bac703ec8b8462715": {
          "model_module": "@jupyter-widgets/controls",
          "model_name": "HTMLModel",
          "state": {
            "_view_name": "HTMLView",
            "style": "IPY_MODEL_c846eccc186a4536b0aa4ae73bf652c6",
            "_dom_classes": [],
            "description": "",
            "_model_name": "HTMLModel",
            "placeholder": "​",
            "_view_module": "@jupyter-widgets/controls",
            "_model_module_version": "1.5.0",
            "value": " 1/1 [00:05&lt;00:00,  5.89s/ba]",
            "_view_count": null,
            "_view_module_version": "1.5.0",
            "description_tooltip": null,
            "_model_module": "@jupyter-widgets/controls",
            "layout": "IPY_MODEL_21372b0a6feb4a51bf382fc575ec509f"
          }
        },
        "8024dcbc7e184cfbb86557272b3055b1": {
          "model_module": "@jupyter-widgets/controls",
          "model_name": "ProgressStyleModel",
          "state": {
            "_view_name": "StyleView",
            "_model_name": "ProgressStyleModel",
            "description_width": "initial",
            "_view_module": "@jupyter-widgets/base",
            "_model_module_version": "1.5.0",
            "_view_count": null,
            "_view_module_version": "1.2.0",
            "bar_color": null,
            "_model_module": "@jupyter-widgets/controls"
          }
        },
        "61e1d460c4a74d75aa8a95da91735494": {
          "model_module": "@jupyter-widgets/base",
          "model_name": "LayoutModel",
          "state": {
            "_view_name": "LayoutView",
            "grid_template_rows": null,
            "right": null,
            "justify_content": null,
            "_view_module": "@jupyter-widgets/base",
            "overflow": null,
            "_model_module_version": "1.2.0",
            "_view_count": null,
            "flex_flow": null,
            "width": null,
            "min_width": null,
            "border": null,
            "align_items": null,
            "bottom": null,
            "_model_module": "@jupyter-widgets/base",
            "top": null,
            "grid_column": null,
            "overflow_y": null,
            "overflow_x": null,
            "grid_auto_flow": null,
            "grid_area": null,
            "grid_template_columns": null,
            "flex": null,
            "_model_name": "LayoutModel",
            "justify_items": null,
            "grid_row": null,
            "max_height": null,
            "align_content": null,
            "visibility": null,
            "align_self": null,
            "height": null,
            "min_height": null,
            "padding": null,
            "grid_auto_rows": null,
            "grid_gap": null,
            "max_width": null,
            "order": null,
            "_view_module_version": "1.2.0",
            "grid_template_areas": null,
            "object_position": null,
            "object_fit": null,
            "grid_auto_columns": null,
            "margin": null,
            "display": null,
            "left": null
          }
        },
        "c846eccc186a4536b0aa4ae73bf652c6": {
          "model_module": "@jupyter-widgets/controls",
          "model_name": "DescriptionStyleModel",
          "state": {
            "_view_name": "StyleView",
            "_model_name": "DescriptionStyleModel",
            "description_width": "",
            "_view_module": "@jupyter-widgets/base",
            "_model_module_version": "1.5.0",
            "_view_count": null,
            "_view_module_version": "1.2.0",
            "_model_module": "@jupyter-widgets/controls"
          }
        },
        "21372b0a6feb4a51bf382fc575ec509f": {
          "model_module": "@jupyter-widgets/base",
          "model_name": "LayoutModel",
          "state": {
            "_view_name": "LayoutView",
            "grid_template_rows": null,
            "right": null,
            "justify_content": null,
            "_view_module": "@jupyter-widgets/base",
            "overflow": null,
            "_model_module_version": "1.2.0",
            "_view_count": null,
            "flex_flow": null,
            "width": null,
            "min_width": null,
            "border": null,
            "align_items": null,
            "bottom": null,
            "_model_module": "@jupyter-widgets/base",
            "top": null,
            "grid_column": null,
            "overflow_y": null,
            "overflow_x": null,
            "grid_auto_flow": null,
            "grid_area": null,
            "grid_template_columns": null,
            "flex": null,
            "_model_name": "LayoutModel",
            "justify_items": null,
            "grid_row": null,
            "max_height": null,
            "align_content": null,
            "visibility": null,
            "align_self": null,
            "height": null,
            "min_height": null,
            "padding": null,
            "grid_auto_rows": null,
            "grid_gap": null,
            "max_width": null,
            "order": null,
            "_view_module_version": "1.2.0",
            "grid_template_areas": null,
            "object_position": null,
            "object_fit": null,
            "grid_auto_columns": null,
            "margin": null,
            "display": null,
            "left": null
          }
        },
        "fe055e182d694e6691f308184d2f8e9b": {
          "model_module": "@jupyter-widgets/controls",
          "model_name": "HBoxModel",
          "state": {
            "_view_name": "HBoxView",
            "_dom_classes": [],
            "_model_name": "HBoxModel",
            "_view_module": "@jupyter-widgets/controls",
            "_model_module_version": "1.5.0",
            "_view_count": null,
            "_view_module_version": "1.5.0",
            "box_style": "",
            "layout": "IPY_MODEL_87d36142804246d8aaa808623b39c1f0",
            "_model_module": "@jupyter-widgets/controls",
            "children": [
              "IPY_MODEL_3ac3d489331746628b4851a44e637e80",
              "IPY_MODEL_9fe66ab60b1b4bd4b84372a94b9c2469"
            ]
          }
        },
        "87d36142804246d8aaa808623b39c1f0": {
          "model_module": "@jupyter-widgets/base",
          "model_name": "LayoutModel",
          "state": {
            "_view_name": "LayoutView",
            "grid_template_rows": null,
            "right": null,
            "justify_content": null,
            "_view_module": "@jupyter-widgets/base",
            "overflow": null,
            "_model_module_version": "1.2.0",
            "_view_count": null,
            "flex_flow": null,
            "width": null,
            "min_width": null,
            "border": null,
            "align_items": null,
            "bottom": null,
            "_model_module": "@jupyter-widgets/base",
            "top": null,
            "grid_column": null,
            "overflow_y": null,
            "overflow_x": null,
            "grid_auto_flow": null,
            "grid_area": null,
            "grid_template_columns": null,
            "flex": null,
            "_model_name": "LayoutModel",
            "justify_items": null,
            "grid_row": null,
            "max_height": null,
            "align_content": null,
            "visibility": null,
            "align_self": null,
            "height": null,
            "min_height": null,
            "padding": null,
            "grid_auto_rows": null,
            "grid_gap": null,
            "max_width": null,
            "order": null,
            "_view_module_version": "1.2.0",
            "grid_template_areas": null,
            "object_position": null,
            "object_fit": null,
            "grid_auto_columns": null,
            "margin": null,
            "display": null,
            "left": null
          }
        },
        "3ac3d489331746628b4851a44e637e80": {
          "model_module": "@jupyter-widgets/controls",
          "model_name": "FloatProgressModel",
          "state": {
            "_view_name": "ProgressView",
            "style": "IPY_MODEL_22d6af07b0e54f61a1e94e9dd5482b19",
            "_dom_classes": [],
            "description": "100%",
            "_model_name": "FloatProgressModel",
            "bar_style": "success",
            "max": 1,
            "_view_module": "@jupyter-widgets/controls",
            "_model_module_version": "1.5.0",
            "value": 1,
            "_view_count": null,
            "_view_module_version": "1.5.0",
            "orientation": "horizontal",
            "min": 0,
            "description_tooltip": null,
            "_model_module": "@jupyter-widgets/controls",
            "layout": "IPY_MODEL_2336a1479f274b8a8e360d231892db6e"
          }
        },
        "9fe66ab60b1b4bd4b84372a94b9c2469": {
          "model_module": "@jupyter-widgets/controls",
          "model_name": "HTMLModel",
          "state": {
            "_view_name": "HTMLView",
            "style": "IPY_MODEL_7bb58aa89e444404af88196ea8fddf7f",
            "_dom_classes": [],
            "description": "",
            "_model_name": "HTMLModel",
            "placeholder": "​",
            "_view_module": "@jupyter-widgets/controls",
            "_model_module_version": "1.5.0",
            "value": " 1/1 [00:05&lt;00:00,  5.77s/ba]",
            "_view_count": null,
            "_view_module_version": "1.5.0",
            "description_tooltip": null,
            "_model_module": "@jupyter-widgets/controls",
            "layout": "IPY_MODEL_e117c4e2e2254b7dad818a37348b2d4a"
          }
        },
        "22d6af07b0e54f61a1e94e9dd5482b19": {
          "model_module": "@jupyter-widgets/controls",
          "model_name": "ProgressStyleModel",
          "state": {
            "_view_name": "StyleView",
            "_model_name": "ProgressStyleModel",
            "description_width": "initial",
            "_view_module": "@jupyter-widgets/base",
            "_model_module_version": "1.5.0",
            "_view_count": null,
            "_view_module_version": "1.2.0",
            "bar_color": null,
            "_model_module": "@jupyter-widgets/controls"
          }
        },
        "2336a1479f274b8a8e360d231892db6e": {
          "model_module": "@jupyter-widgets/base",
          "model_name": "LayoutModel",
          "state": {
            "_view_name": "LayoutView",
            "grid_template_rows": null,
            "right": null,
            "justify_content": null,
            "_view_module": "@jupyter-widgets/base",
            "overflow": null,
            "_model_module_version": "1.2.0",
            "_view_count": null,
            "flex_flow": null,
            "width": null,
            "min_width": null,
            "border": null,
            "align_items": null,
            "bottom": null,
            "_model_module": "@jupyter-widgets/base",
            "top": null,
            "grid_column": null,
            "overflow_y": null,
            "overflow_x": null,
            "grid_auto_flow": null,
            "grid_area": null,
            "grid_template_columns": null,
            "flex": null,
            "_model_name": "LayoutModel",
            "justify_items": null,
            "grid_row": null,
            "max_height": null,
            "align_content": null,
            "visibility": null,
            "align_self": null,
            "height": null,
            "min_height": null,
            "padding": null,
            "grid_auto_rows": null,
            "grid_gap": null,
            "max_width": null,
            "order": null,
            "_view_module_version": "1.2.0",
            "grid_template_areas": null,
            "object_position": null,
            "object_fit": null,
            "grid_auto_columns": null,
            "margin": null,
            "display": null,
            "left": null
          }
        },
        "7bb58aa89e444404af88196ea8fddf7f": {
          "model_module": "@jupyter-widgets/controls",
          "model_name": "DescriptionStyleModel",
          "state": {
            "_view_name": "StyleView",
            "_model_name": "DescriptionStyleModel",
            "description_width": "",
            "_view_module": "@jupyter-widgets/base",
            "_model_module_version": "1.5.0",
            "_view_count": null,
            "_view_module_version": "1.2.0",
            "_model_module": "@jupyter-widgets/controls"
          }
        },
        "e117c4e2e2254b7dad818a37348b2d4a": {
          "model_module": "@jupyter-widgets/base",
          "model_name": "LayoutModel",
          "state": {
            "_view_name": "LayoutView",
            "grid_template_rows": null,
            "right": null,
            "justify_content": null,
            "_view_module": "@jupyter-widgets/base",
            "overflow": null,
            "_model_module_version": "1.2.0",
            "_view_count": null,
            "flex_flow": null,
            "width": null,
            "min_width": null,
            "border": null,
            "align_items": null,
            "bottom": null,
            "_model_module": "@jupyter-widgets/base",
            "top": null,
            "grid_column": null,
            "overflow_y": null,
            "overflow_x": null,
            "grid_auto_flow": null,
            "grid_area": null,
            "grid_template_columns": null,
            "flex": null,
            "_model_name": "LayoutModel",
            "justify_items": null,
            "grid_row": null,
            "max_height": null,
            "align_content": null,
            "visibility": null,
            "align_self": null,
            "height": null,
            "min_height": null,
            "padding": null,
            "grid_auto_rows": null,
            "grid_gap": null,
            "max_width": null,
            "order": null,
            "_view_module_version": "1.2.0",
            "grid_template_areas": null,
            "object_position": null,
            "object_fit": null,
            "grid_auto_columns": null,
            "margin": null,
            "display": null,
            "left": null
          }
        },
        "662c3ab5357442f7a185c089416b3b40": {
          "model_module": "@jupyter-widgets/controls",
          "model_name": "HBoxModel",
          "state": {
            "_view_name": "HBoxView",
            "_dom_classes": [],
            "_model_name": "HBoxModel",
            "_view_module": "@jupyter-widgets/controls",
            "_model_module_version": "1.5.0",
            "_view_count": null,
            "_view_module_version": "1.5.0",
            "box_style": "",
            "layout": "IPY_MODEL_a6b07c0902e74d40a68f68a775032bb3",
            "_model_module": "@jupyter-widgets/controls",
            "children": [
              "IPY_MODEL_91ade57e660440c58d03f57fefe43884",
              "IPY_MODEL_f135ff22878b4b50a70ac86fa7bf8d47"
            ]
          }
        },
        "a6b07c0902e74d40a68f68a775032bb3": {
          "model_module": "@jupyter-widgets/base",
          "model_name": "LayoutModel",
          "state": {
            "_view_name": "LayoutView",
            "grid_template_rows": null,
            "right": null,
            "justify_content": null,
            "_view_module": "@jupyter-widgets/base",
            "overflow": null,
            "_model_module_version": "1.2.0",
            "_view_count": null,
            "flex_flow": null,
            "width": null,
            "min_width": null,
            "border": null,
            "align_items": null,
            "bottom": null,
            "_model_module": "@jupyter-widgets/base",
            "top": null,
            "grid_column": null,
            "overflow_y": null,
            "overflow_x": null,
            "grid_auto_flow": null,
            "grid_area": null,
            "grid_template_columns": null,
            "flex": null,
            "_model_name": "LayoutModel",
            "justify_items": null,
            "grid_row": null,
            "max_height": null,
            "align_content": null,
            "visibility": null,
            "align_self": null,
            "height": null,
            "min_height": null,
            "padding": null,
            "grid_auto_rows": null,
            "grid_gap": null,
            "max_width": null,
            "order": null,
            "_view_module_version": "1.2.0",
            "grid_template_areas": null,
            "object_position": null,
            "object_fit": null,
            "grid_auto_columns": null,
            "margin": null,
            "display": null,
            "left": null
          }
        },
        "91ade57e660440c58d03f57fefe43884": {
          "model_module": "@jupyter-widgets/controls",
          "model_name": "FloatProgressModel",
          "state": {
            "_view_name": "ProgressView",
            "style": "IPY_MODEL_1f33c19364e448a5b2691774a4c0d6df",
            "_dom_classes": [],
            "description": "100%",
            "_model_name": "FloatProgressModel",
            "bar_style": "success",
            "max": 13843,
            "_view_module": "@jupyter-widgets/controls",
            "_model_module_version": "1.5.0",
            "value": 13843,
            "_view_count": null,
            "_view_module_version": "1.5.0",
            "orientation": "horizontal",
            "min": 0,
            "description_tooltip": null,
            "_model_module": "@jupyter-widgets/controls",
            "layout": "IPY_MODEL_5d27014dc674458ab94977e55a18fe4a"
          }
        },
        "f135ff22878b4b50a70ac86fa7bf8d47": {
          "model_module": "@jupyter-widgets/controls",
          "model_name": "HTMLModel",
          "state": {
            "_view_name": "HTMLView",
            "style": "IPY_MODEL_59420c03071c46bab3d604d43feeb248",
            "_dom_classes": [],
            "description": "",
            "_model_name": "HTMLModel",
            "placeholder": "​",
            "_view_module": "@jupyter-widgets/controls",
            "_model_module_version": "1.5.0",
            "value": " 13843/13843 [02:12&lt;00:00, 104.80ex/s]",
            "_view_count": null,
            "_view_module_version": "1.5.0",
            "description_tooltip": null,
            "_model_module": "@jupyter-widgets/controls",
            "layout": "IPY_MODEL_037f1457739d4802b7e5334d313f2568"
          }
        },
        "1f33c19364e448a5b2691774a4c0d6df": {
          "model_module": "@jupyter-widgets/controls",
          "model_name": "ProgressStyleModel",
          "state": {
            "_view_name": "StyleView",
            "_model_name": "ProgressStyleModel",
            "description_width": "initial",
            "_view_module": "@jupyter-widgets/base",
            "_model_module_version": "1.5.0",
            "_view_count": null,
            "_view_module_version": "1.2.0",
            "bar_color": null,
            "_model_module": "@jupyter-widgets/controls"
          }
        },
        "5d27014dc674458ab94977e55a18fe4a": {
          "model_module": "@jupyter-widgets/base",
          "model_name": "LayoutModel",
          "state": {
            "_view_name": "LayoutView",
            "grid_template_rows": null,
            "right": null,
            "justify_content": null,
            "_view_module": "@jupyter-widgets/base",
            "overflow": null,
            "_model_module_version": "1.2.0",
            "_view_count": null,
            "flex_flow": null,
            "width": null,
            "min_width": null,
            "border": null,
            "align_items": null,
            "bottom": null,
            "_model_module": "@jupyter-widgets/base",
            "top": null,
            "grid_column": null,
            "overflow_y": null,
            "overflow_x": null,
            "grid_auto_flow": null,
            "grid_area": null,
            "grid_template_columns": null,
            "flex": null,
            "_model_name": "LayoutModel",
            "justify_items": null,
            "grid_row": null,
            "max_height": null,
            "align_content": null,
            "visibility": null,
            "align_self": null,
            "height": null,
            "min_height": null,
            "padding": null,
            "grid_auto_rows": null,
            "grid_gap": null,
            "max_width": null,
            "order": null,
            "_view_module_version": "1.2.0",
            "grid_template_areas": null,
            "object_position": null,
            "object_fit": null,
            "grid_auto_columns": null,
            "margin": null,
            "display": null,
            "left": null
          }
        },
        "59420c03071c46bab3d604d43feeb248": {
          "model_module": "@jupyter-widgets/controls",
          "model_name": "DescriptionStyleModel",
          "state": {
            "_view_name": "StyleView",
            "_model_name": "DescriptionStyleModel",
            "description_width": "",
            "_view_module": "@jupyter-widgets/base",
            "_model_module_version": "1.5.0",
            "_view_count": null,
            "_view_module_version": "1.2.0",
            "_model_module": "@jupyter-widgets/controls"
          }
        },
        "037f1457739d4802b7e5334d313f2568": {
          "model_module": "@jupyter-widgets/base",
          "model_name": "LayoutModel",
          "state": {
            "_view_name": "LayoutView",
            "grid_template_rows": null,
            "right": null,
            "justify_content": null,
            "_view_module": "@jupyter-widgets/base",
            "overflow": null,
            "_model_module_version": "1.2.0",
            "_view_count": null,
            "flex_flow": null,
            "width": null,
            "min_width": null,
            "border": null,
            "align_items": null,
            "bottom": null,
            "_model_module": "@jupyter-widgets/base",
            "top": null,
            "grid_column": null,
            "overflow_y": null,
            "overflow_x": null,
            "grid_auto_flow": null,
            "grid_area": null,
            "grid_template_columns": null,
            "flex": null,
            "_model_name": "LayoutModel",
            "justify_items": null,
            "grid_row": null,
            "max_height": null,
            "align_content": null,
            "visibility": null,
            "align_self": null,
            "height": null,
            "min_height": null,
            "padding": null,
            "grid_auto_rows": null,
            "grid_gap": null,
            "max_width": null,
            "order": null,
            "_view_module_version": "1.2.0",
            "grid_template_areas": null,
            "object_position": null,
            "object_fit": null,
            "grid_auto_columns": null,
            "margin": null,
            "display": null,
            "left": null
          }
        },
        "8af6a45d92d34dcf8c4d1a5f0cb8c765": {
          "model_module": "@jupyter-widgets/controls",
          "model_name": "HBoxModel",
          "state": {
            "_view_name": "HBoxView",
            "_dom_classes": [],
            "_model_name": "HBoxModel",
            "_view_module": "@jupyter-widgets/controls",
            "_model_module_version": "1.5.0",
            "_view_count": null,
            "_view_module_version": "1.5.0",
            "box_style": "",
            "layout": "IPY_MODEL_217f8a68d3064667b7c9c7ce33555c50",
            "_model_module": "@jupyter-widgets/controls",
            "children": [
              "IPY_MODEL_04be588649594b419f464a5bf60d3483",
              "IPY_MODEL_188855de345d42f5907d45be279f56ab"
            ]
          }
        },
        "217f8a68d3064667b7c9c7ce33555c50": {
          "model_module": "@jupyter-widgets/base",
          "model_name": "LayoutModel",
          "state": {
            "_view_name": "LayoutView",
            "grid_template_rows": null,
            "right": null,
            "justify_content": null,
            "_view_module": "@jupyter-widgets/base",
            "overflow": null,
            "_model_module_version": "1.2.0",
            "_view_count": null,
            "flex_flow": null,
            "width": null,
            "min_width": null,
            "border": null,
            "align_items": null,
            "bottom": null,
            "_model_module": "@jupyter-widgets/base",
            "top": null,
            "grid_column": null,
            "overflow_y": null,
            "overflow_x": null,
            "grid_auto_flow": null,
            "grid_area": null,
            "grid_template_columns": null,
            "flex": null,
            "_model_name": "LayoutModel",
            "justify_items": null,
            "grid_row": null,
            "max_height": null,
            "align_content": null,
            "visibility": null,
            "align_self": null,
            "height": null,
            "min_height": null,
            "padding": null,
            "grid_auto_rows": null,
            "grid_gap": null,
            "max_width": null,
            "order": null,
            "_view_module_version": "1.2.0",
            "grid_template_areas": null,
            "object_position": null,
            "object_fit": null,
            "grid_auto_columns": null,
            "margin": null,
            "display": null,
            "left": null
          }
        },
        "04be588649594b419f464a5bf60d3483": {
          "model_module": "@jupyter-widgets/controls",
          "model_name": "FloatProgressModel",
          "state": {
            "_view_name": "ProgressView",
            "style": "IPY_MODEL_b70ef184b2814c4989a9cb6ea4f982f1",
            "_dom_classes": [],
            "description": "100%",
            "_model_name": "FloatProgressModel",
            "bar_style": "success",
            "max": 127,
            "_view_module": "@jupyter-widgets/controls",
            "_model_module_version": "1.5.0",
            "value": 127,
            "_view_count": null,
            "_view_module_version": "1.5.0",
            "orientation": "horizontal",
            "min": 0,
            "description_tooltip": null,
            "_model_module": "@jupyter-widgets/controls",
            "layout": "IPY_MODEL_6a3c0bb3d42e4b728837a03e2a0cd43d"
          }
        },
        "188855de345d42f5907d45be279f56ab": {
          "model_module": "@jupyter-widgets/controls",
          "model_name": "HTMLModel",
          "state": {
            "_view_name": "HTMLView",
            "style": "IPY_MODEL_4c9174b6f7054a9cb713d08880420e49",
            "_dom_classes": [],
            "description": "",
            "_model_name": "HTMLModel",
            "placeholder": "​",
            "_view_module": "@jupyter-widgets/controls",
            "_model_module_version": "1.5.0",
            "value": " 127/127 [00:20&lt;00:00,  6.31ex/s]",
            "_view_count": null,
            "_view_module_version": "1.5.0",
            "description_tooltip": null,
            "_model_module": "@jupyter-widgets/controls",
            "layout": "IPY_MODEL_50f630c1f5c74cd5846c1f5e75f9131c"
          }
        },
        "b70ef184b2814c4989a9cb6ea4f982f1": {
          "model_module": "@jupyter-widgets/controls",
          "model_name": "ProgressStyleModel",
          "state": {
            "_view_name": "StyleView",
            "_model_name": "ProgressStyleModel",
            "description_width": "initial",
            "_view_module": "@jupyter-widgets/base",
            "_model_module_version": "1.5.0",
            "_view_count": null,
            "_view_module_version": "1.2.0",
            "bar_color": null,
            "_model_module": "@jupyter-widgets/controls"
          }
        },
        "6a3c0bb3d42e4b728837a03e2a0cd43d": {
          "model_module": "@jupyter-widgets/base",
          "model_name": "LayoutModel",
          "state": {
            "_view_name": "LayoutView",
            "grid_template_rows": null,
            "right": null,
            "justify_content": null,
            "_view_module": "@jupyter-widgets/base",
            "overflow": null,
            "_model_module_version": "1.2.0",
            "_view_count": null,
            "flex_flow": null,
            "width": null,
            "min_width": null,
            "border": null,
            "align_items": null,
            "bottom": null,
            "_model_module": "@jupyter-widgets/base",
            "top": null,
            "grid_column": null,
            "overflow_y": null,
            "overflow_x": null,
            "grid_auto_flow": null,
            "grid_area": null,
            "grid_template_columns": null,
            "flex": null,
            "_model_name": "LayoutModel",
            "justify_items": null,
            "grid_row": null,
            "max_height": null,
            "align_content": null,
            "visibility": null,
            "align_self": null,
            "height": null,
            "min_height": null,
            "padding": null,
            "grid_auto_rows": null,
            "grid_gap": null,
            "max_width": null,
            "order": null,
            "_view_module_version": "1.2.0",
            "grid_template_areas": null,
            "object_position": null,
            "object_fit": null,
            "grid_auto_columns": null,
            "margin": null,
            "display": null,
            "left": null
          }
        },
        "4c9174b6f7054a9cb713d08880420e49": {
          "model_module": "@jupyter-widgets/controls",
          "model_name": "DescriptionStyleModel",
          "state": {
            "_view_name": "StyleView",
            "_model_name": "DescriptionStyleModel",
            "description_width": "",
            "_view_module": "@jupyter-widgets/base",
            "_model_module_version": "1.5.0",
            "_view_count": null,
            "_view_module_version": "1.2.0",
            "_model_module": "@jupyter-widgets/controls"
          }
        },
        "50f630c1f5c74cd5846c1f5e75f9131c": {
          "model_module": "@jupyter-widgets/base",
          "model_name": "LayoutModel",
          "state": {
            "_view_name": "LayoutView",
            "grid_template_rows": null,
            "right": null,
            "justify_content": null,
            "_view_module": "@jupyter-widgets/base",
            "overflow": null,
            "_model_module_version": "1.2.0",
            "_view_count": null,
            "flex_flow": null,
            "width": null,
            "min_width": null,
            "border": null,
            "align_items": null,
            "bottom": null,
            "_model_module": "@jupyter-widgets/base",
            "top": null,
            "grid_column": null,
            "overflow_y": null,
            "overflow_x": null,
            "grid_auto_flow": null,
            "grid_area": null,
            "grid_template_columns": null,
            "flex": null,
            "_model_name": "LayoutModel",
            "justify_items": null,
            "grid_row": null,
            "max_height": null,
            "align_content": null,
            "visibility": null,
            "align_self": null,
            "height": null,
            "min_height": null,
            "padding": null,
            "grid_auto_rows": null,
            "grid_gap": null,
            "max_width": null,
            "order": null,
            "_view_module_version": "1.2.0",
            "grid_template_areas": null,
            "object_position": null,
            "object_fit": null,
            "grid_auto_columns": null,
            "margin": null,
            "display": null,
            "left": null
          }
        },
        "1053b9bd56604a6fa90b22359446e583": {
          "model_module": "@jupyter-widgets/controls",
          "model_name": "HBoxModel",
          "state": {
            "_view_name": "HBoxView",
            "_dom_classes": [],
            "_model_name": "HBoxModel",
            "_view_module": "@jupyter-widgets/controls",
            "_model_module_version": "1.5.0",
            "_view_count": null,
            "_view_module_version": "1.5.0",
            "box_style": "",
            "layout": "IPY_MODEL_7e9d0e486def4a19b2f8e218b39b8218",
            "_model_module": "@jupyter-widgets/controls",
            "children": [
              "IPY_MODEL_7fc84c1f60be402193d50a1fcb86c888",
              "IPY_MODEL_ebccd2fa60cf4fa891c8f125a864c3f4"
            ]
          }
        },
        "7e9d0e486def4a19b2f8e218b39b8218": {
          "model_module": "@jupyter-widgets/base",
          "model_name": "LayoutModel",
          "state": {
            "_view_name": "LayoutView",
            "grid_template_rows": null,
            "right": null,
            "justify_content": null,
            "_view_module": "@jupyter-widgets/base",
            "overflow": null,
            "_model_module_version": "1.2.0",
            "_view_count": null,
            "flex_flow": null,
            "width": null,
            "min_width": null,
            "border": null,
            "align_items": null,
            "bottom": null,
            "_model_module": "@jupyter-widgets/base",
            "top": null,
            "grid_column": null,
            "overflow_y": null,
            "overflow_x": null,
            "grid_auto_flow": null,
            "grid_area": null,
            "grid_template_columns": null,
            "flex": null,
            "_model_name": "LayoutModel",
            "justify_items": null,
            "grid_row": null,
            "max_height": null,
            "align_content": null,
            "visibility": null,
            "align_self": null,
            "height": null,
            "min_height": null,
            "padding": null,
            "grid_auto_rows": null,
            "grid_gap": null,
            "max_width": null,
            "order": null,
            "_view_module_version": "1.2.0",
            "grid_template_areas": null,
            "object_position": null,
            "object_fit": null,
            "grid_auto_columns": null,
            "margin": null,
            "display": null,
            "left": null
          }
        },
        "7fc84c1f60be402193d50a1fcb86c888": {
          "model_module": "@jupyter-widgets/controls",
          "model_name": "FloatProgressModel",
          "state": {
            "_view_name": "ProgressView",
            "style": "IPY_MODEL_feb09ad9bb64499c8be5855561488d78",
            "_dom_classes": [],
            "description": "Downloading: ",
            "_model_name": "FloatProgressModel",
            "bar_style": "success",
            "max": 1764,
            "_view_module": "@jupyter-widgets/controls",
            "_model_module_version": "1.5.0",
            "value": 1764,
            "_view_count": null,
            "_view_module_version": "1.5.0",
            "orientation": "horizontal",
            "min": 0,
            "description_tooltip": null,
            "_model_module": "@jupyter-widgets/controls",
            "layout": "IPY_MODEL_45f8268390f24eb6b5508de5d59a6e9a"
          }
        },
        "ebccd2fa60cf4fa891c8f125a864c3f4": {
          "model_module": "@jupyter-widgets/controls",
          "model_name": "HTMLModel",
          "state": {
            "_view_name": "HTMLView",
            "style": "IPY_MODEL_10d0aee006394a2680925fbe6ddeb29c",
            "_dom_classes": [],
            "description": "",
            "_model_name": "HTMLModel",
            "placeholder": "​",
            "_view_module": "@jupyter-widgets/controls",
            "_model_module_version": "1.5.0",
            "value": " 3.90k/? [00:04&lt;00:00, 884B/s]",
            "_view_count": null,
            "_view_module_version": "1.5.0",
            "description_tooltip": null,
            "_model_module": "@jupyter-widgets/controls",
            "layout": "IPY_MODEL_196970879ee540449d2a50d7fc32b9d0"
          }
        },
        "feb09ad9bb64499c8be5855561488d78": {
          "model_module": "@jupyter-widgets/controls",
          "model_name": "ProgressStyleModel",
          "state": {
            "_view_name": "StyleView",
            "_model_name": "ProgressStyleModel",
            "description_width": "initial",
            "_view_module": "@jupyter-widgets/base",
            "_model_module_version": "1.5.0",
            "_view_count": null,
            "_view_module_version": "1.2.0",
            "bar_color": null,
            "_model_module": "@jupyter-widgets/controls"
          }
        },
        "45f8268390f24eb6b5508de5d59a6e9a": {
          "model_module": "@jupyter-widgets/base",
          "model_name": "LayoutModel",
          "state": {
            "_view_name": "LayoutView",
            "grid_template_rows": null,
            "right": null,
            "justify_content": null,
            "_view_module": "@jupyter-widgets/base",
            "overflow": null,
            "_model_module_version": "1.2.0",
            "_view_count": null,
            "flex_flow": null,
            "width": null,
            "min_width": null,
            "border": null,
            "align_items": null,
            "bottom": null,
            "_model_module": "@jupyter-widgets/base",
            "top": null,
            "grid_column": null,
            "overflow_y": null,
            "overflow_x": null,
            "grid_auto_flow": null,
            "grid_area": null,
            "grid_template_columns": null,
            "flex": null,
            "_model_name": "LayoutModel",
            "justify_items": null,
            "grid_row": null,
            "max_height": null,
            "align_content": null,
            "visibility": null,
            "align_self": null,
            "height": null,
            "min_height": null,
            "padding": null,
            "grid_auto_rows": null,
            "grid_gap": null,
            "max_width": null,
            "order": null,
            "_view_module_version": "1.2.0",
            "grid_template_areas": null,
            "object_position": null,
            "object_fit": null,
            "grid_auto_columns": null,
            "margin": null,
            "display": null,
            "left": null
          }
        },
        "10d0aee006394a2680925fbe6ddeb29c": {
          "model_module": "@jupyter-widgets/controls",
          "model_name": "DescriptionStyleModel",
          "state": {
            "_view_name": "StyleView",
            "_model_name": "DescriptionStyleModel",
            "description_width": "",
            "_view_module": "@jupyter-widgets/base",
            "_model_module_version": "1.5.0",
            "_view_count": null,
            "_view_module_version": "1.2.0",
            "_model_module": "@jupyter-widgets/controls"
          }
        },
        "196970879ee540449d2a50d7fc32b9d0": {
          "model_module": "@jupyter-widgets/base",
          "model_name": "LayoutModel",
          "state": {
            "_view_name": "LayoutView",
            "grid_template_rows": null,
            "right": null,
            "justify_content": null,
            "_view_module": "@jupyter-widgets/base",
            "overflow": null,
            "_model_module_version": "1.2.0",
            "_view_count": null,
            "flex_flow": null,
            "width": null,
            "min_width": null,
            "border": null,
            "align_items": null,
            "bottom": null,
            "_model_module": "@jupyter-widgets/base",
            "top": null,
            "grid_column": null,
            "overflow_y": null,
            "overflow_x": null,
            "grid_auto_flow": null,
            "grid_area": null,
            "grid_template_columns": null,
            "flex": null,
            "_model_name": "LayoutModel",
            "justify_items": null,
            "grid_row": null,
            "max_height": null,
            "align_content": null,
            "visibility": null,
            "align_self": null,
            "height": null,
            "min_height": null,
            "padding": null,
            "grid_auto_rows": null,
            "grid_gap": null,
            "max_width": null,
            "order": null,
            "_view_module_version": "1.2.0",
            "grid_template_areas": null,
            "object_position": null,
            "object_fit": null,
            "grid_auto_columns": null,
            "margin": null,
            "display": null,
            "left": null
          }
        },
        "47b5d84c7bb043b5b55009130bcf6ab0": {
          "model_module": "@jupyter-widgets/controls",
          "model_name": "HBoxModel",
          "state": {
            "_view_name": "HBoxView",
            "_dom_classes": [],
            "_model_name": "HBoxModel",
            "_view_module": "@jupyter-widgets/controls",
            "_model_module_version": "1.5.0",
            "_view_count": null,
            "_view_module_version": "1.5.0",
            "box_style": "",
            "layout": "IPY_MODEL_8dfc57cdc1314beda1f478cb7ed3b646",
            "_model_module": "@jupyter-widgets/controls",
            "children": [
              "IPY_MODEL_2a24c196b49b4d5091269d4c17d8e5ae",
              "IPY_MODEL_dff8b89aaa5c403f9981e21950094285"
            ]
          }
        },
        "8dfc57cdc1314beda1f478cb7ed3b646": {
          "model_module": "@jupyter-widgets/base",
          "model_name": "LayoutModel",
          "state": {
            "_view_name": "LayoutView",
            "grid_template_rows": null,
            "right": null,
            "justify_content": null,
            "_view_module": "@jupyter-widgets/base",
            "overflow": null,
            "_model_module_version": "1.2.0",
            "_view_count": null,
            "flex_flow": null,
            "width": null,
            "min_width": null,
            "border": null,
            "align_items": null,
            "bottom": null,
            "_model_module": "@jupyter-widgets/base",
            "top": null,
            "grid_column": null,
            "overflow_y": null,
            "overflow_x": null,
            "grid_auto_flow": null,
            "grid_area": null,
            "grid_template_columns": null,
            "flex": null,
            "_model_name": "LayoutModel",
            "justify_items": null,
            "grid_row": null,
            "max_height": null,
            "align_content": null,
            "visibility": null,
            "align_self": null,
            "height": null,
            "min_height": null,
            "padding": null,
            "grid_auto_rows": null,
            "grid_gap": null,
            "max_width": null,
            "order": null,
            "_view_module_version": "1.2.0",
            "grid_template_areas": null,
            "object_position": null,
            "object_fit": null,
            "grid_auto_columns": null,
            "margin": null,
            "display": null,
            "left": null
          }
        },
        "2a24c196b49b4d5091269d4c17d8e5ae": {
          "model_module": "@jupyter-widgets/controls",
          "model_name": "FloatProgressModel",
          "state": {
            "_view_name": "ProgressView",
            "style": "IPY_MODEL_b172c3cd24e84ca7954dc5eede649a6c",
            "_dom_classes": [],
            "description": "Downloading: 100%",
            "_model_name": "FloatProgressModel",
            "bar_style": "success",
            "max": 1451,
            "_view_module": "@jupyter-widgets/controls",
            "_model_module_version": "1.5.0",
            "value": 1451,
            "_view_count": null,
            "_view_module_version": "1.5.0",
            "orientation": "horizontal",
            "min": 0,
            "description_tooltip": null,
            "_model_module": "@jupyter-widgets/controls",
            "layout": "IPY_MODEL_ac65107b31974fb58f5683b092e274a1"
          }
        },
        "dff8b89aaa5c403f9981e21950094285": {
          "model_module": "@jupyter-widgets/controls",
          "model_name": "HTMLModel",
          "state": {
            "_view_name": "HTMLView",
            "style": "IPY_MODEL_1982812221954116ad20632e96902c01",
            "_dom_classes": [],
            "description": "",
            "_model_name": "HTMLModel",
            "placeholder": "​",
            "_view_module": "@jupyter-widgets/controls",
            "_model_module_version": "1.5.0",
            "value": " 1.45k/1.45k [00:32&lt;00:00, 44.3B/s]",
            "_view_count": null,
            "_view_module_version": "1.5.0",
            "description_tooltip": null,
            "_model_module": "@jupyter-widgets/controls",
            "layout": "IPY_MODEL_553f48c336cc4f1c9095abf1735ba6e4"
          }
        },
        "b172c3cd24e84ca7954dc5eede649a6c": {
          "model_module": "@jupyter-widgets/controls",
          "model_name": "ProgressStyleModel",
          "state": {
            "_view_name": "StyleView",
            "_model_name": "ProgressStyleModel",
            "description_width": "initial",
            "_view_module": "@jupyter-widgets/base",
            "_model_module_version": "1.5.0",
            "_view_count": null,
            "_view_module_version": "1.2.0",
            "bar_color": null,
            "_model_module": "@jupyter-widgets/controls"
          }
        },
        "ac65107b31974fb58f5683b092e274a1": {
          "model_module": "@jupyter-widgets/base",
          "model_name": "LayoutModel",
          "state": {
            "_view_name": "LayoutView",
            "grid_template_rows": null,
            "right": null,
            "justify_content": null,
            "_view_module": "@jupyter-widgets/base",
            "overflow": null,
            "_model_module_version": "1.2.0",
            "_view_count": null,
            "flex_flow": null,
            "width": null,
            "min_width": null,
            "border": null,
            "align_items": null,
            "bottom": null,
            "_model_module": "@jupyter-widgets/base",
            "top": null,
            "grid_column": null,
            "overflow_y": null,
            "overflow_x": null,
            "grid_auto_flow": null,
            "grid_area": null,
            "grid_template_columns": null,
            "flex": null,
            "_model_name": "LayoutModel",
            "justify_items": null,
            "grid_row": null,
            "max_height": null,
            "align_content": null,
            "visibility": null,
            "align_self": null,
            "height": null,
            "min_height": null,
            "padding": null,
            "grid_auto_rows": null,
            "grid_gap": null,
            "max_width": null,
            "order": null,
            "_view_module_version": "1.2.0",
            "grid_template_areas": null,
            "object_position": null,
            "object_fit": null,
            "grid_auto_columns": null,
            "margin": null,
            "display": null,
            "left": null
          }
        },
        "1982812221954116ad20632e96902c01": {
          "model_module": "@jupyter-widgets/controls",
          "model_name": "DescriptionStyleModel",
          "state": {
            "_view_name": "StyleView",
            "_model_name": "DescriptionStyleModel",
            "description_width": "",
            "_view_module": "@jupyter-widgets/base",
            "_model_module_version": "1.5.0",
            "_view_count": null,
            "_view_module_version": "1.2.0",
            "_model_module": "@jupyter-widgets/controls"
          }
        },
        "553f48c336cc4f1c9095abf1735ba6e4": {
          "model_module": "@jupyter-widgets/base",
          "model_name": "LayoutModel",
          "state": {
            "_view_name": "LayoutView",
            "grid_template_rows": null,
            "right": null,
            "justify_content": null,
            "_view_module": "@jupyter-widgets/base",
            "overflow": null,
            "_model_module_version": "1.2.0",
            "_view_count": null,
            "flex_flow": null,
            "width": null,
            "min_width": null,
            "border": null,
            "align_items": null,
            "bottom": null,
            "_model_module": "@jupyter-widgets/base",
            "top": null,
            "grid_column": null,
            "overflow_y": null,
            "overflow_x": null,
            "grid_auto_flow": null,
            "grid_area": null,
            "grid_template_columns": null,
            "flex": null,
            "_model_name": "LayoutModel",
            "justify_items": null,
            "grid_row": null,
            "max_height": null,
            "align_content": null,
            "visibility": null,
            "align_self": null,
            "height": null,
            "min_height": null,
            "padding": null,
            "grid_auto_rows": null,
            "grid_gap": null,
            "max_width": null,
            "order": null,
            "_view_module_version": "1.2.0",
            "grid_template_areas": null,
            "object_position": null,
            "object_fit": null,
            "grid_auto_columns": null,
            "margin": null,
            "display": null,
            "left": null
          }
        },
        "1ffcaae8fa72485fa4f3f5eac2269e90": {
          "model_module": "@jupyter-widgets/controls",
          "model_name": "HBoxModel",
          "state": {
            "_view_name": "HBoxView",
            "_dom_classes": [],
            "_model_name": "HBoxModel",
            "_view_module": "@jupyter-widgets/controls",
            "_model_module_version": "1.5.0",
            "_view_count": null,
            "_view_module_version": "1.5.0",
            "box_style": "",
            "layout": "IPY_MODEL_a730f50dcb334e79ba93d7db872a2767",
            "_model_module": "@jupyter-widgets/controls",
            "children": [
              "IPY_MODEL_2029bd796756405cb33e8153169c0cb2",
              "IPY_MODEL_d988ee8bd2824b3991b32c34e10e9313"
            ]
          }
        },
        "a730f50dcb334e79ba93d7db872a2767": {
          "model_module": "@jupyter-widgets/base",
          "model_name": "LayoutModel",
          "state": {
            "_view_name": "LayoutView",
            "grid_template_rows": null,
            "right": null,
            "justify_content": null,
            "_view_module": "@jupyter-widgets/base",
            "overflow": null,
            "_model_module_version": "1.2.0",
            "_view_count": null,
            "flex_flow": null,
            "width": null,
            "min_width": null,
            "border": null,
            "align_items": null,
            "bottom": null,
            "_model_module": "@jupyter-widgets/base",
            "top": null,
            "grid_column": null,
            "overflow_y": null,
            "overflow_x": null,
            "grid_auto_flow": null,
            "grid_area": null,
            "grid_template_columns": null,
            "flex": null,
            "_model_name": "LayoutModel",
            "justify_items": null,
            "grid_row": null,
            "max_height": null,
            "align_content": null,
            "visibility": null,
            "align_self": null,
            "height": null,
            "min_height": null,
            "padding": null,
            "grid_auto_rows": null,
            "grid_gap": null,
            "max_width": null,
            "order": null,
            "_view_module_version": "1.2.0",
            "grid_template_areas": null,
            "object_position": null,
            "object_fit": null,
            "grid_auto_columns": null,
            "margin": null,
            "display": null,
            "left": null
          }
        },
        "2029bd796756405cb33e8153169c0cb2": {
          "model_module": "@jupyter-widgets/controls",
          "model_name": "FloatProgressModel",
          "state": {
            "_view_name": "ProgressView",
            "style": "IPY_MODEL_334513f0df414c1fa12b4f7fdd6f420b",
            "_dom_classes": [],
            "description": "Downloading: 100%",
            "_model_name": "FloatProgressModel",
            "bar_style": "success",
            "max": 1261920069,
            "_view_module": "@jupyter-widgets/controls",
            "_model_module_version": "1.5.0",
            "value": 1261920069,
            "_view_count": null,
            "_view_module_version": "1.5.0",
            "orientation": "horizontal",
            "min": 0,
            "description_tooltip": null,
            "_model_module": "@jupyter-widgets/controls",
            "layout": "IPY_MODEL_a9be6d674cb74ff7a69d98f882531e34"
          }
        },
        "d988ee8bd2824b3991b32c34e10e9313": {
          "model_module": "@jupyter-widgets/controls",
          "model_name": "HTMLModel",
          "state": {
            "_view_name": "HTMLView",
            "style": "IPY_MODEL_cd2b28cbb86a407b9d6f9c9d45b7ce08",
            "_dom_classes": [],
            "description": "",
            "_model_name": "HTMLModel",
            "placeholder": "​",
            "_view_module": "@jupyter-widgets/controls",
            "_model_module_version": "1.5.0",
            "value": " 1.26G/1.26G [00:32&lt;00:00, 38.7MB/s]",
            "_view_count": null,
            "_view_module_version": "1.5.0",
            "description_tooltip": null,
            "_model_module": "@jupyter-widgets/controls",
            "layout": "IPY_MODEL_b6c60e6dab514d638112b2c7cb5ef85c"
          }
        },
        "334513f0df414c1fa12b4f7fdd6f420b": {
          "model_module": "@jupyter-widgets/controls",
          "model_name": "ProgressStyleModel",
          "state": {
            "_view_name": "StyleView",
            "_model_name": "ProgressStyleModel",
            "description_width": "initial",
            "_view_module": "@jupyter-widgets/base",
            "_model_module_version": "1.5.0",
            "_view_count": null,
            "_view_module_version": "1.2.0",
            "bar_color": null,
            "_model_module": "@jupyter-widgets/controls"
          }
        },
        "a9be6d674cb74ff7a69d98f882531e34": {
          "model_module": "@jupyter-widgets/base",
          "model_name": "LayoutModel",
          "state": {
            "_view_name": "LayoutView",
            "grid_template_rows": null,
            "right": null,
            "justify_content": null,
            "_view_module": "@jupyter-widgets/base",
            "overflow": null,
            "_model_module_version": "1.2.0",
            "_view_count": null,
            "flex_flow": null,
            "width": null,
            "min_width": null,
            "border": null,
            "align_items": null,
            "bottom": null,
            "_model_module": "@jupyter-widgets/base",
            "top": null,
            "grid_column": null,
            "overflow_y": null,
            "overflow_x": null,
            "grid_auto_flow": null,
            "grid_area": null,
            "grid_template_columns": null,
            "flex": null,
            "_model_name": "LayoutModel",
            "justify_items": null,
            "grid_row": null,
            "max_height": null,
            "align_content": null,
            "visibility": null,
            "align_self": null,
            "height": null,
            "min_height": null,
            "padding": null,
            "grid_auto_rows": null,
            "grid_gap": null,
            "max_width": null,
            "order": null,
            "_view_module_version": "1.2.0",
            "grid_template_areas": null,
            "object_position": null,
            "object_fit": null,
            "grid_auto_columns": null,
            "margin": null,
            "display": null,
            "left": null
          }
        },
        "cd2b28cbb86a407b9d6f9c9d45b7ce08": {
          "model_module": "@jupyter-widgets/controls",
          "model_name": "DescriptionStyleModel",
          "state": {
            "_view_name": "StyleView",
            "_model_name": "DescriptionStyleModel",
            "description_width": "",
            "_view_module": "@jupyter-widgets/base",
            "_model_module_version": "1.5.0",
            "_view_count": null,
            "_view_module_version": "1.2.0",
            "_model_module": "@jupyter-widgets/controls"
          }
        },
        "b6c60e6dab514d638112b2c7cb5ef85c": {
          "model_module": "@jupyter-widgets/base",
          "model_name": "LayoutModel",
          "state": {
            "_view_name": "LayoutView",
            "grid_template_rows": null,
            "right": null,
            "justify_content": null,
            "_view_module": "@jupyter-widgets/base",
            "overflow": null,
            "_model_module_version": "1.2.0",
            "_view_count": null,
            "flex_flow": null,
            "width": null,
            "min_width": null,
            "border": null,
            "align_items": null,
            "bottom": null,
            "_model_module": "@jupyter-widgets/base",
            "top": null,
            "grid_column": null,
            "overflow_y": null,
            "overflow_x": null,
            "grid_auto_flow": null,
            "grid_area": null,
            "grid_template_columns": null,
            "flex": null,
            "_model_name": "LayoutModel",
            "justify_items": null,
            "grid_row": null,
            "max_height": null,
            "align_content": null,
            "visibility": null,
            "align_self": null,
            "height": null,
            "min_height": null,
            "padding": null,
            "grid_auto_rows": null,
            "grid_gap": null,
            "max_width": null,
            "order": null,
            "_view_module_version": "1.2.0",
            "grid_template_areas": null,
            "object_position": null,
            "object_fit": null,
            "grid_auto_columns": null,
            "margin": null,
            "display": null,
            "left": null
          }
        }
      }
    },
    "accelerator": "GPU"
  },
  "cells": [
    {
      "cell_type": "markdown",
      "metadata": {
        "id": "view-in-github",
        "colab_type": "text"
      },
      "source": [
        "<a href=\"https://colab.research.google.com/github/shiwangi27/googlecolab/blob/main/Fine_Tune_XLSR_Wav2Vec2_on_Hindi_ASR_with_%F0%9F%A4%97_Transformers.ipynb\" target=\"_parent\"><img src=\"https://colab.research.google.com/assets/colab-badge.svg\" alt=\"Open In Colab\"/></a>"
      ]
    },
    {
      "cell_type": "markdown",
      "metadata": {
        "id": "LBSYoWbi-45k"
      },
      "source": [
        "# **Fine-tuning XLSR-Wav2Vec2 for Multi-Lingual ASR with 🤗 Transformers**"
      ]
    },
    {
      "cell_type": "markdown",
      "metadata": {
        "id": "V7YOT2mnUiea"
      },
      "source": [
        "Wav2Vec2 is a pretrained model for Automatic Speech Recognition (ASR) and was released in [September 2020](https://ai.facebook.com/blog/wav2vec-20-learning-the-structure-of-speech-from-raw-audio/) by Alexei Baevski, Michael Auli, and Alex Conneau.  Soon after the superior performance of Wav2Vec2 was demonstrated on the English ASR dataset LibriSpeech, *Facebook AI* presented XLSR-Wav2Vec2 (click [here](https://arxiv.org/abs/2006.13979)). XLSR stands for *cross-lingual  speech representations* and refers to XLSR-Wav2Vec2`s ability to learn speech representations that are useful across multiple languages.\n",
        "\n",
        "Similar to Wav2Vec2, XLSR-Wav2Vec2 learns powerful speech representations from hundreds of thousands of hours of speech in more than 50 languages of unlabeled speech. Similar, to [BERT's masked language modeling](http://jalammar.github.io/illustrated-bert/), the model learns contextualized speech representations by randomly masking feature vectors before passing them to a transformer network.\n",
        "\n",
        "![wav2vec2_structure](https://raw.githubusercontent.com/patrickvonplaten/scientific_images/master/xlsr_wav2vec2.png)\n",
        "\n",
        "The authors show for the first time that massively pretraining an ASR model on cross-lingual unlabeled speech data, followed by language-specific fine-tuning on very little labeled data achieves state-of-the-art results. See Table 1-5 of the official [paper](https://arxiv.org/pdf/2006.13979.pdf)."
      ]
    },
    {
      "cell_type": "markdown",
      "metadata": {
        "id": "nT_QrfWtsxIz"
      },
      "source": [
        "In this notebook, we will give an in-detail explanation of how XLSR-Wav2Vec2's pretrained checkpoint can be fine-tuned on a low-resource ASR dataset of any language. Note that in this notebook, we will fine-tune XLSR-Wav2Vec2 without making use of a language model. It is much simpler and more efficient to use XLSR-Wav2Vec2 without a language model, but better results can be achieved by including a language model. \n",
        "\n",
        "For demonstration purposes, we fine-tune the [wav2vec2-large-xlsr-53](https://huggingface.co/facebook/wav2vec2-large-xlsr-53) on the low resource Turkish ASR dataset of [Common Voice](https://huggingface.co/datasets/common_voice) that contains just ~6h of validated training data."
      ]
    },
    {
      "cell_type": "markdown",
      "metadata": {
        "id": "Gx9OdDYrCtQ1"
      },
      "source": [
        "XLSR-Wav2Vec2 is fine-tuned using Connectionist Temporal Classification (CTC), which is an algorithm that is used to train neural networks for sequence-to-sequence problems and mainly in Automatic Speech Recognition and handwriting recognition. \n",
        "\n",
        "I highly recommend reading the blog post [Sequence Modeling with CTC (2017)](https://distill.pub/2017/ctc/) very well-written blog post by Awni Hannun."
      ]
    },
    {
      "cell_type": "markdown",
      "metadata": {
        "id": "e335hPmdtASZ"
      },
      "source": [
        "Before we start, let's install both `datasets` and `transformers` from master. Also, we need the `torchaudio` and `librosa` package to load audio files and the `jiwer` to evaluate our fine-tuned model using the [word error rate (WER)](https://huggingface.co/metrics/wer) metric ${}^1$."
      ]
    },
    {
      "cell_type": "code",
      "metadata": {
        "id": "c8eh87Hoee5d"
      },
      "source": [
        "%%capture\n",
        "!pip install datasets==1.4.1\n",
        "!pip install transformers==4.4.0\n",
        "!pip install torchaudio\n",
        "!pip install librosa\n",
        "!pip install jiwer"
      ],
      "execution_count": null,
      "outputs": []
    },
    {
      "cell_type": "markdown",
      "metadata": {
        "id": "Mn9swf6EQ9Vd"
      },
      "source": [
        "\n",
        "\n",
        "\n",
        "---\n",
        "\n",
        "${}^1$ In the [paper](https://arxiv.org/pdf/2006.13979.pdf), the model was evaluated using the phoneme error rate (PER), but by far the most common metric in ASR is the word error rate (WER). To keep this notebook as general as possible we decided to evaluate the model using WER."
      ]
    },
    {
      "cell_type": "markdown",
      "metadata": {
        "id": "0mW-C1Nt-j7k"
      },
      "source": [
        "## Prepare Data, Tokenizer, Feature Extractor"
      ]
    },
    {
      "cell_type": "markdown",
      "metadata": {
        "id": "BeBosnY9BH3e"
      },
      "source": [
        "ASR models transcribe speech to text, which means that we both need a feature extractor that processes the speech signal to the model's input format, *e.g.* a feature vector, and a tokenizer that processes the model's output format to text. \n",
        "\n",
        "In 🤗 Transformers, the XLSR-Wav2Vec2 model is thus accompanied by both a tokenizer, called [Wav2Vec2CTCTokenizer](https://huggingface.co/transformers/master/model_doc/wav2vec2.html#wav2vec2ctctokenizer), and a feature extractor, called [Wav2Vec2FeatureExtractor](https://huggingface.co/transformers/master/model_doc/wav2vec2.html#wav2vec2featureextractor).\n",
        "\n",
        "Let's start by creating the tokenizer responsible for decoding the model's predictions."
      ]
    },
    {
      "cell_type": "markdown",
      "metadata": {
        "id": "sEXEWEJGQPqD"
      },
      "source": [
        "### Create Wav2Vec2CTCTokenizer"
      ]
    },
    {
      "cell_type": "markdown",
      "metadata": {
        "id": "tWmMikuNEKl_"
      },
      "source": [
        "The [pretrained Wav2Vec2 checkpoint]( ) maps the speech signal to a sequence of context representations as illustrated in the figure above. A fine-tuned XLSR-Wav2Vec2 checkpoint needs to map this sequence of context representations to its corresponding transcription so that a linear layer has to be added on top of the transformer block (shown in yellow). This linear layer is used to classifies each context representation to a token class analogous how, *e.g.*, after pretraining a linear layer is added on top of BERT's embeddings for further classification - *cf.* with *\"BERT\"* section of this [blog post](https://huggingface.co/blog/warm-starting-encoder-decoder).\n",
        "\n",
        "The output size of this layer corresponds to the number of tokens in the vocabulary, which does **not** depend on XLSR-Wav2Vec2's pretraining task, but only on the labeled dataset used for fine-tuning. So in the first step, we will take a look at Common Voice and define a vocabulary based on the dataset's transcriptions."
      ]
    },
    {
      "cell_type": "markdown",
      "metadata": {
        "id": "idBczw8mWzgt"
      },
      "source": [
        "First, let's go to [Common Voice](https://commonvoice.mozilla.org/en/datasets) and pick a language to fine-tune XLSR-Wav2Vec2 on. For this notebook, we will use Hindi. \n",
        "\n",
        "For each language-specific dataset, you can find a language code corresponding to your chosen language. On [Common Voice](https://commonvoice.mozilla.org/en/datasets), look for the field \"Version\". The language code then corresponds to the prefix before the underscore. For Hindi, *e.g.* the language code is `\"hi\"`.\n",
        "\n",
        "Great, now we can use 🤗 Datasets' simple API to download the data. The dataset name will be `\"common_voice\"`, the config name corresponds to the language code - `\"hi\"` in our case."
      ]
    },
    {
      "cell_type": "markdown",
      "metadata": {
        "id": "bee4g9rpLxll"
      },
      "source": [
        "Common Voice has many different splits including `invalidated`, which refers to data that was not rated as \"clean enough\" to be considered useful. In this notebook, we will only make use of the splits `\"train\"`, `\"validation\"` and `\"test\"`. \n",
        "\n",
        "Because the Hindi dataset is so small, we will merge both the validation and training data into a training dataset and simply use the test data for validation."
      ]
    },
    {
      "cell_type": "markdown",
      "metadata": {
        "id": "hLrFBGdo7DhS"
      },
      "source": [
        "Remove the cache regularly. This can be as easy as rm -r ~/.cache/huggingface/datasets to remove all cached datasets or making use of this convenient function: Main classes — datasets 1.5.0 documentation 3 that only remove a dateset specific cache"
      ]
    },
    {
      "cell_type": "code",
      "metadata": {
        "colab": {
          "base_uri": "https://localhost:8080/"
        },
        "id": "ftva5PW07HiH",
        "outputId": "09642785-a841-4a4e-d88e-de6d07f60b85"
      },
      "source": [
        "!rm -r ~/.cache/huggingface/datasets"
      ],
      "execution_count": null,
      "outputs": [
        {
          "output_type": "stream",
          "text": [
            "rm: cannot remove '/root/.cache/huggingface/datasets': No such file or directory\n"
          ],
          "name": "stdout"
        }
      ]
    },
    {
      "cell_type": "code",
      "metadata": {
        "id": "2MMXcWFFgCXU",
        "colab": {
          "base_uri": "https://localhost:8080/",
          "height": 303,
          "referenced_widgets": [
            "e1a62138fde24008bc678835b383136a",
            "ad540ce0adf54b358f6a8e6b159dd783",
            "2b8b4a47107445deb6003b3a6a07d264",
            "fc5b9b6199604967bd2bcf8117c0e422",
            "9d3c2e64636a46f98de5755cb342bce1",
            "0daba6a7ca214cb1a44d541ea16adb1a",
            "b9b200fd87a746c6bce84d354f8af552",
            "975a4595391c4c568939815e38a469fb",
            "a10b53a572464af8ae2605462070334a",
            "e00714e66f46480fa470bb48ba212b63",
            "eb2f3a5f7e0f4cfc803b58a494413c50",
            "d4d74ad7de5240938961acf56d40989c",
            "480c671f44704038bf91172df1be33ab",
            "ae626b3ee2e34147ad05ad0fa205e3ac",
            "643649ff50994e11b368de66c2c58ea2",
            "cfb78c7433934b3ba0752e2e63f6f153",
            "7a38ade4845046988cd63b95fda88f1f",
            "bb39f7a54b0e422cbc13cc4e265277ed",
            "1a7d536127dd410e86223059fa22f51d",
            "88c09d58b3624fc59f4ef17b025551f4",
            "745fd2328fb7429bb1b44a78775ba8de",
            "b4690991c86d48e2b0c5d4842c18bc00",
            "62f0fe1b49bb447384a34e0363dc0b05",
            "909013801cf54f88b13142421dc42e8b",
            "20b374d8b70842a392588c73d43eda49",
            "80dd9437f15b41dba5c9e39cb6784e0f",
            "593376793421450d9df4954f764985fa",
            "f498af253a1d425eb803d945df1e5a87",
            "7b79af8682494017bef0f8df6b72e9dd",
            "8c1a2a27569d4ab2976791f87fa3f741",
            "1453f88f32954cebb7da8cdf6a7d27c8",
            "42dd84a812d942239146122eeb34d5e6",
            "a463cf7471454ac39aa6f807fbf47816",
            "488592e7dc444c1a9763ed2f5c995462",
            "4f13e1f68cc8470883b8fe5facbed4ae",
            "02cc3a5b9b054df9aa7ad843d2d2cc95",
            "7c065201531c4492b7314f2cb316f00a",
            "7ce06757b54c483a8cc3fae73a5ddce9",
            "4cf83016ed584a659645b34ce1be247e",
            "c3c637dc6918427ca967de3594659950",
            "90c6e8c2db2641e3a5b629718c733b7e",
            "7631f4fa37ec47808674fa66c324190c",
            "8bb3df7e51944e9082380b254ef644de",
            "7b443c24ffa74f0395ac3713eca89747",
            "f133bf6433f64eb7a88d194add8362d3",
            "5e8b8e2c26234982aafd32a83cadef1c",
            "e894adfefd4d408bb5fb062327fa112e",
            "6a670c4c4156466a9467f2806bf7e15c",
            "602662f42df54746ae41d93a5a31963d",
            "69350669455c4408bc6997c115dd8be6",
            "cbbcffc347944a279640d0dc70fe7951",
            "50a8556b1e804c3e8f4eb471e4971db3",
            "92b0bfec30924ed3b698e9e7d03be0e5",
            "13bee8db45f045dea2f4b098e2c68913",
            "5d4e75c75bf44585bd0d6e329aa1c9dc",
            "a509ca9fd82d41bcb68a9a59f03c8a95",
            "53003a1517ca409094a861d9a2f22426",
            "d88b8a5b399440528a20a3cd18db6172",
            "ded9f1c012154764bf7e08d40d812b5f",
            "f4eacc96a60a4a9aa978f5cc25dcc06c",
            "e6fe22d92c1f4d48ada70fa4955d9bf5",
            "b4bb6c880d9d4818be755a5a4e502aab",
            "ecf1e9699dca472fb15307d3c46761b9",
            "abf99e47654845a7943340b1cb2e11ad"
          ]
        },
        "outputId": "91006c95-c0b9-4aec-a91c-b44ae8508ffc"
      },
      "source": [
        "from datasets import load_dataset, load_metric\n",
        "\n",
        "common_voice_train = load_dataset(\"common_voice\", \"hi\", split=\"train+validation\")\n",
        "common_voice_test = load_dataset(\"common_voice\", \"hi\", split=\"test\")"
      ],
      "execution_count": null,
      "outputs": [
        {
          "output_type": "display_data",
          "data": {
            "application/vnd.jupyter.widget-view+json": {
              "model_id": "e1a62138fde24008bc678835b383136a",
              "version_minor": 0,
              "version_major": 2
            },
            "text/plain": [
              "HBox(children=(FloatProgress(value=0.0, description='Downloading', max=4323.0, style=ProgressStyle(description…"
            ]
          },
          "metadata": {
            "tags": []
          }
        },
        {
          "output_type": "stream",
          "text": [
            "Couldn't find file locally at common_voice/common_voice.py, or remotely at https://raw.githubusercontent.com/huggingface/datasets/1.4.1/datasets/common_voice/common_voice.py.\n",
            "The file was picked from the master branch on github instead at https://raw.githubusercontent.com/huggingface/datasets/master/datasets/common_voice/common_voice.py.\n"
          ],
          "name": "stderr"
        },
        {
          "output_type": "stream",
          "text": [
            "\n"
          ],
          "name": "stdout"
        },
        {
          "output_type": "display_data",
          "data": {
            "application/vnd.jupyter.widget-view+json": {
              "model_id": "a10b53a572464af8ae2605462070334a",
              "version_minor": 0,
              "version_major": 2
            },
            "text/plain": [
              "HBox(children=(FloatProgress(value=0.0, description='Downloading', max=9954.0, style=ProgressStyle(description…"
            ]
          },
          "metadata": {
            "tags": []
          }
        },
        {
          "output_type": "stream",
          "text": [
            "\n",
            "Downloading and preparing dataset common_voice/hi (download: 20.43 MiB, generated: 286.19 KiB, post-processed: Unknown size, total: 20.71 MiB) to /root/.cache/huggingface/datasets/common_voice/hi/6.1.0/0041e06ab061b91d0a23234a2221e87970a19cf3a81b20901474cffffeb7869f...\n"
          ],
          "name": "stdout"
        },
        {
          "output_type": "display_data",
          "data": {
            "application/vnd.jupyter.widget-view+json": {
              "model_id": "7a38ade4845046988cd63b95fda88f1f",
              "version_minor": 0,
              "version_major": 2
            },
            "text/plain": [
              "HBox(children=(FloatProgress(value=0.0, description='Downloading', max=21424045.0, style=ProgressStyle(descrip…"
            ]
          },
          "metadata": {
            "tags": []
          }
        },
        {
          "output_type": "stream",
          "text": [
            "\n"
          ],
          "name": "stdout"
        },
        {
          "output_type": "display_data",
          "data": {
            "application/vnd.jupyter.widget-view+json": {
              "model_id": "20b374d8b70842a392588c73d43eda49",
              "version_minor": 0,
              "version_major": 2
            },
            "text/plain": [
              "HBox(children=(FloatProgress(value=1.0, bar_style='info', max=1.0), HTML(value='')))"
            ]
          },
          "metadata": {
            "tags": []
          }
        },
        {
          "output_type": "stream",
          "text": [
            "\r"
          ],
          "name": "stdout"
        },
        {
          "output_type": "display_data",
          "data": {
            "application/vnd.jupyter.widget-view+json": {
              "model_id": "a463cf7471454ac39aa6f807fbf47816",
              "version_minor": 0,
              "version_major": 2
            },
            "text/plain": [
              "HBox(children=(FloatProgress(value=1.0, bar_style='info', max=1.0), HTML(value='')))"
            ]
          },
          "metadata": {
            "tags": []
          }
        },
        {
          "output_type": "stream",
          "text": [
            "\r"
          ],
          "name": "stdout"
        },
        {
          "output_type": "display_data",
          "data": {
            "application/vnd.jupyter.widget-view+json": {
              "model_id": "90c6e8c2db2641e3a5b629718c733b7e",
              "version_minor": 0,
              "version_major": 2
            },
            "text/plain": [
              "HBox(children=(FloatProgress(value=1.0, bar_style='info', max=1.0), HTML(value='')))"
            ]
          },
          "metadata": {
            "tags": []
          }
        },
        {
          "output_type": "stream",
          "text": [
            "\r"
          ],
          "name": "stdout"
        },
        {
          "output_type": "display_data",
          "data": {
            "application/vnd.jupyter.widget-view+json": {
              "model_id": "602662f42df54746ae41d93a5a31963d",
              "version_minor": 0,
              "version_major": 2
            },
            "text/plain": [
              "HBox(children=(FloatProgress(value=1.0, bar_style='info', max=1.0), HTML(value='')))"
            ]
          },
          "metadata": {
            "tags": []
          }
        },
        {
          "output_type": "stream",
          "text": [
            "\r"
          ],
          "name": "stdout"
        },
        {
          "output_type": "display_data",
          "data": {
            "application/vnd.jupyter.widget-view+json": {
              "model_id": "53003a1517ca409094a861d9a2f22426",
              "version_minor": 0,
              "version_major": 2
            },
            "text/plain": [
              "HBox(children=(FloatProgress(value=1.0, bar_style='info', max=1.0), HTML(value='')))"
            ]
          },
          "metadata": {
            "tags": []
          }
        },
        {
          "output_type": "stream",
          "text": [
            "\rDataset common_voice downloaded and prepared to /root/.cache/huggingface/datasets/common_voice/hi/6.1.0/0041e06ab061b91d0a23234a2221e87970a19cf3a81b20901474cffffeb7869f. Subsequent calls will reuse this data.\n"
          ],
          "name": "stdout"
        },
        {
          "output_type": "stream",
          "text": [
            "Couldn't find file locally at common_voice/common_voice.py, or remotely at https://raw.githubusercontent.com/huggingface/datasets/1.4.1/datasets/common_voice/common_voice.py.\n",
            "The file was picked from the master branch on github instead at https://raw.githubusercontent.com/huggingface/datasets/master/datasets/common_voice/common_voice.py.\n",
            "Reusing dataset common_voice (/root/.cache/huggingface/datasets/common_voice/hi/6.1.0/0041e06ab061b91d0a23234a2221e87970a19cf3a81b20901474cffffeb7869f)\n"
          ],
          "name": "stderr"
        }
      ]
    },
    {
      "cell_type": "markdown",
      "metadata": {
        "id": "ri5y5N_HMANq"
      },
      "source": [
        "Many ASR datasets only provide the target text, `'sentence'` for each audio file `'path'`. Common Voice actually provides much more information about each audio file, such as the `'accent'`, etc. However, we want to keep the notebook as general as possible, so that we will only consider the transcribed text for fine-tuning.\n",
        "\n"
      ]
    },
    {
      "cell_type": "code",
      "metadata": {
        "id": "kbyq6lDgQc2a"
      },
      "source": [
        "common_voice_train = common_voice_train.remove_columns([\"accent\", \"age\", \"client_id\", \"down_votes\", \"gender\", \"locale\", \"segment\", \"up_votes\"])\n",
        "common_voice_test = common_voice_test.remove_columns([\"accent\", \"age\", \"client_id\", \"down_votes\", \"gender\", \"locale\", \"segment\", \"up_votes\"])"
      ],
      "execution_count": null,
      "outputs": []
    },
    {
      "cell_type": "markdown",
      "metadata": {
        "id": "EhnD8u_yvGCj"
      },
      "source": [
        "Load OpenSLR because Common Voice has too less samples for any meaningful finetunning. We will use the OpenSLR data for hindi finetuning. \n",
        "\n",
        "Downloaded from:\n",
        "\n",
        "- Train Data: https://www.openslr.org/resources/103/Hindi_train.zip \n",
        "- Test Data: https://www.openslr.org/resources/103/Hindi_test.zip"
      ]
    },
    {
      "cell_type": "code",
      "metadata": {
        "colab": {
          "base_uri": "https://localhost:8080/"
        },
        "id": "z_sHz0hqvE8K",
        "outputId": "69bce7a8-1bf9-4886-d5a9-1602eab2a6e8"
      },
      "source": [
        "from google.colab import drive\n",
        "drive.mount('/content/drive')"
      ],
      "execution_count": null,
      "outputs": [
        {
          "output_type": "stream",
          "text": [
            "Drive already mounted at /content/drive; to attempt to forcibly remount, call drive.mount(\"/content/drive\", force_remount=True).\n"
          ],
          "name": "stdout"
        }
      ]
    },
    {
      "cell_type": "code",
      "metadata": {
        "colab": {
          "base_uri": "https://localhost:8080/"
        },
        "id": "G3wA1Gz9vFG-",
        "outputId": "a5b5c07c-333a-4f4d-f2db-b072be1ad6bc"
      },
      "source": [
        "!unzip /content/drive/MyDrive/Projects/OpenSLR_Hindi_Data.zip -d ."
      ],
      "execution_count": null,
      "outputs": [
        {
          "output_type": "stream",
          "text": [
            "Archive:  /content/drive/MyDrive/Projects/OpenSLR_Hindi_Data.zip\n",
            "replace ./OpenSLR_Hindi_Data/test/audio/0865_086.wav? [y]es, [n]o, [A]ll, [N]one, [r]ename: "
          ],
          "name": "stdout"
        }
      ]
    },
    {
      "cell_type": "markdown",
      "metadata": {
        "id": "DcTE-NTvwSkV"
      },
      "source": [
        "Load the transcripts data into Pandas Dataframe"
      ]
    },
    {
      "cell_type": "code",
      "metadata": {
        "id": "lvmp5yrrvFJg"
      },
      "source": [
        "import pandas as pd\n",
        "\n",
        "train_data = pd.read_csv('OpenSLR_Hindi_Data/train/transcription.txt',header = None)\n",
        "train_data.columns = [\"label\"]\n",
        "\n",
        "test_data = pd.read_csv('OpenSLR_Hindi_Data/test/transcription.txt',header = None)\n",
        "test_data.columns = [\"label\"] "
      ],
      "execution_count": null,
      "outputs": []
    },
    {
      "cell_type": "markdown",
      "metadata": {
        "id": "bo4TpsRlwczr"
      },
      "source": [
        "OpenSLR transcriptions have no headers is a tab separated file. Create two columns {filename, transcripts}. \n"
      ]
    },
    {
      "cell_type": "code",
      "metadata": {
        "id": "DXf5UFtXvFLz"
      },
      "source": [
        "train_data[['filename','transcripts']] = train_data[\"label\"].str.split(\" \", 1, expand=True)\n",
        "test_data[['filename','transcripts']] = test_data[\"label\"].str.split(\" \", 1, expand=True)"
      ],
      "execution_count": null,
      "outputs": []
    },
    {
      "cell_type": "code",
      "metadata": {
        "colab": {
          "base_uri": "https://localhost:8080/"
        },
        "id": "__PpegwBwhbI",
        "outputId": "3d7660c8-c854-4aa0-ebb4-33322f00a1a8"
      },
      "source": [
        "# Drop label column\n",
        "train_data = train_data[[\"filename\",\"transcripts\"]]\n",
        "test_data = test_data[[\"filename\",\"transcripts\"]]\n",
        "\n",
        "print(\"(Train Shape, Test Shape): (%s, %s)\" % (train_data.shape, test_data.shape))"
      ],
      "execution_count": null,
      "outputs": [
        {
          "output_type": "stream",
          "text": [
            "(Train Shape, Test Shape): ((99925, 2), (3843, 2))\n"
          ],
          "name": "stdout"
        }
      ]
    },
    {
      "cell_type": "markdown",
      "metadata": {
        "id": "1AmaNfjVwo3c"
      },
      "source": [
        "Filter data and see the unique samples. "
      ]
    },
    {
      "cell_type": "code",
      "metadata": {
        "colab": {
          "base_uri": "https://localhost:8080/"
        },
        "id": "Pe9lrck0wnil",
        "outputId": "808c3fa3-7ab4-41e9-853e-2d48bf18110f"
      },
      "source": [
        "unique_train_data = train_data[\"transcripts\"].unique()\n",
        "unique_test_data = test_data[\"transcripts\"].unique()\n",
        "\n",
        "print(\"(Unqiue Train Shape, Unique Test Shape) = (%s, %s)\" % (unique_train_data.shape, unique_test_data.shape))"
      ],
      "execution_count": null,
      "outputs": [
        {
          "output_type": "stream",
          "text": [
            "(Unqiue Train Shape, Unique Test Shape) = ((4506,), (386,))\n"
          ],
          "name": "stdout"
        }
      ]
    },
    {
      "cell_type": "code",
      "metadata": {
        "colab": {
          "base_uri": "https://localhost:8080/"
        },
        "id": "raSZpuaZwnsi",
        "outputId": "c13cccfd-71d0-43f8-c71d-ba54dbf7b4d5"
      },
      "source": [
        "unique_train_data"
      ],
      "execution_count": null,
      "outputs": [
        {
          "output_type": "execute_result",
          "data": {
            "text/plain": [
              "array(['यह है मोटा राजा', 'मोटे राजा का है दुबला कुत्ता',\n",
              "       'मोटा राजा व दुबला कुत्ता घूमने निकले', ...,\n",
              "       'ऐ आबएरूदएगंगा वह दिन हैं याद तुझको',\n",
              "       'उतरा तिरे किनारे जब कारवाँ हमारा',\n",
              "       'मज़्हब नहीं सिखाता आपस में बैर रखना'], dtype=object)"
            ]
          },
          "metadata": {
            "tags": []
          },
          "execution_count": 10
        }
      ]
    },
    {
      "cell_type": "code",
      "metadata": {
        "colab": {
          "base_uri": "https://localhost:8080/"
        },
        "id": "edVaDebRwnw1",
        "outputId": "677cb108-900b-4e0f-bc8a-cb5b6686aa63"
      },
      "source": [
        "unique_test_data"
      ],
      "execution_count": null,
      "outputs": [
        {
          "output_type": "execute_result",
          "data": {
            "text/plain": [
              "array(['और अपने पेट को माँ की स्वादिष्ट गरमगरम जलेबियाँ हड़पते',\n",
              "       'मुनिया ने उन्हें मछली पकड़ने की बंसीे ले कर जाते हुए देखा',\n",
              "       'दो मछलियाँ सामने से तैरती हुई निकल गयीं एक पतली और दूसरी गोल',\n",
              "       'मुनिया ने हँसते हुए कहा यह तो अप्पा के पैरों से भी बड़ी है',\n",
              "       'हर पोंगल पर उसे एक कोलम बनाने दिया जाता था',\n",
              "       'वह फ़र्श पर कोलम बनाती सीढ़ियों पर दीवारों पर',\n",
              "       'सब को सुशीला के कोलम बहुत पसन्द आते',\n",
              "       'एक दिन वायुसेना ने उस से कोलम बनाने में मदद माँगी',\n",
              "       'सुशीला ने विमानचालकों को बताया कि उड़ान भरते हुए विमान कैसे गोता खाएँ',\n",
              "       'और मिनटों में आसमान में बड़ा और रंगबिरंगा कोलम दिखने लगा',\n",
              "       'क्या तुम बता सकते हो कि सुशीला अगला कोलम कहाँ बनाएगी',\n",
              "       'लोग नए दिन का स्वागत करने के लिए अपने घर के बाहर कोलम बनाते हैं',\n",
              "       'हमारे देश में सभी जगह फ़र्श और दीवारों पर चित्र बनाए जाते हैं',\n",
              "       'बसंत पंचमी के दिन भारत के कई प्रदेशो मे लोग ग्यान संगीत और',\n",
              "       'मेरे घर के पास वाले पेड़ पर बहुत सारी चिड़ियाँ बैठी हैँ',\n",
              "       'बसंत रितु मे कोई भी नयी चीज़ की शुरुवात करना अच्छा है दादाजी बोले',\n",
              "       'दादाजी और मैने जमीन मे एक गड्ढा खोदा और एक पेड़ लगाया',\n",
              "       'सब्र करो और देखती रहो प्यारी मीनू दादाजी बोले',\n",
              "       'मुझे पीले गुलाब सबसे अच्छे लगते है और दादाजी को सफ़ेद चमेली पसंद है',\n",
              "       'हमने टहनियो और लकड़ियों से एक बड़ी होलीका बनाई है',\n",
              "       'ना ज्यादा ठंडा ना ज्यादा गरमी और ना ज्यादा गीला',\n",
              "       'वह अम्मा से बोला उस नीले बक्से में क्या है ज़रा मुझे दिखाओ',\n",
              "       'नहीं ऐसा मत करना सारे ऊपर रखे हुए बक्से हमारे सर पर गिर जायेंगे',\n",
              "       'नहीं सारे संतरे नीचे गिर जायेंगे दुकानदार बोला',\n",
              "       'नहीं बेटा मैं तुम्हें उन सुन्दर फूलों को हाथ नहीं लगाने दे सकती',\n",
              "       'अनिल ने बड़े प्यार से वहाँ पिल्लों के ढेर से भूरा वाला पिल्ला उठाया',\n",
              "       'सभी ताज़े पोंख की नरम और हरीहरी फलियों को बड़े चाव से खाते हैं',\n",
              "       'मैं स्कूल जाते हुए रास्ते में अपने हाथों को आपस में रगड़ती रहती हूँ',\n",
              "       'और उस शंकु जैसे बर्फ़ के ढेर को घर की छत पर रख देते हैं',\n",
              "       'जिस मित्र को यह बर्फ़ वाला कागज़ मिलता है वह आपको खाने पर घर बुलाता है',\n",
              "       'रजनी कह रही थी कि बर्फ़ से ढके हुए पेड़पौधे बड़े ही सुन्दर दिखते हैं',\n",
              "       'क्या आप जानते हैं कि ये सारी चीज़ें गुड़ और तिल से बनती हैं',\n",
              "       'जब मेरे मित्र मुझे गले लगाते हैं तब मुझे अच्छा लगता है',\n",
              "       'पर मैं चाहती हूँ कि जल्दी ही इस पर बहुत से आम लगें',\n",
              "       'हमारी चौखट पर टाँगने के लिए एक तोरण बनाया है',\n",
              "       'भरेपूरे चाँद की चाँदनी से सब चीज़ें चाँदी सी चमक उठेंगी',\n",
              "       'उसके परिवार ने फूलों से पूकलम नाम की एक सुन्दर सी रंगोली बना रखी है',\n",
              "       'वह कहती है कि यह साल का वह समय है जब फसलें पक जाती हैं और',\n",
              "       'घर पर हम सब मिल कर दशहरा का गोलू सजाने की तैयारी कर रहे हैं',\n",
              "       'तमिलनाडु में तीन से नौ सीढ़ियों पर यह गुड़ियों की झाँकी सजाई जाती है',\n",
              "       'मोमबत्तियों से जगमगाते हैं तो बड़े ही सुन्दर लगते हैं',\n",
              "       'बारिश होते ही चाची को ज़ोरज़ोर से गाना अच्छा लगता है',\n",
              "       'बनारस वाली शुभा मौसी ने मुझे कुछ सुंदर गीत सिखाए हैं',\n",
              "       'हमारे घर के पास वाले खेत में मोर नाच रहे थे',\n",
              "       'झूलते हुए बारिश की ठंडी फुहार मेरे मुँह पर पड़ेगी',\n",
              "       'कल उन्होंने मसालेदार मुरमुरे बनाए थे',\n",
              "       'सभी पेड़पौधे हरेभरे हो जाएँगे और खुश दिखाई देंगे',\n",
              "       'उन्होंने एक मज़बूत घर बनाया था और उसमें खुशीखुशी रहते थे',\n",
              "       'खोल देते तो मैं अपनी पिछली टाँगें भी गरम कर लेता',\n",
              "       'खोला और बुल्लु ने आग पर एक पानी का पतीला रख दिया',\n",
              "       'अगर तुम दरवाज़ा थोड़ासा और खोल दोगे तो मैं',\n",
              "       'टुल्लु चिल्लाया जान बचालो और गरम पानी आ रहा है',\n",
              "       'बादलों के गरजने का कारण न तो कुंभकर्ण न तो हवाई जहाज़ है',\n",
              "       'और इस तरह जब आसमान के बादल गरजते हैं तो कुछ छोटे बच्चे',\n",
              "       'तो कभीकभी इलेक्ट्रॉनों का आदानप्रदान हो जाता है',\n",
              "       'यह बिजली अपने चारों ओर की वायु को बेहद गर्म कर देती हैसूरज जितना गर्म',\n",
              "       'इसी वायु के धमाके को हम बादलों के गर्जन के नाम से जानते हैं',\n",
              "       'दोनों के बीच में इलेक्ट्रॉनों का आदानप्रदान हो जाता है',\n",
              "       'मेरी पुरानी स्लेट टूट गई और मेरे पास नई खरीदने के पैसे नहीं हैं',\n",
              "       'छत पर जा कर वह अपनी पतंग उड़ाने की कोशिश करता पर',\n",
              "       'दोस्तों ने फुसलाया पर कोई भी मोरू को स्कूल लौटने के लिये तैयार नहीं कर पाया',\n",
              "       'सबने मोरू से कोई भी आशा रखनी छोड़ दी',\n",
              "       'अब उससे कोई नहीं पूछता था कि वह उनके साथ क्यों नहीं आता',\n",
              "       'बल्कि अब तो बच्चे उससे बचते थे क्योंकि वह डरते थे',\n",
              "       'मोरू ने कुछ सोचा और फिर शिक्षक के पीछे भागा',\n",
              "       'दोनों मिल कर उस भारी बोझ को स्कूल तक ले गये',\n",
              "       'कुछ में इतने शब्द थे कि मालूम होता था उन्हें पन्नों में दबा के बैठाया गया हो',\n",
              "       'शिक्षक ने नज़र उठाई और बोले अच्छा हुआ जो तुम आ गये',\n",
              "       'परी कथाएँ देवीदेवताओं की कहानियों के साथ रह सकती हैं',\n",
              "       'अगर ध्यान से करते जाओ तो अन्त में लम्बी पतली आकर्षक पूँछ बन जाती थी',\n",
              "       'उन्हें आश्चर्य हो रहा था कि मोरू जैसे अक्खड़ को इतना कुछ आता था',\n",
              "       'लम्बे बच्चों के साथ हुआ कि किसे कहाँ खड़ा होना था वैसे ही अंकों के साथ करना था',\n",
              "       'शिक्षक उसे कुछ काम और फिर उससे बड़ा काम दे देते',\n",
              "       'रोज़ मोरू को लगने लगा कि उसका अंकों से लगाव बढ़ता ही जा रहा है और',\n",
              "       'उसकी योग्यता और रोमांच छोटे बच्चों में भी समाते जा रहे हैं',\n",
              "       'उन्होंने दीवार पर झाँका जहाँ वह रोज़ टाँगें झुलाए बैठा रहता था',\n",
              "       'वह बाज़ार तक गईं पर सभी सब्ज़ीवाले आराम से अपनी सब्ज़ियाँ बेच रहे थे',\n",
              "       'और उससे भी बड़ी बात यह थी कि उसे पढ़नालिखना अच्छा लग रहा था',\n",
              "       'और सरकार की तरफ से भी किसानों को हरसंभव मदद मिलती है',\n",
              "       'श्यामल काका बोले फिर तो हमें तुरंत वहां चलना चाहिए',\n",
              "       'अगले दिन अपनेअपने खेतों की मिट्टी के नमूने को साथ लेकर श्यामल काका',\n",
              "       'वहां से उचित जानकारी पाकर वो लोग गांव वापस पहुँचे और',\n",
              "       'ताकि भगवान का दिया तोहफा वर्षा जल सही तरीके से हमारे काम आ सके',\n",
              "       'श्यामल काका का गांव एक बार फिर से समृद्धि की तरफ लौटने लगा था',\n",
              "       'धीरेधीरे उन लोगों ने भी श्यामल काका के रास्ते को अपनाया',\n",
              "       'और सही मार्गदर्शन करके एक बार फिर से जीवन संवरने की उम्मीद जगाने के लिए उनका धन्यवाद किया',\n",
              "       'तो काका बोले मेरे बच्चों धन्यवाद का पात्र मैं अकेला नहीं हूँ बल्कि हम सभी है',\n",
              "       'उसने सभी की उम्मीदों को तोड़ दिया था कि वह सुहास की वंशबेल को आगे बढ़ाएगी',\n",
              "       'जीवन संघर्ष पूर्ण था पर रश्मि के जीवन का एक ही उद्देश्य था',\n",
              "       'जहाँ दस लोग अच्छे होते हैं वहीं कुछ लोग बुरे भी होते हैं और',\n",
              "       'निशा बचपन से ही अपने माँ रश्मि के कष्टों को देखती चली आ रही थी',\n",
              "       'मेरा भविष्य बनाने के लिए उसने अपना पूरा जीवन न्यौछावर कर दिया है',\n",
              "       'कि लड़कों की टोली के साथ कैंप में जाती है यह बात उन्होंने रश्मि के ससुराल में पहुंचा दी थी',\n",
              "       'अखबार में निशा की फोटो छपी थी उसे एक मिशन सौंपा गया था',\n",
              "       'जिसे उसने कामयाबी से पूरा किया था आज पूरे गाँव को इस देश की बेटी पर गर्व था',\n",
              "       'रात में जब सविताजी सोने गईं तो अपने दिवंगत पति कि तस्वीर को देख कर याद करने लगीं',\n",
              "       'देवर ने सारे कागजात दिखा दिए कि बिजनेस अब मेरे नाम पर है',\n",
              "       'अब इस हालत में भी काम करने आती हो छुट्टी क्यों नहीं ले लेती हो',\n",
              "       'सास को बस ताने मारने और रौब झाड़ने के अलावा कोई काम नहीं',\n",
              "       'उर्मी उसकी परेशानी समझती थी लेकिन फिर भी कांता से उसे रश्क हो रहा था',\n",
              "       'गरीब ही सही कांता को ऊपर वाले ने मां बनने का अधिकार तो दिया था',\n",
              "       'वह अपने खानेपीने उठने बैठने का बहुत ध्यान रखती',\n",
              "       'कमरे में सुंदरसुंदर बच्चों की तस्वीर लगा दी थी',\n",
              "       'लेकिन भगवान को शायद कुछ और मंजूर था उर्मी का गर्भपात हो गया',\n",
              "       'वह बहुत दुखी हुई लेकिन उससे भी बड़े दुख की बात यह थी कि',\n",
              "       'कांता दर्द से कराहते हुए बोली नहीं भाभी जी घर मत बताओ',\n",
              "       'बाद में जब नर्स ने नवजात बच्ची लाकर उर्मी को दी तो उसकी आंखों में आंसू आ गए',\n",
              "       'बोली रहने दो भाभी बच्ची की किस्मत में तो कांटे भरे हैं',\n",
              "       'कांता रोते हुए बोली किस मुंह से लेकर जाऊं इस बच्ची को घर',\n",
              "       'वह कह रहा था लड़का हुआ तो ले कर आना नहीं तो कहीं भी फेक आना',\n",
              "       'कह दूंगी घर पर मरा हुआ बच्चा पैदा हुआ था',\n",
              "       'नहींउसका परिवार उसे छोड़ने नहीं आया था',\n",
              "       'पापा यह सब कह रहे थे जबकि उसे उस समय उनसे शुभकामनाओं की आशा थी',\n",
              "       'तुम एक दिन अभिमान से कह सकोगी कि मयूरी मेरी बेटी है',\n",
              "       'ट्रेन चल पड़ी थी और मैन अपना एक कदम अपने सपनों की ओर बढ़ाया था',\n",
              "       'ज़िन्दगी बहुत ही हसीन है लेकिन यह उतनी आसान भी नहीं कोई तुम्हें यह नहीं बता सकता कि',\n",
              "       'संघर्ष हर किसी के जीवन का हिस्सा होता है जिसे हमें अकेले ही पार करना होता है',\n",
              "       'सिमा का जीवन को देखने का तरीका मुझे मेरी मंजिल के और पास ले गया',\n",
              "       'सपनों के पत्ते कुछ उड़ गए तूफ़ान में बिना परों के आसमान दे गया मुझे',\n",
              "       'जिसने मुश्किल वक़्त में उसका साथ दिया और उनको भी जिन्होंने उसकी आलोचना की क्',\n",
              "       'यूंकि ये वही लोग हैं जो उसे और मेहनत करने के लिए रास्ता दिखाया',\n",
              "       'सिमा उसके ज़िन्दगी की सबसे जरूरी हिस्सा है उसीने इस उड़ान के लिए मयूरी को पर दिए',\n",
              "       'अपनी कलम की स्याही को हथियार बनाकर इस तूफानी रात से निकल सकी',\n",
              "       'गीता में श्री कृष्ण जी ने कहा है की उनकी माया को पार करना अत्यंत मुश्किल है',\n",
              "       'धनी और उसके मातापिता बड़ी ख़ास जगह में रहते थे',\n",
              "       'बर्तन धोना कपड़े धोना कुएँ से पानी लाना गाय और',\n",
              "       'धनी को अपना काम पसन्द था क्योंकि बिन्नी उसकी सबसे अच्छी दोस्त थी',\n",
              "       'कूदतीफाँदती बिन्नी को लेकर वह रसोईघर की तरफ़ चला',\n",
              "       'धनी सब्ज़ी की क्यारियों की तरफ़ निकल गया जहाँ बूढ़ा बिन्दा आलू खोद रहा था',\n",
              "       'तुम्हारे सब सवालों के जवाब दूँगा पर पहले इस मुई बकरी को बाँधो',\n",
              "       'हाँ मुझे मालूम है बिन्दा हँसा पर महात्मा जी की एक योजना है',\n",
              "       'यह तो तुम्हें पता ही है कि वह किसी बात के विरोध में ही यात्रा करते हैं या जुलूस निकालते हैं है न',\n",
              "       'धनी को सुनाई दिया कि वे दाँडी पहुँचने का रास्ता तय कर रहे थे जिस पर वे पैदल चलेंगे',\n",
              "       'पर धनी को वह समय मालूम था जब उन्हें बात सुनने का समय होगारोज़ सुबह',\n",
              "       'यहाँ आओ बेटा धनी दौड़कर उनके पास पहुँचा',\n",
              "       'बिन्नी भी साथ में कूदती हुई आई तुम्हारा क्या नाम है बेटा',\n",
              "       'मैं आपसे कुछ पूछना चाहता था धनी थोड़ा घबराया',\n",
              "       'क्या मैं आपके साथ दाँडी आ सकता हूँ हिम्मत करके उसने कह डाला',\n",
              "       'आप नहीं थक जायेंगे मैं बहुत अच्छे से चलता हूँ गाँधी जी ने कहा',\n",
              "       'धनी ने प्यार से बिन्नी का सर सहलाया और स़िर्फ मैं जानता हूँ कि इसे क्या पसन्द है',\n",
              "       'पूरे रास्ते उनका स्वागत फूलों और गीतों से हुआ',\n",
              "       'उनके साथियों ने समुद्र तट से नमक उठाया और उन्हें गिरफ़्तार कर लिया गया',\n",
              "       'नाना आराम कुर्सी पर पड़ेपड़े अखबार पढ़ते हुए खुश दिखाई देंगे लेकिन मेरे दादाजी',\n",
              "       'पेड़ पर पेड़ों को बचाओ का बोर्ड लटक रहा था',\n",
              "       'मैं डरा यदि वे गिर गए तो खैर दादाजी पेड़ की शाखा पकड़े हुए थे',\n",
              "       'एक सप्ताह पहले वह बेचारा हमारे घर अपना काम करने आया',\n",
              "       'यदि हम और पेड़ नहीं उगा सकते तो हमें उन्हें नष्ट भी नहीं करना चाहिए',\n",
              "       'जब भी दादाजी आगे बढ़ते मेरा दिल ज़ोर से धड़कने लगता',\n",
              "       'मैंने एक बार फिर दादाजी को समझाने की कोशिश की',\n",
              "       'दादाजी मुस्कराए यह पेड़ मेरी लाश पर ही गिरेगा जो होनेवाला नहीं है',\n",
              "       'यदि पेड़ कट जाएँगे तो यहाँ की सुन्दरता खत्म हो जाएगी',\n",
              "       'देखो साहब मेरे पोते सत्या का इससे कोई लेना देना नहीं है उसको इसमें मत लपेटो',\n",
              "       'पुलिसवालों के हाँ कहने पर दादाजी बोले तब मुझे विरोध करने दो',\n",
              "       'मैं नहीं आऊँगा आपको आना होगा लम्बे पुलिसवाले ने कहा',\n",
              "       'पुलिसवाले समझ गए कि दाल नहीं गलेगी वे हड़बड़ी में चले गए',\n",
              "       'हमारा मकान गली के छोर पर था जहाँ हमें टकटकी लगा कर देखने को कोई नहीं था',\n",
              "       'दादाजी चिल्लाए जल्दी करो जैसा मैंने कहा वैसा करो',\n",
              "       'मैंने सारा समान एक प्लास्टिक की बाल्टी में रखा और उनसे कहा कि बाल्टी खींचो',\n",
              "       'उन्होंने दादाजी के पेड़ पर रहने के बारे में सुना था',\n",
              "       'थोड़ी देर दोनों दोस्त बातें करते रहेआनन्द साहब ज़मीन पर खड़े ऊपर को ताकते और',\n",
              "       'अचानक दादाजी चिल्लाए देखो दुश्मन आ रहा है मैं कूद कर उठ खड़ा हुआ',\n",
              "       'मैं उसकी मदद कर पाऊँ उससे पहले ही टाइगर उसके पास पहुँच गया और',\n",
              "       'किसी ने भी ध्यान नहीं दिया कि दादाजी पेड़ पर बैठे हैं',\n",
              "       'जिसकी बागडोर अमृता ने सँभाली क्योंकि उनकी आवाज़ ऊँची थी',\n",
              "       'उन्होंने कहा कि हमें पेड़ों के काटे जाने के विरूद्ध याचिका दायर करनी चाहिए',\n",
              "       'तीन बजे चित्रकारों ने अपना सामान सँभाला और',\n",
              "       'वे पहले आने वाले मज़दूर जैसे नहीं दफ्तर में मेज़कुर्सी पर काम करनेवाले लोग थे और',\n",
              "       'हम यहाँ तुमको पेड़ से नीचे उतरने का आदेश देने आए हैं',\n",
              "       'मुखर्जी ने कहा उसके पीछे खड़े व्यक्ति ने मुखर्जी के सुर में सुर मिलाया',\n",
              "       'सुनो साहब वे बोले आप मुझे कुछ करने के लिए आदेश नहीं दे सकते',\n",
              "       'दादाजी उन पर सेब के छिलके और खाली डिब्बे फेंककर मारने लगे',\n",
              "       'और जब वे परेशान हो जाते हैं तो मैं भी पेरशान हो जाता हूँ',\n",
              "       'और जब मैं परेशान हो जाता हूँ तो दूसरों को परेशान कर देता हूँ',\n",
              "       'खीसें निपोरकर मुस्कराते हुए मैंने कहा मैं इस मामले में कुछ नहीं कहूँगा',\n",
              "       'वे बस यूँ ही बातें करते हुए प्रदर्शनकारियों के साथ टहलते चल रहे थे',\n",
              "       'सायरन की आवाज़ सुन लोग अपने घरों से दौड़े आए',\n",
              "       'वे अपनी गैरमौजूदगी में इस तरह के काम करने के लिए दादाजी से गुस्सा थे',\n",
              "       'तेनालीराम बहुत से कठिन प्रश्नों को अपनी बुद्धि के बल पर आसान बना दिया करते थे',\n",
              "       'ढूंढने की बहुत कोशिश की परंतु तेलानीराम का कोई सुराग नहीं मिला',\n",
              "       'तेनालीराम समझ गया कि यह घोषणा राजा ने उसे ढूंढने के लिए कराई है',\n",
              "       'इसलिए तेलानीराम मुखिया के पास जाकर बोला कि आप इस घोषणा से चिंतित ना हो',\n",
              "       'आपने मुझे इस गांव में आश्रय दिया है इसलिए मेरा भी कर्तव्य है कि',\n",
              "       'तेनालीराम मुखिया और गांव के चार व्यक्ति विजय नगर की ओर चल दिए',\n",
              "       'विजयनगर के पास पहुंचकर वे लोग एक स्थान पर ठहर गए',\n",
              "       'महाराज हमारे गांव के कुछ लोग आपके कुएं के विवाह में शामिल होने के लिए आए हैं',\n",
              "       'महाराज कृष्णदेव राय ने तेनालीराम को बुलवाया और क्रोध में आकर बोले',\n",
              "       'यह सुनकर महाराज ने सैनिकों को आदेश दिया कि जादूगर को पकड़कर कैदखाने में डाल दिया जाए',\n",
              "       'तेनालीराम की इस चतुराई के कारण राज्य का धन लुटने से बच गया',\n",
              "       'वर्षा ऋतु में बाढ़ आ जाने के कारण नाव का सहारा भी खत्म हो गया है',\n",
              "       'भतीजे को अपने गले का हार उतार कर देना चाह रहे थे',\n",
              "       'धोबी ने तेनालीराम को अपने घर का पता बता दिया धोबी ने कहा',\n",
              "       'सिपाहियों ने राजा को तेलानीराम की मृत्यु का समाचार सुना दिया',\n",
              "       'राजा इन बातों पर विचार कर ही रहे थे कि तेनालीराम ने दरबार में आकर',\n",
              "       'महाराज कृष्णदेव राय को अपनी तरफ से कुछ न कुछ उपहार दे रहे थे',\n",
              "       'नीम का पौधा भेंट किया तथा बताया कि यह उपहार आपके लिए तेनालीराम ने भेजा है',\n",
              "       'दूसरे दिन तेनालीराम को बंदी बनाकर महाराज के समक्ष पेश किया गया',\n",
              "       'महाराज मेरा कोई ऐसा इरादा नहीं था जैसा आप सोच रहे हैं',\n",
              "       'कि जिस तरह नीम के पेड़ की आयु अन्य वृक्षों की अपेक्षा लंबी होती है उसी तरह आप भी दीर्घायु हो',\n",
              "       'स्कूल में जैसे ही वह पहुंची स्टेज पर खड़ी दूसरी लड़कियों को',\n",
              "       'मां तुम झूठी हो तुम झूठ बोलती हो मैं कोई परी नहीं हूं',\n",
              "       'कोई तुम्हें कुछ भी कहे तुम्हें उससे कुछ भी लेनादेना नहीं है',\n",
              "       'तुम बस अपनी मेहनत करो जो इंसान मेहनत करता है उसको सफल होने से कोई नहीं रोक सकता है',\n",
              "       'लोग उसका मजाक उड़ाते रहे कोई कौवा बुलाता कोई उसे कलूटी बुलाता कोई तवा बुलाता',\n",
              "       'मीनू की आवाज में बुलंदी देखकर मां समझ गई कि उसका इरादा पक्का है उन्होंने उसे ना नहीं कहा',\n",
              "       'वहां भी उसके रंग को लेकर उसका बहुत मजाक उड़ाया जाता',\n",
              "       'खुद उनकी तरह चल रही थी उनकी तरह कपड़े लेकर संवार रही थी',\n",
              "       'मैने उसकी कुछ तस्वीरें ली है जरा देखो उस फोटोग्राफर ने कहा',\n",
              "       'अगले दिन सारे अखबार देसी रिहाना के नाम से भरे पड़े थे',\n",
              "       'जिस मीनू को उसके स्कूल में काली परी कहा जाता था आज उसके पास पैरिस से फैशन शो',\n",
              "       'बागीचा गाँव की जशपुर जिले उत्तरप्रदेश की मॉडल रेने कुजूर की कहानी है',\n",
              "       'जिसने अपने हौसलों की उड़ान के दम पर पूरे विश्व मे अपनी पहचान बनाई',\n",
              "       'उन्हें क्या खबर कि चौधरी आज आँखें बदल लें',\n",
              "       'उनकी कल्पना तो राई का पर्वत बना लेती हैं',\n",
              "       'आज ईद का दिन और उसके घर में दाना नहीं',\n",
              "       'कभीकभी कोई लड़का कंकड़ उठाकर',\n",
              "       'जब गोदामों में आई माल की कमी का ब्यौरा अंकित',\n",
              "       'आराधना के लिए अरावली पहाड़ी पर इस स्थान को चुना',\n",
              "       'आम्बेर देवी के मंदिर के कारण देश भर में विख्यात है',\n",
              "       'यहाँ देवराज इंद्र ने कन्याकुमारी मंदिर के द्वितीय प्रकार के',\n",
              "       'सीढ़ियों वाला घाट कन्याकुमारी के तीन सागरों के मिलन',\n",
              "       'वह बैठ गई आँखों को मलमलकर इधरउधर देखा और',\n",
              "       'पर सोए अपने छह वर्षीय लड़के प्रमोद पर जम गई',\n",
              "       'उसके गले तथा छाती की हडि्डयाँ साफ दिखाई देती थीं',\n",
              "       'धूप अत्यंत तेज थी और कभी एकदो व्यक्ति सिर पर',\n",
              "       'तौलिया या गमछा रखे हुए या मजबूती से',\n",
              "       'तो उसका बड़ा लड़का रामचंद्र धीरेधीरे',\n",
              "       'ओर घुमाया ही था कि रामचंद्र ने अंदर कदम रखा',\n",
              "       'रामचंद्र आकर धमसे चौंकी पर बैठ गया और',\n",
              "       'लेकिन उसके कुछ उत्तर न देने पर डर गई और',\n",
              "       'जूते निकालने और नीचे रखे लोटे के जल से',\n",
              "       'सिद्धेश्वरी को स्वयं पता नहीं था कि वह कहाँ गया है',\n",
              "       'आता ही होगा दिमाग उसका बड़ा तेज है और',\n",
              "       'कहता था बड़का भैया के यहाँ जाऊँगा ऐसा लड़का',\n",
              "       'उसके लिए डेढ़ घंटे तक रोने के बाद सोया था',\n",
              "       'थाली में जब रोटी का केवल एक टुकड़ा शेष रह गया',\n",
              "       'रामचंद्र ने थाली में बचे टुकड़े से हाथ खींच लिया और',\n",
              "       'यह कहकर उसने अपने मंझले लड़के की ओर इस तरह देखा',\n",
              "       'फिर रोटियाँ तूने ऐसी बनाई हैं कि खाई नहीं जातीं',\n",
              "       'बटलोई की दाल को कटोरे में उड़ेल दिया',\n",
              "       'छिपुली में थोड़ीसी चने की तरकारी बची थी',\n",
              "       'जेसे डेढ़ महीने पूर्व मकानकिरायानियंत्रण विभाग की',\n",
              "       'उस संकट में भी दोनों बंदी खिलखिला कर हंस पड़े',\n",
              "       'शरद के धवल नक्षत्र नील गगन में झलमला रहे थे',\n",
              "       'यहाँ बैठी हुई अभी तक दीप जला रही हो',\n",
              "       'तो बुरा क्या हुआ इस द्वीप की अधीश्वरी चंपारानी',\n",
              "       'हमतुम परिश्रम से थककर पालों में शरीर लपेटकर',\n",
              "       'साध्वी तेरी प्रार्थना से भगवान् ने संकटों में मेरी रक्षा की है',\n",
              "       'चंपा मुग्धसी समुद्र के उदास वातावरण में अपने',\n",
              "       'बुधगुप्त आज मैं अपने प्रतिशोध का कृपाण',\n",
              "       'पर मुझे अपने हृदय के एक दुर्बल अंश पर श्रद्धा हो चली है',\n",
              "       'आलोक की एक कोमल रेखा इस निविड़तम में मुस्कुराने लगी',\n",
              "       'उन्हें अपने लिए भाईचारा दिखा और वो उससे जुड़ गए',\n",
              "       'मोहनदास दोबारा अपनी जड़ों की तरफ़ लौटने लगे',\n",
              "       'उन्होंने विश्व बंधुत्व का अपना सिद्धांत बनाया जिस में',\n",
              "       'दक्षिण अफ्रीका में भारतीयों के अधिकारियों के लिए इस संघर्ष',\n",
              "       'और सत्याग्रह जैसे सिद्धांतों के प्रयोग शुरू किए',\n",
              "       'दक्षिण अफ्रीका में अपने आंदोलन की क़ामयाबी के बाद',\n",
              "       'और आबादी को देखा तो उन्हें ज़बरदस्त सदमा लगा',\n",
              "       'ब्रिटिश सामानों का बहिष्कार करना शुरू कर दिया',\n",
              "       'के लिए लंदन में एक गोलमेज सम्मेलन बुलाया',\n",
              "       'आख़िरकार अंग्रेज़ सरकार को झुकना पड़ा',\n",
              "       'सिख और दूसरे भारतीय प्रतिनिधि गांधी के साथ नहीं थे',\n",
              "       'या इस कोशिश में अपना बलिदान कर देना चाहिए',\n",
              "       'वर्गीज कुरियन दूध की कमी से परेशान भारत को',\n",
              "       'उन्हें एक डेयरी प्रसंस्करण उद्योग बनाने के लिए कहा',\n",
              "       'गरीब आदमी उनके पास आया और साधु महाराज से बोला',\n",
              "       'साधु महाराज ने उसको एक चमकीला नीले रंग का पत्थर दिया',\n",
              "       'उस पत्थर को दिखाकर उसकी कीमत जाननी चाही',\n",
              "       'वाले के पास गया जो की एक बर्तनों का व्यापारी था',\n",
              "       'वो आदमी अब समझ गया था कि यह बहुत अमुल्य है',\n",
              "       'उस हीरे के व्यापारी ने जब वो पत्थर देखा तो देखता रह गया',\n",
              "       'कभी भी दूसरों के नेगेटिव कमैंट्स से अपने आप को कम मत आकियें',\n",
              "       'एक मेंढकों की टोली जंगल के रास्ते से जा रही थी',\n",
              "       'गड्ढे में गिरे दोनों मेढकों में से एक मेंढक ने ऊपर खड़े मेंढकों की बात सुन ली',\n",
              "       'तुम्हें हार मान लेनी चाहियें पर वो मेंढक शायद उनकी बात नहीं सुन पा रहा था',\n",
              "       'और उछलता रहा और काफी कोशिशों के बाद वो बाहर आ गया',\n",
              "       'अपने ऊपर विश्वाश और सकारात्मक सोच से ही हमें सफलता मिलती है',\n",
              "       'समय बीता अंडा फूटा और चील का बच्चा उस अंडे से निकला',\n",
              "       'वो इतना ही ऊँचा उड़ पाता जितना की एक मुर्गी उड़ती है',\n",
              "       'उस चिड़िया का क्या नाम है जो इतना ऊँचा बड़ी शान से उड़ रही है',\n",
              "       'फिर चील के बच्चे ने पूछा माँ मैं इतना ऊँचा क्यों नहीं उड़ पाता',\n",
              "       'मुर्गी बोली तुम इतना ऊँचा नहीं उड़ सकते क्योंकि तुम एक मुर्गे हो',\n",
              "       'उसने मुर्गी की बात मान ली और मुर्गे की जिंदगी जीता हुआ एक दिन मर गया',\n",
              "       'ऐसा नहीं हो सकता और हम अपना इरादा यह सोचकर बदल लेते हैं',\n",
              "       'जब मिठाईवाले ने किसान को मजे से उसकी दुकान',\n",
              "       'लेकिन मेरी बनाई मिठाई की खुशबू का आनंद तो लिया है',\n",
              "       'मिठाई की खुशबू लेना मिठाई खाने के बराबर ही है तो तुम्हें अब इसके पैसे देने होंगे',\n",
              "       'कुछ सिक्के निकाले और उन्हें दोनों हाथों के बीच में डालकर खनकाया',\n",
              "       'जैसे मिठाई की खुशबू का आनंद लेने मिठाई खाने के बराबर ही है',\n",
              "       'वैसे ही सिक्कों की खनक सुनना भी पैसे लेने के बराबर ही है',\n",
              "       'सूझबूझ से इन्हें जवाब दें और समस्या से इस किसान की तरह ही बाहर निकल जाएं',\n",
              "       'उन्होंने कहा था एक मजबूत आदमी में दयालुता भी शामिल होती है',\n",
              "       'कि लोगों के बीच अलगअलग राजनीतिक विचारधारा और',\n",
              "       'उन्होंने कहा इससे उलट एकदूसरे के प्रति दया दिखाने और',\n",
              "       'कानपुर जिले में पंडित भृगुदत्त नामक एक बड़े जमींदार थे',\n",
              "       'ऐसे कत्तर्व्यपरायण सेवक का जितना सम्मान होना चाहिए',\n",
              "       'सम्भव है उनसे आजीवन इसी तरह निभ जाती पर भावी प्रबल है',\n",
              "       'एक हतभागिनी विधवा और दो छोटेछोटे बच्चों के',\n",
              "       'अंत्येष्टिक्रिया से निवृत्त होकर एक दिन शोकातुर पंडिताइन ने',\n",
              "       'इस घटना के बाद कई वर्षो तक मुंशीजी ने रियासत को सँभाला',\n",
              "       'ठीक गंगा के किनारे एक बहुत आजाद और उपजाऊ गॉँव था',\n",
              "       'पंडित जी इस गॉँव को लेकर नदीकिनारे पक्का घाट मंदिर',\n",
              "       'एक महाजन के यहाँ से तीस हजार रुपये मँगवाये गये और',\n",
              "       'मन्दिर आदि बनवाने के लिए आबादी से हट कर रमणीक स्थान चुना गया',\n",
              "       'भानुकुँवरि को मुंशी जी के उस मार्ग के लक्षण दिखायी देने लगे',\n",
              "       'उन्हें मालूम हो गया कि इस चतुर स्त्री से बाजी ले जाना मुश्किल है',\n",
              "       'पर्दे से निकल आयी और मुंशी जी की तरफ तेज आँखों से',\n",
              "       'मुझे नहीं मालूम था कि आपने हृदय में छुरी छिपा रखी है',\n",
              "       'खैर अब से मेरी रोकड़ और बही खाता आप कुछ न छुऍं',\n",
              "       'तुम समझते होगे कि बालक अनाथ हैं इनकी सम्पत्ति हजम कर लूँगा',\n",
              "       'इस भूल में न रहना मैं तुम्हारे घर की ईट तक बिकवा लूँगी',\n",
              "       'यह कहकर भानुकुँवरि फिर पर्दे की आड़ में आ बैठी और रोने लगी',\n",
              "       'मुंशी जी कागजों में कुछ काटछॉँट करना चाहते थे पर विवश हो गये',\n",
              "       'भानुकुँवरि के पास आकर वे आग पर तेल छिड़कने लगे',\n",
              "       'सेठ जी ने समझ लिया कि इस समय समझानेबुझाने से कुछ काम न चलेगा',\n",
              "       'स्त्री पर इसलिए बरस पड़े कि उसने क्यों लड़के को उनके पास जाने दिया',\n",
              "       'पर मेरी मूर्खता के कारण घर में आयी हुई लक्ष्मी रुठी जाती हैं',\n",
              "       'मुझे क्या मालूम था कि वह चुड़ैल मुझसे इस तरह पेश आयेगी',\n",
              "       'क्या जानता था कि वह डाइन इस तरह वज्रप्रहार करेगी',\n",
              "       'मैं जो कहीं पकड़ा गया तो मरने के सिवा और कोई मार्ग न रहेगा',\n",
              "       'स्थिर थाकिसी तरह इन कागजात को अपने हाथ में लाना चाहिए',\n",
              "       'चाहे जिस तरह हो चोर बने बिना काम नहीं चल सकता',\n",
              "       'मुंशी सत्यनाराण कुंजियों का एक गुच्छा कमर में दबाये घर से बाहर निकले',\n",
              "       'अपने द्वार पर किसका डर और सड़क पर भी मुझे किसका डर है',\n",
              "       'अकस्मात उन्होंने भानुकुँवरि के एक चपरासी को आते हुए देखा',\n",
              "       'मुझे देखकर वह अदब से सलाम करता और वहाँ का कुछ हाल भी कहता',\n",
              "       'पर इसी बीच में बग्घी निकल गयी और मुंशी जी की जान में जान आयी',\n",
              "       'पर यह कोरा अनुमान ही अनुमान है अनुभवसिद्ध बात नहीं',\n",
              "       'जैसा मुंशी जी ने अनुमान किया था पहरेदार का पता न था',\n",
              "       'उन्होंनें सारी बहियों को समेट कर एक गट्ठर बनाया और',\n",
              "       'जिस तरह कलुषित हृदयों में कहींकहीं धर्म का धुँधला प्रकाश रहता है',\n",
              "       'सोती हुई लहरों में कुछ हलचल हुई और फिर सन्नाटा हो गया',\n",
              "       'अंधकार में पड़ी हुई पशुवत् जीवन व्यतीत करती थीं',\n",
              "       'अब क्या होगा भानुकुँवरि ने मुझे जवाब दे दिया',\n",
              "       'माता ने बहू की तरफ मर्मांतक दृष्टि से देखा और बोलीक्यों भैया',\n",
              "       'तुमको भला ऐसा करना चाहिए कि जिसकी गोद में इतने दिन पले',\n",
              "       'अदालत ने माना तो माना नहीं तो हार माननी पड़ेगी',\n",
              "       'अपने स्वामी के अनाथ बालकों की गर्दन पर छुरी चलाने पर संकोच न करे',\n",
              "       'अपने कर्मचारियों की सारी सम्पत्ति पर कब्जा कर लेना चाहिए',\n",
              "       'हमारे सुयोग मित्र ने हमारे ऊपर अनाथों के साथ दगा करने का दोष लगाया है',\n",
              "       'आठ वर्ष तक तनमन से स्वामी के संतान की सेवा की',\n",
              "       'उसे अपनी बातों में नमकमिर्च लगाने की जरुरत नहीं होती',\n",
              "       'वादी पक्ष के गवाह भी उखड़ गये थे और बहस भी सबूत से खाली थी',\n",
              "       'दूसरों की बात तो अलग रही स्वयं उनके घरवाले उनकी उपेक्षा करते थे',\n",
              "       'स्त्री बारबार हाथ जोड़ कर कहती थी कि अपने प्यारे बालकों पर दया करो',\n",
              "       'लाला बाबू ने जालसाजी से पंडिताइन का कोई हलका ले लिया',\n",
              "       'उसके चले जाने के बाद आकर स्त्री से पूछने लगेयह शैतान की',\n",
              "       'कुवासनाओं से दबी हुई लज्जाशक्ति इस कड़ी चोट को सहन न कर सकी',\n",
              "       'तो मेरे लिए सिवा मुख में कालिख लगा कर निकल जाने के और कोई मार्ग न रहेगा',\n",
              "       'मगर दुष्टों की विपत्ति ईश्वर के न्याय को सिद्ध करती है',\n",
              "       'रातभर उसे नींद न आयी रहरह कर मुंशी सत्यनारायण पर क्रोध आता था',\n",
              "       'आजकल के न्याय करने वाले बिलकुल आँख के अँधे हैं',\n",
              "       'शत्रु की हानि मनुष्य को अपने लाभ से भी अधिक प्रिय होती है मानवस्वभाव ही कुछ ऐसा है',\n",
              "       'गॉँव तुम्हें मुबारक रहे मगर ईमान आदमी का सब कुछ है',\n",
              "       'हजारों आदमी यह प्रश्न सुन कर कौतूहल से सत्यनारायण की तरफ देखने लगे',\n",
              "       'उन्हें ऐसा प्रतीत हुआ जैसे ईश्वर ने मुझे अपना मुख उज्जवल करने',\n",
              "       'हजारों मनुष्यों के मुँह से एक गगनस्पर्शी ध्वनि निकलीसत्य की जय',\n",
              "       'मानवीय न्याय पर ईश्वरीय न्याय ने जो विलक्षण विजय पायी',\n",
              "       'उनमें न खानपान का व्यवहार था न धर्म का नाता',\n",
              "       'और जुम्मन के पूज्य पिता जुमराती उन्हें शिक्षा प्रदान करते थे',\n",
              "       'अब बेचारी खालाजान को प्रायः नित्य ही ऐसी बातें सुननी पड़ती थीं',\n",
              "       'तुम्हारे साथ मेरा निर्वाह न होगा तुम मुझे रुपये दे दिया करो',\n",
              "       'सुलगते हुए उपलों से अधिक धुआँ निकलता था या चिलम के दमों से',\n",
              "       'मैंने अपनी सारी जायदाद अपने भानजे जुम्मन के नाम लिख दी थी',\n",
              "       'खालाजान जुम्मन के आक्षेप को समझ गयीं वह बोलींबेटा',\n",
              "       'मैंने उन्हें ताहयात खानाकपड़ा देना कबूल किया था',\n",
              "       'इसके अलावा हिब्बानामे में माहवार खर्च का कोई जिक्र नहीं',\n",
              "       'हमारा विचार है कि खाला की जायदाद से इतना मुनाफा अवश्य होता है',\n",
              "       'यह फैसला सुनते ही जुम्मन सन्नाटे में आ गये जो अपना मित्र हो',\n",
              "       'दूध का दूध और पानी का पानी कर दिया दोस्ती',\n",
              "       'इतना पुराना मित्रतारूपी वृक्ष सत्य का एक झोंका भी न सह सका',\n",
              "       'उधर अलगू चौधरी ने समझानेबुझाने का काम अपने तर्कपूर्ण सोंटे से लिया',\n",
              "       'नमक भर लाते और गाँव में बेचते इस बैल पर उनका मन लहराया',\n",
              "       'बेचारा जानवर अभी दम भी न लेने पाया था कि फिर जोत दिया',\n",
              "       'वह धरती पर गिर पड़ा और ऐसा गिरा कि फिर न उठा',\n",
              "       'कोई नजर न आया आसपास कोई गाँव भी न था',\n",
              "       'वह परामर्श देने लगे कि इस तरह से काम न चलेगा',\n",
              "       'पंचायत बैठ गयी तो रामधन मिश्र ने कहाअब देरी क्या है',\n",
              "       'जुम्मन का नाम सुनते ही अलगू चौधरी का कलेजा धक्धक् करने लगा',\n",
              "       'पत्रसंपादक अपनी शांति कुटी में बैठा हुआ कितनी धृष्टता और',\n",
              "       'उच्च स्थान ग्रहण करते ही अपनी जिम्मेदारी का भाव पैदा हुआ',\n",
              "       'रामधन मिश्र बोलेसमझू ने बैल को जानबूझ कर मारा है',\n",
              "       'उठ खड़े हुए और जोर से बोलेपंचपरमेश्वर की जय',\n",
              "       'इसके साथ ही चारों ओर से प्रतिध्वनि हुईपंचपरमेश्वर की जय',\n",
              "       'जहाँ विवेक की निर्मल धारा अंधविश्वासों के मरुथल की नकारात्मक रेत में ना खो गयी हो',\n",
              "       'जहाँ मन आपसे प्रेरित हो कर निरन्तरप्रगतिशील विचारों और कर्मठता की ओर बढता हो'],\n",
              "      dtype=object)"
            ]
          },
          "metadata": {
            "tags": []
          },
          "execution_count": 11
        }
      ]
    },
    {
      "cell_type": "markdown",
      "metadata": {
        "id": "tIWcAzyOxQe_"
      },
      "source": [
        "Randomly Sample Train Data of size NUM_TRAIN_SAMPLES. "
      ]
    },
    {
      "cell_type": "code",
      "metadata": {
        "colab": {
          "base_uri": "https://localhost:8080/",
          "height": 419
        },
        "id": "XPy8QG1-xPhq",
        "outputId": "4073bc2e-b373-4345-accf-8435b3c64995"
      },
      "source": [
        "NUM_TRAIN_SAMPLES = 10000\n",
        "\n",
        "train_data_sampled = train_data.sample(n=NUM_TRAIN_SAMPLES, axis=0, replace=False, random_state=42)\n",
        "train_data_sampled"
      ],
      "execution_count": null,
      "outputs": [
        {
          "output_type": "execute_result",
          "data": {
            "text/html": [
              "<div>\n",
              "<style scoped>\n",
              "    .dataframe tbody tr th:only-of-type {\n",
              "        vertical-align: middle;\n",
              "    }\n",
              "\n",
              "    .dataframe tbody tr th {\n",
              "        vertical-align: top;\n",
              "    }\n",
              "\n",
              "    .dataframe thead th {\n",
              "        text-align: right;\n",
              "    }\n",
              "</style>\n",
              "<table border=\"1\" class=\"dataframe\">\n",
              "  <thead>\n",
              "    <tr style=\"text-align: right;\">\n",
              "      <th></th>\n",
              "      <th>filename</th>\n",
              "      <th>transcripts</th>\n",
              "    </tr>\n",
              "  </thead>\n",
              "  <tbody>\n",
              "    <tr>\n",
              "      <th>22186</th>\n",
              "      <td>1498_092</td>\n",
              "      <td>कहतेकहते वह पेड़ पर खड़े हो गए</td>\n",
              "    </tr>\n",
              "    <tr>\n",
              "      <th>833</th>\n",
              "      <td>0071_051</td>\n",
              "      <td>अभी नहीं बेटा कल पहन लेना</td>\n",
              "    </tr>\n",
              "    <tr>\n",
              "      <th>78293</th>\n",
              "      <td>4698_035</td>\n",
              "      <td>पर आज उसे देखकर उनके प्राण सूख गये</td>\n",
              "    </tr>\n",
              "    <tr>\n",
              "      <th>63160</th>\n",
              "      <td>3760_034</td>\n",
              "      <td>और गांधी को जेल से रिहा करने</td>\n",
              "    </tr>\n",
              "    <tr>\n",
              "      <th>54622</th>\n",
              "      <td>3340_002</td>\n",
              "      <td>चंपा की कामना थी कि</td>\n",
              "    </tr>\n",
              "    <tr>\n",
              "      <th>...</th>\n",
              "      <td>...</td>\n",
              "      <td>...</td>\n",
              "    </tr>\n",
              "    <tr>\n",
              "      <th>21950</th>\n",
              "      <td>1487_005</td>\n",
              "      <td>दोनों पुलिसवाले बात करने के लिए दूर चले गए</td>\n",
              "    </tr>\n",
              "    <tr>\n",
              "      <th>32017</th>\n",
              "      <td>2086_009</td>\n",
              "      <td>अंत में जब महाराज खुश होकर इनाम के अतिरिक्त मं...</td>\n",
              "    </tr>\n",
              "    <tr>\n",
              "      <th>88973</th>\n",
              "      <td>5364_027</td>\n",
              "      <td>ये वो बंधन है जो कभी टूट नही सकता</td>\n",
              "    </tr>\n",
              "    <tr>\n",
              "      <th>96116</th>\n",
              "      <td>5799_076</td>\n",
              "      <td>पर बुरे कामों की सिद्धि में यह बात नहीं होती</td>\n",
              "    </tr>\n",
              "    <tr>\n",
              "      <th>33548</th>\n",
              "      <td>2194_026</td>\n",
              "      <td>और उसके साथ वह थर्माकोल के पंख भी मीनू को लगा दिए</td>\n",
              "    </tr>\n",
              "  </tbody>\n",
              "</table>\n",
              "<p>10000 rows × 2 columns</p>\n",
              "</div>"
            ],
            "text/plain": [
              "       filename                                        transcripts\n",
              "22186  1498_092                       कहतेकहते वह पेड़ पर खड़े हो गए\n",
              "833    0071_051                          अभी नहीं बेटा कल पहन लेना\n",
              "78293  4698_035                 पर आज उसे देखकर उनके प्राण सूख गये\n",
              "63160  3760_034                       और गांधी को जेल से रिहा करने\n",
              "54622  3340_002                                चंपा की कामना थी कि\n",
              "...         ...                                                ...\n",
              "21950  1487_005         दोनों पुलिसवाले बात करने के लिए दूर चले गए\n",
              "32017  2086_009  अंत में जब महाराज खुश होकर इनाम के अतिरिक्त मं...\n",
              "88973  5364_027                  ये वो बंधन है जो कभी टूट नही सकता\n",
              "96116  5799_076       पर बुरे कामों की सिद्धि में यह बात नहीं होती\n",
              "33548  2194_026  और उसके साथ वह थर्माकोल के पंख भी मीनू को लगा दिए\n",
              "\n",
              "[10000 rows x 2 columns]"
            ]
          },
          "metadata": {
            "tags": []
          },
          "execution_count": 12
        }
      ]
    },
    {
      "cell_type": "markdown",
      "metadata": {
        "id": "G6RJ9fPhxmSc"
      },
      "source": [
        "Next, Create full audio path from filenames.\n"
      ]
    },
    {
      "cell_type": "code",
      "metadata": {
        "id": "tzMaoT4RxPj3"
      },
      "source": [
        "import os\n",
        "\n",
        "def create_audio_file_paths(filename, train=True):\n",
        "  if train:\n",
        "    audio_path = os.path.join(\"OpenSLR_Hindi_Data/train/audio\", filename + \".wav\")\n",
        "  else:\n",
        "    audio_path = os.path.join(\"OpenSLR_Hindi_Data/test/audio\", filename + \".wav\")\n",
        "  return audio_path"
      ],
      "execution_count": null,
      "outputs": []
    },
    {
      "cell_type": "code",
      "metadata": {
        "id": "ZUiTaFTIxPl5"
      },
      "source": [
        "# add file path\n",
        "train_data_sampled['filename'] = train_data_sampled['filename'].map(lambda x: create_audio_file_paths(x))\n",
        "test_data['filename'] = test_data['filename'].map(lambda x: create_audio_file_paths(x, train= False))"
      ],
      "execution_count": null,
      "outputs": []
    },
    {
      "cell_type": "markdown",
      "metadata": {
        "id": "no0OvTHNx0L4"
      },
      "source": [
        "We are going to combine the sampled train data and test data from openslr and use that for training. The test data is going to be the common voice test data."
      ]
    },
    {
      "cell_type": "code",
      "metadata": {
        "id": "SQplydh6xPo2"
      },
      "source": [
        "openslr_train_data = pd.concat([train_data_sampled, test_data], ignore_index=True)"
      ],
      "execution_count": null,
      "outputs": []
    },
    {
      "cell_type": "code",
      "metadata": {
        "colab": {
          "base_uri": "https://localhost:8080/",
          "height": 419
        },
        "id": "bzadlE6awnzf",
        "outputId": "d5b660d1-d4e6-4f33-91ca-7efad36274ef"
      },
      "source": [
        "openslr_train_data"
      ],
      "execution_count": null,
      "outputs": [
        {
          "output_type": "execute_result",
          "data": {
            "text/html": [
              "<div>\n",
              "<style scoped>\n",
              "    .dataframe tbody tr th:only-of-type {\n",
              "        vertical-align: middle;\n",
              "    }\n",
              "\n",
              "    .dataframe tbody tr th {\n",
              "        vertical-align: top;\n",
              "    }\n",
              "\n",
              "    .dataframe thead th {\n",
              "        text-align: right;\n",
              "    }\n",
              "</style>\n",
              "<table border=\"1\" class=\"dataframe\">\n",
              "  <thead>\n",
              "    <tr style=\"text-align: right;\">\n",
              "      <th></th>\n",
              "      <th>filename</th>\n",
              "      <th>transcripts</th>\n",
              "    </tr>\n",
              "  </thead>\n",
              "  <tbody>\n",
              "    <tr>\n",
              "      <th>0</th>\n",
              "      <td>OpenSLR_Hindi_Data/train/audio/1498_092.wav</td>\n",
              "      <td>कहतेकहते वह पेड़ पर खड़े हो गए</td>\n",
              "    </tr>\n",
              "    <tr>\n",
              "      <th>1</th>\n",
              "      <td>OpenSLR_Hindi_Data/train/audio/0071_051.wav</td>\n",
              "      <td>अभी नहीं बेटा कल पहन लेना</td>\n",
              "    </tr>\n",
              "    <tr>\n",
              "      <th>2</th>\n",
              "      <td>OpenSLR_Hindi_Data/train/audio/4698_035.wav</td>\n",
              "      <td>पर आज उसे देखकर उनके प्राण सूख गये</td>\n",
              "    </tr>\n",
              "    <tr>\n",
              "      <th>3</th>\n",
              "      <td>OpenSLR_Hindi_Data/train/audio/3760_034.wav</td>\n",
              "      <td>और गांधी को जेल से रिहा करने</td>\n",
              "    </tr>\n",
              "    <tr>\n",
              "      <th>4</th>\n",
              "      <td>OpenSLR_Hindi_Data/train/audio/3340_002.wav</td>\n",
              "      <td>चंपा की कामना थी कि</td>\n",
              "    </tr>\n",
              "    <tr>\n",
              "      <th>...</th>\n",
              "      <td>...</td>\n",
              "      <td>...</td>\n",
              "    </tr>\n",
              "    <tr>\n",
              "      <th>13838</th>\n",
              "      <td>OpenSLR_Hindi_Data/test/audio/6033_052.wav</td>\n",
              "      <td>जहाँ मन आपसे प्रेरित हो कर निरन्तरप्रगतिशील वि...</td>\n",
              "    </tr>\n",
              "    <tr>\n",
              "      <th>13839</th>\n",
              "      <td>OpenSLR_Hindi_Data/test/audio/6033_086.wav</td>\n",
              "      <td>जहाँ मन आपसे प्रेरित हो कर निरन्तरप्रगतिशील वि...</td>\n",
              "    </tr>\n",
              "    <tr>\n",
              "      <th>13840</th>\n",
              "      <td>OpenSLR_Hindi_Data/test/audio/6033_087.wav</td>\n",
              "      <td>जहाँ मन आपसे प्रेरित हो कर निरन्तरप्रगतिशील वि...</td>\n",
              "    </tr>\n",
              "    <tr>\n",
              "      <th>13841</th>\n",
              "      <td>OpenSLR_Hindi_Data/test/audio/6033_088.wav</td>\n",
              "      <td>जहाँ मन आपसे प्रेरित हो कर निरन्तरप्रगतिशील वि...</td>\n",
              "    </tr>\n",
              "    <tr>\n",
              "      <th>13842</th>\n",
              "      <td>OpenSLR_Hindi_Data/test/audio/6033_098.wav</td>\n",
              "      <td>जहाँ मन आपसे प्रेरित हो कर निरन्तरप्रगतिशील वि...</td>\n",
              "    </tr>\n",
              "  </tbody>\n",
              "</table>\n",
              "<p>13843 rows × 2 columns</p>\n",
              "</div>"
            ],
            "text/plain": [
              "                                          filename                                        transcripts\n",
              "0      OpenSLR_Hindi_Data/train/audio/1498_092.wav                       कहतेकहते वह पेड़ पर खड़े हो गए\n",
              "1      OpenSLR_Hindi_Data/train/audio/0071_051.wav                          अभी नहीं बेटा कल पहन लेना\n",
              "2      OpenSLR_Hindi_Data/train/audio/4698_035.wav                 पर आज उसे देखकर उनके प्राण सूख गये\n",
              "3      OpenSLR_Hindi_Data/train/audio/3760_034.wav                       और गांधी को जेल से रिहा करने\n",
              "4      OpenSLR_Hindi_Data/train/audio/3340_002.wav                                चंपा की कामना थी कि\n",
              "...                                            ...                                                ...\n",
              "13838   OpenSLR_Hindi_Data/test/audio/6033_052.wav  जहाँ मन आपसे प्रेरित हो कर निरन्तरप्रगतिशील वि...\n",
              "13839   OpenSLR_Hindi_Data/test/audio/6033_086.wav  जहाँ मन आपसे प्रेरित हो कर निरन्तरप्रगतिशील वि...\n",
              "13840   OpenSLR_Hindi_Data/test/audio/6033_087.wav  जहाँ मन आपसे प्रेरित हो कर निरन्तरप्रगतिशील वि...\n",
              "13841   OpenSLR_Hindi_Data/test/audio/6033_088.wav  जहाँ मन आपसे प्रेरित हो कर निरन्तरप्रगतिशील वि...\n",
              "13842   OpenSLR_Hindi_Data/test/audio/6033_098.wav  जहाँ मन आपसे प्रेरित हो कर निरन्तरप्रगतिशील वि...\n",
              "\n",
              "[13843 rows x 2 columns]"
            ]
          },
          "metadata": {
            "tags": []
          },
          "execution_count": 16
        }
      ]
    },
    {
      "cell_type": "markdown",
      "metadata": {
        "id": "cglbKgZJyCM9"
      },
      "source": [
        "Now we can make use of 🤗 Datasets `from_pandas(...)` function to load all data files into a `Dataset` class. \n",
        "\n",
        "**Note**: Besides the json format, local data files of many other formats are also supported. Check out the official [docs](https://huggingface.co/docs/datasets/loading_datasets.html#from-a-pandas-dataframe) for more information.[link text](https:// [link text](https://))*italicized text*"
      ]
    },
    {
      "cell_type": "code",
      "metadata": {
        "id": "I0NxBv2NyFIu"
      },
      "source": [
        "from datasets import Dataset, load_metric\n",
        "\n",
        "openslr_train_data = Dataset.from_pandas(openslr_train_data)"
      ],
      "execution_count": null,
      "outputs": []
    },
    {
      "cell_type": "code",
      "metadata": {
        "colab": {
          "base_uri": "https://localhost:8080/"
        },
        "id": "SwM5ZBrQyFLF",
        "outputId": "3f82a9db-2fde-4380-a890-d0a9e9b5ce5d"
      },
      "source": [
        "openslr_train_data"
      ],
      "execution_count": null,
      "outputs": [
        {
          "output_type": "execute_result",
          "data": {
            "text/plain": [
              "Dataset({\n",
              "    features: ['filename', 'transcripts'],\n",
              "    num_rows: 13843\n",
              "})"
            ]
          },
          "metadata": {
            "tags": []
          },
          "execution_count": 18
        }
      ]
    },
    {
      "cell_type": "code",
      "metadata": {
        "id": "z5hRIwJ0yFMv"
      },
      "source": [
        "openslr_train_data = openslr_train_data.rename_column(\"filename\", \"path\")\n",
        "openslr_train_data = openslr_train_data.rename_column(\"transcripts\", \"sentence\")"
      ],
      "execution_count": null,
      "outputs": []
    },
    {
      "cell_type": "code",
      "metadata": {
        "colab": {
          "base_uri": "https://localhost:8080/"
        },
        "id": "q602Reclz3lu",
        "outputId": "25343451-63c5-4fdd-ccdb-5cd4d5af442d"
      },
      "source": [
        "openslr_train_data"
      ],
      "execution_count": null,
      "outputs": [
        {
          "output_type": "execute_result",
          "data": {
            "text/plain": [
              "Dataset({\n",
              "    features: ['path', 'sentence'],\n",
              "    num_rows: 13843\n",
              "})"
            ]
          },
          "metadata": {
            "tags": []
          },
          "execution_count": 20
        }
      ]
    },
    {
      "cell_type": "markdown",
      "metadata": {
        "id": "Go9Hq4e4NDT9"
      },
      "source": [
        "Let's write a short function to display some random samples of the dataset and run it a couple of times to get a feeling for the transcriptions."
      ]
    },
    {
      "cell_type": "code",
      "metadata": {
        "id": "72737oog2F6U"
      },
      "source": [
        "from datasets import ClassLabel\n",
        "import random\n",
        "import pandas as pd\n",
        "from IPython.display import display, HTML\n",
        "\n",
        "def show_random_elements(dataset, num_examples=10):\n",
        "    assert num_examples <= len(dataset), \"Can't pick more elements than there are in the dataset.\"\n",
        "    picks = []\n",
        "    for _ in range(num_examples):\n",
        "        pick = random.randint(0, len(dataset)-1)\n",
        "        while pick in picks:\n",
        "            pick = random.randint(0, len(dataset)-1)\n",
        "        picks.append(pick)\n",
        "    \n",
        "    df = pd.DataFrame(dataset[picks])\n",
        "    display(HTML(df.to_html()))"
      ],
      "execution_count": null,
      "outputs": []
    },
    {
      "cell_type": "code",
      "metadata": {
        "colab": {
          "base_uri": "https://localhost:8080/",
          "height": 669
        },
        "id": "K_JUmf3G3b9S",
        "outputId": "7ed15f14-ed1f-4b83-bec2-e47f0c807f0e"
      },
      "source": [
        "show_random_elements(openslr_train_data.remove_columns([\"path\"]), num_examples=20)"
      ],
      "execution_count": null,
      "outputs": [
        {
          "output_type": "display_data",
          "data": {
            "text/html": [
              "<table border=\"1\" class=\"dataframe\">\n",
              "  <thead>\n",
              "    <tr style=\"text-align: right;\">\n",
              "      <th></th>\n",
              "      <th>sentence</th>\n",
              "    </tr>\n",
              "  </thead>\n",
              "  <tbody>\n",
              "    <tr>\n",
              "      <th>0</th>\n",
              "      <td>पंचायत बैठ गयी तो रामधन मिश्र ने कहाअब देरी क्या है</td>\n",
              "    </tr>\n",
              "    <tr>\n",
              "      <th>1</th>\n",
              "      <td>हुकूमत के विरुद्ध गांधी की</td>\n",
              "    </tr>\n",
              "    <tr>\n",
              "      <th>2</th>\n",
              "      <td>इसी दौरान गांधी ने अंग्रेज़ हुकूमत</td>\n",
              "    </tr>\n",
              "    <tr>\n",
              "      <th>3</th>\n",
              "      <td>मैंने अपनी सारी जायदाद अपने भानजे जुम्मन के नाम लिख दी थी</td>\n",
              "    </tr>\n",
              "    <tr>\n",
              "      <th>4</th>\n",
              "      <td>और स्वयं पतवार पकड़कर बैठ गया</td>\n",
              "    </tr>\n",
              "    <tr>\n",
              "      <th>5</th>\n",
              "      <td>किंतु इससे थोड़ा पश्चिम हटकर प्राकृतिक रूप से फैली</td>\n",
              "    </tr>\n",
              "    <tr>\n",
              "      <th>6</th>\n",
              "      <td>यह कहता हुआ वह आगे बढ़ गया कि</td>\n",
              "    </tr>\n",
              "    <tr>\n",
              "      <th>7</th>\n",
              "      <td>इसे जेनिफर और मैथ्यू हैरिस ने स्थापित किया</td>\n",
              "    </tr>\n",
              "    <tr>\n",
              "      <th>8</th>\n",
              "      <td>में ऐसी ही खबर हमारी भी छपी होगी उन्होंने जैसे अपने आप से कहा</td>\n",
              "    </tr>\n",
              "    <tr>\n",
              "      <th>9</th>\n",
              "      <td>कर हर मैदान हर मैदान</td>\n",
              "    </tr>\n",
              "    <tr>\n",
              "      <th>10</th>\n",
              "      <td>सरदार वल्लभ भाई पटेल की पहल और</td>\n",
              "    </tr>\n",
              "    <tr>\n",
              "      <th>11</th>\n",
              "      <td>कथा कही और अपने दोनों लड़कों को उनके सामने खड़ा</td>\n",
              "    </tr>\n",
              "    <tr>\n",
              "      <th>12</th>\n",
              "      <td>चंपा ने युवक जलदस्यु के समीप आकर</td>\n",
              "    </tr>\n",
              "    <tr>\n",
              "      <th>13</th>\n",
              "      <td>मीनू कैसा रहा तुम्हारा दिन और</td>\n",
              "    </tr>\n",
              "    <tr>\n",
              "      <th>14</th>\n",
              "      <td>सूखी मूँगफली उबली और नमकीन मूँगफली भुनी हुई मूँगफली</td>\n",
              "    </tr>\n",
              "    <tr>\n",
              "      <th>15</th>\n",
              "      <td>मनु ने फूलों को एक पानी के टांक मे डाला</td>\n",
              "    </tr>\n",
              "    <tr>\n",
              "      <th>16</th>\n",
              "      <td>आजकल के न्याय करने वाले बिलकुल आँख के अँधे हैं</td>\n",
              "    </tr>\n",
              "    <tr>\n",
              "      <th>17</th>\n",
              "      <td>जो उनके अहिंसा के व्यापक</td>\n",
              "    </tr>\n",
              "    <tr>\n",
              "      <th>18</th>\n",
              "      <td>आ गए और सुरलोक सिधारे</td>\n",
              "    </tr>\n",
              "    <tr>\n",
              "      <th>19</th>\n",
              "      <td>लेकिन मेरी बनाई मिठाई की खुशबू का आनंद तो लिया है</td>\n",
              "    </tr>\n",
              "  </tbody>\n",
              "</table>"
            ],
            "text/plain": [
              "<IPython.core.display.HTML object>"
            ]
          },
          "metadata": {
            "tags": []
          }
        }
      ]
    },
    {
      "cell_type": "markdown",
      "metadata": {
        "id": "vq7OR50LN49m"
      },
      "source": [
        "We can see that the transcriptions contain some special characters, such as `,.?!;:`. Without a language model, it is much harder to classify speech chunks to such special characters because they don't really correspond to a characteristic sound unit. *E.g.*, the letter `\"s\"` has a more or less clear sound, whereas the special character `\".\"` does not.\n",
        "Also in order to understand the meaning of a speech signal, it is usually not necessary to include special characters in the transcription.\n",
        "\n",
        "In addition, we normalize the text to only have lower case letters and append a word separator token at the end.\n",
        "\n",
        "We will add `।` in the regex as its a fullstop in hindi and not necessary for transcriptions. \n"
      ]
    },
    {
      "cell_type": "code",
      "metadata": {
        "id": "svKzVJ_hQGK6"
      },
      "source": [
        "import re\n",
        "chars_to_ignore_regex = '[\\,\\?\\.\\!\\-\\;\\:\\\"\\“\\%\\‘\\”\\�\\।\\']'\n",
        "\n",
        "def remove_special_characters(batch):\n",
        "    batch[\"sentence\"] = re.sub(chars_to_ignore_regex, '', batch[\"sentence\"]).lower() + \" \"\n",
        "    return batch\n",
        "\n",
        "def filter_english_sentences(batch):\n",
        "    found = re.findall('[A-Za-z]', batch[\"sentence\"])\n",
        "    if found:\n",
        "      return False\n",
        "    else:\n",
        "      return True"
      ],
      "execution_count": null,
      "outputs": []
    },
    {
      "cell_type": "code",
      "metadata": {
        "colab": {
          "base_uri": "https://localhost:8080/",
          "height": 115,
          "referenced_widgets": [
            "7598da416fd94672a1a76af54a57942b",
            "1ea52b69b05b40e38edad599a72851f3",
            "4182fa74f48a4a52b585a64ac015f5ee",
            "5ad09da3110946eab100c8a319f0e2f7",
            "17fdf2b4e6b54ad489b767eda2e9c9ef",
            "0159697d898743fa8af6db9defb29034",
            "344cf53f3be04281a5785595f5e1067a",
            "d8b54d106bf84a7195337a1568e36572",
            "d235cfa8ef84497198373f0cf985daa4",
            "baa04c9274b947c1bdc5844e5d7eef13",
            "745837e227434c7fa7abff7f3ebe0d2c",
            "5d4ef5df83644d69873a16aa00c55bf2",
            "06d6464cc8e74179b8d16f04a6833493",
            "d68684ec73d64f35ad82c42cf44b56b1",
            "9c9155f197a747a18c8fdc3d75c41f6d",
            "28e8cf793d0c4e7397ad40520a7d8ba9"
          ]
        },
        "id": "XIHocAuTQbBR",
        "outputId": "563911d4-4e1b-4634-997b-7029519980bd"
      },
      "source": [
        "openslr_train_data = openslr_train_data.map(remove_special_characters)\n",
        "common_voice_test = common_voice_test.map(remove_special_characters)"
      ],
      "execution_count": null,
      "outputs": [
        {
          "output_type": "display_data",
          "data": {
            "application/vnd.jupyter.widget-view+json": {
              "model_id": "7598da416fd94672a1a76af54a57942b",
              "version_minor": 0,
              "version_major": 2
            },
            "text/plain": [
              "HBox(children=(FloatProgress(value=0.0, max=13843.0), HTML(value='')))"
            ]
          },
          "metadata": {
            "tags": []
          }
        },
        {
          "output_type": "stream",
          "text": [
            "\n"
          ],
          "name": "stdout"
        },
        {
          "output_type": "display_data",
          "data": {
            "application/vnd.jupyter.widget-view+json": {
              "model_id": "d235cfa8ef84497198373f0cf985daa4",
              "version_minor": 0,
              "version_major": 2
            },
            "text/plain": [
              "HBox(children=(FloatProgress(value=0.0, max=127.0), HTML(value='')))"
            ]
          },
          "metadata": {
            "tags": []
          }
        },
        {
          "output_type": "stream",
          "text": [
            "\n"
          ],
          "name": "stdout"
        }
      ]
    },
    {
      "cell_type": "code",
      "metadata": {
        "colab": {
          "base_uri": "https://localhost:8080/",
          "height": 115,
          "referenced_widgets": [
            "06e81aba9e5e48b2ae69c53641d7a173",
            "38f8b4d158ea4274be98a6649322c7d1",
            "0ab0f5ad816c44a095ff124ad75088e0",
            "4a4b6f192ee742b7998b3b76cb943830",
            "08ac6edbb8b14af4983d9a645da9ba13",
            "9a44a011ad9f4fb8b8b87ec14263a4d5",
            "4e170b28c453463faf58d7050519572f",
            "895be1a608654b7d8006aedc8bc1349c",
            "5fd34d15f0a0489a8dc93fd99912ff1b",
            "20ccfebdef3e4aa6b0f3525621b3f12c",
            "4fcb64f209bb4def87e561cc39c6beb5",
            "ae36878c73e540aa8e1712d2e01cf3d6",
            "643b099bd8b44d2b8352583842ef5c9d",
            "5d0150484e3a431c85695d01fdebff75",
            "1721395393124cd0aa9c151dde2aa8dd",
            "f9fc9b24afc9427b8c319f2b838b144c"
          ]
        },
        "id": "kmB_XQlsKwvS",
        "outputId": "1c5cd7c0-7c0a-4bbe-f48a-4f44de2beb6b"
      },
      "source": [
        "openslr_train_data = openslr_train_data.filter(filter_english_sentences)\n",
        "common_voice_test = common_voice_test.filter(filter_english_sentences)"
      ],
      "execution_count": null,
      "outputs": [
        {
          "output_type": "display_data",
          "data": {
            "application/vnd.jupyter.widget-view+json": {
              "model_id": "06e81aba9e5e48b2ae69c53641d7a173",
              "version_minor": 0,
              "version_major": 2
            },
            "text/plain": [
              "HBox(children=(FloatProgress(value=0.0, max=14.0), HTML(value='')))"
            ]
          },
          "metadata": {
            "tags": []
          }
        },
        {
          "output_type": "stream",
          "text": [
            "\n"
          ],
          "name": "stdout"
        },
        {
          "output_type": "display_data",
          "data": {
            "application/vnd.jupyter.widget-view+json": {
              "model_id": "5fd34d15f0a0489a8dc93fd99912ff1b",
              "version_minor": 0,
              "version_major": 2
            },
            "text/plain": [
              "HBox(children=(FloatProgress(value=0.0, max=1.0), HTML(value='')))"
            ]
          },
          "metadata": {
            "tags": []
          }
        },
        {
          "output_type": "stream",
          "text": [
            "\n"
          ],
          "name": "stdout"
        }
      ]
    },
    {
      "cell_type": "code",
      "metadata": {
        "colab": {
          "base_uri": "https://localhost:8080/",
          "height": 359
        },
        "id": "RBDRAAYxRE6n",
        "outputId": "7b3ecc28-8e43-4a2b-c212-25775d1010b9"
      },
      "source": [
        "show_random_elements(openslr_train_data.remove_columns([\"path\"]))"
      ],
      "execution_count": null,
      "outputs": [
        {
          "output_type": "display_data",
          "data": {
            "text/html": [
              "<table border=\"1\" class=\"dataframe\">\n",
              "  <thead>\n",
              "    <tr style=\"text-align: right;\">\n",
              "      <th></th>\n",
              "      <th>sentence</th>\n",
              "    </tr>\n",
              "  </thead>\n",
              "  <tbody>\n",
              "    <tr>\n",
              "      <th>0</th>\n",
              "      <td>भरेपूरे चाँद की चाँदनी से सब चीज़ें चाँदी सी चमक उठेंगी</td>\n",
              "    </tr>\n",
              "    <tr>\n",
              "      <th>1</th>\n",
              "      <td>मन्दिर आदि बनवाने के लिए आबादी से हट कर रमणीक स्थान चुना गया</td>\n",
              "    </tr>\n",
              "    <tr>\n",
              "      <th>2</th>\n",
              "      <td>वह कहती है कि यह साल का वह समय है जब फसलें पक जाती हैं और</td>\n",
              "    </tr>\n",
              "    <tr>\n",
              "      <th>3</th>\n",
              "      <td>अगर मैं अपनी उंगलियाँ अपनी कलाई पर रखूँ तो मैं अपनी नब्ज़ सुन सकती हूँ</td>\n",
              "    </tr>\n",
              "    <tr>\n",
              "      <th>4</th>\n",
              "      <td>गॉँव तुम्हें मुबारक रहे मगर ईमान आदमी का सब कुछ है</td>\n",
              "    </tr>\n",
              "    <tr>\n",
              "      <th>5</th>\n",
              "      <td>मोरू ने उन्हें कतार में खड़ा करवाया</td>\n",
              "    </tr>\n",
              "    <tr>\n",
              "      <th>6</th>\n",
              "      <td>बर्तन धोना कपड़े धोना कुएँ से पानी लाना गाय और</td>\n",
              "    </tr>\n",
              "    <tr>\n",
              "      <th>7</th>\n",
              "      <td>वह शत्रु का व्यवहार करे और गले पर छुरी फेरे</td>\n",
              "    </tr>\n",
              "    <tr>\n",
              "      <th>8</th>\n",
              "      <td>बहुत देर मुंशी जी करवटें बदलते रहे</td>\n",
              "    </tr>\n",
              "    <tr>\n",
              "      <th>9</th>\n",
              "      <td>पर क्या आपने कभी अपने शरीर की बात सुनी है</td>\n",
              "    </tr>\n",
              "  </tbody>\n",
              "</table>"
            ],
            "text/plain": [
              "<IPython.core.display.HTML object>"
            ]
          },
          "metadata": {
            "tags": []
          }
        }
      ]
    },
    {
      "cell_type": "markdown",
      "metadata": {
        "id": "jwfaptH5RJwA"
      },
      "source": [
        "Openslr data looks pretty clean and probably normalized. \n",
        "\n",
        "In CTC, it is common to classify speech chunks into letters, so we will do the same here. \n",
        "Let's extract all distinct letters of the training and test data and build our vocabulary from this set of letters.\n",
        "\n",
        "We write a mapping function that concatenates all transcriptions into one long transcription and then transforms the string into a set of chars. \n",
        "It is important to pass the argument `batched=True` to the `map(...)` function so that the mapping function has access to all transcriptions at once."
      ]
    },
    {
      "cell_type": "code",
      "metadata": {
        "id": "LwCshNbbeRZR"
      },
      "source": [
        "def extract_all_chars(batch):\n",
        "  all_text = \" \".join(batch[\"sentence\"])\n",
        "  vocab = list(set(all_text))\n",
        "  return {\"vocab\": [vocab], \"all_text\": [all_text]}"
      ],
      "execution_count": null,
      "outputs": []
    },
    {
      "cell_type": "code",
      "metadata": {
        "colab": {
          "base_uri": "https://localhost:8080/",
          "height": 115,
          "referenced_widgets": [
            "3869dfba3a2a475ba6f8788cca991587",
            "82a7bbcbfbe145d68d6c1f83f9068808",
            "e34a9e78503b4ccc907c21742c2e78d4",
            "6b23ae5d8f8c4f4bac703ec8b8462715",
            "8024dcbc7e184cfbb86557272b3055b1",
            "61e1d460c4a74d75aa8a95da91735494",
            "c846eccc186a4536b0aa4ae73bf652c6",
            "21372b0a6feb4a51bf382fc575ec509f",
            "fe055e182d694e6691f308184d2f8e9b",
            "87d36142804246d8aaa808623b39c1f0",
            "3ac3d489331746628b4851a44e637e80",
            "9fe66ab60b1b4bd4b84372a94b9c2469",
            "22d6af07b0e54f61a1e94e9dd5482b19",
            "2336a1479f274b8a8e360d231892db6e",
            "7bb58aa89e444404af88196ea8fddf7f",
            "e117c4e2e2254b7dad818a37348b2d4a"
          ]
        },
        "id": "_m6uUjjcfbjH",
        "outputId": "7a37f1a6-936b-4bea-9aff-44cdc0a95e74"
      },
      "source": [
        "vocab_train = openslr_train_data.map(extract_all_chars, batched=True, batch_size=-1, keep_in_memory=True, remove_columns=openslr_train_data.column_names)\n",
        "vocab_test = common_voice_test.map(extract_all_chars, batched=True, batch_size=-1, keep_in_memory=True, remove_columns=common_voice_test.column_names)"
      ],
      "execution_count": null,
      "outputs": [
        {
          "output_type": "display_data",
          "data": {
            "application/vnd.jupyter.widget-view+json": {
              "model_id": "3869dfba3a2a475ba6f8788cca991587",
              "version_minor": 0,
              "version_major": 2
            },
            "text/plain": [
              "HBox(children=(FloatProgress(value=0.0, max=1.0), HTML(value='')))"
            ]
          },
          "metadata": {
            "tags": []
          }
        },
        {
          "output_type": "stream",
          "text": [
            "\n"
          ],
          "name": "stdout"
        },
        {
          "output_type": "display_data",
          "data": {
            "application/vnd.jupyter.widget-view+json": {
              "model_id": "fe055e182d694e6691f308184d2f8e9b",
              "version_minor": 0,
              "version_major": 2
            },
            "text/plain": [
              "HBox(children=(FloatProgress(value=0.0, max=1.0), HTML(value='')))"
            ]
          },
          "metadata": {
            "tags": []
          }
        },
        {
          "output_type": "stream",
          "text": [
            "\n"
          ],
          "name": "stdout"
        }
      ]
    },
    {
      "cell_type": "code",
      "metadata": {
        "colab": {
          "base_uri": "https://localhost:8080/",
          "height": 120
        },
        "id": "ux8Pk1oGE5ZO",
        "outputId": "3a806eae-7602-4de5-add9-019f4b8fad22"
      },
      "source": [
        "## Just checking the composition of chars.\n",
        "s1 = \"वह खबर सुनते ही रो पड़ी\"\n",
        "s2 = \"वे कुछ करते क्यों नहीं\"\n",
        "s3 = \"शिवॉगी\"\n",
        "\n",
        "word = s1.split(\" \")[2]\n",
        "\n",
        "for _w in word:\n",
        "    print(_w)\n",
        "\n",
        "word[2]+word[1]"
      ],
      "execution_count": null,
      "outputs": [
        {
          "output_type": "stream",
          "text": [
            "स\n",
            "ु\n",
            "न\n",
            "त\n",
            "े\n"
          ],
          "name": "stdout"
        },
        {
          "output_type": "execute_result",
          "data": {
            "application/vnd.google.colaboratory.intrinsic+json": {
              "type": "string"
            },
            "text/plain": [
              "'नु'"
            ]
          },
          "metadata": {
            "tags": []
          },
          "execution_count": 29
        }
      ]
    },
    {
      "cell_type": "markdown",
      "metadata": {
        "id": "7oVgE8RZSJNP"
      },
      "source": [
        "Now, we create the union of all distinct letters in the training dataset and test dataset and convert the resulting list into an enumerated dictionary."
      ]
    },
    {
      "cell_type": "code",
      "metadata": {
        "id": "aQfneNsmlJI0"
      },
      "source": [
        "vocab_list = list(set(vocab_train[\"vocab\"][0]) | set(vocab_test[\"vocab\"][0]))"
      ],
      "execution_count": null,
      "outputs": []
    },
    {
      "cell_type": "code",
      "metadata": {
        "colab": {
          "base_uri": "https://localhost:8080/"
        },
        "id": "_0kRndSvqaKk",
        "outputId": "5d83e2f5-805d-4d97-db72-47bae612752e"
      },
      "source": [
        "vocab_dict = {v: k for k, v in enumerate(vocab_list)}\n",
        "vocab_dict"
      ],
      "execution_count": null,
      "outputs": [
        {
          "output_type": "execute_result",
          "data": {
            "text/plain": [
              "{' ': 67,\n",
              " 'ँ': 25,\n",
              " 'ं': 4,\n",
              " 'ः': 33,\n",
              " 'अ': 19,\n",
              " 'आ': 18,\n",
              " 'इ': 40,\n",
              " 'ई': 22,\n",
              " 'उ': 15,\n",
              " 'ऊ': 60,\n",
              " 'ऋ': 34,\n",
              " 'ऍ': 1,\n",
              " 'ए': 2,\n",
              " 'ऐ': 7,\n",
              " 'ऑ': 44,\n",
              " 'ओ': 59,\n",
              " 'औ': 6,\n",
              " 'क': 53,\n",
              " 'ख': 56,\n",
              " 'ग': 65,\n",
              " 'घ': 23,\n",
              " 'च': 14,\n",
              " 'छ': 69,\n",
              " 'ज': 64,\n",
              " 'झ': 48,\n",
              " 'ञ': 54,\n",
              " 'ट': 32,\n",
              " 'ठ': 27,\n",
              " 'ड': 26,\n",
              " 'ढ': 17,\n",
              " 'ण': 68,\n",
              " 'त': 55,\n",
              " 'थ': 41,\n",
              " 'द': 10,\n",
              " 'ध': 21,\n",
              " 'न': 31,\n",
              " 'प': 50,\n",
              " 'फ': 12,\n",
              " 'ब': 37,\n",
              " 'भ': 9,\n",
              " 'म': 16,\n",
              " 'य': 24,\n",
              " 'र': 58,\n",
              " 'ल': 66,\n",
              " 'व': 29,\n",
              " 'श': 20,\n",
              " 'ष': 36,\n",
              " 'स': 11,\n",
              " 'ह': 30,\n",
              " '़': 3,\n",
              " 'ा': 13,\n",
              " 'ि': 51,\n",
              " 'ी': 42,\n",
              " 'ु': 8,\n",
              " 'ू': 43,\n",
              " 'ृ': 45,\n",
              " 'े': 62,\n",
              " 'ै': 38,\n",
              " 'ॉ': 63,\n",
              " 'ो': 5,\n",
              " 'ौ': 28,\n",
              " '्': 52,\n",
              " 'क़': 39,\n",
              " 'ख़': 49,\n",
              " 'ग़': 46,\n",
              " 'ज़': 47,\n",
              " 'ड़': 57,\n",
              " 'ढ़': 35,\n",
              " 'फ़': 61,\n",
              " 'ॠ': 0}"
            ]
          },
          "metadata": {
            "tags": []
          },
          "execution_count": 31
        }
      ]
    },
    {
      "cell_type": "code",
      "metadata": {
        "colab": {
          "base_uri": "https://localhost:8080/"
        },
        "id": "ISNqSp0yGgaS",
        "outputId": "f6b25f4f-518d-4004-ae2e-7e21cd602c96"
      },
      "source": [
        "len(vocab_dict)"
      ],
      "execution_count": null,
      "outputs": [
        {
          "output_type": "execute_result",
          "data": {
            "text/plain": [
              "70"
            ]
          },
          "metadata": {
            "tags": []
          },
          "execution_count": 32
        }
      ]
    },
    {
      "cell_type": "markdown",
      "metadata": {
        "id": "JOSzbvs9SXT1"
      },
      "source": [
        "Cool, we see that all letters of the alphabet occur in the dataset (which is not really surprising) and we also extracted the special characters `\" \"` and `'`. Note that we did not exclude those special characters because: \n",
        "\n",
        "- The model has to learn to predict when a word is finished or else the model prediction would always be a sequence of chars which would make it impossible to separate words from each other.\n",
        "- From the transcriptions above it seems that words that include an apostrophe, such as `maktouf'un` do exist in Turkish, so I decided to keep the apostrophe in the dataset. This might be a wrong assumption though.\n",
        "\n",
        "One should always keep in mind that the data-preprocessing is a very important step before training your model. E.g., we don't want our model to differentiate between `a` and `A` just because we forgot to normalize the data. The difference between `a` and `A` does not depend on the \"sound\" of the letter at all, but more on grammatical rules - *e.g.* use a capitalized letter at the beginning of the sentence. So it is sensible to remove the difference between capitalized and non-capitalized letters so that the model has an easier time learning to transcribe speech. \n",
        "\n",
        "It is always advantageous to get help from a native speaker of the language you would like to transcribe to verify whether the assumptions you made are sensible, *e.g.* I should have made sure that keeping `'`, but removing other special characters is a sensible choice for Turkish. "
      ]
    },
    {
      "cell_type": "markdown",
      "metadata": {
        "id": "b1fBRCn-TRaO"
      },
      "source": [
        "To make it clearer that `\" \"` has its own token class, we give it a more visible character `|`. In addition, we also add an \"unknown\" token so that the model can later deal with characters not encountered in Common Voice's training set. \n",
        "\n",
        "Finally, we also add a padding token that corresponds to CTC's \"*blank token*\". The \"blank token\" is a core component of the CTC algorithm. For more information, please take a look at the \"Alignment\" section [here](https://distill.pub/2017/ctc/)."
      ]
    },
    {
      "cell_type": "code",
      "metadata": {
        "id": "npbIbBoLgaFX"
      },
      "source": [
        "vocab_dict[\"|\"] = vocab_dict[\" \"]\n",
        "del vocab_dict[\" \"]"
      ],
      "execution_count": null,
      "outputs": []
    },
    {
      "cell_type": "code",
      "metadata": {
        "id": "znF0bNunsjbl",
        "colab": {
          "base_uri": "https://localhost:8080/"
        },
        "outputId": "6bc83db4-9ca7-4df6-ecc0-1a245da17d0f"
      },
      "source": [
        "vocab_dict[\"[UNK]\"] = len(vocab_dict)\n",
        "vocab_dict[\"[PAD]\"] = len(vocab_dict)\n",
        "len(vocab_dict)"
      ],
      "execution_count": null,
      "outputs": [
        {
          "output_type": "execute_result",
          "data": {
            "text/plain": [
              "72"
            ]
          },
          "metadata": {
            "tags": []
          },
          "execution_count": 34
        }
      ]
    },
    {
      "cell_type": "markdown",
      "metadata": {
        "id": "SFPGfet8U5sL"
      },
      "source": [
        "Cool, now our vocabulary is complete and consists of 72 tokens, which means that the linear layer that we will add on top of the pretrained XLSR-Wav2Vec2 checkpoint will have an output dimension of 72."
      ]
    },
    {
      "cell_type": "markdown",
      "metadata": {
        "id": "1CujRgBNVRaD"
      },
      "source": [
        "Let's now save the vocabulary as a json file."
      ]
    },
    {
      "cell_type": "code",
      "metadata": {
        "id": "ehyUoh9vk191"
      },
      "source": [
        "import json\n",
        "with open('vocab.json', 'w') as vocab_file:\n",
        "    json.dump(vocab_dict, vocab_file)"
      ],
      "execution_count": null,
      "outputs": []
    },
    {
      "cell_type": "markdown",
      "metadata": {
        "id": "SHJDaKlIVVim"
      },
      "source": [
        "In a final step, we use the json file to instantiate an object of the `Wav2Vec2CTCTokenizer` class."
      ]
    },
    {
      "cell_type": "code",
      "metadata": {
        "id": "xriFGEWQkO4M"
      },
      "source": [
        "from transformers import Wav2Vec2CTCTokenizer\n",
        "\n",
        "tokenizer = Wav2Vec2CTCTokenizer(\"./vocab.json\", unk_token=\"[UNK]\", pad_token=\"[PAD]\", word_delimiter_token=\"|\")"
      ],
      "execution_count": null,
      "outputs": []
    },
    {
      "cell_type": "markdown",
      "metadata": {
        "id": "KvL12DrNV4cx"
      },
      "source": [
        "Next, we will create the feature extractor."
      ]
    },
    {
      "cell_type": "markdown",
      "metadata": {
        "id": "mYcIiR2FQ96i"
      },
      "source": [
        "### Create XLSR-Wav2Vec2 Feature Extractor"
      ]
    },
    {
      "cell_type": "markdown",
      "metadata": {
        "id": "Y6mDEyW719rx"
      },
      "source": [
        "Speech is a continuous signal and to be treated by computers, it first has to be discretized, which is usually called **sampling**. The sampling rate hereby plays an important role in that it defines how many data points of the speech signal are measured per second. Therefore, sampling with a higher sampling rate results in a better approximation of the *real* speech signal but also necessitates more values per second.\n",
        "\n",
        "A pretrained checkpoint expects its input data to have been sampled more or less from the same distribution as the data it was trained on. The same speech signals sampled at two different rates have a very different distribution, *e.g.*, doubling the sampling rate results in data points being twice as long. Thus, \n",
        "before fine-tuning a pretrained checkpoint of an ASR model, it is crucial to verify that the sampling rate of the data that was used to pretrain the model matches the sampling rate of the dataset used to fine-tune the model.\n",
        "\n",
        "XLSR-Wav2Vec2 was pretrained on the audio data of [Babel](https://huggingface.co/datasets/librispeech_asr), \n",
        "[Multilingual LibriSpeech (MLS)](https://ai.facebook.com/blog/a-new-open-data-set-for-multilingual-speech-research/), and [Common Voice](https://huggingface.co/datasets/common_voice). Most of those datasets were sampled at 16kHz, so that Common Voice, sampled at 48kHz, has to be downsampled to 16kHz for training. Therefore, we will have to downsample our fine-tuning data to 16kHz in the following.\n",
        "\n"
      ]
    },
    {
      "cell_type": "markdown",
      "metadata": {
        "id": "KuUbPW7oV-B5"
      },
      "source": [
        "A XLSR-Wav2Vec2 feature extractor object requires the following parameters to be instantiated:\n",
        "\n",
        "- `feature_size`: Speech models take a sequence of feature vectors as an input. While the length of this sequence obviously varies, the feature size should not. In the case of Wav2Vec2, the feature size is 1 because the model was trained on the raw speech signal ${}^2$.\n",
        "- `sampling_rate`: The sampling rate at which the model is trained on.\n",
        "- `padding_value`: For batched inference, shorter inputs need to be padded with a specific value\n",
        "- `do_normalize`: Whether the input should be *zero-mean-unit-variance* normalized or not. Usually, speech models perform better when normalizing the input\n",
        "- `return_attention_mask`: Whether the model should make use of an `attention_mask` for batched inference. In general, XLSR-Wav2Vec2 models should **always** make use of the `attention_mask`."
      ]
    },
    {
      "cell_type": "code",
      "metadata": {
        "id": "kAR0-2KLkopp"
      },
      "source": [
        "from transformers import Wav2Vec2FeatureExtractor\n",
        "\n",
        "feature_extractor = Wav2Vec2FeatureExtractor(feature_size=1, sampling_rate=16000, padding_value=0.0, do_normalize=True, return_attention_mask=True)"
      ],
      "execution_count": null,
      "outputs": []
    },
    {
      "cell_type": "markdown",
      "metadata": {
        "id": "qUETetgqYC3W"
      },
      "source": [
        "Great, XLSR-Wav2Vec2's feature extraction pipeline is thereby fully defined!\n",
        "\n",
        "To make the usage of XLSR-Wav2Vec2 as user-friendly as possible, the feature extractor and tokenizer are *wrapped* into a single `Wav2Vec2Processor` class so that one only needs a `model` and `processor` object."
      ]
    },
    {
      "cell_type": "code",
      "metadata": {
        "id": "KYZtoW-tlZgl"
      },
      "source": [
        "from transformers import Wav2Vec2Processor\n",
        "\n",
        "processor = Wav2Vec2Processor(feature_extractor=feature_extractor, tokenizer=tokenizer)"
      ],
      "execution_count": null,
      "outputs": []
    },
    {
      "cell_type": "markdown",
      "metadata": {
        "id": "fTfFDSS0YfMN"
      },
      "source": [
        "If one wants to re-use the just created processor and the fine-tuned model of this notebook, one can mount his/her google drive to the notebook and save all relevant files there. To do so, please uncomment the following lines. \n",
        "\n",
        "We will give the fine-tuned model the name `\"wav2vec2-large-xlsr-hindi\"`."
      ]
    },
    {
      "cell_type": "code",
      "metadata": {
        "id": "Par9rpypPsml"
      },
      "source": [
        "processor.save_pretrained(\"/content/gdrive/MyDrive/wav2vec2-large-xlsr-hindi\")"
      ],
      "execution_count": null,
      "outputs": []
    },
    {
      "cell_type": "markdown",
      "metadata": {
        "id": "DrKnYuvDIoOO"
      },
      "source": [
        "Next, we can prepare the dataset."
      ]
    },
    {
      "cell_type": "markdown",
      "metadata": {
        "id": "YFmShnl7RE35"
      },
      "source": [
        "### Preprocess Data\n",
        "\n",
        "So far, we have not looked at the actual values of the speech signal but just kept the path to its file in the dataset. `XLSR-Wav2Vec2` expects the audio file in the format of a 1-dimensional array, so in the first step, let's load all audio files into the dataset object.\n",
        "\n",
        "Let's first check the serialization format of the downloaded audio files by looking at the first training sample."
      ]
    },
    {
      "cell_type": "code",
      "metadata": {
        "colab": {
          "base_uri": "https://localhost:8080/"
        },
        "id": "TTCS7W6XJ9BG",
        "outputId": "f673ea5d-405a-4d0d-bf77-dfd9810fea7a"
      },
      "source": [
        "openslr_train_data[0]"
      ],
      "execution_count": null,
      "outputs": [
        {
          "output_type": "execute_result",
          "data": {
            "text/plain": [
              "{'path': 'OpenSLR_Hindi_Data/train/audio/1498_092.wav',\n",
              " 'sentence': 'कहतेकहते वह पेड़ पर खड़े हो गए '}"
            ]
          },
          "metadata": {
            "tags": []
          },
          "execution_count": 40
        }
      ]
    },
    {
      "cell_type": "markdown",
      "metadata": {
        "id": "wSBIGEiaKHMn"
      },
      "source": [
        "Alright, the audio file is saved in the `.mp3` format. The `.mp3` format is usually not the easiest format to deal with. We found that the [`torchaudio`](https://pytorch.org/audio/stable/index.html) library works best for reading in `.mp3` data. \n",
        "\n",
        "An audio file usually stores both its values and the sampling rate with which the speech signal was digitalized. We want to store both in the dataset and write a `map(...)` function accordingly."
      ]
    },
    {
      "cell_type": "code",
      "metadata": {
        "id": "al9Luo4LPpwJ"
      },
      "source": [
        "import torchaudio\n",
        "import librosa\n",
        "import numpy as np\n",
        "\n",
        "openslr_resampler = torchaudio.transforms.Resample(8000, 16_000)\n",
        "common_voice_resampler = torchaudio.transforms.Resample(48_000, 16_000)\n",
        "\n",
        "def speech_file_to_array_fn(batch, train=True):\n",
        "    speech_array, sampling_rate = torchaudio.load(batch[\"path\"])\n",
        "\n",
        "    if train:\n",
        "        batch[\"speech\"] = openslr_resampler(speech_array).squeeze().numpy()\n",
        "    else:\n",
        "        batch[\"speech\"] = common_voice_resampler(speech_array).squeeze().numpy()\n",
        "\n",
        "    batch[\"sampling_rate\"] = 16_000\n",
        "    batch[\"target_text\"] = batch[\"sentence\"]\n",
        "    return batch\n",
        "\n"
      ],
      "execution_count": null,
      "outputs": []
    },
    {
      "cell_type": "markdown",
      "metadata": {
        "id": "Iy1Cl2y9BC4e"
      },
      "source": [
        "Check the Sampling Rate of the audio files"
      ]
    },
    {
      "cell_type": "code",
      "metadata": {
        "colab": {
          "base_uri": "https://localhost:8080/"
        },
        "id": "cW7tGjnbA5JD",
        "outputId": "970b5e8f-547c-4b77-d149-f48ee819ad81"
      },
      "source": [
        "speech_arr, sampling_rate = torchaudio.load(\"OpenSLR_Hindi_Data/train/audio/1498_092.wav\")\n",
        "sampling_rate"
      ],
      "execution_count": null,
      "outputs": [
        {
          "output_type": "execute_result",
          "data": {
            "text/plain": [
              "8000"
            ]
          },
          "metadata": {
            "tags": []
          },
          "execution_count": 42
        }
      ]
    },
    {
      "cell_type": "markdown",
      "metadata": {
        "id": "l9EnQTLzJ08u"
      },
      "source": [
        "As you can see OpenSLR has audio files with low sampling rate = 8000 Hz. So we would upsample the rate to 16000 Hz."
      ]
    },
    {
      "cell_type": "code",
      "metadata": {
        "colab": {
          "base_uri": "https://localhost:8080/",
          "height": 115,
          "referenced_widgets": [
            "662c3ab5357442f7a185c089416b3b40",
            "a6b07c0902e74d40a68f68a775032bb3",
            "91ade57e660440c58d03f57fefe43884",
            "f135ff22878b4b50a70ac86fa7bf8d47",
            "1f33c19364e448a5b2691774a4c0d6df",
            "5d27014dc674458ab94977e55a18fe4a",
            "59420c03071c46bab3d604d43feeb248",
            "037f1457739d4802b7e5334d313f2568",
            "8af6a45d92d34dcf8c4d1a5f0cb8c765",
            "217f8a68d3064667b7c9c7ce33555c50",
            "04be588649594b419f464a5bf60d3483",
            "188855de345d42f5907d45be279f56ab",
            "b70ef184b2814c4989a9cb6ea4f982f1",
            "6a3c0bb3d42e4b728837a03e2a0cd43d",
            "4c9174b6f7054a9cb713d08880420e49",
            "50f630c1f5c74cd5846c1f5e75f9131c"
          ]
        },
        "id": "afeicUeWlrRL",
        "outputId": "7144e1f4-d351-4ccb-a1d2-955314afbdf7"
      },
      "source": [
        "openslr_train_data = openslr_train_data.map(speech_file_to_array_fn, remove_columns=openslr_train_data.column_names)\n",
        "common_voice_test = common_voice_test.map(speech_file_to_array_fn, remove_columns=common_voice_test.column_names, fn_kwargs={\"train\": False})"
      ],
      "execution_count": null,
      "outputs": [
        {
          "output_type": "display_data",
          "data": {
            "application/vnd.jupyter.widget-view+json": {
              "model_id": "662c3ab5357442f7a185c089416b3b40",
              "version_minor": 0,
              "version_major": 2
            },
            "text/plain": [
              "HBox(children=(FloatProgress(value=0.0, max=13843.0), HTML(value='')))"
            ]
          },
          "metadata": {
            "tags": []
          }
        },
        {
          "output_type": "stream",
          "text": [
            "\n"
          ],
          "name": "stdout"
        },
        {
          "output_type": "display_data",
          "data": {
            "application/vnd.jupyter.widget-view+json": {
              "model_id": "8af6a45d92d34dcf8c4d1a5f0cb8c765",
              "version_minor": 0,
              "version_major": 2
            },
            "text/plain": [
              "HBox(children=(FloatProgress(value=0.0, max=127.0), HTML(value='')))"
            ]
          },
          "metadata": {
            "tags": []
          }
        },
        {
          "output_type": "stream",
          "text": [
            "\n"
          ],
          "name": "stdout"
        }
      ]
    },
    {
      "cell_type": "markdown",
      "metadata": {
        "id": "ki5sXmzucc9Q"
      },
      "source": [
        "Great, now we've successfully read in all the audio files, but since we know that Common Voice is sampled at 48kHz, we need to resample the audio files to 16kHz. \n",
        "\n",
        "Let's make use of the [`librosa`](https://github.com/librosa/librosa) library to downsample the data."
      ]
    },
    {
      "cell_type": "code",
      "metadata": {
        "id": "6Y6AK3Z-kHwP"
      },
      "source": [
        "# import librosa\n",
        "# import numpy as np\n",
        "\n",
        "# def resample(batch):\n",
        "#     batch[\"speech\"] = librosa.resample(np.asarray(batch[\"speech\"]), 8000, 16_000)\n",
        "#     batch[\"sampling_rate\"] = 16_000\n",
        "#     return batch"
      ],
      "execution_count": null,
      "outputs": []
    },
    {
      "cell_type": "code",
      "metadata": {
        "id": "Ws8DyIL_kjwT"
      },
      "source": [
        "# openslr_train_data = openslr_train_data.map(resample, num_proc=4)\n",
        "# common_voice_test = common_voice_test.map(resample, num_proc=4)"
      ],
      "execution_count": null,
      "outputs": []
    },
    {
      "cell_type": "markdown",
      "metadata": {
        "id": "SOckzFd4Mbzq"
      },
      "source": [
        "This seemed to have worked! Let's listen to a couple of audio files to better understand the dataset and verify that the audio was correctly loaded. \n",
        "\n",
        "**Note**: *You can click the following cell a couple of times to listen to different speech samples.*"
      ]
    },
    {
      "cell_type": "code",
      "metadata": {
        "colab": {
          "base_uri": "https://localhost:8080/",
          "height": 75
        },
        "id": "dueM6U7Ev0OA",
        "outputId": "6fe1f144-7794-45a9-de35-b85ca25380b6"
      },
      "source": [
        "import IPython.display as ipd\n",
        "import numpy as np\n",
        "import random\n",
        "\n",
        "rand_int = random.randint(0, len(openslr_train_data)-1)\n",
        "\n",
        "ipd.Audio(data=np.asarray(openslr_train_data[rand_int][\"speech\"]), autoplay=True, rate=16000)"
      ],
      "execution_count": null,
      "outputs": [
        {
          "output_type": "execute_result",
          "data": {
            "text/html": [
              "\n",
              "                <audio controls=\"controls\" autoplay=\"autoplay\">\n",
              "                    <source src=\"data:audio/wav;base64,UklGRiTRAQBXQVZFZm10IBAAAAABAAEAgD4AAAB9AAACABAAZGF0YQDRAQAAAAAAAAAAAAAAAAAAAAAAAAAAAAAA/v/8//7/AAAAAAAAAAAAAAAAAAAAAAAAAAAAAAAAAAAAAAAAAAAAAAAAAAAAAAAAAAAAAAAAAAAAAAAAAAAAAAAAAAAAAAAAAAAAAAAAAAAAAAAAAAAAAAAAAAAAAAAAAAAAAAAAAAAAAAAAAAAAAAAAAAAAAAAAAAAAAAAAAAAAAAAAAAAAAAIABAAFAAQABAAEAAQABAAFAAQAAgAAAAAAAAAAAAAAAAAAAAAAAAAAAAAAAAAAAAAAAAAAAAAAAAAAAAAAAAAAAAAAAAAAAAAAAAAAAAAAAAAAAAAAAAAAAAAAAAAAAAAAAAAAAAAAAAAAAAAAAAAAAAAAAAAAAAAAAAAAAAAAAAAAAAAAAAAAAAAAAAAAAAAAAAAAAAAAAAAAAAAAAAAAAAAAAAAAAAAAAAAAAAAAAAAAAAAAAAAAAAAAAAAAAAAAAAAAAAAAAAAAAAAAAAAAAAAAAAAAAAAAAAAAAAAAAAAAAAAAAAAAAAAAAAAAAAAAAAAAAAAAAAAAAAAAAAAAAAAAAAAAAAAAAAAAAAAAAAAAAAAAAAAAAAAAAAAAAAAAAAAAAAAAAAAAAAAAAAAAAAAAAAAAAAAAAAAAAAAAAAAAAAAAAAAAAAAAAAAAAAAAAAAAAAAAAAAAAAAAAAAAAAAAAAAAAAAAAAAAAAAAAAAAAAAAAAAAAAAAAAAAAAAAAAAAAAAAAAAAAAAAAAAAAAAAAAAAAAAAAAAAAAAAAAAAAAAAAAAAAAAAAAAAAAAAAAAAAAAAAAAAAAAAAAAAAAAAAAAAAAAAAAAAAAAAAAAAAAAAAAAAAAAAAAAAAAAAAAAAAAAAAAAAAAAAAAAAAAAAAAAAAAAAAAAAAAAAAAAAAAAAAAAAAAAAAAAAAAAAAAAAAAAAAAAAAAAAAAAAAAAAAAAAAAAAAAAAAAAAAAAAAAAAAAAAAAAAAAAAAAAAAAAAAAAAAAAAAAAAAAAAAAAAAAAAAAAAAAAAAAAAAAAAAAAAAAAAAAAAAAAAAAAAAAAAAAAAAAAAAAAAAAAAAAAAAAAAAAAAAAAAAAAAAAAAAAAAAAAAAAAAAAAAAAAAAAAAAAAAAAAAAAAAAAAAAAAAAAAAAAAAAAAAAAAAAAAAAAAAAAAAAAAAAAAAAAAAAAAAAAAAAAAAAAAAAAAAAAAAAAAAAAAAAAAAAAAAAAAAAAAAAAAAAAAAAAAAAAAAAAAAAAAAAAAAAAAAAAAAAAAAAAAAAAAAAAAAAAAAAAAAAAAAAAAAAAAAAAAAAAAAAAAAAAAAAAAAAAAAAAAAAAAAAAAAAAAAAAAAAAAAAAAAAAAAAAAAAAAAAAAAAAAAAAAAAAAAAAAAAAAAAAAAAAAAAAAAAAAAAAAAAAAAAAAAAAAAAAAAAAAAAAAAAAAAAAAAAAAAAAAAAAAAAAAAAAAAAAAAAAAAAAAAAAAAAAAAAAAAAAAAAAAAAAAAAAAAAAAAAAAAAAAAAAAAAAAAAAAAAAAAAAAAAAAAAAAAAAAAAAAAAAAAAAAAAAAAAAAAAAAAAAAAAAAAAAAAAAAAAAAAAAAAAAAAAAAAAAAAAAAAAAAAAAAAAAAAAAAAAAAAAAAAAAAAAAAAAAAAAAAAAAAAAAAAAAAAAAAAAAAAAAAAAAAAAAAAAAAAAAAAAAAAAAAAAAAAAAAAAAAAAAAAAAAAAAAAAAAAAAAAAAAAAAAAAAAAAAAAAAAAAAAAAAAAAAAAAAAAAAAAAAAAAAAAAAAAAAAAAAAAAAAAAAAAAAAAAAAAAAAAAAAAAAAAAAAAAAAAAAAAAAAAAAAAAAAAAAAAAAAAAAAAAAAAAAAAAAAAAAAAAAAAAAAAAAAAAAAAAAAAAAAAAAAAAAAAAAAAAAAAAAAAAAAAAAAAAAAAAAAAAAAAAAAAAAAAAAAAAAAAAAAAAAAAAAAAAAAAAAAAAAAAAAAAAAAAAAAAAAAAAAAAAAAAAAAAAAAAAAAAAAAAAAAAAAAAAAAAAAAAAAAAAAAAAAAAAAAAAAAAAAAAAAAAAAAAAAAAAAAAAAAAAAAAAAAAAAAAAAAAAAAAAAAAAAAAAAAAAAAAAAAAAAAAAAAAAAAAAAAAAAAAAAAAAAAAAAAAAAAAAAAAAAAAAAAAAAAAAAAAAAAAAAAAAAAAAAAAAAAAAAAAAAAAAAAAAAAAAAAAAAAAAAAAAAAAAAAAAAAAAAAAAAAAAAAAAAAAAAAAAAAAAAAAAAAAAAAAAAAAAAAAAAAAAAAAAAAAAAAAAAAAAAAAAAAAAAAAAAAAAAAAAAAAAAAAAAAAAAAAAAAAAAAAAAAAAAAAAAAAAAAAAAAAAAAAAAAAAAAAAAAAAAAAAAAAAAAAAAAAAAAAAAAAAAAAAAAAAAAAAAAAAAAAAAAAAAAAAAAAAAAAAAAAAAAAAAAAAAAAAAAAAAAAAAAAAAAAAAAAAAAAAAAAAAAAAAAAAAAAAAAAAAAAAAAAAAAAAAAAAAAAAAAAAAAAAAAAAAAAAAAAAAAAAAAAAAAAAAAAAAAAAAAAAAAAAAAAAAAAAAAAAAAAAAAAAAAAAAAAAAAAAAAAAAAAAAAAAAAAAAAAAAAAAAAAAAAAAAAAAAAAAAAAAAAAAAAAAAAAAAAAAAAAAAAAAAAAAAAAAAAAAAAAAAAAAAAAAAAAAAAAAAAAAAAAAAAAAAAAAAAAAAAAAAAAAAAAAAAAAAAAAAAAAAAAAAAAAAAAAAAAAAAAAAAAAAAAAAAAAAAAAAAAAAAAAAAAAAAAAAAAAAAAAAAAAAAAAAAAAAAAAAAAAAAAAAAAAAAAAAAAAAAAAAAAAAAAAAAAAAAAAAAAAAAAAAAAAAAAAAAAAAAAAAAAAAAAAAAAAAAAAAAAAAAAAAAAAAAAAAAAAAAAAAAAAAAAAAAAAAAAAAAAAAAAAAAAAAAAAAAAAAAAAAAAAAAAAAAAAAAAAAAAAAAAAAAAAAAAAAAAAAAAAAAAAAAAAAAAAAAAAAAAAAAAAAAAAAAAAAAAAAAAAAAAAAAAAAAAAAAAAAAAAAAAAAAAAAAAAAAAAAAAAAAAAAAAAAAAAAAAAAAAAAAAAAAAAAAAAAAAAAAAAAAAAAAAAAAAAAAAAAAAAAAAAAAAAAAAAAAAAAAAAAAAAAAAAAAAAAAAAAAAAAAAAAAAAAAAAAAAAAAAAAAAAAAAAAAAAAAAAAAAAAAAAAAAAAAAAAAAAAAAAAAAAAAAAAAAAAAAAAAAAAAAAAAAAAAAAAAAAAAAAAAAAAAAAAAAAAAAAAAAAAAAAAAAAAAAAAAAAAAAAAAAAAAAAAAAAAAAAAAAAAAAAAAAAAAAAAAAAAAAAAAAAAAAAAAAAAAAAAAAAAAAAAAAAAAAAAAAAAAAAAAAAAAAAAAAAAAAAAAAAAAAAAAAAAAAAAAAAAAAAAAAAAAAAAAAAAAAAAAAAAAAAAAAAAAAAAAAAAAAAAAAAAAAAAAAAAAAAAAAAAAAAAAAAAAAAAAAAAAAAAAAAAAAAAAAAAAAAAAAAAAAAAAAAAAAAAAAAAAAAAAAAAAAAAAAAAAAAAAAAAAAAAAAAAAAAAAAAAAAAAAAAAAAAAAAAAAAAAAAAAAAAAAAAAAAAAAAAAAAAAAAAAAAAAAAAAAAAAAAAAAAAAAAAAAAAAAAAAAAAAAAAAAAAAAAAAAAAAAAAAAAAAAAAAAAAAAAAAAAAAAAAAAAAAAAAAAAAAAAAAAAAAAAAAAAAAAAAAAAAAAAAAAAAAAAAAAAAAAAAAAAAAAAAAAAAAAAAAAAAAAAAAAAAAAAAAAAAAAAAAAAAAAAAAAAAAAAAAAAAAAAAAAAAAAAAAAAAAAAAAAAAAAAAAAAAAAAAAAAAAAAAAAAAAAAAAAAAAAAAAAAAAAAAAAAAAAAAAAAAAAAAAAAAAAAAAAAAAAAAAAAAAAAAAAAAAAAAAAAAAAAAAAAAAAAAAAAAAAAAAAAAAAAAAAAAAAAAAAAAAAAAAAAAAAAAAAAAAAAAAAAAAAAAAAAAAAAAAAAAAAAAAAAAAAAAAAAAAAAAAAAAAAAAAAAAAAAAAAAAAAAAAAAAAAAAAAAAAAAAAAAAAAAAAAAAAAAAAAAAAAAAAAAAAAAAAAAAAAAAAAAAAAAAAAAAAAAAAAAAAAAAAAAAAAAAAAAAAAAAAAAAAAAAAAAAAAAAAAAAAAAAAAAAAAAAAAAAAAAAAAAAAAAAAAAAAAAAAAAAAAAAAAAAAAAAAAAAAAAAAAAAAAAAAAAAAAAAAAAAAAAAAAAAAAAAAAAAAAAAAAAAAAAAAAAAAAAAAAAAAAAAAAAAAAAAAAAAAAAAAAAAAAAAAAAAAAAAAAAAAAAAAAAAAAAAAAAAAAAAAAAAAAAAAAAAAAAAAAAAAAAAAAAAAAAAAAAAAAAAAAAAAAAAAAAAAAAAAAAAAAAAAAAAAAAAAAAAAAAAAAAAAAAAAAAAAAAAAAAAAAAAAAAAAAAAAAAAAAAAAAAAAAAAAAAAAAAAAAAAAAAAAAAAAAAAAAAAAAAAAAAAAAAAAAAAAAAAAAAAAAAAAAAAAAAAAAAAAAAAAAAAAAAAAAAAAAAAAAAAAAAAAAAAAAAAAAAAAAAAAAAAAAAAAAAAAAAAAAAAAAAAAAAAAAAAAAAAAAAAAAAAAAAAAAAAAAAAAAAAAAAAAAAAAAAAAAAAAAAAAAAAAAAAAAAAAAAAAAAAAAAAAAAAAAAAAAAAAAAAAAAAAAAAAAAAAAAAAAAAAAAAAAAAAAAAAAAAAAAAAAAAAAAAAAAAAAAAAAAAAAAAAAAAAAAAAAAAAAAAAAAAAAAAAAAAAAAAAAAAAAAAAAAAAAAAAAAAAAAAAAAAAAAAAAAAAAAAAAAAAAAAAAAAAAAAAAAAAAAAAAAAAAAAAAAAAAAAAAAAAAAAAAAAAAAAAAAAAAAAAAAAAAAAAAAAAAAAAAAAAAAAAAAAAAAAAAAAAAAAAAAAAAAAAAAAAAAAAAAAAAAAAAAAAAAAAAAAAAAAAAAAAAAAAAAAAAAAAAAAAAAAAAAAAAAAAAAAAAAAAAAAAAAAAAAAAAAAAAAAAAAAAAAAAAAAAAAAAAAAAAAAAAAAAAAAAAAAAAAAAAAAAAAAAAAAAAAAAAAAAAAAAAAAAAAAAAAAAAAAAAAAAAAAAAAAAAAAAAAAAAAAAAAAAAAAAAAAAAAAAAAAAAAAAAAAAAAAAAAAAAAAAAAAAAAAAAAAAAAAAAAAAAAAAAAAAAAAAAAAAAAAAAAAAAAAAAAAAAAAAAAAAAAAAAAAAAAAAAAAAAAAAAAAAAAAAAAAAAAAAAAAAAAAAAAAAAAAAAAAAAAAAAAAAAAAAAAAAAAAAAAAAAAAAAAAAAAAAAAAAAAAAAAAAAAAAAAAAAAAAAAAAAAAAAAAAAAAAAAAAAAAAAAAAAAAAAAAAAAAAAAAAAAAAAAAAAAAAAAAAAAAAAAAAAAAAAAAAAAAAAAAAAAAAAAAAAAAAAAAAAAAAAAAAAAAAAAAAAAAAAAAAAAAAAAAAAAAAAAAAAAAAAAAAAAAAAAAAAAAAAAAAAAAAAAAAAAAAAAAAAAAAAAAAAAAAAAAAAAAAAAAAAAAAAAAAAAAAAAAAAAAAAAAAAAAAAAAAAAAAAAAAAAAAAAAAAAAAAAAAAAAAAAAAAAAAAAAAAAAAAAAAAAAAAAAAAAAAAAAAAAAAAAAAAAAAAAAAAAAAAAAAAAAAAAAAAAAAAAAAAAAAAAAAAAAAAAAAAAAAAAAAAAAAAAAAAAAAAAAAAAAAAAAAAAAAAAAAAAAAAAAAAAAAAAAAAAAAAAAAAAAAAAAAAAAAAAAAAAAAAAAAAAAAAAAAAAAAAAAAAAAAAAAAAAAAAAAAAAAAAAAAAAAAAAAAAAAAAAAAAAAAAAAAAAAAAAAAAAAAAAAAAAAAAAAAAAAAAAAAAAAAAAAAAAAAAAAAAAAAAAAAAAAAAAAAAAAAAAAAAAAAAAAAAAAAAAAAAAAAAAAAAAAAAAAAAAAAAAAAAAAAAAAAAAAAAAAAAAAAAAAAAAAAAAAAAAAAAAAAAAAAAAAAAAAAAAAAAAAAAAAAAAAAAAAAAAAAAAAAAAAAAAAAAAAAAAAAAAAAAAAAAAAAAAAAAAAAAAAAAAAAAAAAAAAAAAAAAAAAAAAAAAAAAAAAAAAAAAAAAAAAAAAAAAAAAAAAAAAAAAAAAAAAAAAAAAAAAAAAAAAAAAAAAAAAAAAAAAAAAAAAAAAAAAAAAAAAAAAAAAAAAAAAAAAAAAAAAAAAAAAAAAAAAAAAAAAAAAAAAAAAAAAAAAAAAAAAAAAAAAAAAAAAAAAAAAAAAAAAAAAAAAAAAAAAAAAAAAAAAAAAAAAAAAAAAAAAAAAAAAAAAAAAAAAAAAAAAAAAAAAAAAAAAAAAAAAAAAAAAAAAAAAAAAAAAAAAAAAAAAAAAAAAAAAAAAAAAAAAAAAAAAAAAAAAAAAAAAAAAAAAAAAAAAAAAAAAAAAAAAAAAAAAAAAAAAAAAAAAAAAAAAAAAAAAAAAAAAAAAAAAAAAAAAAAAAAAAAAAAAAAAAAAAAAAAAAAAAAAAAAAAAAAAAAAAAAAAAAAAAAAAAAAAAAAAAAAAAAAAAAAAAAAAAAAAAAAAAAAAAAAAAAAAAAAAAAAAAAAAAAAAAAAAAAAAAAAAAAAAAAAAAAAAAAAAAAAAAAAAAAAAAAAAAAAAAAAAAAAAAAAAAAAAAAAAAAAAAAAAAAAAAAAAAAAAAAAAAAAAAAAAAAAAAAAAAAAAAAAAAAAAAAAAAAAAAAAAAAAAAAAAAAAAAAAAAAAAAAAAAAAAAAAAAAAAAAAAAAAAAAAAAAAAAAAAAAAAAAAAAAAAAAAAAAAAAAAAAAAAAAAAAAAAAAAAAAAAAAAAAAAAAAAAAAAAAAAAAAAAAAAAAAAAAAAAAAAAAAAAAAAAAAAAAAAAAAAAAAAAAAAAAAAAAAAAAAAAAAAAAAAAAAAAAAAAAAAAAAAAAAAAAAAAAAAAAAAAAAAAAAAAAAAAAAAAAAAAAAAAAAAAAAAAAAAAAAAAAAAAAAAAAAAAAAAAAAAAAAAAAAAAAAAAAAAAAAAAAAAAAAAAAAAAAAAAAAAAAAAAAAAAAAAAAAAAAAAAAAAAAAAAAAAAAAAAAAAAAAAAAAAAAAAAAAAAAAAAAAAAAAAAAAAAAAAAAAAAAAAAAAAAAAAAAAAAAAAAAAAAAAAAAAAAAAAAAAAAAAAAAAAAAAAAAAAAAAAAAAAAAAAAAAAAAAAAAAAAAAAAAAAAAAAAAAAAAAAAAAAAAAAAAAAAAAAAAAAAAAAAAAAAAAAAAAAAAAAAAAAAAAAAAAAAAAAAAAAAAAAAAAAAAAAAAAAAAAAAAAAAAAAAAAAAAAAAAAAAAAAAAAAAAAAAAAAAAAAAAAAAAAAAAAAAAAAAAAAAAAAAAAAAAAAAAAAAAAAAAAAAAAAAAAAAAAAAAAAAAAAAAAAAAAAAAAAAAAAAAAAAAAAAAAAAAAAAAAAAAAAAAAAAAAAAAAAAAAAAAAAAAAAAAAAAAAAAAAAAAAAAAAAAAAAAAAAAAAAAAAAAAAAAAAAAAAAAAAAAAAAAAAAAAAAAAAAAAAAAAAAAAAAAAAAAAAAAAAAAAAAAAAAAAAAAAAAAAAAAAAAAAAAAAAAAAAAAAAAAAAAAAAAAAAAAAAAAAAAAAAAAAAAAAAAAAAAAAAAAAAAAAAAAAAAAAAAAAAAAAAAAAAAAAAAAAAAAAAAAAAAAAAAAAAAAAAAAAAAAAAAAAAAAAAAAAAAAAAAAAAAAAAAAAAAAAAAAAAAAAAAAAAAAAAAAAAAAAAAAAAAAAAAAAAAAAAAAAAAAAAAAAAAAAAAAAAAAAAAAAAAAAAAAAAAAAAAAAAAAAAAAAAAAAAAAAAAAAAAAAAAAAAAAAAAAAAAAAAAAAAAAAAAAAAAAAAAAAAAAAAAAAAAAAAAAAAAAAAAAAAAAAAAAAAAAAAAAAAAAAAAAAAAAAAAAAAAAAAAAAAAAAAAAAAAAAAAAAAAAAAAAAAAAAAAAAAAAAAAAAAAAAAAAAAAAAAAAAAAAAAAAAAAAAAAAAAAAAAAAAAAAAAAAAAAAAAAAAAAAAAAAAAAAAAAAAAAAAAAAAAAAAAAAAAAAAAAAAAAAAAAAAAAAAAAAAAAAAAAAAAAAAAAAAAAAAAAAAAAAAAAAAAAAAAAAAAAAAAAAAAAAAAAAAAAAAAAAAAAAAAAAAAAAAAAAAAAAAAAAAAAAAAAAAAAAAAAAAAAAAAAAAAAAAAAAAAAAAAAAAAAAAAAAAAAAAAAAAAAAAAAAAAAAAAAAAAAAAAAAAAAAAAAAAAAAAAAAAAAAAAAAAAAAAAAAAAAAAAAAAAAAAAAAAAAAAAAAAAAAAAAAAAAAAAAAAAAAAAAAAAAAAAAAAAAAAAAAAAAAAAAAAAAAAAAAAAAAAAAAAAAAAAAAAAAAAAAAAAAAAAAAAAAAAAAAAAAAAAAAAAAAAAAAAAAAAAAAAAAAAAAAAAAAAAAAAAAAAAAAAAAAAAAAAAAAAAAAAAAAAAAAAAAAAAAAAAAAAAAAAAAAAAAAAAAAAAAAAAAAAAAAAAAAAAAAAAAAAAAAAAAAAAAAAAAAAAAAAAAAAAAAAAAAAAAAAAAAAAAAAAAAAAAAAAAAAAAAAAAAAAAAAAAAAAAAAAAAAAAAAAAAAAAAAAAAAAAAAAAAAAAAAAAAAAAAAAAAAAAAAAAAAAAAAAAAAAAAAAAAAAAAAAAAAAAAAAAAAAAAAAAAAAAAAAAAAAAAAAAAAAAAAAAAAAAAAAAAAAAAAAAAAAAAAAAAAAAAAAAAAAAAAAAAAAAAAAAAAAAAAAAAAAAAAAAAAAAAAAAAAAAAAAAAAAAAAAAAAAAAAAAAAAAAAAAAAAAAAAAAAAAAAAAAAAAAAAAAAAAAAAAAAAAAAAAAAAAAAAAAAAAAAAAAAAAAAAAAAAAAAAAAAAAAAAAAAAAAAAAAAAAAAAAAAAAAAAAAAAAAAAAAAAAAAAAAAAAAAAAAAAAAAAAAAAAAAAAAAAAAAAAAAAAAAAAAAAAAAAAAAAAAAAAAAAAAAAAAAAAAAAAAAAAAAAAAAAAAAAAAAAAAAAAAAAAAAAAAAAAAAAAAAAAAAAAAAAAAAAAAAAAAAAAAAAAAAAAAAAAAAAAAAAAAAAAAAAAAAAAAAAAAAAAAAAAAAAAAAAAAAAAAAAAAAAAAAAAAAAAAAAAAAAAAAAAAAAAAAAAAAAAAAAAAAAAAAAAAAAAAAAAAAAAAAAAAAAAAAAAAAAAAAAAAAAAAAAAAAAAAAAAAAAAAAAAAAAAAAAAAAAAAAAAAAAAAAAAAAAAAAAAAAAAAAAAAAAAAAAAAAAAAAAAAAAAAAAAAAAAAAAAAAAAAAAAAAAAAAAAAAAAAAAAAAAAAAAAAAAAAAAAAAAAAAAAAAAAAAAAAAAAAAAAAAAAAAAAAAAAAAAAAAAAAAAAAAAAAAAAAAAAAAAAAAAAAAAAAAAAAAAAAAAAAAAAAAAAAAAAAAAAAAAAAAAAAAAAAAAAAAAAAAAAAAAAAAAAAAAAAAAAAAAAAAAAAAAAAAAAAAAAAAAAAAAAAAAAAAAAAAAAAAAAAAAAAAAAAAAAAAAAAAAAAAAAAAAAAAAAAAAAAAAAAAAAAAAAAAAAAAAAAAAAAAAAAAAAAAAAAAAAAAAAAAAAAAAAAAAAAAAAAAAAAAAAAAAAAAAAAAAAAAAAAAAAAAAAAAAAAAAAAAAAAAAAAAAAAAAAAAAAAAAAAAAAAAAAAAAAAAAAAAAAAAAAAAAAAAAAAAAAAAAAAAAAAAAAAAAAAAAAAAAAAAAAAAAAAAAAAAAAAAAAAAAAAAAAAAAAAAAAAAAAAAAAAAAAAAAAAAAAAAAAAAAAAAAAAAAAAAAAAAAAAAAAAAAAAAAAAAAAAAAAAAAAAAAAAAAAAAAAAAAAAAAAAAAAAAAAAAAAAAAAAAAAAAAAAAAAAAAAAAAAAAAAAAAAAAAAAAAAAAAAAAAAAAAAAAAAAAAAAAAAAAAAAAAAAAAAAAAAAAAAAAAAAAAAAAAAAAAAAAAAAAAAAAAAAAAAAAAAAAAAAAAAAAAAAAAAAAAAAAAAAAAAAAAAAAAAAAAAAAAAAAAAAAAAAAAAAAAAAAAAAAAAAAAAAAAAAAAAAAAAAAAAAAAAAAAAAAAAAAAAAAAAAAAAAAAAAAAAAAAAAAAAAAAAAAAAAAAAAAAAAAAAAAAAAAAAAAAAAAAAAAAAAAAAAAAAAAAAAAAAAAAAAAAAAAAAAAAAAAAAAAAAAAAAAAAAAAAAAAAAAAAAAAAAAAAAAAAAAAAAAAAAAAAAAAAAAAAAAAAAAAAAAAAAAAAAAAAAAAAAAAAAAAAAAAAAAAAAAAAAAAAAAAAAAAAAAAAAAAAAAAAAAAAAAAAAAAAAAAAAAAAAAAAAAAAAAAAAAAAAAAAAAAAAAAAAAAAAAAAAAAAAAAAAAAAAAAAAAAAAAAAAAAAAAAAAAAAAAAAAAAAAAAAAAAAAAAAAAAAAAAAAAAAAAAAAAAAAAAAAAAAAAAAAAAAAAAAAAAAAAAAAAAAAAAAAAAAAAAAAAAAAAAAAAAAAAAAAAAAAAAAAAAAAAAAAAAAAAAAAAAAAAAAAAAAAAAAAAAAAAAAAAAAAAAAAAAAAAAAAAAAAAAAAAAAAAAAAAAAAAAAAAAAAAAAAAAAAAAAAAAAAAAAAAAAAAAAAAAAAAAAAAAAAAAAAAAAAAAAAAAAAAAAAAAAAAAAAAAAAAAAAAAAAAAAAAAAAAAAAAAAAAAAAAAAAAAAAAAAAAAAAAAAAAAAAAAAAAAAAAAAAAAAAAAAAAAAAAAAAAAAAAAAAAAAAAAAAAAAAAAAAAAAAAAAAAAAAAAAAAAAAAAAAAAAAAAAAAAAAAAAAAAAAAAAAAAAAAAAAAAAAAAAAAAAAAAAAAAAAAAAAAAAAAAAAAAAAAAAAAAAAAAAAAAAAAAAAAAAAAAAAAAAAAAAAAAAAAAAAAAAAAAAAAAAAAAAAAAAAAAAAAAAAAAAAAAAAAAAAAAAAAAAAAAAAAAAAAAAAAAAAAAAAAAAAAAAAAAAAAAAAAAAAAAAAAAAAAAAAAAAAAAAAAAAAAAAAAAAAAAAAAAAAAAAAAAAAAAAAAAAAAAAAAAAAAAAAAAAAAAAAAAAAAAAAAAAAAAAAAAAAAAAAAAAAAAAAAAAAAAAAAAAAAAAAAAAAAAAAAAAAAAAAAAAAAAAAAAAAAAAAAAAAAAAAAAAAAAAAAAAAAAAAAAAAAAAAAAAAAAAAAAAAAAAAAAAAAAAAAAAAAAAAAAAAAAAAAAAAAAAAAAAAAAAAAAAAAAAAAAAAAAAAAAAAAAAAAAAAAAAAAAAAAAAAAAAAAAAAAAAAAAAAAAAAAAAAAAAAAAAAAAAAAAAAAAAAAAAAAAAAAAAAAAAAAAAAAAAAAAAAAAAAAAAAAAAAAAAAAAAAAAAAAAAAAAAAAAAAAAAAAAAAAAAAAAAAAAAAAAAAAAAAAAAAAAAAAAAAAAAAAAAAAAAAAAAAAAAAAAAAAAAAAAAAAAAAAAAAAAAAAAAAAAAAAAAAAAAAAAAAAAAAAAAAAAAAAAAAAAAAAAAAAAAAAAAAAAAAAAAAAAAAAAAAAAAAAAAAAAAAAAAAAAAAAAAAAAAAAAAAAAAAAAAAAAAAAAAAAAAAAAAAAAAAAAAAAAAAAAAAAAAAAAAAAAAAAAAAAAAAAAAAAAAAAAAAAAAAAAAAAAAAAAAAAAAAAAAAAAAAAAAAAAAAAAAAAAAAAAAAAAAAAAAAAAAAAAAAAAAAAAAAAAAAAAAAAAAAAAAAAAAAAAAAAAAAAAAAAAAAAAAAAAAAAAAAAAAAAAAAAAAAAAAAAAAAAAAAAAAAAAAAAAAAAAAAAAAAAAAAAAAAAAAAAAAAAAAAAAAAAAAAAAAAAAAAAAAAAAAAAAAAAAAAAAAAAAAAAAAAAAAAAAAAAAAAAAAAAAAAAAAAAAAAAAAAAAAAAAAAAAAAAAAAAAAAAAAAAAAAAAAAAAAAAAAAAAAAAAAAAAAAAAAAAAAAAAAAAAAAAAAAAAAAAAAAAAAAAAAAAAAAAAAAAAAAAAAAAAAAAAAAAAAAAAAAAAAAAAAAAAAAAAAAAAAAAAAAAAAAAAAAAAAAAAAAAAAAAAAAAAAAAAAAAAAAAAAAAAAAAAAAAAAAAAAAAAAAAAAAAAAAAAAAAAAAAAAAAAAAAAAAAAAAAAAAAAAAAAAAAAAAAAAAAAAAAAAAAAAAAAAAAAAAAAAAAAAAAAAAAAAAAAAAAAAAAAAAAAAAAAAAAAAAAAAAAAAAAAAAAAAAAAAAAAAAAAAAAAAAAAAAAAAAAAAAAAAAAAAAAAAAAAAAAAAAAAAAAAAAAAAAAAAAAAAAAAAAAAAAAAAAAAAAAAAAAAAAAAAAAAAAAAAAAAAAAAAAAAAAAAAAAAAAAAAAAAAAAAAAAAAAAAAAAAAAAAAAAAAAAAAAAAAAAAAAAAAAAAAAAAAAAAAAAAAAAAAAAAAAAAAAAAAAAAAAAAAAAAAAAAAAAAAAAAAAAAAAAAAAAAAAAAAAAAAAAAAAAAAAAAAAAAAAAAAAAAAAAAAAAAAAAAAAAAAAAAAAAAAAAAAAAAAAAAAAAAAAAAAAAAAAAAAAAAAAAAAAAAAAAAAAAAAAAAAAAAAAAAAAAAAAAAAAAAAAAAAAAAAAAAAAAAAAAAAAAAAAAAAAAAAAAAAAAAAAAAAAAAAAAAAAAAAAAAAAAAAAAAAAAAAAAAAAAAAAAAAAAAAAAAAAAAAAAAAAAAAAAAAAAAAAAAAAAAAAAAAAAAAAAAAAAAAAAAAAAAAAAAAAAAAAAAAAAAAAAAAAAAAAAAAAAAAAAAAAAAAAAAAAAAAAAAAAAAAAAAAAAAAAAAAAAAAAAAAAAAAAAAAAAAAAAAAAAAAAAAAAAAAAAAAAAAAAAAAAAAAAAAAAAAAAAAAAAAAAAAAAAAAAAAAAAAAAAAAAAAAAAAAAAAAAAAAAAAAAAAAAAAAAAAAAAAAAAAAAAAAAAAAAAAAAAAAAAAAAAAAAAAAAAAAAAAAAAAAAAAAAAAAAAAAAAAAAAAAAAAAAAAAAAAAAAAAAAAAAAAAAAAAAAAAAAAAAAAAAAAAAAAAAAAAAAAAAAAAAAAAAAAAAAAAAAAAAAAAAAAAAAAAAAAAAAAAAAAAAAAAAAAAAAAAAAAAAAAAAAAAAAAAAAAAAAAAAAAAAAAAAAAAAAAAAAAAAAAAAAAAAAAAAAAAAAAAAAAAAAAAAAAAAAAAAAAAAAAAAAAAAAAAAAAAAAAAAAAAAAAAAAAAAAAAAAAAAAAAAAAAAAAAAAAAAAAAAAAAAAAAAAAAAAAAAAAAAAAAAAAAAAAAAAAAAAAAAAAAAAAAAAAAAAAAAAAAAAAAAAAAAAAAAAAAAAAAAAAAAAAAAAAAAAAAAAAAAAAAAAAAAAAAAAAAAAAAAAAAAAAAAAAAAAAAAAAAAAAAAAAAAAAAAAAAAAAAAAAAAAAAAAAAAAAAAAAAAAAAAAAAAAAAAAAAAAAAAAAAAAAAAAAAAAAAAAAAAAAAAAAAAAAAAAAAAAAAAAAAAAAAAAAAAAAAAAAAAAAAAAAAAAAAAAAAAAAAAAAAAAAAAAAAAAAAAAAAAAAAAAAAAAAAAAAAAAAAAAAAAAAAAAAAAAAAAAAAAAAAAAAAAAAAAAAAAAAAAAAAAAAAAAAAAAAAAAAAAAAAAAAAAAAAAAAAAAAAAAAAAAAAAAAAAAAAAAAAAAAAAAAAAAAAAAAAAAAAAAAAAAAAAAAAAAAAAAAAAAAAAAAAAAAAAAAAAAAAAAAAAAAAAAAAAAAAAAAAAAAAAAAAAAAAAAAAAAAAAAAAP//AAAEAAkACQAEAP//9//x//P/+/8AAP///P/+/wAA/f/3//X/9//8/wAAAwAEAAUABAACAAAA//8AAAYADgAQAAkA/f/y//D/9/8BAAkACgAJAAcAAADz/+7/9/8AAP3/9//6/wAA///3//P/9////wQABQAEAAQABAACAAAAAAAEAAsAEgAVAA0A/v/z//T//P8AAAAAAQAEAAYABAAAAPz//P8AAAQABAACAAQADQASAA4ACQAMABcAHgAcABMACQADAAQACgANAAoABAABAAAA/f/3//P/8v/1//f/9//3//j/9//0//P/9f/3//f//P8HAA0ACQAEAAsAEgAOAAQAAAAAAAAAAAABAPz/7//p//L/AAAGAAAA+f/8/wgADQAEAPz/AAAAAPD/5f/x/wQACAAAAP3/AAAAAPz/9//3//z/AAD///z/+//8//r/9//2//z/AgAAAPP/6f/t//L/7P/l/+r/9//9//z//P8AAAQABAACAAQADgAbACUAJQAfABcADwAEAPf/7v/w//f/+v/3//b//P8GAA0ACwAEAAIABAADAAAA/f/8//z//P/7//z///8AAP//AAAIABcAIgAgABQADgAUABsAFwAOAAoACQADAPz/9//3//r/9//y//f/CAASAAoABQAQABsAEgD8/+7/7v/x//P/8v/z//X/9//2//P/8f/y//X/9//4//f/+f8AAAgABADz/+n/9P8EAAgACQAUACAAIAAXABAADQAKAAQAAAD8//r//P/8//L/4f/X/9v/4P/Y/83/0f/k//n/BAALABIAIAAuADcAPAA8AC4AFAAAAAAAEgAiACAAEwAOABkAJQAgABcAFQANAPj/5f/n//f/AgAJAA8AEgAMAAAA9P/p/+T/6f/2/wAAAAD8//j/7v/a/83/0f/b/9z/1//U/9b/1//S/8v/zf/c/+n/7P/u//b/9//p/9v/4f/y////BAALABIAEwAOAAUA/P/0//L/+P8AAAUABAAAAPz/AAAJABUAIAAmACAAEwAOABYAIAAfABcAEgANAAcABAANABsAIwAgABcADgAFAAAA/f/8//7/AAAAAPz/+P/3//f/9//3//z/CAAcAC0AMwAsACAAFgANAAUAAAAAAAAA/v/8//v/9//x//P/AQASABgAEgAIAAAA+//8/wQAEgAeACAAGAAOAAQA9//k/9f/1//g/+b/6f/s/+n/5P/p//3/CQAAAOn/2f/b/+X/5P/a/9z/9f8NABAACQAKAAgA+f/l/+D/6f/z//f/+P/3//T/8//z//L/8f/z//j/AAAGAAkACwANABMAHAAhABwACwD3/+3/9/8QACUAKAAgABoAFwASAA4ADQANAAoABAAAAAAAAwAEAAIABAAPACAALQAuACUAFwAMAAkACgAEAPX/5f/d/+D/5P/g/9X/zf/P/9b/3P/b/9v/5f/3/wQABwAJABQAGwAVAA4ADwANAP//8//4/wAA+//u/+3//P8NABIABgDz/+D/0v/I/8n/1//p//X/9//2//f/+v/8//z/AAAJAA0ABgD8//j//P8AAAQADQAcACkAKQAZAAkACQAbADMARgBPAE8ARgA4ACgAHAAVABIAEAANAAoABAD9//L/7P/3/xMALgA3AC4AIQASAAUAAAAEAAkAAwD3/+z/6f/r/+7/7//z//j//P/6//f/+P/8//7//P/5//f/9//y/+j/2//Q/8j/xP/E/8j/0v/e/+T/4//g/+P/6f/v//f/AAAEAAAA9//0//f/+//8//z/AAAIAA0ADQAJAAcACQALAA4AEgASAA0ACQAKAA0AEAAXACQALgArACAAFwASAA0ACQAGAAQAAgAAAP7/9//t/+n/8P/8/wUAEgAjAC4AKwAcAA0ACQAOABcAGwAXAA4ABAD5/+T/y/+7/77/zf/Z/9v/2v/g/+///P8AAAAABgASABkAFwAQAA4AEQASAAcA8//g/9v/5v/8/w8AEgADAPP/6v/p/+T/1v/L/9L/6v8AAAMA/P/5//z//v8AAAoAGwArADMAMAAlABoAEgAOAAkAAQD8//n/9//z/+7/5//b/83/xP/H/9f/6f/y//b/BAAkAEEARwA8ADIALgAqACUAIAAbABUADgAIAAQAAAD3/+j/2//U/83/yv/X//f/FwAiABcACwASACsAQQBGAEEAPAAzAB4ACQAAAPf/4v/J/7T/o/+P/37/e/+M/6v/zf/q/wAADwAXABsAJQA/AGYAigCaAI8AdABYAEEAKwAXAA0AHAA7AE8AQQAhAAUA8v/l/+n/BAAlADEAJQANAPf/6v/k/+b/7v/3//L/2v+//7X/uv/D/8n/zf/S/9P/0v/R/9f/5P/y//r/9//s/9v/y//J/9r/9/8TACUAKQAcAAAA2/+7/63/sv+//8n/zf/S/9b/2v/g/+r/9/8CAAkADAASAB4AKQAvAC4AKgAlACAAIAAqADcAQgBGAEMAPAAyACUAGAAXAB0AFwD7/9v/z//W/97/2//S/83/z//S/8//zf/T/9v/3//l//L/AAAFAAQAAwAEAAcACQALAA4AEQASAA4ACQAIAA4AFQAcAB4AHAAXABIADAAEAP//AAANACAAMAAzACwAJQAhABcABAD3//j//P/z/+X/4P/k/+r/7v/z//f/9//3//j/9//1//z/DAAbAB4AFwARAA0ACQAEAAMABAAAAO7/1v/N/97/9/8DAAQABQAJAAwACQAEAAQADAASABEAEgAbACUAJQAgACEAKQAxADMALgAlAB0AFwASAA0ACgAOABgAIAAeABcADwAEAPn//P8RACUAJQAcABgAGwAYAAkA9v/p/+f/5P/W/7//rf+o/63/tv+//8n/0P/N/7//sf+x/7r/xv/S/9r/1v/F/7b/uf/N/+f//P8GAAQA+f/p/93/2//k//L///8EAAIAAAABAAQACAASAB4AGwAAANv/yv/g/xEAQQBWAFQARgAzAB0AEwAaACUAJwAqADYARQBHADgAJwAqAEEAWABcAEoANQAqACMAEgD2/+D/4f/y//3/9//s//P/DQAkACQAFwAOAAQA9f/z/wwAKQAyAC8AKQANANv/wP/Z/wMAFwAhADgATgBHACoAEgAJAAYABAABAPz/8//u/+r/2//A/63/rP+s/53/h/+C/5D/pf+2/8P/1//1/xcAMgBBAEcASgBLAEUAOwA4AEEARQA2ABwABQD3/+n/2//N/7b/lP95/3P/ff+Q/6j/vP+6/5v/ef9x/4L/of/E/+D/3/+9/5r/l/+x/9T/+P8SABcABAD3/wMAJQBEAFQAVQBUAEwAMwAMAPP/+f8SAB0ACQDo/9v/8v8SACMAJQAlACAADwD8//r/EgBBAHkAowCjAHkASwA3ADcAOwBBAE4AUwBBACAABwAAAAcAEgAZABcADQAAAPb/9/8EAA0ADgAcAD8AXABfAFkAZAB0AG8AVAAwAA0A9P/u////FwAkACAADwD3/9z/yf/F/83/2f/g/9//1v/K/8T/x//S/9z/5f/q/+7/8P/y//b//P8BAAQAAAD3/+3/7v/2//L/2/+//7H/p/+b/5X/ov+1/8P/0v/r/wQAEwAXABcAEgABAOT/yf/E/9z/BAAkACoAEwDu/8X/o/+O/4z/ov/I//H/DgAaABcADgAOAB0AOABMAE8APQAgAAcA9//y//f/AwAOAA0AAADx/+7///8bADQAPAA1ACUAFwASABsALgBDAE8ASAAlAPX/1//j/w0APwBmAH8AggBsAEYAHgAEAAAADgAdABIA5/+x/47/gv+J/5//v//b/+b/5f/h/+T/8P8AABMAJQAwADMALQAgABIADgAOAAAA2v+x/53/nv+p/7b/yf/g//D/7v/f/+D/AgAzAFMAXQBZAEoAMAANAPL/7v/8//v/2v+y/5v/i/9x/13/bf+a/8j/4P/c/8T/pv+V/5//yP8OAGYAtgDgANIAmgBZADgAQQBdAG0AawBbADcABQDl/+v/BAAWABwAHAANAO//1//b//f/EwAlACkAIAAQAAQACQAlAFIAfgCRAIIAWAAqAAkA9//s/+7/+f/8/+b/v/+d/5H/kv+M/3f/a/98/57/t/+6/7X/u//T//L/DwAzAGEAggB9AFQAJQASACcATwBrAHAAXAAzAAAA2//Z/+7/AgAOAA0A+//e/87/0f/N/6z/h/+A/5X/sP/J/+D/8v/6//f/9P8AAB4AQQBWAF0AWgBPADoAJQAXABIAEAAOAAcA/P/s/+X/6v/y//T/8//w/+T/1f/c/wAAKQA3AC8AIQANAPL/2//d//L/BwANAAQA9//u/+n/6f/3/xEAJQAkABwAHgAlACQAHAAUAA0ABgAAAPv/9//x/+T/1P/N/9P/1v/M/8T/yv/R/9T/5f8PADwATQBGADsAMwApACAAHgAgACMAIAAXAAkA+//u/+T/4P/h/+T/5//p/+z/6f/h/+D/7v8EABcAJQA2AE8AZABhAEIAFwD7//L/9f/8////9//g/8T/rv+o/6//v//Q/9v/3//g/97/2//c/+7/DgApACgADgDt/9L/yP/b/wMAJQAoABIA+P/k/9v/4P/x/wQAEQASAAcA9//m/9v/3f/z/xQALgAyACUAFgAJAPz/7v/p//f/EAAgABYA9//W/8T/wP/E/8f/yP/M/9f/4//p/+r/8/8FABcAGwAcACYANwBEAEYAPgAzACgAJQApAC4AMQA4AEIAQQAtABIAAwAAAAIACQAYAC4APQA3ACAADgAXADwAZAB0AGUARgAmAAkA8f/u/wcAJQAnAAkA4P+//67/qP+m/6j/r/+x/6f/lf+I/4f/lP+x/9f/9/8IABIAGwAbAA0A8//a/9L/3P/u//z/AAD+//f/7//u//P/8v/l/9f/1f/b/+T/9/8VAC4ANQAzADgARgBMADwAGgD8//H/8v/z//f/AAAAAOr/zf/B/8j/2v/u/wEADQAQAA4ADQASABwAKQA7AE8AXQBYAD4AHAADAPz//P/8//r/AAAPABIABAD8/woAGwATAPP/z/+//8L/yP/Q/+7/IgBKAEoAPQBDAFMATwA4AB8ADQD//+n/0v/J/87/zf+5/6j/sv/N/+P/8/8AAAQAAQAEABoANwBHAEEAKwASAP3/6f/Y/83/zP/X/+T/6f/p//f/GQA8AEkARgA9ACQA9v/J/7X/tv++/9L/+P8lAEEANwAPAOn/3//p//P/9//+/wQAAwD8//b/AAAhAE8AeACQAJIAfgBXACUA9//g/9n/vv+K/2z/iP/D/+r/8//3/wAAAwD8/+z/4P/g/+7/+f/p/8H/qP+w/7r/rv+o/8P/5P/l/9L/zv/k/wMAHAAqADMAPABBADsAMwAvACkAHQAXABkADQDs/87/zP/b/+n/BQA+AH0AnwCVAHAASwArAAgA6P/l/woANwA9ABwA9//p//z/JQBSAGsAZQBBAAkA0v+r/5n/nf+2/9P/0f+u/5r/uP/t/xUAMwBYAHQAZgAlANH/lf+K/57/tv/J/9z/7v/2//L/7v/3/woADQDz/9L/x//S/9//6f/3/w4AJwAzACcAEwAGAAAA/P8AAAoABADg/7H/m/+t/9T/7v/s/+D/4//y/wAADgAgADMAPQA8ADYAMwAwACAACAAJAC0ASgBCADQAQABYAFgAQQAqABsADwAAAPX/AAAjAEEAPwAlAAwA/P/w/+n/6//z//j/8v/k/9v/3f/f/97/7v8VADwARQA4ACYADQDj/6j/c/9d/23/kP+z/9L/8P8EAAkACQATACUAMAAuACMAGwAkAEEAYQBrAFYAPQAyAC4AIAAJAPj/7v/j/9L/w//J/97/3/+//6j/wP/y/xEAFwAWABIABgD3/+v/6f/x/wAACAD8/9j/tv+q/7H/vv/N/+H/9/8JABcAIQAlABsAAADa/7//v//S/+f//P8MAAkA7f/S/9T/8v8bAEYAZQBmAEIADQDp/+X/9v8AAPX/5f/l//f/CQAOAAAA4P+8/63/vP/k/xAAMwA/AC4ACADl/9b/2//l/+n/6//z////CQAKAAkADQAXACUAPABcAHQAdQBiAEQAJQALAAQACwAEAOH/tv+g/6P/tP/S//3/JQA7ADwANQAzADoARQBUAGsAhQCLAHEASgAxACkAJgAcAAwA/P/t/+D/1f/S/9j/4P/h/+D/4//k/+L/5f/y/wQAFgAlADUARgBCABIAvP9w/1X/Xf9q/37/pP/N/+L/6f/u/+7/4v/S/8z/2//7/xcAJAAqAC4AJQAFAOX/3v/3/x8AQQBPAEYALQANAPf/9/8OACUAJwAgAB8AIAAYAAkA///8//v/9//w/+7/9P/8//z/8//n/+D/3//l/+3/8v/2/wAADQAEAOD/yf/Z//f/AQAJACUARQBKADMAFgAAAPL/7v/y//z/CgAgADoARQA4ABcA7v+6/4f/df+M/6z/u//O//j/GwAbAAUA9//t/9v/yf/J/+D//v8SABcAEgAOAAkAAAD3//j/BAATABcAEwAXAC8ATwBfAFMAOgAuAD0AUwBZAEoANQAlABQA/P/i/+D/AAApAD0AOAApABIA+v/8/x4AQABHAEYAUwBhAFYAMwASAAAA+f/y/+f/1//G/7b/pf+a/5j/nv+q/7b/w//X/+f/4P+6/4z/df+D/6P/v//V//z/NwBhAFAACQC4/4L/d/+M/7L/4P8JACUALQAzAEoAdACiAL8AwACoAH4ASgAaAAAA/P/y/8//n/98/3T/ff99/3L/cP+H/6P/t//X/xIASgBaAE8ARAA8ADUARgB4AKwAvwCxAJIAZgAzABIAFAApADUAKQANAPP/2v+1/4T/Xf9X/2b/dP9+/4f/h/95/2v/bv9+/4//o//B/+n/EwAzAEQASgBPAFMAUwBPAEsASgBOAFgAZgB0AHwAeQBqAE8AMAAXAAYA8v/U/7b/p/+o/6//tv++/8j/1P/g/+v/8v/6/wQAEwAgACEAEgD8/+7/7//3//3/BAAWACkANQA4ADcAMwAoABcACAAEAAcAAADk/7//rf/E/wEAUwCiAOAABwEOAe4AqABOAPz/wf+a/37/cP9z/37/hP+H/4z/kP+Z/7H/5f8uAHgAqACvAJUAbgBPAD8APABBAEoASAAlAOD/mv92/3D/cP9r/2j/df+M/5n/m/+y//T/QABuAHUAYQAzAOn/n/92/3n/lf+t/6j/fv9B/xf/Gv9G/4f/yf/+/yAAMgA3AEEAXQCEAJUAdwA8AAkA8v/y/wAAEgAgACQAGwAMAAUACAAIAAkAJQBeAIIAaQAvAAIA7f/l//j/KgBmAIQAeQBWADgAJgASAO7/xP+q/6P/pv+2/83/1v/F/6j/lv+V/6H/u//m/xsAUQB5AIkAggBwAGYAdACfAM8A5ADRALEAoACZAIwAdABeAEUAHgDg/5D/Rv8j/0H/lv/y/ysAOAArABcAAgDu/9v/zf/G/8T/wP+//8P/xP/A/8T/z//N/7D/jP9//5D/sv/X//X/BAAJABIAJAAuACIACQD2//L/+v8JABwALgA5ADgAJwAEAN3/xP/G/9L/1v/S/8//0v/Y/+n/DgBKAIcAngB3ACAAwv9+/2P/a/+F/6P/v//W/+n//P8OABsAIgAqAD0AXQB+AJAAjQB5AF0AQQAoABcADgAJAAMAAAD9/+n/wv+f/5j/p/+//9z/9f/y/8n/lf98/4f/pf/E/9r/6f/0//z/AgAXADoAUwBPADMAEADk/6//h/9+/4v/pP/S/xcAXQCDAIcAeQBmAFkAXQBkAEUA///J/9H/+/8bADgAawCsANUAzQCjAH4AagBFAPf/mv9g/0//Vv9w/5v/xP/b/+T/9P8XAEwAfQCgALsA1QDfAMoAmgBkADMADwAJAB8AMwA1ADgAUgB5AJAAhwBpAEYAJAAAAM7/kP9b/0b/Wf+H/7n/4P/0//L/5f/l//z/EgAQAPf/2v/E/7P/o/+V/5H/lv+e/57/lf+L/4L/df9d/z//L/82/0//b/+f/8//0f+X/1T/Qv9c/3//n//A/9v/5v/u//r//P/q/9L/yf/S/+D/7v/7/w4AJQA3AEAARgBKADcACQDb/8v/1v/o//f/CAAbAC0AOAA9AEEASQBUAFwAXQBZAFQATgBBADIAOABbAIIAkACHAHgAawBZADwAIgAgADwAYQBxAGIARgA8AEwAYQBmAF0AUAA8AB8ADgAcAEUAdQCaALIAyADlAAABCQH3AM0AkABRACoAHQANAOf/tv+X/4z/h/+D/4D/fv99/4f/m/+s/73/5f8sAHkAogCaAHMASwAlAPL/rf96/2z/Zv9L/zj/Tv94/5X/qP+9/7//l/9Z/yf/Ev8X/y7/Vf+C/6v/xP/M/83/1//3/xoAGwDs/7L/k/+Q/5D/lv+p/8P/1v/l//D/3/+t/3//Z/9F/w3//P46/4//tf+3/8X/5P/3//P/5//p/wAAFgAjADMATgBYAEAAHAAOABcAHQANAPv/BAA6AH0ApwCsAKYAsQDOAOkA7QDbAMUAugCuAIIAJwC2/1T/F/8J/zj/nf8IAFIAdQCAAHkAYQBGADoARgBcAGsAZQBTAEsAWABvAG8ATAAcAP7/8v/u//f/FgBBAGcAhwClALoAygDgAP0ADgH/ANIAogCQAKQAvwDDAKwAiABdACoA8/+//5X/ev9r/13/Rv8j//v+5P73/i3/Yf96/4f/o//D/9P/0v/T/9v/4//k/97/1v/X/+D/6f/p/93/zf/C/7//wf/E/8j/zf/S/9f/1//N/7r/qP+c/4v/eP91/4v/qP+3/7//2v8SAFYAfQB+AH4AlACeAHgAOAAKAPf/5v/J/6D/ef9l/3D/lf/I//7/LgBQAE8AHgDN/3X/Kf/5/vb+Iv9i/5n/v//a/+7//P8JABwAMwBJAGIAdABvAFgATwBuAKMAxgDEAKQAeQBSADgALQAuAD0AWABxAG8ASwAcAAQADQArAEoAWwBKAB0A8//l//z/KQBdAJEAxADqAO4AyACMAFYAMwAXAPL/xv+o/57/kP9w/1n/bf+j/9j/9/8AAPz/7f/W/8D/tv+6/7r/o/91/0D/F/8I/yH/Vv+H/5n/mv+g/6z/uv/S//T/CAAEAPf/9v/7//3/AAAOACAAMABGAGsAngDFAL8AiABGABUA7f++/5r/mP+s/7z/xP/O/9v/8v8gAGsAtQDkAPMA5gC6AHoASwBFAFgAYABPADMAJQAoAC4AKwAqADYAQQA2ABcA8//S/7f/qP+l/6P/mf+H/3X/a/9t/3T/gv+j/9n/DQAuAD0AOgAWANL/kf94/4L/k/+j/7X/xP/T//f/OgCMAMQAvwCCAD0ADgDp/7n/lv+Y/7H/wv/N/+f/EgBNAJoA7wAvAUQBOQEbAeQAmQBdAEkASgA3AAAAuv+H/33/kP+p/7v/w/+//6z/kf9z/1T/N/8q/zD/PP9B/zz/Pv9U/33/p//O/wAAQgB0AIUAlgC3AMgAowBdACcAEgAJAPz/7f/z/xoAVAB6AHQASgAcAP3/3/+7/5//mP+V/37/Xf9K/0//Z/+M/7n/4P/6/wkAEgAXABwAKQBIAHkApQCnAHUAMwAFAOn/0v/S//r/MgBbAGsAbQBmAF8AZwB9AIsAggBrAFYAPAAUAO7/2v/b/+T/7v/3/wAACAANAA0ACQAFAAAA9//u/+f/2//F/63/oP+j/7D/v//K/83/yv/J/8v/yP+//7v/vf+2/5f/cP9a/13/cf+M/63/1v8EAC4ASQBYAGcAfgCPAH0APgDl/5L/Xf9G/0X/ZP+y/yYAkADEAMkAuACUAGEAQQBQAHgAmwCxAL8AtQCGADgA5/+o/4T/dP9w/3T/gP+Q/6X/xP/w/xsANwA4ACAA/P/X/7r/rv+2/9L/9/8XAC4APQBKAFcAYgBnAGYAXQBGAB8A8v/M/7v/vf/I/9X/5f/8/xIAHAAXAAgA9//n/9v/1f/S/9H/0v/R/8j/wP/S/wYARQBvAHQAZQBUAEEAFgDU/5r/jP+e/7X/zv/l/9//tv+R/47/kP+B/4j/xP8WAEsAWQBaAGIAagBmAFgAWQB4AKwA2QDzAPIAwwBoAAkAzP+n/5X/rf/w/yQAGgDl/7j/p/+p/7H/vf/N/9r/1v/A/6j/nP+Q/33/df+J/7H/1P/p//j/CQAbACkANABGAGAAdABnADMA6P+e/3L/cP+M/6P/qP+x/9L/+/8UACAANgBhAKAA6QApAUsBQwETAcwAhwBPABcA3P+x/6X/nv+E/2L/U/9h/4X/tv/p/wkADQD8/+D/v/+c/37/eP+f/+n/MwBaAFgARwBGAF0AfQCSAJoAjwBhABkA6v/t/wAA7v+x/27/Qf82/0r/dv+t/9///P/9//f//f8JABMAHAAlACkAHgAEAOr/4P/q//z/CgAcADIARgBHADMAFwAJAAgA/P/U/6P/i/+V/6n/o/+F/3n/oP/p/yMALgASAO7/0v+6/6D/kf+h/9L/BgAgABsAEgAcAC4ANQA4AE8AggC3AMQAmQBPABQAAAAHABIAHwBGAJIA6QAjATQBMAEvASsBAAGjAD0A+//f/9f/4P/9/xcAFwAAAOT/0v/L/8j/xP+//7f/qP+J/2L/Q/88/07/Yv9e/zz/Df/t/u/+F/9V/5D/wP/z/yUAPAAoAAUA9/8AAAkAAADq/+X/9v8AAPv/EwBkALkA1wDJALwAtQCiAIMAZwBTAEMALgAOAOD/pv9r/z7/M/9P/33/qv/S/+3/3/+l/2z/V/9Y/1z/ev/C/xIANwAuACYATwCqAAUBLAEYAeEAowBfAA0Aw/+t/9H/7f/L/4j/Yv9m/3z/mv/E//L/EwAcAAkA6f/P/83/5/8NAC8APAA1ACAACgAAAAQAFwAvAEEASABPAEwAGwC9/2f/Tf9h/37/n//R/wQAIwAqACcAKgA5AFgAgQCxANkA3wDCAJ8AhgBcABcA6v/4/x8ALwAvADsASgBGADMAJwAlACcAKQAtADMAOAAzACUAIQAtADcALwAhAB0AIAAfACAAMQBPAGkAbwBlAFgATQAzAP7/v/+T/37/df91/3r/gv+K/5X/oP+e/5D/h/+M/4v/df9U/0D/Qf9M/1P/XP95/7D/5P///wkAEwANAOv/xP+w/6P/jv+D/4z/lf+B/1j/P/9U/5D/yP/k//P/DAAkACMADgD9//z/BQASAB8ALgBAAEoARQA8AD0ARQBOAFQAVgBPAEIAPABCAEEAJgDy/77/qP+v/7b/qv+f/6//1v/2//f/4P/N/9f//P8nAEoAYwB0AHkAZgA8ABMAAAAEABoASwCMALAAnwB+AHkAiwCYAJoAnwCnAKcAlQB0AFQASABYAH8ArQDGAKwAZQAvADEAUwByAJoA0QDoALcAWQAEAM3/qP+V/5j/qP+y/6j/jP95/3//lf+q/7r/xf+//5b/Qf/h/rX+2f4k/2D/g/+g/7r/xf/E/8j/4P/+/wAA0/+R/1z/Qf84/0b/aP+H/5H/kP+b/7b/1f/p//j/FwBLAG8AaABGACsAIAAbACEAMwBFAE0AWQBvAH0AfACIAKwAwwCqAHUATAA8AC4ADQDl/9f/8v8WACAADgD+//z/AwAXADEAQQA7ACoAEQDk/6T/df9w/4L/lv+7//X/FgAAAM7/sv+6/9H/6f8AABcAJQAbAPz/4P/g//f/DwAgACwAMwAxACAACwAOACgAMgARAOD/x//I/83/zf/T/+X//f8JAAUAAAAGAAgAAwATAEcAeACCAHUAYwAyAOH/rv/I/wMAKABCAGsAhgB0AFQAVwB9AKIApwCUAIMAcwBFAO//n/+L/6z/z//S/73/rf+o/5n/eP9n/33/nv+j/5X/k/+e/6T/nv+d/7b/6/8lAEgATwBJAEEAOwA8AEgAXQBvAGsASgAgAAEA7v/e/9v/7v8OACgAKQAWAAkAEAAbABsAFwAdACUAGQD3/8//tv+0/8T/0//W/9P/1//l//L/8//p/9//2//a/83/t/+t/7X/tf+j/5r/vf8AADwAWABZAFQAVQBYAFYAVABZAGEAXwBPADgAJQAcABcAEwAXACEAGwD5/83/t/+6/8r/1//W/7//nf+M/57/yP/3/yUAVABvAGsATwAyACAAGQAbAC0AVACIAKwApABwACoA8v/Y/+D/AAAqAEoATwA5ACAAIAA8AGIAeQB3AGYATwAzABAA8//n//P/BAAEAOr/yf+x/5X/aP88/zD/Rv9g/1j/LP8F/wT/G/8t/z3/Wv+C/5//o/+e/7L/5P8NAA8ABQAIAAAA1v+t/67/zf/h/9v/0f/b//n/DQAKAAkAIQA8ADoAJQAVAAQA6f/N/8T/zf/d/+7/AAASACAAGwAHAPz/AgAAAOH/u/+u/7//2f/y/xEAQQB5AJQAiAB1AHoAiwCQAJUArwDSANsAtQBxADgAJgAuADUAOABCAE8ATAAzABIAAAAIACAANQA8ADwAPABBAEUASABPAFwAXABKADgANwA3ACoAHAAlAEYAYwBhAD0ADgDq/83/sP+j/7L/zf/c/9v/2//p/wIAFwAaABIADAAJAP//6f/N/7b/r/+//9r/5P/U/7v/p/+Q/3L/Yv9w/4f/if95/2j/Xf9V/1T/Xv9w/4H/jP+T/57/t//b/wEAIAAtACUADQD3/+j/2//L/7//vf+//7//v//I/9v/8v8JABsAIAAeACoASgBmAGcAWQBMADwAJQAhAEAAZgBzAGsAYgBdAFIAQQAxACoAJwAgABEABAADAAkADAAOABQAIAAqACUAFgASACwAWAB/AJAAjAB5AF0APAAbAAQA/f/8//j/+P/8//f/6v/4/yYAQAAiAPj/6//a/6j/g/+f/9r/+/8AAAAA8v/P/7b/xf/u/w0AFwASAAkA+//g/77/qP+r/7r/wv+//7r/uv/F/9v//f8gAD0ARQA0AA4A3P+s/43/h/+b/7v/z//I/6//n/+q/8j/4v/u//P//P8NACoAQAA8ABoA8//g/+7/DQAgAB0AFwAdABsADwAhAGEAmQCbAIMAfwCGAHgAVAA1ACUAIwAuAEEATwBOAEEANwBGAG8AlQCeAIwAbgBKACMADgATABsAFgAOAAwABADg/5n/VP89/1j/dP92/4j/yv8NABoAAADv/+j/4v/q/wgAJAAiAAkA8//k/9//7v8SADwAUAA8ABUAEwA/AFcAOgArAFcAeABBAOH/rf+1/8b/v/+s/63/x//b/83/tv+6/83/0f/J/8T/xP+//7v/u/+//8T/zf/S/8T/ov+C/33/mv+6/7X/iv9s/4D/sf/P/9f/3//t//z/DgAmADMAKwAcABIAEgAQAAAA6f/l//b/9v/X/7v/xf/b/9P/sf+c/6j/yv/p//P/7v/w/wkAMQBKAEUAMwAqACQAGgAcADQATwBUAEoARgBKAE4ATwBUAF0AZQBhAFEAPAAxADMAOgBBAEQAQQA7ADMALAAqACkAJQAfACAANABYAHgAfQBqAF0AbgCQAKQAmgB8AGIAVwBTAEkAOAAqACAAFwASABAACQD8//L/+P8OACMAIAADAOX/1v/N/7n/o/+a/5X/if9+/33/ef9v/3X/mP/D/9z/4P/d/9v/2P/W/9j/4P/j/9H/qf+I/4D/h/+M/5//yP/p/+j/3P/c/9//0v/A/7v/uv+u/5r/iv+C/33/ef+B/6j/5/8SABUAEwAsAE4AWQBUAFAAOwAPAO//7v/t/9D/rf+r/8j/6f8AABcAOABeAH0AiwCMAIYAbwBEABwACgAEAPj/6f/o//L//v8JABoAMwBOAF0AXABdAGkAbwBfADwAIQAgADQAQAA7ADgARQBOAEsAWQCKALoAvwCjAIwAggB4AGIARAAuACQAFgAAAPP//v8SABoAEgAMAA0AEAAJAPX/2//K/8n/z//N/73/rf+m/6j/qP+j/6T/tv/P/9b/wP+o/6f/sf+x/7L/vP/D/7n/sv+8/83/0f/S/93/7v/z/+n/2f/N/8r/zf/L/7r/n/+M/43/mv+j/6P/pP+2/9X/7f/0//j/AwAIAPn/5f/i/+T/2f/J/8T/zf/X/9b/0f/X/+3/BAAQABcAIwAuADAAMwA5AC4ACADl/9r/4P/i/+T/9/8hAFAAYQBVAF4AiwCdAHAAQgBRAHMAaAA9ACIAFgAKAAkAKQBdAIkAmQCSAIMAcwBTACMAAAD6/+3/w/+V/47/rP/P/+D/6f8AAC0AWABsAHAAdAB0AGIARgArABIA9v/b/8r/xP/F/8j/0v/u/xcAMgAyACoALQAuABMA4P+u/5D/hv+H/4r/kP+f/7b/0P/p//3/CQAPABIAEQAEAOn/xP+k/5X/lv+a/5r/n/+y/83/5v/8/xEAIAAiABwAEgAEAPP/4P/U/9L/0v/I/7P/mv+N/5X/rv/N/+j/8v/v/+n/6P/k/9j/zf/N/9L/1f/g//v/GwAyADwASgBrAJ4AzQDiANYAuQCaAHsAWAAxAA0AAAAOAC0ARQBRAGIAhgCxAMkAvwCiAIwAgQBmAC8A/P/q/+n/3f/N/9P/8v8ZADwAVwBrAHkAeQBnAEoALAANAOz/zf+2/6P/lv+a/7P/0v/m//P/AwAbADAAPAA+ADMAHwAOAPz/1v+d/3D/Zv9v/3X/fv+U/6f/qf+t/8T/3//o/+X/3v/I/6D/iP+U/6z/s/+y/7v/yP/Q/+X/EQA8AEcAPQAwACUAEgD8/+X/yf+g/3T/X/96/7b/3//a/87/5f8NAB8AFwAPAA0ABwDy/9X/v/+8/8T/x/+6/6v/sv/J/8j/rP+y//r/SQBXACoAAQD8/wUAAADi/7v/pv+s/7//0v/q/xcAWgCVAKwAqACeAJUAhABmAEcAOAA9AEUAQQA4ADwAUwByAIwAlwCLAHEAWABJADcAGwAAAPT/8v/u/+T/5/8EADoAZgB0AHAAbgBrAFoAPAAeAAQA7P/S/7r/rP+v/7//1//u/wAAEgAkAC4AMAAzAD0AQQAyABcA+P/R/6r/mv+t/8j/0v/X/+b/8v/v/+7/+/8AAOj/xP+v/6z/qv+e/5D/jP+U/57/ov+j/6//yP/l//z/BQAEAP7//P/6/+n/x/+o/5//qP+u/6z/rP+7/9T/6f/u/+7/+/8XADEAMwAbAAAA9P/y/+z/1v/C/8n/7f8SACMAKgA7AFgAbQBrAFgASwBFAC4A/f/S/83/2//Y/8T/tv+6/9D/9/8mAEoAVgBUAE8ARQAwABcABAD3/+r/4P/d/+D/5v/y/wsAOABwAKMAwADEALUAngCBAFMAHgD8//j/+//w/+D/5P/3/woAHAAtADcAOQBBAFcAawBrAFgAPgAgAP7/2//F/7//xv/S/9v/2//b/+7/FAAzADIAHAAGAPf/5v/W/9L/4P/2/wAA9f/q/+r/6f/X/8T/w//N/87/xP+9/8n/2P/I/5n/g/+o/9r/5//h//D/DQAZABIACQAAAOv/v/+L/3D/eP+C/3P/Yv9y/57/x//g/+//9//5/wAACgAEAOv/1//V/9L/tv+Q/4X/qP/l/w0AGQA0AHIApwCnAJYAngCnAIgATwAmABIABgAAAP//9//q/+n/AAAgADUAPABAAEEAOwAzACcADQDp/8n/vP+//8T/yf/U/+n/DABBAIAAtgDQAM0AuACaAHUARQASAO7/3//b/9P/yP/P//P/JwBTAGYAZgBlAGEAUQAzABEA9//i/8P/mv9+/4T/nv+0/8T/2v/3/xEAIAAiACAAHgASAPr/4P/P/7//pP+H/3T/a/9o/3D/h/+o/8n/5f/7/w0AHAAlACMAEgDz/8j/nv+C/3v/gv+R/6P/vP/b//3/HAA2AEUASQBGADwAJQAHAPz/BgAIAPD/0v/P/+T/+f8EABEAIAAwAEEASgBBACYACQD7//f/9P/p/+D/5P///yoAVgB0AIMAhwCHAIIAdQBdAEAAJQANAPL/2P/X//T/EgAdACoATgB5AIoAfgBqAGYAcABrAEcAHAABAO3/1f/O/+X/AAAGAA4ALgBTAGAAWQBPADwAFgDp/8T/rP+b/4z/gf+C/5P/rP/E/9b/6/8JAC4ASgBNADgAFwD8/+b/zf+v/5r/mf+j/63/u//U//L/BQAJAAIA/P/3/+n/zf+x/6T/nv+U/4z/kP+e/7H/zf/3/yAAQABdAHcAdABMACEADwAIAPL/zf+1/7b/xv/R/9n/8/8lAFMAYQBdAF0AWAA8ABIA8v/g/9H/tv+L/2L/UP9d/3//o//G//P/JgBFAEIAPQBMAFMANAAFAOb/0f+2/5r/kv+e/7X/zf/m/wQAJwBAAFMAdQCpAMgAswCDAF0ASgA2ABcA+f/u//P/7f/U/8T/1v/3/wQA/P/1/wAAFwAgABIAAAD9//v/7//q//v/DQARABcAOABmAIIAgwBxAFgAQQAzACkADQDn/9z//v8uAEgAWQB7AKcAwwDEALEAlQB0AFQAMwASAPL/zf+l/37/Yv9Y/2L/ef+V/7H/y//g/+v/6f/f/9v/3v/R/6n/ef9c/1P/U/9Z/2T/cP93/4P/mf+2/9L/8/8SACAAFgAJAAgAAADi/8T/vf/E/8H/sf+m/6z/w//b/+n/6f/p//f/DQAXAAcA7v/g/+T/8P/8/wUADQAZADMAWAB5AIUAfgBwAGYAYQBdAFgAUwBWAGYAgwCeALAAxADeAO0A5wDXAM0AxACuAIwAawBUAD0AEgDX/63/qv+6/8H/v//L/+n/BgANAPv/4P/Q/8j/uv+o/5n/jP9+/3T/dP95/4D/h/+U/63/xv/N/7r/o/+e/6j/rv+o/5X/dP9Q/zz/Rf9i/3//lf+m/7v/0f/k//H/AAASABcAAwDp/9v/1v/S/9f/6/8EABYAJQA2ADwAMQAlACgAMwA0ACAABQD8/wMAAADj/8n/z//p//7/EwA2AF0AcgB5AH8AjACVAIwAbQBGACcAFwAPAA4AFgAqAEcAawCPAKwAwADIAMIArACPAH4AfAB5AGEAOAAOAO7/2P/S/97/9/8NABIADgAcAEYAawBoAEYAHwAAAOb/3P/g/9//0v/N/+L/AAAOAA4AFAAzAF0AbwBYACoAAADb/6//jP97/2v/Tv84/zr/Sv9X/2L/d/+a/77/0v/S/83/z//N/73/qP+e/57/nv+f/6X/sf/B/9v/9/8AAO3/0v/K/9v/7//p/8j/rf+v/8P/0f/b//b/JQBZAH4AiAB+AG4AYgBVADwAGAD8/+n/zf+n/5//z/8XAEUATwBVAHQApQDDALcAkQBsAEUAGQAAAAcAFwASAAQACQAqAE4AUwA1ABcAFwAkACUAHAAQAPL/uf+H/3//lf+q/7b/wf/S/+f/AAAZACkAMQA8AE0ATwA4ABwADwAIAP3/8//3/wAAAQAEABQAJQAqACoAMAA8AEUARgA2AA0A0v+f/4b/ff95/4P/pv/N/+H/6v/2/wAABgAcAEMAUwAsAOD/m/90/2f/Zv9t/37/mf+6/9r/9/8XADgATgBPADkAFwD4/+D/yv+s/43/g/+T/6P/ov+o/9L/EgBLAHUAmQC6AM4AzQCvAHQAJgDb/6b/kP+Y/7b/3P/8/xQAOABlAIIAegBdAEUANwAlAAAA0P+o/5b/kP+R/6P/0f8JADUAVABxAIsAnACeAJEAbwA7AAAAyv+a/3X/Z/91/5X/uf/g/wsAMwBLAFQAVABPAEIAKQAEAOD/wP+e/4H/iP+5/+T/6P/l/wIAMgBWAHUAnQC1AKEAcAA3APf/rP9w/1r/Zv97/4f/lf/A/wgATgB0AIgAlgCLAFkAJgAQAAAA1v+k/4v/i/+W/6j/zP8AADUAWABkAGsAegCCAGsAOAD7/7//jf9w/2r/cP96/5H/vf/3/y0AWQBxAG8AWwBLAEUANwAOANf/rP+Z/5n/qP++/83/2f8AAE0AowDUANIAtACfAJAAYQAAAJX/U/9B/0P/Rv9S/3n/vP8AACkAPABMAGIAdQB+AHUAXQAuAOT/hv8z/xT/OP+B/7X/v/+//+H/IABZAHUAdABiAEgALgATAPP/zP+j/4v/mv/R/w0AMwBBAEwAXQBtAHQAbgBYADUADgDm/7//of+a/7T/7v8yAGYAfgCCAIQAggB1AFgAMwANAOr/yP+p/5D/iP+V/7X/2//7/xIAKwBKAGsAggCAAFgAFADS/6T/h/9p/0v/Lv8S///+E/9R/5X/t/+//8n/4P/3/wQABwD8/+D/tv+A/0r/KP8l/0X/fv+6/+T/+/8TADkAWABjAHAAigCLAFgAGADy/9b/rP+M/5b/uv/X/+n/AgAlAEoAcACNAJAAdQBKACYADQD5/+X/1//W/+z/IQBoAJ4AswC/ANwA+wD+ANsApgB0AEwAKQAIAOn/1//W/+b/AAAfADwAVgB1AJMAngCMAHAAXQBPADQADgDq/83/vf/E/+T/DQAwAEYAWABwAIcAjAB1AE8AKwANAO//yP+k/5X/qP/S/wIAOABvAJkAqgCjAJAAdABPACAA8v/J/6T/ef9F/xf/Cf8q/2z/tv/z/yAASQBwAIQAbwAwAOD/lf9K//z+w/68/t/+Fv9d/7P/BABHAIMAsgC1AIQASwAvACAA9/+t/1z/G//8/gn/Qf+R/+H/JQBeAJUAvwC/AIkAPQACAOT/zf+x/4z/Xf8w/yD/PP90/7L/7v8oAGIAigCVAIEAYgA+AAkAvv91/0z/Rv9L/0r/Sv9i/53/5P8cAFAAggCZAIUAYgBGABsAzf95/07/VP9p/3D/bP95/63//P9AAF0AXQBrAJYAugCuAHkAPgANAOf/yf+3/7H/uP/N//D/FwA8AFgAbQB5AHwAeQBvAF0ARAAqABEA/P/p/+D/6/8OAD4AYQB0AIwAtQDWANIAsQCMAGEALwAFAO//3//M/8T/2P8AACsAWQCIAKwAuwC7ALQAowB/AEoAEQDb/6z/h/9z/3T/jf+2/+P/DgA1AFgAcwB9AHIAWAA2AAkA1f+o/5D/jP+R/57/uv/p/yEARQBKAEEAPgA3AB4AAADw/+T/zP+j/3n/Xf9T/1j/aP+C/6v/2/8GACUAMgAuABwAAADb/7H/if9w/2n/cP9//5//0P8EAC0ASwBbAFMANAAXAAwAAADc/63/iv90/2L/Xf9u/4z/rf/S/wAALgBQAFgASwA4ACwAJQAWAPz/2v+2/5j/jP+V/6z/yP/p/w8AOABUAF0AUwBBAC8AFwD1/9L/tv+Z/3r/a/95/5X/rv/N//3/MwBaAGsAbgBwAHIAawBLAA0Axv+V/4f/h/+E/4z/tP/t/xwAOABHAEoASABPAFoARQAHAMn/sP+x/67/rf/C/+n/EAAzAFQAcAB/AH0AbgBdAE8ANwAVAAUAFAAkAB8AFwAuAF0AhACaAKQApwCwAM0A9AD7AM8AhwBMACkAEAD3/+H/2//s/w0AOABnAJMArACtAKgApwCUAGUAMwAUAPf/yf+k/6P/uv/N/9v/8f8NACYAMwAzACoAGgAEAOj/xP+Z/2v/Qf8g/xP/IP9I/37/s//g/wAADQAGAPL/3P/N/7//o/96/13/XP9r/3X/ef+J/7b/8/8bAB4AEwATABYACADu/9f/xP+s/5X/iv+R/6P/tf/K//P/MQBrAIMAgwB9AGsAQgATAO7/0f+4/63/uP/N/9v/5f/1/w0AJwA3AD0APAA5AC4AFgD3/9z/zf/F/7r/rP+j/63/zf/7/yUAQwBUAF4AYgBcAEoALwANAO7/1v/J/8T/w//I/9X/6f8AABcAKgA4AEAAQQA4ACoAGAAEAPH/4P/W/9f/3v/k/+r//P8cADwASwBKAEcARgA9ACUAAADb/8T/uv+2/7b/wP/W//j/IABJAGYAcABrAF0ASgAwABIA9v/W/7v/tv/E/8P/qf+a/7r/9/8pAEsAYABcAD0AFwABAPL/2f+7/6b/o/+u/7//0//k//v/IABSAHQAdwBrAGcAawBmAE8AKwAJAPL/5P/d/9v/4f/u/wAAFwAwADwAPABGAGIAeQBxAFQANgAXAOz/u/+S/3n/dP+M/7//9/8gADwAUwBmAG4AZgBPAC4ACwDp/8f/rf+f/5n/n/+7/+3/GwA1AEYAWABYADYACQDt/9v/wv+j/4z/fv91/3T/gP+a/7//7v8WABsA/v/q//b/9v/L/5v/kv+e/5n/kf+j/8P/2f/l//X/DQApADwARABBADgAKQAVAAAA8f/k/9n/1//g/+n/7/8AACkAWAB3AIIAggB5AGMARgAnAAkA8f/l/+X/5P/c/9L/2P/3/yQASgBYAFQATQBPAFkAYgBhAFQAPgAlABAABAABAAAA/P/8/wsALgBVAGsAZgBKADIAOABWAGYAUQAqABEADQAIAPL/2//l/xUAQABCACoAHAAWAAkA/P/6//f/5//X/9L/0v/M/8T/yP/b//T/BAADAOn/vf+f/5X/hv9t/3X/sf/t//T/3P/Z//f/FgAbABAAFwA3AEoALwAFAPP/8v/m/83/tv+j/4z/a/9S/2L/nf/R/9H/qP9//2H/T/9e/4P/hv9a/0f/ff/D/9H/wP/I/+T/7v/q/+v/7f/r//j/GAAzACwAEgADAAkAFwAbABYAEgAaACUAJgAgAB8AJQAuADgAPgBBAEAAQQBFAEUAQAA8ADsALgAPAPP/7/8EACUASwBuAH0AdgBrAG0AbwBiAE8ARAA3ACIAFwAjAC4AJwAhAC8ARQBMAEEANQAzADQAJAAMABMAPABEAA4A4f/8/zYAUABQAF8AbwBgADgAFQAEAP//9//s/+X/5f/g/8//v//E/9v/8f/8//j/5P/Q/9L/6//3/+L/yf/K/9b/0v/E/8P/zf/S/9f/3//k/+b/8/8NACAAGgAOABIAJQAxAC4AHwAOAAAA9//0//z/CwASAAsADgAlADcALgAXAA0ADQAKAAAA9f/p/9z/zf/H/+D/DgAkABIABQAhAEAAMwAJAO//6f/j/9f/yv/E/8b/yP/H/87/3f/k/9//6v8PAC4AJQAEAPH/9//9/+T/sP+R/6D/tf+u/67/zP/V/6//pf/n/y0AKADz/9f/2//W/7b/mP+p/+P/AwDx/+v/IABSADkA+P/b//L/DQANAPv/8//+//b/y/+p/7L/uf+f/5v/0f///+j/wf/E/9H/s/+I/4f/rP/G/7b/kf+M/7r/8v8EAP3/9//t/9n/1//5/xYAEAD8//7/EgAhACAAHQAlADYAQQA7AC4ALgBBAF0AdACGAJoAsAC6AK4AmgCOAIcAdwBYADUAFwAKABIAKwBKAGMAcABxAHAAcQB0AG8AWAAtAPf/yP+7/8z/1v/O/9z/EwBFAEUANAA+AFMATQAuABgAHAAmABIA4f/F/9//DQAiACoAPgBOAEUAMwA5AFkAcgBhADAAHQA+AFIAKwABAAoAFQD3/+v/JABbAE0AMABMAIEAhwBZACYACQD///z/9//z/+7/2v/B/87/BgAoAAwA6v/7/x8AHgD9/+D/zf+v/4z/cf9i/1n/U/9X/3D/lP+j/5D/fv+S/8T/5//g/7v/n/+b/5T/ef9s/4b/p/+r/63/yf/k/9r/u/+k/5r/jP95/3X/mv/T/9//qP9x/3j/ov+2/7L/t//I/8//zf/O/9H/2P/q//7/8v/F/67/wf/H/6D/iP+9/xsAUwBKADEARgCIALAAlABjAFkAYQBLACYAFwAbABoAFwAhADMAQABBAD0ARgBaAFwAQwA0AD4AMgD3/8X/0f/2//v/6v/u/wMAFQAhACkAIAABAOT/4f/4/wYA6P+p/5L/vv/j/9P/2f8kAFsALQDr//f/KAArAAoA/v8AAPD/zf+2/8T/8P8RACMASwCXAMcAqQBiADwAOwA+ADgAKAAAAM3/yf8FAEUAUAA8AEYAgwDCAL4AfQBaAHwAjgBLAP7/AAAxAD8AKgAnADwASgAyABUAPgCnANQAiQA/AGIAoACIAEMAKwAeAOr/xv/n/xEABgDv/woASgBtAFgALQAcAC4ANwAWAO//5P/a/7T/kf+W/6z/q/+a/5j/qP+2/7v/uP+x/6v/t//B/5n/Rv8n/2T/of+M/2n/g/+l/5b/of/3/zEA+/+p/6//8v8NAN//ov+z//n/3P9P/z3/AgCAAPr/gP8NAL0AdwDS/9j/RwBPAO//s//X/xoAFQDK/8P/LQBYAO3/wP9dAN8AcwDN/+T/YwBsAP7/oP93/23/l//r/xEA7//h/yUAbgBkACsAFgAkACIABADt/wEALwAnAOz/+v95ALYAUQAJAG8AzQB8ACoAiwAGAcwAOwARAD8ASwAhAAEAEwA4ADEABAAVAG8AcQDO/zv/V/+f/2z/CP/5/gb/1v6u/ur+U/92/0v/H/8u/2r/mv+M/0r/EP8T/0L/XP9G/y//S/99/5P/m/+x/77/tf/P/xUAMQAAAPD/RwCmAI4AFwDE/9f/GQAeANf/wv8nAIIAfQCyAE4BNgH//yz/4//wAN8APgA3AJYAkQA9ADoArgAEAX4AX/8B//L/zwBxAMz/BABjAAUAy/94APUANQAv/zT/8/9hAGUAYgBNAAEAyf/1/2EAqgCVADoA7v/8/2YA5AAiAeoAQACO/3H/AgCTAJAARAAvACoACAA9ANAAwgDO/1H/MgA7AREBTAAXAEUAJADs/x4AgQCKACQAv//P/z8AYwDy/5D/wP/y/6T/dv/i/xUAl/+G/4kAOQF7AJX/wP/u/xL/Zf4j/zUAKwCH/4D/DABNAN7/RP9e/wEA1/+R/h3+hf+2AAUAOf/4/2kA+/7f/Rz/sQBYAHz/IwBQASYBHAC9/ywAgAAoAJD/rf+UAOQABACe/5IAzgBf/zr/xgELA20A9/1S/zsB8P8I/gn/1QBBAOH+Sv9RAOz/6/4d/1YAFAGEAG//av+PAL8ALf94/hQA6QAO/zH+yACbAksA+v3B/zcCKAEW/87/pwFSAZX/Gf8xABkBfgAP/+D+ZwAkAbL/rP4AAPkAgP+r/t0AnAK3ADT+v/5wABcA4P4r/wYAsv///kL/0v+B/7f+uv4BAJgBBwLwAJr/Nv9S/xT/8P5p/7L/V/+a/wQBuQGRAG//4f9UAGP/1P5LAOgBYQG7/xP/Sv90/wQAOgG4AdEAHgDtAP4BrwGKAOH/kf9G/9//eQEwAgQB3f9XAAIBRgBh/5j/f/8H/kf98f4MATQBLwC2/13/X/7E/ZT+4f8+ALf/av8FAPgADAH0/+P+Hv9iAIcBAALWAQIB1/8s/2X/3v/W/3L/Q/9x/+//ywCqAZ0BYwAG/6P+O//1/ykAAAAaAJcAugA7AAYAkgCqAIX/e/7h/t3/IwAeAI0A1QBSAL7/7/9yAF8At/80/2L/HwDMANQAPwBl/3X+1v0//pb/gwAsAGv/Yv/l/zQAOgA8AC8A1v89/xT/NAARAo8C8wBY/4//egBDAGT/X/8tAOgAYgGsAVsBZACh/63/FAAmAOL/lv9F/8r+Sf4t/sX+uP8dALj/Zv/T/04ADwCl/9b/SACvAMcBhAMJBE0CCAA1/2L/av+//9MAbAHGAEkACgG1AcwAF/9C/qD+Sv+V/5D/of+8/zP/5P3s/Cv96/1J/rv+xf+OAF4A/v8dAPr/Cv9v/j3/tgB2AUkB2wCZAHEAQAAXACcAYwBWAL3/C//M/vD+Kf+A/wAAVwBIABMAAADt/57/Pv8m/27/8v+dAAsBiwBV/9T+g//b//7+jP67/+MAZAB9/93/vQCZANf/0//FAN8BagIHAr4APP9z/ub+OABvAbYBFQFKAAgARQBRAKT/fv69/Sn+0/+2AWECcgEIAFD/Mv9D/+f/JAHHAToByQB6AUMCvAE/AE7/k/+DAD4BMwF0ALz/yf+XAGsBoQFSAfwAywCiAIAAPgCB/2n+zf1D/mv/RwA3AHn/0/63/tP+z/76/o3//f/l/9r/TwCpAEQAk/9e/7T/KACXAPAA9gCLAOn/av9C/0//Ov8Z/4H/fwAmAd8AWABgAJ8AbAACAP3/QwB2AKYA5ADcAKcACQEUApcCxgGBABAAaACTAAUA+f77/XL9cf3o/ef+FQCEAMf/of7n/XD9z/xY/Jj8cf1l/jn/1v8NAM//VP8J/0H/+f/gAIwBuwF6AfsAbgD4/6T/c/+q/68AOAIfA8MC2wFRAQIBewAMAC4ApgDsANYAnwB6AE0A1f9F/2T/hwDiAW4CFwJeAXUAlv9i/+D/CAB0/zT/8f+GAM3/jP4a/mD+pP7j/ij/zv6H/S38zvuE/JH9Nv5f/oP+8f5R/0P/Ef8e/z3/aP87AMsB7AKoAosBuAB/AKAAGgHjAX0CjQJXAioC3wFcAQMBJgGGAc8BFQJoAoACBQIDASIALQDpAPsA1P+t/pH+tP7+/f78yvw3/XL9T/0W/dj8efwL/ML7yfsw/NT8WP1k/fr8hfx0/Nj8ev0u/uL+gf8MAKAAJQFOASMBLAHGAZUCAwP6As4CxQLzAj4DnQMYBIAEZwTwA/gD+wREBt8GtwZ4BowGtwZ0BqAFtQRLBGkEhgQVBPwCiQEFAHb+/PwW/Pb7BfyO+4j6Xflr+KT3x/b69eT1iPbd9kf2tvUc9vX2Qvcc90T3AvgD+fL5q/o+++T7z/wL/oL/IAHPAngE+wViB9QIgQpfDDkOxg8YEXMS1xO8FNEUbxRDFHwUrhQ6FOQS6hCJDqYLQgjlBP4BUv9n/Df5D/Yz84zw4e1P623pVehd5+/lduSf433jXeO84tvhseHC4pfkaeY06GLqBu0T8LbzJPgj/WUCvAc0DckShBhEHskjqiiqLMEvJzL/MwQ1kTSBMpcvciy8KBkkEh/sGckTQAyMBMb9R/dH8Hnp1OPu3gradNX00avPZM4vzjXPVtFA1JvXPttE34Xjo+ex65nwrvYh/acCAQeaCvoNqRDTEUYRMxBFD8ANrAqtBt4CVP+u+zX4a/U187TxavHL8lD1LPjX+tX93QEtB+YM+xH7FZMZph01IiwmpSjIKVIqhireKd8nxCRuIS0eQhraFFAOigfnAEX6sfNo7YTnMuKs3Q7aMdcA1Z7TTdMg1PzVsNj726jffeNo52HriO+a8zD37/kj/Bf+3/8lAbYBpAFMARwBVAExAugDmwbwCbENwREzFqsa9x4DI+QmViorLVwv9jC6MWMx5C9NLaQpGyUcINcaERWMDnsHTABY+Z/yBey05R/gcNs41yvTtM9rzV7MTcwuzRzPEtK11abZ2t2x4jvo8O0d88v3cPxwAZEGZgtrD4cS8RQeF9kYjBnWGDsXKRV5EqAOuglZBPr+4fk19QfxSO1x6ibp1en96/juUvJm9nb7ggHiB+UNIhP1F/UcIiKvJuApxSvGLPIs7yulKVomfyI6HmMZyBOhDUsH8gB3+sPz/eyF5rrgwNuV1z3U0NFa0OrPjdBJ0vzUXNge3CLghuR36RTv6PRE+sX+3gLGBh0KNwwxDXUNSw2TDEYLWgnbBhEEaAFG/8L9DP1E/bz+XgH3BPQIKg2NEUQWBBt+H3Mj0CZkKQQrqCs1K4ApgyacIiYeSBnwEy0OFgi/AUz7BvUn77rpz+Sc4D/dkdpZ2JfWfdU51c7VHtcQ2arb2N5u4i7mF+pB7szyX/d5++D+EAJhBZYI9ApHDMIM4AzUDKkM+gtXCq0HawQFAab9bfqh9+X1l/Wx9pP4Avsh/kcCBAfhC6AQcRU/GvwejyPEJykrZy12Lo8u5i1qLOIpPibJIc4cXRdWEcwKDARq/ff2jPAE6oLjZd0D2IzTD9CdzUTMCszjzKLOE9FD1HXYf93A4rLnoez78cD3Mf2xAfEETAcRCYYKZQt0C3oKhQi2BVUC0/68+7f5DvnZ+cD7rf6GAlIHjAz5EXwXJB1+IjknSyvxLiEyfzSUNSM1VjN7MMgsRigCIxIdixaND00I9ACi+YPy1Ou/5TngItty1lLSAc+pzFDLAcvdy+XN4dB41IbYE9074rfnHu0L8qn2NPvN//sDUAdnCX0K1grHCj4KLQlsB/EEwgER/lb6KPcn9Yf0WPVb94n6tv7JA0kJ9A6GFAYaRR8lJHooTiynL1My1zPaM38yJDABLRApTSTTHtkYgxLaC+kE6P0Z95HwU+px5Pze7dla1Y/Ryc7+zCjMfMwXzsDQFNTs11XcZOHX5kzsWPEB9nn6Df9xAyUHlQnkCk0LLgt0ChAJ5AYABFIAyPvM9mbyq+/Q7sbvZvK79j78eALeCFYPoxXGG6QhNidYLAkxQTWrOJw6ljrBOJo1gjGWLO4mqSDsGc0SWAunA/T7iPSG7fvm6+Bw26rWwdLAz6/NmMySzKbN288z03TXNNws4XfmAexs8TD2VPoh/v0BowWRCDsK4ArGCiwK6ggPB54EiAGl/fH42/Mv7+friOpg60/uJ/NG+SEABge7DRYUOBoNIJ0l6CoAMMc0vDgoO4Y74zmtNl4yPi2DJ1Mh0RoCFNYMWgXM/Wv2N+8/6MLhGtxg14fThNBhzh/Nzcx4zSjP59Gc1RfaId+t5FjqmO8L9A34+Pva/zkD6AXBB/AIZAk2CUUInwYxBO4A2Pw2+LHzBvDx7b7tje8b8yD49v0tBEoKQxAFFqcbDiE/JkErBjAxNCc3XjiqN041uDFCLRwocSJiHA4WgA/BCOgBGft29APu5Odc4rLd6dnr1q3UO9OT0r/S1tPe1b7YV9yp4IPljOpE74HzOPeV+o79JAA3AuIDHgX7BTsG1QW9BDYDWAEg/2j8OPm79R7y0+5z7LDrxuzJ73D0cPodAQoIxw45FSUbdCARJS0pCy3AMP0zKjbENqA17zINL04q8SQoHyQZCxPzDNYGvwDF+vH0Fu8+6bvj6d7I2lrX4dSr07DTsdSF1gLZ89su38Liouaj6nHu/vEz9R74lvqb/Br+PP8EAJAAtQBqAKv/tf6Q/Rn8Gvqr9xv1ufLF8GLv5+6p7/bxn/Vb+sD/mQWCC0sRtxarG/EfhCOHJj0puivRLSMvZC97LpUs5ymTJo0i6x3sGNwT1A7gCQ4FbwDm+1X3r/Ip7gHqcuaG41bhFODf343gx+FT4w/l7+bi6OXq3+zR7p3wQ/K/80z11vYi+Pf4lvkb+lv6MPoG+jf6tfoa+0L7Q/s1+/36ZvqI+dv4APkz+mf8Yv8KAzAHoQv2D/ITbRd8GhQdLR+1IMohlyI9I6AjiiPKIl0hSR+xHKsZUBagEroOzQoLB3sDGQDi/M75vPab83rwgu3S6nvojeYi5V3kOuSV5C3l7+XL5sHnuei/6b7qsuuP7I/tu+4O8FPxjvKv87H0bfXp9UX2z/aR91v4APmx+ZT6g/sv/ID8v/xO/Vf+ov8SAdUCJgXXB50KSA3vD4kS/RQFF6YYFxqbGw8dPB4NH5QfuR9oH5MeRR1vGxwZYhZzE2sQXA1KCioH4gNxAOz8a/nz9ZDyZ++w7JHqCekI6G3nKOcl52Tn0+dl6APptely6kLrHewj7VPuo+/e8PTx0PKG8yL00vSa9XH2S/dF+Gr5qPrd+wf9Tf7O/48BaANSBWQHwQlLDNcOQhGcE+AV/Re4GQobBhzdHH8d3x30HdodhB3mHOAbbhqOGEsWnBOUEF8NMAoKB9wDmgBP/Qn61va186zw1e1X61jp3+fh5kPm/eUB5kfmvOZp50LoRelT6nHrnOzx7WXv8/Br8r7z1vTJ9aP2ivdz+E75DPrS+q/7jfxF/dr9c/4z/yEAJQE/AoYDGAXWBqoIkAqdDK8OrxCOElkU8hVNF2kYWBkIGnsauhrRGpka+xnrGHwXsRWCE94QCA5xCzgJ0QbPA3YAVf2Q+gD4lvVq83/x0u9q7kvtduzn66Dri+uW67frFey17IDtSO4Y7+/vyfCP8WnyYfNq9FP1GPbA9mn3Avh3+MX4KvnF+XT6Cfug+238cv2V/sn/JwHGAqwEsQa7CLoKvwy0Do4QQxLjE2oV0xYCGOYYaRmIGTYZeRhVF+UVQBRyEmsQIw6oCxoJiAbsAzQBbf68+0j5C/fz9ATzR/HE73buae2k7Czs5euy64zrr+sl7LzsNO217WLuN+8F8Obw5/ED8w70CvX99f32/vfx+NH5xfrW++b81f2//sT/2wDyARUDYwTbBWkH4QhQCtwLjg0QDzgQOhFaEmwTMRSiFPAUFhX8FIUUzBPwEgoS+xC3D1IO8Qx9C+gJPwieBuwEHgNQAar/Gv6N/Av7qfll+Df3MPZU9Yv0u/P28k3yyvFc8RDx4fDO8Mfw3PAM8VXxofH08Vvy8fKt83n0PfUQ9gb3I/hZ+aj6Hvy+/X//UAEuAyAFKQcoCQwL2AydDkoQzBEQEx4U7BR5FbAVmRU8Fa4U6xP1EskReRADD20NtgvjCeoH2AXCA7gBrP+S/X/7jPm49/r1Z/T+8qnxVfAv70ruie3H7DLs4+u/66LrxutH7P3spe1i7lHvYvBX8TbyGvMk9FP1qfYS+H354/pb/Ob9b//kAFYC3ANvBfsGcgjiCVQLvgz0DfEO1g/HEJ4ROBKSEs8S5hLJEm0S5BEvEVoQYQ9NDh4N3AuCChIJjQf9BWAEwAImAZD/7P01/Ij6/fiX90P29/S586HysvHg8CLwke867xfvDe8l73fvJvAe8SzyLPM99Hn13fY8+Iv54/pz/B7+iv+SAJcB9wKOBAYGUgeLCJwJcwo0CwAMsQwtDYUN3w0nDksOUg5SDiwO0A1IDb0MNAygC+QKAAoICQwI/AbLBYYERgMKAs0Amv9z/kT9/vu7+o/5d/hl92j2ifW/9PPzLfN+8gPysPFs8S3xKPFv8eHxSvLC8nLzZvRv9Wj2T/dO+Hv5yfoB/Af98f38/ioAQQEPArgChQOFBJEFfgZNBwsIyAhuCe0JRQqQCswK+QoTCxwLBAvUCqMKfgo7CsUJLQmgCB4IkgflBh8GTwV+BKEDsAK8AdEA5P/l/uj9+vwK/Af7Cvop+Vv4lvf59pL2Qvbi9X71QfVH9X71xPUP9on2RPcf+OL4kPlN+jn7Mvz4/Hj98f2e/mv/FgCLAPUAhAEtAq0C4wIIA20DFQTGBFQFxAUqBpoGCgdtB7wH/AciCDgIVgiHCKUIkghRCAYItwdeB+4GagbWBTgFjwTXAxADQQJwAZ0Av//M/sf9uPyu+6z6tfnK+PX3QPe49k726vWC9Tn1JvVL9Yn11/U/9tj2mvdg+BL5zfmn+oz7WfwV/eD9x/66/54AZwEZAr4CVgPQAx8EUwSUBPkEagXHBQUGMwZUBmkGawZlBmMGagZiBkoGPQZOBlQGKwbbBY4FTgURBcIEYQT1A4sDHgOmAiICkQHuADEAYv+F/qL9svyy+636xPkD+Vf4rPca97v2kvaI9pf2wvYV94n3Fvip+Dz51vmM+l/7PvwX/fH92/7b/9wAyQGaAlYDBQSiBBcFWAV3BZ4F4wUqBlIGXgZgBlQGMgYABtAFowV0BTwFBwXjBNEEsARtBBEEuwN3AzoD7wKSAjAC1gF5AREBqABHAOD/V/+1/gj+W/2l/OH7E/tP+qL5EvmV+Cj41Peq96/31PcK+Ff4w/hK+dv5evom+9z7mPxq/Ur+G//L/3oAPwEFAq8CSQPjA2kEwQTxBBQFMgVKBVgFXwVYBUEFGwXpBKEEUgQRBOwDxgOPA1IDKwMVA/cCvAJtAiIC7AHAAYgBQgH2AKcAVAAEALr/a/8K/5T+EP6P/Rj9qvw2/Lf7NfvJ+nn6PPoI+un56PkA+iD6UPqd+g/7nfs//N78af3h/WH+9v6Q/xYAhwDyAGIB0gE5ApAC2AITAzoDTgNbA20DewN7A24DXgNNAzQDCwPXAqUCggJoAk0CKwIGAtwBrgF6AUABAAHAAIcAVgAlAOz/rf9u/zP//P7M/qD+b/4x/uz9rf2B/WL9P/0R/ez82PzF/KT8hfyB/Jf8tfzZ/AX9Nv1q/bD9D/59/un+T/+3/yoAnQD3ADABXgGbAeABGQI+AlwCfwKuAuYCHwNIA18DaQNwA3cDeQNtA1QDNgMVA+sCswJ7AlACKwL8AbcBYAEFAbIAZgAYAMT/cP8u/wT/5P66/ob+Vv43/iP+CP7e/bT9m/2O/YH9c/1r/Wn9a/1z/YP9nf24/dD96v0S/kb+c/6K/pn+uf7x/jr/h//Q/wkANABYAIUAvwAEAUYBhwHTATECkgLfAhADMANIA18DbQNyA24DYQNIAx8D6wK4Ao0CZgI1Au8BkQErAdIAhAAlAKj/Jf/E/o/+d/5m/lX+Rf43/in+Ev7x/cr9sP2l/ab9p/2w/br9tP2U/XP9af1y/X39hf2Y/cL9+v0t/kz+V/5o/pT+2v4g/1T/g//E/yAAiQDkACoBYwGdAdwBFAI+AmICjQLCAvQCEQMQA/oC2AKyAoQCUAIZAuQBrQFwAS8B9QDIAKUAeQAzAM3/WP/3/q/+Yf77/Z39ef2d/eT9G/4r/i7+Ov5E/jz+OP5G/lL+S/5P/nP+mP6S/mH+Lf4b/iv+Sf5m/ob+uP7x/hz/L/8w/yn/MP9d/6z/9/8mAFQAoAAFAWcBtgH/AVECqQLqAgoDIwNKA2QDTQMMA8MChAJLAhQC3QGkAW8BQgEaAe4AsABPANr/df81/w7/4f6r/pD+uv4g/33/mf+I/3P/XP8+/z3/b/+s/8j/zf/Y/+T/1P+a/03/F/8Q/yn/SP9n/4j/nv+Y/3n/Uv8u/xv/Kv9b/5X/wP/g/wIAKQBOAHAAkwC1AOAAIgFwAZ8BlQFxAVsBVAFFASsBFQEOARsBPQFkAWwBQAHzAKMAYQAwABIACAAEAPn/4P+5/4L/R/8l/yn/PP9M/2L/if+x/7z/qP+I/3X/bv9h/0b/L/8u/zz/Q/9B/zz/Lv8W/wn/Ev8W/wD/2/64/or+VP5L/oT+y/71/iv/iP/R/8f/kf98/5n/yf/8/zQAbwClAM0A3wDbAMcArACaAJ4AuADRANkA1wDYANsA1wDNALsAiwA/AAAA7P/t/+//AAAuAFMATQAlAAUAAAALABcAIgA8AGgAkACVAG8AQAA4AFsAfQBzAEYAJAAlAC0ADQC8/2f/Qf9F/07/S/88/xf/1/6U/m/+eP6q/uj+KP91/8j/8v/Y/6n/m/+r/8z/GACTAPEA9wDOALIAmABwAGcApAD7ACwBOQE3ARwB1ABmAP//xP+2/6z/lP+b/9n/HwA3ACoAJQApAB4A9//F/63/wf/3/0UAuwBWAeABEgLTAUIBlQAKANL/6v8lAFUAawBuAGYAOwDI/xH/U/7W/ar9tP3a/Q7+Sf6T/vv+d//R/+n/zv+l/33/W/9Z/4T/yP8CACkASQBwAJ8AyADtACYBcwGoAZ0BYwEiAekArABrADQAFwAgAFkArgDyAAgB+ADPAH0ABQCf/4D/p/8AAIwAQwHlAScC9AFfAYsAwP9U/2n/w/8HABIA+//l/9v/yP+c/13/H//o/q3+b/5G/lP+lv7t/ir/Qf9D/0H/Mv8E/7j+Zf5A/m/+2v43/2n/sv9JAAQBjQHFAboBZwHOACAAnv9w/5b/9/9tAOUARQFrAUcB6QByAPL/gP9P/33/8v92AOAAHQEmAf8AsQBMAOr/lP9P/y3/Xv/p/4sA9wAPAdwAawDQ/zz/6v73/j//ef9w/zj/9/6r/kT+0P19/Xf9vv0t/pb+3/4C//H+of4g/qD9bv3Q/eT+dQAPAi0DfAPyAsQBWAAl/4b+nf5a/4wA5AECA54DoQMwA4ACsgHIANf/If/d/gT/ZP/l/3kABQFtAaABjgEYATgAHP8W/nf9cP0W/kr/wwA6AmkDBQSzA1gCRgAt/sH8dfxb/Qv/4ABHAvQC5gI+Ah8Bo/8Q/uP8b/yp/EH98f2Q/gT/R/90/8L/WQAqAdwBAQJnAT8AAP8U/rj9+P3R/i8A1wFeA1MEaASOAw4CXQDo/uz9gf2v/Wj+g/+sAIwB/QEZAgUCsQEPAUEAif8S/+r+Ev+D/y8A7QB0Aa0BwQHKAZAB+wBjADAAZgC6APIA/QDbAIMA8v9a/zD/pv9hANMAwAAzAED/EP4D/Xv8l/xA/UH+Q//k//D/kf8S/5j+T/56/gT/YP8q/63+af5y/qD+/P6h/3QAPwHmAUECBQIdAcn/b/5R/bL87Pwj/gQA/wGYA44ExwRHBCwD2gHqAMAAPAH5AbQCLwMdA3gCswFPAWcBxgE+AqUCxQJqAogBQgDf/qv92Px9/Jf8Dv2v/UL+o/6+/o/+Kv6+/VT9z/wc/G378vqo+ln65Plf+Q75Ivmd+XX6vftM/Zj+Mf8w/9v+RP57/eP85PyO/aT+6v8bAfwBiwIIA5oDAgQBBJgDFwPAAtwCqgNFBXYH1Qn3C6INwg4/D8oOQQ3uClQI3gX9AzcDhwMnBDwEhgMxAk4A6v1H+934FfcR9rH1qvXK9d31o/UA9Rv0S/Po8hjz7PNj9Xz32PnE+6b8hfzW+x37o/p++rv6aftz/H/9if4CAFACFAUHCGALVQ9YE9EWsRkiHOodoh5JHjAdrBvFGUIX0BNqD3QKjwU4AZn9cfpQ9yL0N/Gp7gDs9ugI5vPj6+Ky4jPjYuQZ5vbnk+nD6svr3ewL7mfvePFK9D73O/nI+QL5gPfT9Wr0o/PS8xD1/fZK+fD7O/8xA8sHyQwxEgMYFR7OI6UoXiz2LkUwEzBkLqQraCj8JDghzxzOF8MSSQ5yCpQGHQII/dH3xvIM7r7pPObl47viOeIB4jziOOPI5HLm/ueu6QfsLu/P8l32tvnJ/HT/WwF1AvECRAOFA38D7QIHAv4AzP88/m38z/rS+X35dPlU+Q356fgc+Xj5hflG+WT5ffpY/Hr+xgBGA5gFfQcpCQILAQ3oDn0Q6RGBE1EV4xbLFxEY9xdwF0QWYBT0ETsPYwx3CYwGxgNGAQ7/9/zf+vD4mvew9kn1uvJt7y7sP+lt5unjNeLd4fTiL+Wu55DpWeo+6prptOjL51LnwudB6aPrmO458tn2ufxoA4IK3BGeGY0hJSm8Lxw1dDnAPHk+QT56PMg5UzahMVwryCPSGzEU3Aw2Bcb8vfOu6iPiQdpS0+DNjMpdyezJqctzzmfST9de3Anhr+Xw6uXw+fbA/BACIgfGC40P/BFSE+wT/RMrE0URUw7WChoHGAOk/vP5U/Xg8LzsQenZ5pLlROWR5YPmOOjW6vDtc/Gu9Wn74QLlC8gV0x9TKZ4xCjgwPBo+7D20O7I3qTJgLVEoXCM+HtwYVxOWDQAHOv+K9tXtz+Xb3gzZstQ40rXRhNIf1J3WSdrR3m3jgOcM65XuUPIE9jn5J/ws/4gCtAUZCAUJWgg/BjYDbP/k+tv1CPEX7RbqHuiQ5x/p3eyh8tr5NwI1C0QUhxyWI4EpnC7OMq018jbcNhs2IDXdM8Yxei4KKuUkCB/nF0UP1QVP/JDye+jd3sfWdNDFy87It8cyyMfJGswNz4vSddaf2t3eNuPF58/sUvI5+Dv+VATyCU8OvBCEEecQ0g79CgEGpwCs+1P33PMW8WXuYOsG6Lzkn+GJ36/fVeNg6mD0wQDiDlQdvio5NmA/uUUPSa9JLkhNRaZB7j1UOro2XzJ5LHUkRhorDmsAnvGr4u7Ulcl/weK8mLscvcXAksXGyubP0NRK2V/dgOE/5iLsPPOM+3sEYw0sFREbeh5zHwAeSRp6FG0NGwaQ/zf6FPbY8grwg+0a6//oNeeJ5u7nVOyA8/D8DQgtFP4fYCrGMhc5GD2hPvg9tTukODg1uTEGLgMqTSVlH8wXYA5yA533p+tQ4HDWyc7VyXfHOcd9yNXKyM0G0SnUOdeN2pnemOOg6fTwXflGAowKZhFCFhoZxxlVGMEUsA/PCesDXP5i+eX0kfBL7BfoVOQi4Uffs99446PqxPTcAOwNoxrnJcouFjUROTU72TtjO6w6HTqaOXA4MzZoMowsISQaGQgM8f3/7y3jOditz9rJpsaCxXHFyMVAxgbHGsjDyYHM39AG18Te8Och8s/8DQcSEAAXeRtGHcgcXBq/FlkSxQ0uCdUEkQAj/BT34fCn6ePhytpZ1fDSkdQX20jmKPXDBVsWXyW7MVA6Gj9DQUxCEUPjQ3BFn0eHSYlJn0YSQH019iZbFVgC9e+x3z3SCsi3wRy/jr5OvoC9brw1u1e6pLpTvUvDo8yp2FLm8PRCA3kPIRhvHR0gtyBjHxkdjRpQGO8VDxMtDzQK3AOV+2bxKeZ+24nSpMwHy8HOk9eW5B30hwTfE8AgJCoxMMEzPTb9OLI8nUE0R8BMvFB8UZhNw0SCN9UmRhTvAaHxYeRO2iTTVc71yunH38OlvgO5gbQZsq6yJrfHv7rLitn/5+z1EwJoC7ERehUQGCcaEByAHdYepx8XH/0bWxaEDqUEH/ny7I7h5tcE0cTN3M7s03vctufU9C8CpQ6DGdIiaCqcMEs2MjxlQlRIjU1bUe5SSVHtS+FC2zbcKAIaXwsO/onynOjQ3+TXwdDuyS/Dj7zftvuyybGis5C4SMAryjfVgeCA68P1z/5cBuEMxxJZGCUd8SAoI5cjxiG3HXgXow/JBnP9C/QC6/TiTdy717jV3dYi24Piauwq+GAEExCDGocj6yryMEY2djucQEhFKEmXS8tL20h7QrY4FSy8HWcPMAIu9vfqoeB+12vPDcgIwZe6LLWpsbyw6rIzuC7A/Mm31KjfVep09LX9/wVcDUkUuhpkIGskjCZjJuoj+R4ZGOEPDwcX/jT1l+xr5D3dhdck1KjTt9Yy3dXmlPJx/w8MphepITUqlTFJONQ+PkUoS7RPKlK/UQFOq0YbPDMvWSGzE/IGMvtk8Evme9zR0nHJ3sB1ucqzY7D8r++y0bhTwGzI49DZ2e7iuuuE9JD9xwaRD8EXrR6MI3QlgSQPIegbjBXLDhoIvAFz+7/0We1Q5YzdFddl03rTBdic4GXsyflIBzoT5xxOJF0qJDB0NqQ9OEU8TExRR1NGURVLJkG9NFgnZRqfDjIEh/q78Crmt9oLzwDEu7oZtMmw57AztO65MsHoyGfQd9d23vzlhO5c+AgDvw1YFygfaSSvJrolRyIyHZYX5hF/DCMHYwGo+nfyDekq33rWktAFz2rStNqm5rj01AJ4D3MZ5CCoJjkszjLPOuFDwEzzU9xXYVcAUkJIYTshLR4flxKuB7j9qvPf6FXdaNEBxh+827S9sO+vA7JUtvq7L8JSyGXO6tSS3MTlV/Dv+5cHRRLgGhghoiSSJRIkMCGQHZsZ/RSnD1QJnwFJ+HztUOIp2NjQmc1Kz7PVIODj7Gv6/AbiEeAakiKlKe8wGjkJQthKBVJhVhNX3FPlTAtDVDfxKroeRBNZCEz9d/HO5PvX2MtwwYi5qrS1skOzl7USuSS9l8FoxgnMJdMf3NPmbvIW/rEIcxG7F7Uboh0THlcdHBxuGjQYzBToD0wJ/ABD96/se+IK2tjUkNNn1rnc1uWA8LD7DQY8D3MXdh+eJzQwczkDQ7hL/1HiVC1Uc1BoSuVCajpiMccnUB1wEeID8vSR5TPXI8swwkm857gkt1u2ArZBtp634LpxwH3I6NIH37Hri/fOAQwKZRATFdgY+hubHiMgRSBYHi0aoxNGC8kB+/dk7kHlDd1p1jLSvNBr0kDXVt/h6ev1/AFlDfUXCCK0Kxg1ZT5dRyJPe1TIVtFV7VFxSwZDMzmTLlsjdReQCqH8A+5+31DSscdewPm7uLmkuEe4XLhEua+7ccDax7vRbt3f6eT1cQAsCSMQ7RXnGnIfOyPiJZ4mLSVCIUEbnBMqC4QC7vlG8S3ozd7Y1bzOxco5y2nQHNrC5oL0KgHNC4sUmBwNJbIuqzkvRapPHVc+Wq9YaFO/SyJDVTqoMZ8oVh7JEa0C0PED4W/SgcetwC69rrt6uqe4OrZqtLy0jLg+wEzLZdjB5cDxU/ukApIIVg6EFCAbFiFIJZMmAyXQIMcakRMQDJUExvz289HpAt/v1I3NS8pGzFDTb94565r3JwIfC24TdxwGJyIz3j+OS2dUB1lHWd9VRVCdSahCVTswM08p7RzHDa78Vuu9227Py8ZDwXm9Lbpytn6yVa+TrlexGbhOwsHO4dsr6MHyevsQA2IKJhIZGochACeWKbUoGyWPHw8ZIRJHC1MEhPwe8ynowdx40jLLKcg9ygjRcds656nyufztBTcPqBl9JTUypT5MSedQq1TdVEZSHk4VSWxDtzx3NAsqKx0FDp39he1e3yrUyst8xTbATrtothmyd6/Nr5qzvbpxxKnPPdtA5mPwsPmIAi8L2BP+G9siRCfXKJQndyQrIEkb0xXSD+AIYAAS9oTqGd851XTO1csPznrU5t106ObybfymBZEPBBuVJ0s0JUA9StVRR1ajV1JWFFM8Ts1Hbj8aNd4oCBsRDNj8ce694SLXQM6Qxpy/c7lBtLOwcq8QsWi19rsExBbN5tYk4XXra/Xj/rgH4w/OFgMcDR9cIEsgUR9CHSkasBWTD6oHSv4T9LHpJ+Ca2FrU8tOC1yXe2OYi8F/5TAKMC4wVgCDWK8U2kECNSD1OPVG2UelPQUzhRvU/Zzc4LW0hZRSuBg35ROzd4BDXms4qx3zAtrojtnSzL7ObtVG6tMA7yMbQbNru5Kzv2fknA3wL5RLkGCEdQR/CHw0fqR1SG84XsBLuC7YDcPqr8Afnjd5P2GnVItZt2m7hPOp083P8CQXiDW0XvSEqLOs1dz5mRWlKDU04TQ9LHUehQaA66zG8J14cJBBfA7j25OpV4EHXf8/EyKPCGL14uLa1l7VguGW90cMiy2bTxtz/5nvxevumBN4MNhQsGlUeOiBTIBwfNB1nGn4WChEICrEBc/jk7rLl3t1P2PzVHtel26LiGuu68x/8ZgRXDToXzCEuLJg1qT0dRK1I9koISyFJokWQQOE5bzFxJy8cERCAAx/3kes64ULYgNCmyUrDjL0Buai2DLc3uo2/TMbCzcHVfd7458rxPfv1A8ELshJSGEEc9x3AHQsckxllFmMSGQ1nBoX+8/Vw7bLlpN/1213b2t0946rqO/PA+/QDGQztFIEeSihPMd841D45QxFGIUdmRu5D7D9dOkIzkSqLII0VDQp3/kXz7ui237vXxdCNys7ExL/+u2a6gLszv6jE6Mpa0Q/Yed+453Xw+fjgAOAH7g2qEvYVhReRF1kWhhQuEigP8QpdBZb+Bvdu76zoyONk4QHiY+UZ6xvyh/l5AAkHrw0YFSwdUSW6LA0zXzirPJI/oUDtP8A9TTp5NUQvwic2H+kVKgxDApT4h+9W5xfgmtmc09/NvMj4xHnDfsSOx7jLSdAd1X7at+CX56fuVvWE+xEBCAYDCtcMNQ5HDjMNgwtPCZoGHgPR/rj57PPP7Rvo4OPs4dnigOZV7DfzQvrEAPoGWw11FCIc2iPsKh8xmjZWO9c+lkCQQCI/kDzVOOIzti19JoweRhbuDawFt/019k3v3+iq4m3cgNar0cHO6M2szmjQq9JL1V3YGtxf4NvkLelb7WLxQfV5+LX6xvsn/DX8Q/wT/Ij7dfrQ+Hr2YPOt7/TrO+lz6Erqnu7J9KD7PQIGCDgNSBK6F3YdOyO3KOUtxTIXN0g65TvuO7s6fzg+NfcwqytgJWAeNRc4EF8JmAL++8X1ze/R6afjp9102LLUidLL0S7SU9Pa1JbWw9iH29beQ+KM5X3oOeuL7UTvI/CS8OrwhPEh8pPyjvL58bfww+5I7Nvpc+j76BbsoPHj+KQA+AdSDgoUphmlH+Al/iuZMbw2iDu3P31CVkOAQrRAPj7nOl02mzDnKdIi0hv4FPQNrgZd/3P4AvLP64jlWN/S2bDVN9Mj0vDRKNKm0oTTDtVJ1xPaAN3N30bileSR5hno9OiH6SbqK+tR7Fvt8u3/7XLtUezC6kbpu+j86ZXtSfNo+vUBPAm0D6AVjRvkIUMoLS5oM0U4+DwTQZZD6ENVQtY/9zyOOQg1NC9tKIQhABu9FCMO/Aak/8f4ofLk7B7nXuEx3ELYv9VR1ILTBNPV0hzTKtT11U7YxNoo3UrfQuH14nnkuOXv5izorOlD68bs3+197o/uGu5U7dDsQO0S75Lyvvc7/ioF1wvgEaYXhR2QIzEpFy5tMsU2NzsnP5pBJUITQSo/xDyqOWY1/C/nKeIjNh6RGFUScAtYBLX9offE8cXr3OWg4JXcsNmC17fVR9Rc0xrTrNPa1FXWztdd2Qfb3dyW3irgmOFA4y/lX+dv6UProexz7Yrt/uwt7MHrRuzs7cLw0vQa+iUAcgZ/DF0SNRg7Hi0kxynYLq8zjjhBPeNAvkLFQqJByz9BPaY52TQfLyYpXyO4Ha0X+xDHCZ0Cz/tH9bruMOga4g3dPNlR1tHTmNEB0GXPyM/F0BrSqNOI1aTX99kw3EDeHeAo4mXkyebw6M7qMOz+7P7sTOxE64nqf+pB6//sIvDi9LH6yACWBlEMQxKdGPUe7yRmKsEvOzWpOlI/hELiQ8hDt0L5QFE+fTp9NdovGip1JKYeXhh6EVUKUgOj/Bn2lu9B6Znj+95n24bYB9bp02XSvNHc0ZjSp9P31IfWhtjH2hTdMN9k4drjpOZn6QbsRe4T8DPxm/Fi8fTwpfCf8BXxafIK9fH4u/3BAswH4QxTEhAYzh0QI9sncSwlMbo1hTnNO3c86Tu7OhU5sTYwM7EuqimyJOgf8Bo8FboOzwccAer6F/Vi79zp1+Sq4Fzdmtob2N7VONRo03PTAtTW1NHVHte82J7ai9yn3vvgneNS5hLpi+uK7bruIO/m7nnuHe7/7VDucO/G8WP1APoT/18E1Qm0D+4VPxwhIownwCwRMi83ZDv9PfI+pT6pPSE8zzlYNt0x1yzYJ+8iyh30F2cRYAp1Axb9UPfF8V/seOd24z3gXt2l2inYK9be1HXUvNRd1RHWCNdU2OjZdNsR3dLe6uAu45Xl3Of36aXrz+xh7aLtzu0W7ovuXe/m8HPzK/fU+xIBdQYFDOYRNhiOHn8kvSmJLh4zZje+Oog8lTx5O+I5HzjMNW0y4i23KIkjnx6mGSUU1A0hB78AK/s+9o/x3exr6KTkneEE33jcD9op2BnXwtbw1lLX3teT2KPZ8dpj3NrdoN+p4cHjlOVv52TpPet87DLtq+077vHu1+8O8dnypPWe+Zv++gNoCd4OwxQhG6AhjSesLCoxbTVNOTM8fz0wPbo73DnqN541SzK/LVoo6CLBHZ0Y0xI/DF0F+/5m+Vj0Xu9d6pblcuEl3mzb6NiJ1sDU5tP203LUGNXT1d3WO9jx2cjbx93Z3wviPOSJ5s7o+Oqw7OPtm+4l77vvjvCQ8bjycPRq9/77kQFGB40MwRFaF4AdlyMGKYktkzF+NQ85aTsTPGM7Lzq/OOM2SjTLMDIsyiYnIaIb5xW3D0oJMAOT/Ur4KfM57ovpU+XC4cfeHdyx2d/X1NZZ1gvWB9aA1o7X39hL2rjbYN1L34ThvePl5enn9+np65Ptq+48747vC/DM8Lfx7/L39Gf4Lf2mAvgHAw0sEvIXEB7jI9goJS0vMRo1UDgpOnQ6wDmkOGs30TVuM+wvhiujJp0hYxzTFuQQ8gpTBSsAPvtO9lbxrOyn6ErlSOJr3+Pc+trN2QrZbtju1+jXedh92YDaf9ud3B/e4t/F4YHjL+XU5ovoBOoF63zryus+7PDs0u0X70zx5fTY+XT/CAVACnwPEhX1GoIgUCVpKVAtLzGSNKM2FDdUNj41KDS8Mk4wwiyKKEMk9R9VGy8WyxBvC1wGiAG//MH3vvIp7lLqFecM5AvhTd5E3P/aLtpq2czYr9hh2Zza+Nsh3Vje5t/+4T7kXuYw6ADq1+uP7a7uF+8L7xjvb+/y76zwI/IU9Z75H/+PBJIJcw7cE8wZnB93JF8o5SuULxkzgDUINh813jMKMy8yVDDzLKYoTiRLICAcOxeSEeULzgZHAsL90viU87fuyeqn57HkiOF93jHc9NpH2orZmtgg2J3Y7dlD20PcJ92e3svgW+Og5YXnQukr6/LsJO567lPuT+7q7hDwgvGg80H3pPy2AkQIBg30EdAXSh4UJG0ouysrLxAzcjbuN083rDWANAw0OTO1MHUsiSckI1IfLhvkFdAP7Qn1BKMAFvzA9jTxfOwG6T7mMuOt32vcWtpn2bPYgtc/1s3Vktbx10DZRtqN25PdeuCS41XmoOjq6kvtcO+g8LLwMPAG8JXwrvEo8131Efl6/rgEQwqxDvsSVRhyHvgj3CeZKlstsDCyMwU1OzRzMgUxWjCFL1UtaimqJCAgJhwsGIMT9Q0jCMEC/P1r+bP05O+Z60/ox+VD43fgBd6n3FDcO9zw24nbidsj3DrdWd5m357gfOLZ5D7nFemN6vbrge2v7g7vce467RPspusW7DTtZe9687X56QCUBwoNQBJhGJMffSbRK30vuTJmNhw6gjzAPD07MDlBN/w0dDFXLCsmyx+EGQYT7gtdBLj8cfWx7n7o7OJk3iLbA9lz1wLWzdSa1C3WYdkx3ZbgeONO5ofp1OzM71vyHfVL+Hn7lf1c/in+0P2C/fX8UfsZ+LTzQu+f6/boYedW58jp5e699Yn8dAL5B3kOWhaQHlYlHirtLQcyVjaRObU63DnONzo1MzI5LvAokSKtG7AUpA1rBgX/rPeX8N7piuP53Z/Zn9Zw1GfScdBXzw/Q3dIC11HbIN+o4qXmQOsJ8GD0U/gh/Oj/CAMMBdIF/AUKBgkGSQUwA8b/xvsa+FD1tvN48/30N/io/FoBzQX+CdcO5RSqG4YhiiVIKDcr6y5+Mmg09jPPMRYvOyzHKEYkkB66FzUQvgh8Af75LPLQ6qbkZd9F2hrVZNCuzILKOsqUy77NB9B30ovVu9nI3hbkGOns7a3yTPcl+/n93P9eAZcCJwNdAiUAC/3y+ZL3QvZU9uf3HfuI/3IEEAmmDesSlBkBIbwncCxvLz4yHjaEOpk93T1UO0Y3GjNILx8rmiUsHhAVSws2Alf6D/PE65jk/d3u11vSss2CyrnI98cTyAzJ4MqYzVzRBNYh20vgruVf6y7xofaq+wwAlgP0BXYHVgjGCGYIyAbGA9P/efss95fzm/FW8uv1VvuxABoFEQliDtsVlB5BJm4rhS56Mas1nzptPlQ/Hj0dOeo0KDFbLVIoFyHmFx8OFwU6/Rj2GO8D6PngTdpY1HjP8cuvyTbIOcf+xhLIwcqbzt3SI9fe217hWecY7YHylvdV/D8ANQMZBS8GggbnBQUE6gD8/AT5WPYq9h75aP4qBHEIaAv2DjAVuB0hJtEroC6aMPozwzjaPA0+0jtZN3AyNC47KkElRh5YFYcLOAI4+mbz/ewn5tje2tcq0i3OmMvTyX7Il8elx1nJycxI0fnVn9qQ30vlqOsU8sz3rvzdAMcEOAj2CokM0wzHC24JtgXlALX7Uvci9bT16fi8/bECXAZbCaYN5hQSHk4mMitOLWsvrzNBOTA9Vj0VOos1jTFZLpAqzSTFHFoT1AkuAZb5j/Jx69Lj6duB1KzOA8sXyaXHA8bcxJHFzMjlzZDTztid3bTi1ei373H29fspAIIDzQbyCXkMoQ1DDYQLnwijBNf/yvpb9sPzt/NQ9qf6PP+eAoQF+wmJEeEa4SIfJ5colyorL8M09DcRN1wzSC8xLKgpESZaIMAYThAHCJAAz/kl8//rS+SP3KPVWND3zPLKQMmWx9nGPcj9yxvRVtYc29vfVOXc67ry+vjw/eABWAXhCBUMYA4lD3MOqgwsCgAHKQPg/rr6MPiA+N/71QBIBdoHCgqQDpUWtR8zJkooOijXKXAuVzPINN4xCi0iKbkmPSS3H78YnhDJCLwBPfva9FDuqOcG4bjaUNVy0UPPOs6AzevMSs2Vz9rTIdlY3hbjxucC7QzzOfm0/ucCHAa9CDILGQ3+DW8NZQs5CG8EOwDG+7f3EfVB9bL4Bf6gAoUFBQj6DGkVBB+yJeonFigNKuEu1jNWNYgy5C1TKkMouCUCIS4achLsCgEEUv2K9qjvsOiS4X3aHdRCz0bMm8pbyTbI+sfSyRDOq9Mi2drdhOJE6EvvtvYR/ckBRwWSCOcL4g55ECUQHQ4MC3AHlQN9/1j7g/iK+OL75wAtBVcHLgmeDaUVih5+JBsmBCb/J+QsrjG/MqQvJisFKFkmJiSHH4sY1RDBCTkDjfxT9c3tbuZP30bYoNE1zK3I18bSxRPFGMUMx3fLitHB10HdmeLj6IfwkPjE/2EF0Am6DZ4R5hTTFtEW+RTgEUAOOgq2BUwBP/4M/tMA8AT0B0sJfAohDtcUXBwkISkisyEXIy8ndSuYLPAp7CUeI4Mh/x45GqETgwy0BUj/vvjo8fTqDuQf3UfWH9B8y7fIRMdKxpvFCcaQyFnNdNOa2UHfBOXh6/zzcfztA/8J/Q6gE/AXkBu3HfkdcByXGcwVZBGkDAAItwTeA4AFDQi5Cc4JEgq9DEYSOhixG9obKxvDHAwhJSUEJowjOiArHhMdLRsVFyMRvArYBCz/JPmW8uzrb+UI35jYq9IpznPL9cnCyKvHlMeaydXNPdOw2OrdkONl6nfyxfo5AlAIgA1REgAX6RpkHQce7hx4GiIXJxPRDucKSwjhB5sJJwyWDa4N9A2PEKEV4BpOHbAcvRs7HdQgmyM1Iw0gexw1GsMYPBagEY0LTwV5/9j56POx7X3nX+Em2xPV5c9hzIfKgsmNyOPHl8h2y0vQFNbS21HhOudJ7lz2i/6qBVgL8g9JFGwY2xurHXEdfRuEGPwUHhErDZ8JvgdlCBILuA3ZDqQOcA8KE6sYEh0VHq4cFxwxHqshcCPeITgeCRtiGf0XIBUxEA4K5gM+/pv4lPId7Hvlyt4s2P3RBM26ycfHW8YixafE2MUvyTfO6dOV2V7f5eWL7Rj2jP77BQ4MTxE8FvIarx6eIHIgmx7EG4IYABVREaMObA6wEDUT0xN5Et0RWhRzGawdZh5fHA4btxw2IEUi6iAzHd8ZWBiDF28VMhGOC88FkgBr++/1CvDg6XXj79y81rTRRc75y+rJ1cdpxrTGJcktzb3RTdYe28nglOdB7/b28f3dAxkJCA7nEhMXmxkgGjYZnxfAFYsTIxHWDwwRmBQnGJYZ5RjNGKYb2SDhJDAltCL9IDkiJSV8JlYkyh+VGysZeReOFIkPLgnQAg/9c/eN8WfrW+Vm303ZK9PyzXLKdMjfxgrFesOMww/Gecpfz+TTYtje3djk4ey79I37RQGQBtAL/BBNFQEY+RjBGNMXYxaZFPISvxLuFNoYRhykHVkd4h31IJUlfSjZJw8lbSN3JI4muSbFIysfXBscGRUXqxNwDigI1AHy+z72f/Ct6tjkzt6J2HfSlc1rynjIwMYBxf3DxMSuxxrM7tCk1bDa+eCS6JXwufen/cwC4AfdDFkRnBRAFn0W9xX+FJMTExJTEXcSqRWZGS4c8BxMHWsffSNzJ6go6CaDJPgjOiUJJmUkkCBpHG0ZSReJFFoQGwuQBRcAuvpO9eXvjuor5WnfatnV043PvMy7ysDI58YhxlLHbcqQztLSJNcr3IDi5+mc8aD4j/6ZA2QIDg1LEWAUyxWtFckUnRMyEvkQ4BCcEn4VBBgUGXYZyRoLHhkizCTBJA8jBCLOIiUkESQIIiwflRxVGr8XQRTzD0ALRQbSABP7cvU+8DTr1+Xr3wDa/9SB0SXPHs0Wy6TJoslHy+zN2ND80/rXZd0u5GjrLPI5+CD+KwQRCvYOexK/FA0WcRb4FZwUrRJNEagR+xMHFwYZABleGGcZAx1GIXkjkiJyIL8fRiElIwAjVSDCHOsZ/hfsFZgS3w2ECEIDRv6H+dP08++/6lTlC+B/2/fXR9Xu0q3Q0s4Jzo/OAdDR0QDUHtez23jhkudC7abyLPgD/o0DHgheC4gN/Q7pD/QP+g63DXANKw+TEvsVmheeF9wXSxq1Hs0iCiSNItQgJiETIzYk1CKGHywc6xkpGHYVSRFBDCEHMQJ3/cT4APQV7/LpnOSC3zPbCdjC1drTBtKg0EfQUtFS05HV1Ney2t7eZuR+6lnwpPWx+sf/3gRfCckMBQ9YEPYQ7xAeELMOsg0/DrUQCRSVFlwXgBf7GKoc9yB2IxQjWiGpIMohHCN5InUflRtsGCYWshP/DwcLngVyAK/7V/dC8xzvnurl5Vfhgd2t2sTYPNef1QvURtPf063V8dc02qTc4N8x5FLpke6L8zb4yvw1AVgFzwhKC70MZA1RDY0McwvGCqkLkA6TEtYVcxcwGBEaDR7tIgwmOia/JBkkOyXAJngmpSN1H7Ab2xgBFgwStQx+BkQAtfre9W7x7ewM6ObiEd4x2pPX6tWk1F3TTdIQ0jLTlNWP2IDbZt634fPlAOti8Hr1F/pK/lYCFgY/CYILzQw+DQgNPQwRC3sKnwvuDk4T6haaGG8ZdRu+H8wkACjlJ8slRSSpJM8lbCVpItQdgBk9FlQTcQ8FCqsDVv2e97PyTe786XPltuAm3G/Y79V51IfT0dJ50vXSldRS17baSt7X4Zbl0um17u/zF/m3/b8BTQW+CPMLcQ7eD10QHxAbD1INSQtfCqkLAA+9EkAVNxZXF2MaUR/PI6QlsCQdI/QiLyTmJE4jZh/aGiUXOhTtECoM/QVg/0P5+/N670Prsuao4cfczdgG1i3U6NIS0tTRcdIg1MnWK9ri3bPhoeX76eLuM/Rd+ev9twE0BYwIiwu6DeIOEA9rDt8MfAo+CKQHtgm+Dc0RKxRpFYoXEBzuIZkmPiiwJzonOii2KZkp+SbGInYenRq+FtgRiAtNBAL9NPYd8H/q9+RW383Zw9Sk0LDN7MsfywHLhsv5zMDP8tMa2Ybex+MS6c7uKvWr+60BuAbxCp4OBhLZFKIWMBfAFn0VUhMwEJ4MIAr7CTgMOA8kEU4RWhFrE/QXsBw5HzMfjR4VH8QgBCJrIQkfIBySGQoXsxP+DiQJ5gIC/X/3EPJ27NTmX+E13FXX9dKNz4fNvMySzLnMrM0o0FTUfNm+3sjjDukS7831dPxQAiUHYgtHD8ASUhWxFuMWIhZvFNIRDQ9xDS8O/RBIFEUW7RapFzkajx7xIj8lSyWtJPok+SUfJmYkMCGIHQAaWBa3EboL5QQu/gD4HfIG7MDlwt9x2rXVWtF8zanKVsliyS3KUMsVzSzQ1dSC2kXgwOVG62PxDPi0/oQEPwkSDXQQZROYFaUWbBb6FIkSew95DKsK5AoBDZkPXhEAEuYShBXqGTUemSDlIJwgFyE3Iq0icSG5HqQb6hgdFl4SQg1MB10B7vuz9kPxiOvh5avgBtzR1xLUFtE0z2bOU87EzgbQitJV1uLao99p5ILpMu9d9WD7ugAvBQgJbwxuD7YR8xL7EvARBBCMDXsL9wqoDMgP0RKTFKMVhBdDGwAg3SN8JW8lRiXcJWUmeSWlItgeLhvGF+sT5Q7dCNYCp/38+M/zs+2L55PiDd8p3CDZDda708LS9dKl04fU/9WZ2FTcpODh5ATpdu2E8uL3Ef13AfoE6gfuCvkNTRAlEX4Q5w75DCALqQlOCaoKcw0sEOMRBxMrFfEYdB3VIDsiYCKuIn8j5iPOIiIgshxiGWIWCBO3DrYJ6QS9AKj82/dl8jPtF+kD5kTjM+Dj3PXZ+tfh1kzWC9Zp1rXX49mN3JHf8+K25rjq7u4F87H25/kl/X8AdgNiBS4GdQbxBsYHiwifCTIM8xCrFpcbAx/5IZolCioLLkowfjCiL64unC2eKwAo5SJSHToYdRMPDncHOACE+fbz6u5O6d7iityK1zPUp9HyzhbMGcrayT3LWc2azznSytVv2sjfOOWe6kXwgPbL/DsCUwbACRoNKBAJEmMSnxF2ECYPeQ2sC60KhAvqDcMQ9BKYFGcWSxksHRkh0yMuJeUluCZ1JzUnZiVhIvUemBsUGKMT0w0JB0YALPqK9Mfuu+iv4vjc5tfh0/fQzM45zZ3MYM11z1jSo9Vr2RfekuM76UbuqvLa9mT71/9CAxMF1wVYBsQGtgYlBhAGsweJC30QGRWmGPcbAyA4JdIqgS8pMkMzLjSTNXw2fDVNMgMuvCmSJb8gUBohEjUJ7gC8+eryluvK40rcp9X4zzzLRsfUw0bBlcAQwtnEAsi1y57QyNaO3YDkTevM8Sj49P7mBfkLVRCBE1UWGhn9GiwbsRmBF0UVrBJTD8ULcAkRCVYKBQxeDWAOCRDiEpsWAxphHMsd/R5KIEUhQSEHIPkdpxs/GUsWVRJRDc8HWwIi/d/3ZfKw7OvmWOFW3BzYwNQc0v/Pg84mzgDPi9BJ0onUotdw20vf8eJ35ivq8O128XD0Afe1+fv8qgArBKsHIwyREoUatSL2KVEwTzZ/PJJCgkcxSp9KuUlTSElG0kKNPdg2Ui89J20efhRuCdv9nfI46KzeqdUSzS3FYb4KuVG1D7PwsfaxjLPytua7zsFTyHHPSNeV3+vnxe8e9y/+TgUyDFQSLBfjGtkdayBIIu4iMyKWIJoeLhwYGYMVJBJuD6sNvQxuDEYMagwyDdsOzBCAEtUTKhWCFqQXPhg7GLcX0xaFFaUTMBENDiMKcwVhAEP7OfYF8YPr0eWE4Orb79dG1AzRaM5pzN3KzclKyX/JSsp7yw7NWc/L0nTXAN3+4sbpG/Kj/NQIhxWaIQ0tXzjkQ+ZOTFhbXzdkT2faaK1oZGbgYVFbClMmSak9lzA+IioT+QMj9eLmStllzG7At7WurJOldaAknZ+bG5y9nlOja6mzsAS5XMJkzJ/Wk+Bj6hf0kf18BvsO3xbEHSIjIScVKkYsiS2fLYAshyoYKD8lACKGHi4b8xftFCwS8w8nDt0MCwzNC+ALIgxsDNgMWg3fDTEOKQ6uDcMMfgvMCZEHvQSNARn+U/oX9qHxKO3U6JXkjeDK3GbZXtbR08XRQ9A3z57Ol85jz0TRPNRP2ILd/eOj65H0yf4RCnwVeSAKK4k1sz/wSKtQuFYgW+ld6V4CXllb6lZoUNFH4z1eM1kolRwqEIAD5fab6uXeBtQdymDBC7pRtDWwp62irCCtCa9Cssu2crznwsXJDNGO2BfgQ+cp7rn06PphAC4FRAnEDI8PqBH3EpcTpxNWE8ES+BENERcQOg98DvcNrw23DeYNOQ6mDksPCRDTEI0ROBK8Eg4THhPnEloSbxElEH8OiAxBCq4H0wTJAaP+dvtH+CX1IvJi7+nsqOqL6K/mKeX/4xvjhuI94jbiZOLf4rrj7eSd5hjpmOzg8Nb1k/tYAuMJvRFbGbQg4Sf+LqY1bDsOQJFD7EUQR/dGl0XXQsE+jjl2M4csxiRZHHwTVwoSAdn34+5V5lneFde10FbLCcfWw73BwcDWwPDB5cOXxtfJnc2/0TDWstpB37TjFehL7GzwXfQe+JD7yP68AW4EzAbiCL8KfwwnDqUPJRH6EiQV/xYbGLkYbRk1Gssa/BrIGgwa1xhfF9oVKBQtEvcPug2CC1YJPwcrBdICMwCs/ZL7vvnp9xT2fvRO83fy3fF48WTxn/H08STyQPJe8oDyg/Jz8ljyP/Ia8v7x/fE28rrykPOs9P31hPdP+Xz7+v3EANUDNAe9Co8O1BKFFwkc1h/KIjslXicfKSkqRSpjKcIntyU8I+kf9BtLGEoV3BEQDXUHPgKn/Uz5JPU88UvtR+nC5QvjteA/3vHbPto62aHYh9ju2LnZltqE24bcvd0V35vgM+Lt48Xl3uch6nfssO7O8P7yiPWU+Av8wv+YA50H0QtDEOQUmRkUHkgiPSb5KSctXC9SMGgwOTAJMFEvlS3pKtgnkyQQITUdMhkuFT4RJg3ICE8EEgAh/Gz46vSF8Qfuc+oy54/kbeJ94MTeY9123Ofbt9vl24rckd3e3mzghuJM5ZPo+OtZ78TyX/YS+qX97wANBBwHDAqzDBEPQxFMExoVkRamF1UYtBjUGLgYORhfF14WVxULFFISUBBPDksMIgrPB20FBwOkAE7+Dvzu+ej37vUJ9GXyB/HD723uLe037J/rP+sG693qxOq06s7qFuuN6yXs+uwC7hbvJvBg8d/yefQM9sb3Jfpq/XUBvgUDClcODRMVGBsdqCG3JWUpsywjL00wQDCeL+wuMC7kLK4qpCcsJHAgRRxmFwwSxwy1BygCvvso9VzvaurD5TLh4NwI2crVSdOE0XbQ/88K0HrQbdHn0uTUO9fp2dzcJuCo41/nPutx78bz3PdM+zz+4gBMA1MFBgeCCN4JEQsTDPYM4g3kDscPZhDJECERcBGlEZoRaBE5ETIRKhH9EKgQRxDHDxkPOg5IDUwMOgvwCXQI7wZ1BdgD4gGa/zj98/rQ+Mr20/T68kvx0u9y7hXtweut6vXpi+lE6RLpFel66TfqGOsz7Pvt9/Ad9f/5Df9GBO0JNBC2FvAcjSK+J6UsBTE1NPM1rTYUNzg3sjYaNYIyPC+AKyUnECJxHKUWthBVCj4Dsvtn9OLt+ec54pTcXtf10nDPxszUypXJAskgydrJPstBzerP/tJV1svZot3d4VnmqOq17mry0vXY+KD7Nf6nAOwCDQUTBxUJIAswDTsPLxEIE68UMhaXF+gY/hnXGoMbJRyVHLscjRwkHGsbXhr+GGcXnhWdE08Rxg4mDH0JlQZHA7H/Gvy0+H31ZPJt78Lsc+pu6Irm2+SE46HiIeL64RHiVuLO4pXjtuQs5gPocOrb7YLyLvgo/gUE5AkaEH4WoxwrIisnxCvwL0czizXcNqQ3/De+N542nTTlMaIuuSobJu4gdRu1FYAPrghxAUL6ffMe7fLmAuF724TWI9JrzmHLF8mCx6DGX8bZxgPI28k0zBzPhdJx1rXaT98F5K/oHO1o8Zv1vvmg/SoBXQRtB2AKGA11D5ERmROCFSkXdhiQGZQanxuIHDcdlx3YHRYeSB4UHmUdbRx+G3caJxmAF6EVhBMiEYUOygv1CPAFlgLj/gH7I/dl88XvVuwt6WPm7ePL4eTfQN7p3AzcnNt123PbuNtk3HPdzd6S4A7jf+b+6mjwiPYV/f0DKgt/EqIZTiBYJuEr/DCHNQo5ZjvrPAE+gz4pPtw8yjrzN0s0zC+ZKtUklB7AF0oQSAgNAP/3UvAD6QHiadtm1RLQg8v3x2LFbsPiwSTBf8HYwrnEFsf6yYHNg9EB1tPa898a5SDq0u5X87j38/vK/ycDFQbQCGMLsg2XDyERixL1E2YVvxYdGKIZaxshHZ0e3x8sIV4iTyPLI/AjyyN8I+UiBiLXIGsfqR2SGzYZrhbdE6gQCw0kCQ0F3ACq/IH4a/R18MbsXukw5hXjIeBv3SvbRtm511vWJdUo1LLTwdMV1LLUPNYf2QHdYuFS5i/s3fL9+TQBjQghEOwXgB+IJvks5DL7Nwc8Fj9mQeVCaUPJQiFBkz4+Ow43BjJHLAUmPx/0FzgQVQiMAAj5xvHC6g7k191O2IrTls9ZzMTJzcecxjfGl8aHxwDJ88qBzZPQJdT91xncSOB45ILohexy8EX0yfcF+/X9tgAkAxYFdwaAB2oIPwn6CbEKqwsGDdIO5BAxE5kVMhjfGogd4x/aIVsjeiQfJUUl4yQYJOsibCGUH28dBRteGGEVDBJ3DsQK6QbcAqz+fPps9ozy6e6D61vogeUg4zbhqN9K3jvdm9yK3MLc+dwG3UDd2d2+3qTfm+Dx4fvjvObx6XTtZfH69RP7gAA0BkIMdhKcGIEeFyQxKbgthzGmNA430jjiOT460DmfOKg2AzS6MN4sYyhWI8EdyBd+EQULbgTq/aH3s/EU7MzmCOLv3XnagNcB1QrTrtHt0NPQS9FJ0q7TkdXs18Ta490r4Wbkl+ev6svtz/C080v2nfiX+kj8kP1v/t3++/78/iH/nf95AMwBoQMUBgcJYAzkD4MTFBeCGpIdJyAiIpQjgST8JAglrCTYI6IiHCFYHzkdoRp6F+0TMxBmDF8IDQSf/2H7cvfA8zTw1+zX6UrnIOVI4+fhAOFd4LbfKt/g3vbeQd/A31TgBuG+4YXiQuP246bkfuW/5qzoXuu07rbymfdr/bIDCApVELkW8xygInYnciuXLv8wsjK7MxE0wTPOMl0xfC8rLTIqhSY5IqkdDRlfFE0P0wlPBDb/h/oL9qXxg+3b6b3mA+Sf4cHfdt6E3bLcRNx83E3dTd5Z32ngqeEl4/Lk0+aP6PrpXuv97A3vWfGs87P1PvdZ+FT5RPrk+jX70PuB/XgAegQfCS0OTBNZGCwdlyEkJaEnJCn7KTAq7Cl9KRwpgyiGJ0cm3CTSIrEfaxuHFoMRmgyuB54Cgf2r+Gf0q/As7cHpk+bh47Lh79+o3u/dwt3s3VzeDN8h4JThWOP75CXmvuZO5xroEOnA6Tnqouog66brV+wc7bPtHe7X7lXwevIr9aP4T/0KA4UJYxBTF8UdYCMGKOYr+i4oMUIycjImMs4xazG6MGUvSi1OKmQmdCGtG3AVOA82CWcDuf1H+EDzyu7J6iTn3+Mk4QrfkN2v3Gjcy9y93Q7fgOAj4hbkhOYZ6Wfr++z/7cPuse+Z8DTxM/HO8FHw/O+u70Hvwu547tnuIfBa8ln1OPkR/hAE8woSEokYBx7BIi0nMiteLkowIjFcMZgxFDJrMr4xyS8MLSIq1SaVIiMd7BZ5EDIKLQRq/uP4xPNE71vrsOd45G7ibuHt3xzdhNry2XHbtd0g4E7iquN74/Thtt+m3S7cjduV21Xc090j4KDiROSr5ITk/+Sv5qTpye3S87T8MQgwFCAfOCn7Mgg7DECRQlREOkY7SDFK+EtDTUxN/UqpRZQ9hjP2J2Ybzg4LA2P48O725k3g3tnN0jfLUMQlv4u8yLyCv+DDWMnaz4rXFeBJ6N3uzvPz+Mz/FQjMD3sVMRjxF0oVqRGeDe8I1gKN+/TzOu2/5wTjMN6s2CvT7s5vzSrPONQo3Nzm+PPMAuMRIiD3LNs3sD8tRMJG9kgSS1xMoEyOS3hIiULMOcUuFiKVFFMH1Pri7nDjLNnA0LjJcsPGvUK5PbZjtWG3hbwnxDvN1tbb4IHrPPbG/0sHxw2yFJgc+SP0KPEpICfOIe4bAhZtDz4Hs/2q87vpZuBh2C/SZs3pypnMrdM93ubpb/VsARAOPht/KLM1q0KgThBYvl0EYMxftV2JWTRTjEq0P7Ey3SOzEwcDtfJK4wPV3sdHvNeyP6xOqLamCqdiqb2tlLRfvvXKN9nT5xT2hgOhDzYZoR/1IqUkASbJJ7YoKCfsId8ZYRB3Bij8VPH/5Tva/c7SxRLAxb03v9LE1M6V21vpCPflBCkTtSHOLw49kUnpVLhdcmI2Y+lgjlxqVqpO9kQLObIqYBr+CL33k+fW2JfLz7/+taSuUarIqKmpRqySsKm2Ib9MysHXR+au9H8CkQ+UG2clPCzAL/Uw6jB4ML0uiSrjIp0YBQ08AWL1Q+nZ3EvQsMRru7y10LM+tna9w8mM2ajqCvtyCpsZKSl4OHhGvlLeXBFkbGdLZ1BkHV+tVxNOSUKiNE4loRQwA//xH+IA1LbHIL2RtEuu1aoequqrhK+0tHa7TsR/z5zckOo/+DcFURFrHJQlFyxtL0QwYC+fLWsq+SSBHMAR2AXV+dztteFU1fbIvb36tOuv2q58sim79cgd2njsFv7VDnEfbDDqQJxP71uFZeVrX25QbSVpXGL2WD1NWj/CL8Ye3Ayl+u3olNjzyUa9jLIwqmyk3KGkop6m2azqtNO+7cro2NPnqfbBBAoSTR4+KdUxkTcOOtw5VTcFM4gsqSM7GDMLo/2I8CbkS9i1zB3BTbacrbioNqjqrAq3R8Z42ILrFv67EDgkYDhoS19bwme8cH52qHiNdxlzOmvJX5RRYUHZLxQdOgkF9aLhRdA/wY60A6oRogCdY5sunUiiA6rUsxK/o8uk2d7obfguB7AUmyDFKo8y6jd5OlE6SzftMU4qxyBfFcsIv/sX70HjPNjOzZXD97nEsW+s06oYro+2EcTm1E/n4/nHDH8g6zRcSN9Yu2UVb2F1hXipeE11HG4AYwxVOkU/NPohVg7i+dTlfNNJw2a11KkpoZObj5kamzSgIahismu+Fswd2wXrE/txCqkYLCXLL+A3Nz16Pxs/5zu7NWUsASFtFDsHiPkN7HLfzdPryIe+G7U+rR6obaZ6qfyxLcBl0rbmcvs7EPokhTn8TAheomtAdTV7t30ufSZ5UnGMZb9WyUVjM7wfLwt29nTiENCpv6mxQKYOnjCZ+Jcxms6fPagjs++/SM653bftqv3YDNkaDSc3MbQ4az0HP+U94DkgM4gp2B2mELoCm/QW55naCc9TxIC6K7KOq2mnXaa0qfqxrL8E0pbnEf4IFAgpXD3HUCViJHCuedJ+/38hfiN5wXCJZA1VGkOlL0IbjAY18sne9swWvcGvOqUSnjqa3ZmxnK+iZKuVtr/DXNKq4fDwv/+uDY4awyX5LoI1VTk/Orc4pTQqLg4l1BkGDY//GPJk5bnZD89txdq8x7VJsKusAquSrLqy4L5j0GvlW/uaEJIkzze/SoBcGGvqdFR6M3wue9V2LW8XZMtVlkSCMZ8d0Amx9oPkqNNjxF639qzTpQqiq6EYpCupvbDzulLH/tTs4n/wtP2ICtEWpyFuKn0wATQANdwzUjBuKv0hhxexC57/2fOj6Ljd6NKSyD6/Z7fQsLqr/aitqiiy6L9K0uLmMPtkDuQgmzN+RhFYUmbiby11CndMdpJygWulYE9SMUGcLpIbswha9rLkI9T4xO63i62kpkyjaqM2po+riLNvvqXLBdpT6AH2OgMmEJkciicyMNw1xDgPOTw3DTN9LFUjJhinCwP/z/Jc527cvdGCxyG+HbZbryqqN6d9qIqv+7wSz2nj4PfDC/Me8DH7RC9Xk2ZLcUt3SnlOeFB0M22IYolUvEM8MQge9gqd+C3n5Nbax8G6OrA3qdWl46V+qHet5rQrv8bLmtlW52P0BgFzDWcZzyMTLKAxjTS7NJAy8y0SJ9AdsRJRBsf5u+2e4kvYgs5kxS69Uba5sLasz6q3rMqzwMA+0lHmA/tkD/Ii3DVgSNZZmWjackZ4YXlXd25ypGqEX1BRaUCLLaUZAQaf84Hig9Ktw/K2IK0kp/WkRaYiqlew1rjswyzRn9//7Yz7VgiGFBAgESrfMb82yTj2N8E0Dy8SJ8YczRCzA0/2Selw3QvT28mywZe6B7X6sIqutq2Yr2W1ZsBC0MPj7vgxDnAijzXbRzRZm2hJdBl7vnxpegJ1FW0/YnxU40MNMdockwhc9aPjgNOtxK23NK1dpkaj1aNZp4et17VQwNrMDNvH6ff3PAWTERcdNid7Lx41CjgOOIk1bTAPKW8fAhQmB7D5Wez83/nUVsv8wsu7D7basVKvPq4rr+2yFbs9yNfZuO3uAYgVnygdO3xM81tCaFBwsnOJc69wZ2sLY41XH0lwOFMm5xMcAlLxpuH/0vTFNrvHs7ev6K61sPG0Ubv1w6PO3Nqd5/3zmf9/Cg0V5B5XJ2Qt7TDYMW0wiSyUJqkeJBUSCu/9VPFR5W3altCgx7S/U7lntO6w8K5Yr/+yNrtiyAHaDO6zAusWnCqGPS9P+17Ea2F0Q3h7eMh1PHArZ9Zav0uNOtgnnRTRAervH99sz3bB+rXurUap56dfqb2trbQjvrvJ5dae5Ajyx/7TCl0W7SD0KXkwTTQuNWszAS97KO0foRW6CQL9MfAE5LvYes5axVy91Lbgsa+uBK12rfGw4rh/xUbWtulm/gcTBCcHOsFLo1uKaHJx0HVvdvVzyG53ZgRblEzaO6Ep5BZ8BOTya+IX03LFELrosSWtyKslrQ+xT7cQwP3KitfS5APyiv4nCgwVDB/gJ50u0jIANHkyYC49KB0gUxYFC9D+TvJV5lzbndEWybnByrtmt8e0qLM4tLm2SLygxUTTdOT29ysMASDNMlpEblQ7YrBsy3KudMpy7W04Zt9bvE4eP5UtIBvGCD/39ubf10fKg754tZKvI62jrc+wTrYxvhrIstNp4JHtWPomBhMRGBsUJDkrGjAlMn0xJi6yKEIhORilDfsBwvXg6dne29Tdy/TDgr2VuFu1srPxs1K20LsUxbjSHOQQ+NgMKyE6NM5Fx1VzY9Jt0HNudQpzi20zZUhaokyHPIIqkRfKBP/yqOKs00vG1Loyssys8qokrBywYLbtvnTJr9X64prw1f0PCigV9x6RJ2cuCjO8NJYzsC+pKashGBgNDQkBhPQ26J7cI9IPyYvBt7tJt0i0trIgs8u1W7shxJXQY+Dh8rsGpRp/LcM+Vk7dW7Bmum2TcDpvhGr2YgVZmEzmPVQttRsJCjP5xumz2x7PMMS8uza2B7S3tP23Z73pxB/O1ti75Frx5/2SCR4UdR20JV8sDTH9Mioymi7vKGIhWRjkDXYCcPZ16vzeh9Ruy9LDvL3luF+1M7P3sgy1G7pIwh3OqN1k8IkEaBgcK5o8w0z0WmZmCm5ucYxwTmxEZdlb0U9LQbAw9B4wDUT8nOwO3sbQHsULvPS1J7Mvs861ibpcwQrKdNQn4H3sq/gKBIAO/ReUIKInjyyjLhQuBivrJcgeFxYdDFgBCfa76uffGdaqzafG68AMvC64mLUWtQm3Abw0xDnQ/N/s8m0HxRuSLow/CE/gXCRoaG9QchtxpWxiZeBbyk/GQBYvPhzwCez4I+k+2qXM7MAcuJCydrA8sZ+0IrrGwVXLq9Yy4ybwuPxPCOUSaBziJJkr5i8QMW4vPSsCJcQcBhMOCFX8HvAO5LzYus5exq+/iLp8tsGztrIctA64zb5qyJPVX+ZC+nMPAiSaNv5GfFX/Yf9rOnIGdEtxGWtDYmFXIEpSOk8oShW6Ao7xD+Lu01/Hw7wftd6wLrBcshe3/b0Fx6nRed0L6t/2NANVDjkY4SBZKPEtLTFyMQcvIipUI8Ma5BDyBWb6k+4R42fYCs9IxyTBjbwquTe39rYEuXC9ZsTVzV3aTOpC/XgR8CRsNsFFL1OZXpBnBW1ablxr6mTZWwRRT0R3NZEkpRIhAe/wXeIs1YTJpb93uHG05bNEtiC738FiymLUrd/U6yj45wNtDrEXrx+QJrArei4/LlgrJCZIH9kWNA2GAkz36evz4OjWOM4bx3PBLL0ZupC4trjxuj+/5MX7zjzb/erW/fcRVyWxNt1FL1OUXotn6mwPbtJqF2TLWuNPPUNfNEAjDxGB/5XvfeHA1HLJ3b8NuYm1l7WRuOi95sRuzWDXoOKx7r368gW8Dy8YZx+dJSIqQCxHK7snLSJEGwETqwlk/5n0qekp36jVns0px/HB073Uupe5ZLpyvX3C1sno04/hr/IrBucZIyw0PF5K+laBYf1oLmzeaoNlb11jU8VHHDooKocY0waj9mDovtsx0CnGUL65uZW4sroiv17F7Mzh1SrggOs291gCMwyFFM0bHyI8JxQqKCpXJ38iKhzFFCwMnAJK+KXtKuOj2Z3RKMv2xaLBVL5SvDS8/L23wUnHYc+f2oTpVft0Dt8gcDElQGVNJVlyYl9oEGqYZ5JhTFlQT5JDijVqJUUUkwN79B/nMNss0KXGgL/Ru4C7Cr5+wojI78/N2PXi7+32+DQDMwzWE5QaXCDUJAInmSacI90eyxi+EZEJdACp9rfsJuOb2nPTsc0myZfFJ8PjwSHC4cNCxzbMWNNJ3Z3qxPpbDJwdQS3eOqtG+lBPWcFeOWCtXclX4k+QRto7Py/DIEgRKwKN9JTo+N1H1PjLs8VlwhvChMS7yFHOBtUC3SvmH/A0+pcDwwuCEj4YDx3fINMidSKMH9Ua5hRCDsEGYf4r9anrfeJZ2p/TXs5iyknHJ8U5xAPFc8d9y/7QhNid4tLvtf8IEQYiQTEiPtxI7lEEWT1del3GWe1STEqDQKw1SSk3GzEMj/2K8Fnlrdv30pjLMca7w0vEi8eQzNXSANo84pfrq/WL/0UIpw/GFeYa6R7XIRIjDSJgHsoYHhINC3oDQvtL8gnpLuCB2HXSE84Sy+TIe8cDxxXIwMoNz9PUhNyg5sPzqgMKFcwlNTS4P91IblBIVpxZOlkDVblN2EQxO98wPiX0F6QJs/uC72flA92T1TrPhMp9yGvJCM1O0obYPd+f5tXus/eaAJYIBw/DE2IXPBpwHDEd3xsaGJsSKAxpBWL+EfdL7yfnI99A2EPTMNB1zlTNqMyTzLDNNdA71JbZt+BG6gP3ngaYF64nCTUjP8BGDk0sUjFVpFQtUKBIsz9eNqQsoyHVFO8GffkJ7uXkgt3j1gzRnczKyvnL3c9W1YLb3eGo6EvwxfhwASwJOw93E5kWIxlFGyUc9ho0F4wR8ApNBLH9z/Y+7zHnZd/j2EvUi9EN0ArPa85wzq7PLdL21R/bZ+Js7Jf5RAnDGdgoFTWOPjhGyEyyUd1TNFLuTBpFOzzmMucojh2sECwDifb462/jTtzZ1WPQocyYy2/NtdFO13rd3+PN6pjyGPuJA9gKeRBuFGsX1BnDG2kcCBs5F7YRZAv+BH/+tPdm8MvojeGc237XAdWL03TSt9F80S/S5NPa1mTbYOJQ7FD5eAjrF4klYjAoOe1Aw0dlTKpNFEt8RSQ+RDbvLZkkrxloDfIArfVe7JrkvN1h10DSNM8Cz27RudXU2kngIubF7FP0UPzZAwkKqg4MEvoUkhd7GbcZ0xfYE5wO0wj9Au/8aPZY70To8OEW3djZvtc/1vTUC9Ss0y/UxtX22DfeZObU8fv/Hw9CHSIp5DJ0Oy1DUElZTJpLcEdAQSM6qDJTKoIgJxUVCav92vPH66jkEd4l2PbTSdJi04rW6Nq83/rk0up78dH4JwCjBrMLog/REoUVUBfTF4cWbRPBDkgJdQN7/R73XvB76Rvjzt3c2RvXAdVI09DRA9FE0UXTitfP3i3pUPYJBcwTLiG4LNc26T+MR3pMzk1SSwRG+D4WN3Eu6CRKGsEO+gLe9yru3eW83m/YV9P9zwnPXtCg0yXYkt2K4/3p6/Aq+EX/wAWMC4oQpRSMF1YZ5xk6GQkXexOyDhUJ4QJt/N71de9R6afjuN7Y2jDYctZf1bzUttR21YvXkttp4kjs0Pi2BmwUsCAzK2U0pjyyQ3ZIA0rwR/xCKjyENF4stCM8Gt4PAAVs+v/wBOl54vHcethH1fDTo9Rn18LbNuEn50rtlPME+moAbwbgC2IQtxObFVkWBxa4FBwSRA46CV8DBv2t9o3wt+oC5WffPtof1oHTHtKp0e3RV9Na1sTbDuR370D9DgxAGsMmdTG/Ou5CfEl/TfZN3krORAA9PzT1KvcgIRaQCsf+pvPu6f3hUduT1bjQbM0jzDTNX9A41RDbeeE/6Gjv+fab/rkFpAszEF0TaRVaFl0WPhXlEh0PNwqWBND+K/nM83/uIOnI4wbfdts42QjYNtd11t3VUtbR2Ifey+cl9PgBkQ/RG74m9zC0OkJDQ0ngS/FKRUe9QTY71jNrK58hkBboCqP/ivWq7M3knt1t17DSGdDJz6PRC9WQ2cjepuQr60vyv/n2AGwHswzfEP4TQBZyF34XGBZWE0cPVwraBEH/jPmi82XtNuew4UrdJtrZ1wbWaNRo07XTj9bQ3Mnmc/M1AXcOjxqnJS4wETpmQgpIH0rcSPpEjT8eOdsxdCm0H8sUgQnH/iH1ruwP5S3eF9hn05LQ+s9l0YHUw9jj3bHjGOrz8Ar4If/FBZALExBkE48VyBbhFtEVXxO0D+wKbgWJ/575yvMb7o/oa+Mb3/DbDdoO2Z7Yddjd2F7aG9735FPvNfzsCboW1iF+Kzk0FzxUQg1GkEYHRO0+JThBMLwnnx7QFFYKqP9+9Vbse+TN3UvY29PX0IjPSNDt0i/Xityx4mvpgfCg94L+IAVKC6YQqBRHF4kYshi8F8gVqxJtDhMJCwPG/LL2/PC36+jmsOJK397ck9s125bbUtx03Uvfy+LC6MTxV/0zCpUWRCEMKnAx/TeKPWpBwkJZQT89+jYWL3Umoh20FHcL5QFR+CXv7Obl31jaP9bC08zSddOl1VfZRd445OHq5fHV+Fb/XQXTCp0PVRPaFfwW8hbBFaATehBrDGoHqAFF+5r09O2950jiv90x2lvXOdXS05XT0tRe2One8Oiy9bwDWRF8HfMnJTFyOZFAx0UoSH5H2UPbPRE2Qi3jIzIaEBBcBUf6Xu9j5a/cm9VE0N/MOstFy+jMT9Bj1ffbguN161Pz1vrzAZUIrw7fE9sXUBp0G04bAhp1F+wTeQ82ChEEW/1q9q3vcun3417fcdsh2FrVdNPR0lHUothh4CLrzve5BL4QhxuGJS0vSTgIQFlFyUdARzRECD9oOLowTCgWHxYVaAp1/8/04Ooe4rza/NTG0CPOBM2jzQbQKtSa2dzfe+ZH7TL0KvsPAnoICw5yEukVdBgVGn0awhnTF7MUOhCwClgEnP3Q9l/wgeoY5Q/gX9tk13/Ua9O71CTZpeCg6pb1RQAgCoAT3BwtJsEuoDVFOnQ8ZTxUOtY2RDLNLE4mxh5GFhgNswOW+inyfuqu477d+Nh/1ZDTJNNQ1PHW29qf3/fkyeoQ8ZP35P2zA9AIVQ0wEUgUSBYwF9kWRBVdEoUOBAopBRAA/foV9lvxrezZ5wfjpN582yXaVtta3wnmSe749kv/Owf1DqEWEB7WJIEqoi4SMccxHDFLL4IsrSjLI88d1hYgDyIHQv+l92vwsenE483eCNuL2ILX3teO2UPc0t8X5ALpXO7e80r5Xv70AtoGEQqfDNAOlBCwEckR8xBAD78MbAmeBakBxv0J+pf2iPPO8FvuHuxF6vvokOgu6RnrZu4R86b4mP5SBJkJaQ7gEvwWlxqEHZAfpyC5IOMfRB4KHD4Z3xX3EbwNcgk8BSwBRP2Z+Tn2TfPm8CPvBO6T7cPtg+6t7yvx9vIG9T73dPmS+339Jf9vAHUBMAKgApoCHQIkAdb/N/5W/Db6DPgM9lj05PKJ8U3wYu8a75/v9fDw8pz1Dvkm/UUB9QQ2CFkLcg5PEbgTnBUPFxgYqRipGCcYOhfVFe0TlhH3DiYMQgl1BuIDegEw/wP9Evtm+Q34FfeF9j32M/Zy9u72Y/er9/b3f/hA+QH6tvpg+/37cfyz/LL8bfzl+zn7gfra+VH59vix+Ff41fdg9zf3cvfv94X4L/kF+hD7K/ww/SD+Jv9dAK8B4QLRA5QEWAUqBvIGkgcMCIAIBwmTCQkKWAqDCoIKTgrjCUoJjgi6B80G0gXaBPYDGQM9AmMBmADW/yL/kP45/hb+Df7//eH9vf2q/bT90P3j/dX9q/1t/SP9xvxa/Of7dvsO+7v6g/pw+nf6g/qN+rH6GvvY+9D80P25/pr/fQBPAQECrwJtAx8EmgTeBBAFTwWKBY8FSQXfBIAEIwSpAxEDcgLSATEBlQAOAJ7/Q//y/qj+av48/hr+Df4k/lv+i/6N/mr+RP4y/i3+Kf4U/uf9qP1u/Tn99PyQ/CP8xft6+y774PqW+lT6H/oO+in6Z/qx+gH7XvvT+2b8Gv3l/av+aP80ABIB2wF4AgwDvQNyBAEFawXIBRcGRwZQBjgGBQa8BWEF+QSLBBkEnAMWA44CEQKfATgB1gCCADwABgDW/7T/tv/i/xYAQQB1AM4AQQGrAfMBHgI5AkkCTAIwAuUBbgHlAFIArP/p/iX+dv3d/Ev8yvtm+x375vrE+sX67vo/+7f7Wvwo/SD+M/9AACEB0AF2Ai0D2ANQBJkExQTVBLcEagT5A3ID2QIwAnYBtQAHAIf/Mv/j/oX+Kf70/ez9+/0I/iD+Yf7e/oL/KAC/AFgBBgLBAmkD2gMRBCEEHwT7A5wD7AL9AekAyP+a/mX9Nfwm+0f6kPn8+Jn4bfhg+Gj4nvgT+bD5W/oi+yj8c/3X/iAALAEBArwCfAMuBKsE2QTVBLoEgQQKBFYDggKpAdEA9/8i/2r+6/2i/XT9RP0b/Rr9Vv2v/Qz+ef4Z/+7/2AC7AZECXwMzBAkFwAUuBlEGVQZOBhcGfgWUBIcDbAI/AQkA3f7C/cL86vs7+6T6Gvqe+U35Qfl6+db5Rvrl+tT7Av04/kb/JgD8ANgBrgJaA9ADFAQyBB8E2QNbA7MC8wEvAWkAo//m/k/+6f2c/Vb9Gv0A/Qf9Lv18/QP+vv6h/5UAjQF2AlIDKAT3BKwFJgZPBjYGDwbfBXMFmgRzAzsCDgHe/6f+fv2A/L/7NPvK+mz6I/oA+hj6dfoH+637Y/xE/Vv+ef9iABMBqAE5ArsCHgNTA2QDTgMCA28CqQHTAAkAR/94/pz9z/w4/Nz7svup+8P7/ftc/N38hv1c/mT/jAC9AeIC7gPaBKMFTwbcBkIHbwdVB/oGfgbmBREF5QN7AgwBuv+J/nP9dvyS+9T6UPoP+gD6Hfpn+uf6jftP/DH9P/5r/5IAkQFTAt0CPQOFA68DuAOUAzoDrAIQAmoBogC5/+n+Wf7d/Tn9d/zP+177LPs++5b7Gfyt/ET96v2w/qT/ugDcAe8C4AOiBDIFmQXdBQUGAwbIBU0FpgTjAwID9gHEAIT/U/5J/XL8wvsd+4D6BfrV+ff5VfrE+j774vvE/Mv93f4FAEEBVAIFA2kDsQPmA/YD6AOzAz4DfAKgAcsA7f/0/g7+Yv3Y/EX8qfs1+wb7Jft/+w781PzQ/d/+6P/zABYCQwNdBFQFGQaaBtUG6gbnBroGTQasBfIEKAQ8Ax0CzgBw/yP+9Pzw+zD7uvph+g/65fkN+nn6DPvB+6n8wv3s/gQAAAHvAdICiQPuAxEECQTdA4QDEAONAu4BKAFPAHr/p/7b/TL9vPxo/Bz8zvud+677CPyE/Ab9nf1f/jL//f/OALUBkgI7A7QDGAR4BMEE3gTIBJkEXQQDBGwDnAKqAawAsP/I/gP+YP3W/Fr87/ug+3v7f/uy+xn8tvxz/TX+8v6u/3AAKwHEATAChALPAgIDAgPUAoUCGAKQAQUBhQAEAHz/+/6R/i3+w/1l/Tf9RP1//cv9Hv6C/gP/lf8qAMkAbQH8AWQCuAIMA1sDjAOhA6sDvQPJA6UDPAOqAg4CZwGqAPP/WP/R/kT+r/0l/bP8XPwZ/O/77/so/I78DP2Y/TT+3/6O/zMAxgBLAb8BGAJIAlECNgL8AaQBPQHSAGEA7P95/wz/lP4T/rD9h/2F/Yr9lP25/f/9Yv7a/mL/7v9xAOQATQHAAUACrgL5AjoDjQPiAw4E9QOhAzYDxwJMArEBAQFMAJX/1P4S/l39uPwr/M/7q/up+7j76/tW/Ov8jv03/uv+qP9hAA4BpgEsApICxQK5AokCRwLlAVgBxABJAN//bv8A/6n+Zf4j/tn9m/18/Yv9vf0G/mH+1P5Y/+b/eQAKAYMB4QE1AowC3QIUAywDOgNbA4QDiQNGA88CTwLcAWUB1gAwAIL/4v5T/sz9Sf3V/Hv8Tvxg/KP86/wo/YL9FP65/kj/1/+GAEEB2AFDApACygLiAsoCeALzAVgBzQBcAPL/dv/t/mv++v2S/Sj9yvyT/Jf8yvwb/YH9Bf6n/lz/DQCzAFAB6gF2AuUCNgNxA6EDwgPLA7EDdwMlA8UCWgLhAVUBtgALAGb/0P5F/r79Nv3E/In8kfy8/O78I/10/ej9dP4E/5f/QQD+AJ8B/wE6AnAClgKGAj4C1AFZAdoAcAAXALH/Lf+s/kP+3v1n/fr8xPzP/AP9P/2D/eP9bf4S/7f/TwDlAHoBAQJtArsC/QJGA5MDywPeA8cDkwNOA/kCiQL4AVABowAGAIf/G/+r/jb+0P2U/YH9hf2U/ar9y/0B/lj+0P5d/+v/cADmAEEBfwGtAc0BzgGiAWMBKQH3ALwAcAAXALr/Wf/y/ob+JP7e/bn9sP25/c798f0p/nj+1v44/5b/8/9OAKgA9wA0AVsBegGQAZEBfgF2AYEBfgFIAe4AkwBAAPH/qP9k/xL/sv5r/k7+Nv77/ab9Zf1S/Wf9j/3F/Rv+mf4p/6f/BABPAJAAzQAKATEBHAHQAJYAjgCGAEkA+P/K/7r/k/88/9r+rP7I/v/+KP9V/5f/vv+l/3X/cv+Z/9D/EwBuANYAPwGyATwC0wJfA8ED9gMMBBEE/gPEA2QD9QKNAjQC4QF+AfIAUgDX/5v/ef9H/w7/8/77/gz/Df8O/zj/nP8NAFsAiACsAMMAuACRAGEAMwAIAOn/1//S/87/uv+O/1T/Ff/W/pr+dP50/pn+x/7k/uf+6P4F/0r/qv8JAFEAdAB6AH4AkACsAMIAyQC6AJAAVwAvACEADQDU/37/Lf/2/tb+yP7I/tH+2v7f/tH+ov5a/hb+9P36/Rb+O/5q/qz+/P5K/3z/jP+M/5r/v//u/wMA6f+h/0b/7P6Y/lT+Qf5u/sL+GP9i/5r/qP9+/zP/BP8h/4P/7f8oAD0AWACVAPYAegERApcC7gIVAxwDGgMSA/kCzwKuAqYCqgKOAjQCvAFtAVoBQQHmAGcADgDu/+P/0v/I/+X/LQB4AKQAtgDNAOkA6QC1AGkAUAB/ALAAlQA0AKj/2v6y/V/8PPuI+kP6Qfpx+u/6x/u3/Hz9F/67/n7/VAAlAeIBigISA14DiwP2A7wEaQWeBZsFvgX6BQMGyQVXBZ0EdAPSAf7/df5u/Zr8wvss+yr7gvvM+/T7L/yO/Pb8P/1l/ZD90P3+/Qn+Qf7m/sf/jAAdAYQBsQGWAVUBHwEOARcBJgEhAfcAmQAEAEv/o/46/hr+O/6Q/un+7f5Y/k39Pvyl+7H7K/zD/FP9uf28/Xv9kP11/vL/cQGcAmcD1APWA3ID2QJfAlECvAJeA90DBQTeA40DJwO7Al8CKAILAuMBjAH+AE8Aof8E/5D+Zv6Z/gT/b/+2/8f/kP8v//z+Nv/I/2wA+ABRAV0BEgGQAAYAmv9l/4z/FADbAHkBdQGFAMz+zPww+2z6h/pB+z/8Df01/cL8avzh/C3+3f+OAfgC0wP/A7QDSwMHAxMDigNXBC4FnAVKBS8EoAIUAd//Kv/8/iX/Rf8W/6P+Kf7V/cH99v1p/u3+Sv9d/zP/Cf8a/3n/DQCsACsBZwFMAd8ASwDc/7b/yP/m/wAABQDD/xD/CP77/DX85PsQ/Jn8P/3H/Q3+EP7i/b394/1u/jL//v/NAKQBXgLOAu8C7wICAzwDgAOtA8cD0wO8A2sD5gJJAqkBDgGLAEEAUACXAKIAEwDz/o/9L/wq+/T6tvsQ/XD+g/8VAPL/GP/2/Sb9DP2n/bD+yP+oABwBBQF2AMT/Sf8l/zD/Kf/s/ov+Kv7j/cL90P0W/oL+5P4E/+/+AP+E/2EAUgErAv8C5wPOBHMFtwW/Bc8F/AUMBr4FDwVBBH4DmgJmARMA+f4x/r/9v/0X/k3+//1K/XL8gvuS+gv6LPqr+iL7hPvp+zX8Qfwi/Cn8nfxr/TH+ov7g/ib/eP+1/+//SQDDAD4BpAHdAc0BjgFyAakB+wExAmEClgKCAhoC5wFmAksDGgSxBDsFugUSBkoGvQbLB10JtAoDCxsKfAjSBngFbgSYA/QCeALcAacAnf4L/LL5I/hV9+z2s/aZ9nX2EPZ29dT0YfRV9Nz0rPUq9vP1aPUY9UH1uvVk9jX3EPja+I35I/qB+h373PwYAP8D5wclDBERzRVsGQMcIR6gHxwgqx++HrgdjRzvGtIYmBYaFEwQhgqVA+H8GPcp8v/tyOqj6EznGOaE5J3iCeFb4Kfgn+Ev48HliukG7k3yB/Y8+QT8Wv5yAPMBPwIoAa//bf4E/cj6FPia9Uvz5PCT7tfsy+sw7Dzve/WZ/SgGrw4rF7UeliQTKfIsTTDTMm40KDUbNQw0vjECLvQoriIlGzISDwiG/bbzXOtS5DHe09hd1KfQ783JzK/NKdDQ07LY/d4z5pnt3PTy+8QCJgkpD3oUqBhAG40coRxgG2kYAxSaDrcIfgIU/JH1R+956TPkkN++2xfZiddO15/Y+Ns94Yjo3/Ej/XEJ9RUjIogtWTecPtFCM0S5Q+RBsD7oOTQ05C2IJnMd5BJ1B2v7HO9Z4x3ZytB1ygLGh8PuwgfEQsZ8yeDNuNO22lvicer08tf7tAQsDYsUVho3HnggOCGdIH0eIBvDFtcRVwwzBk//9veS8G/p4uJB3QLZLNbq1D7VitfT22TiMesV9kwCKg8KHE4oDzNtO/9A/EMpRfREgkOjQKQ8iTcMMacoZR6jEtoFr/jr62DggNaWzqfIzsTbwqjCxMMdxrbJ386S1ZTde+bq77H5eAPSDAEVixsfIPgiKCTlIy0ibx/AGy4XhBEAC8oDAfy782Tri+On3BLX49Jb0IDPU9BD0nbVgNpD4qDsJ/k/B1oWbyU/M6k++0YTTB1OmU0TS3pHOUNiPnE4HDEOKBMdPBAQAn3zYuW62EvOqcbBwWS/Hr+dwEHD2MZWyxvRU9jt4JDq1PSD/w0KshNuG98g2COlJHsj+yBtHTUZPRShDkEIOAGP+XLxEumy4NTYHNIrzRzKH8k2ymvNFNIa2MHfsOm29V0DEBJGIS4wrz23SGtQk1RPVS9Ttk63SK1BFTreMeoo6h60E1EH8vko7J7eXtJByAbBxryDu+i8mcDAxc/LXNJz2QvhFOl28R76IwM9DPkUaBzyIQ8lxyUwJMwg5xv/FVgPdgiRAdv6TPT27crnnOF728LVGdHVzWLM6cyWzwTUOtph4tTsLfniBk8V6yPyMXo+s0jzTwFU6FQrUyhPXkkYQuc5CzGfJ24dYxKRBiH6de3r4ETVOsuew7a+sLxmva7A68WJzNvTjNtd4zDr7PJz+ukBTQmiEGEXEx30ILIiDiJXH7YajhQiDRYF9vxY9Ynuvujo48DfAtx+2GLV39Jv0UTRvdLr1Snbk+J/7OT4VQesFswl5zNZQFZKEFFNVENUmVHXTKJGQz8bN14uTiXaG7sRuwbq+sHuq+Ja12rNrsWcwIq+Rr+LwszHhs741afdQuW37OzzyfpsAdoHMA4mFJMZyh1EIG4gZB5EGloU5wydBCH8DfS67JLmw+E33pjbcNmN1+fVzNRQ1NHUitbx2RLfVuYU8I38MwsTG/8q7znuRhdRv1eFWq5ZyVWzTwpIgD9zNkwtCiSBGmIQfgXi+ZTtEeEC1VTKk8Fou0u4kbjdu5zBCsmS0YjacuP06+nzaPtvAhkJSQ8tFXka2B6ZIYwifyGXHsUZPhNIC6AC5vmf8SLq1uPr3jDbSNjZ1fLTp9JX0gDT59Ql2EjdnuSs7oT72QqnG7QszjzeSuhVDV31X7teHlroUg9KM0ASNvgrBSLxF3INQAId9j3pDdxMz33Df7kusnyumq5Vsvy468FRzJXXHONE7l/4JwENCUgQuBbbG+gf2SKbJK0kMCMoILAbohUsDpEFX/wW8z3qTeKz273WZtN90aXQ2dAS0obU7dc23DbhZucz7zn5mQUIFKUjZzNQQkpPQ1kxX6dgsl0JV3tNHELFNWgpox3lEiMJCQA19zzuF+W521/SL8niwFq6s7Zytp65qL8VyG/SJN4z6ov1g//VB5wO0ROiFyga8xsTHX0d4ByWG4oZRBYeEUsKSQKY+aLwCOh14EvapdVl0pvQVtDQ0bzU0tiH3fDiOOkC8ZD6BAYHExwhky+hPXhK91QIXNpee11NWP1PKUXYOPArOh8sEywISv409ZPsGOTH24zTpctLxEW+Ubogubu6/b6pxZTORdno5Hbw/voDBFoLNBF2FSoYSxl3GQMZLhi2FqYUzBH4DeAIqQKi+zj00+zX5a/fuNoc17HUhNPA08TVS9kf3uTj4Ooy8yv9oAhQFa0iMjBCPQxJrVI+WVRcs1uHVytQgkZZO3IvRyNiFyEMrQHy96furOXe3G/UeMxZxVm/Grsduci5+rx9wg/KdtM33oDpZvQ6/twGLw4ZFDsYuRq5G74b3RpCGdcW1BMqELkLSwYhAJb5+fKF7IXmNeGh3OzYTtYj1WPVH9c22sbekOTd6/j0IQC1DA0aridDNRxCLk2TVataWVyQWntVdk2FQ484PC3JIZEW2gu7ARL4mu485fDbAtOzymPDQL3KuIG21bajubK+xcW5ziXZTuRh77z5QAOtC7ESxRcJG6YcBR0pHFsarhdyFKEQPQwXB1ABJPvz9O/uJemd43XeAtqF1lLUb9Mw1LDWN9uJ4b/p4PMOAMUNWxwOKyc5zEUSUE9XB1syW/JX0VFsSao/LDVpKpMf8RSyCuAAW/fe7XHkO9uT0ojKZ8OVvb25LrgRuUS8u8FQyazSHt3k53zyf/yeBVoNexPPF6IaEBxrHKsbEBqtF8YUQREKDf4HXwJ2/ID2e/Be6lDkqd7b2QvWgtN00k7T+NWj2lfhZOqM9Y0C0hDAH3suIDzbR/xQHFfiWUdZelU6TzJHCj4SNKkpIh/RFL0KqwCN9pnsH+MA2irRv8hbwXK7grfBtXS2o7lTvzHHwtBj24PmuPF6/EEGhA48FVUa7x3fH2UgnR/vHVYb4BduE0gOqgjTArn8Ufae79HoO+If3NPWi9K5z5HOdc9c0pfXNN9z6fP1QwScE0kjbDI1QOlLylRbWllcFlv4VpNQTkjKPn805ilDH9UUogp5AET2DOwH4jLYys4oxvK+iLlFtke1yLbFuivBjMlf0w3eEukA9FD+mgd1D98VuRoiHvIfZSCNH8Ad8hozF2wS6gzqBrUATfqw8+zsOubr3znacdW90YfP885R0IbT4Nh74KbqAvcZBTIUoyORMiRAnktEVJxZXFvPWVtVqU4oRms84TEXJ2Uc/BHUB8z91vPu6Trg0Nb2zebFH78Gug+3VrYCuAy8ZsKoylbU5N7Q6aP02P4eCBEQlRZ2G+ce0iBcIX8goB7gG14Y8RPBDv0I9ALA/G329+956TDjYd1g2FTUltFN0NHQDdM+12/d+uW38HD9fgtEGv4o8DZaQ3ZNtFSfWDVZolaLUWtKx0H1N38t1CJMGPkN0APA+bbv1uVE3D3TzspQwyW93rivtsa2IbnNvZbEKc391pDhd+w291QBTQoBEkMYGB1EIO4hEyL/INEe7htKGNMTcA6TCJMChPwv9pvv/eiU4qncc9dV04XQbM8U0MHSatdh3p3nKPN+ABIPEB68LEk6/kVOT6lVxFiNWIpVQlBMSexAhzd5LTkj+xizDjoEh/nG7iHk09n4z+rGBr/SuIy0k7Ics1W277uOw8fMQdeB4uzt//g1A1QMEBRgGg8fPSLZIx0kGSMpIVMeqxoQFrUQwQpuBLv9m/Yl76fnleAv2t3U7NDazqPOhNCN1B3bBOQ772X8/wr1GVkomjVLQdBKa1HUVCJV5FKQTq1IaUEUOfcvjCbqHOUSPAj6/Gzx0+Vr2lnPGcU3vFa1qbCBrh6vt7LfuBXB3Mro1b3hs+0t+bADMQ2BFX0cyyGZJecn0ShFKK0mDSRIIBMbwxSoDfoFtv0K9Ufsv+PY2+/Ue8+ry77JkcleyzXPgdUp3jHpMfa/BAwUWiPzMT4/okpnUw9ZZFvQWsBXtlLaS4hDEzoDMIklnRoaDx8D9fbO6tzeRtN1yM6+37b0sHutq6zDroyzvbrbw4bOTNqd5tTyVv7nCE0SbhrsINEl+CiXKq4qlylDJ7cjth52GCARBwlHABX3o+1G5HPbldMqzWLIi8WWxM3FNMkez2nXMuI07yL+Iw5VHtMt7TsQSI1R31fGWrRaLljAU45N7EUnPcEz5SmFH3kU2Qjq/Mrwq+TI2JrNfsP1ulC0FLCRrgKwE7RwurDCkcyT1yHjp+6e+bMDsAymFGUb2iC6JDgnZiiRKIknOyVgISEckBXvDV0FMfys8hfp1N9l12HQB8uSx+HFN8akyHXNZtSl3UzpX/ftBvMWnyZuNa1ChU1qVRVaw1u4WmpXDlIbS9JCjTl/L/Yk7RknDogBXvRA54zap87lw9O6xLM1r2atkK5vsqS4l8DmyTTUId8q6rb0c/48Bz8PZRajHI0hFSUgJwEooyf/JbUi0x1rF9kPYAdm/i71C+xV423bvdR7z9rLsckpyT/KNc3d0YPYZeHm7KT64gmcGQkpfzdHRI1On1VyWVBav1gPVb1PDUlcQdU4uS/6JXQb+A+PA4z2VOlk3A/Q38Rbuy+0n6/urRSv9LL7uLDApMmL0+3dPega8k/7/gMZDJITCBpzH54jmSYjKEIoqSZMIw4eQRdAD5oGl/1q9FzrAOPc2xDWn9Fxzr7Mb8ynzUzQ0dSE2/PkAvFA/6oOXx6OLXQ7KkfaTy1VV1cJV8dU/lDSS7BF0D5TN/kulSXqGtkOkAGH827l0NdLy1/AvbfQsf+uPq9Wsqy3vL71xg3QwNmo4zrtHPaC/p8GiA7RFU8cqyHQJWoocSmgKP8lbSEfG1kTvgq+Aa/4vO8755ffJtkU1D7Qsc1TzGjM380D0erVJ9315mvz4AGCEVAhdjAZPl9JmVF5VkJYdlfBVINQMUv5RB0+kTY+LtEkDRraDWIAIPKn47nV8sj9vUe1Wa94rMSs068etfC748OUzLrV9t4F6O/wvfmDAg0LWhP5GoYhYCZtKW0qXykIJqIgexlLEYwIq//q9r/uhedN4RDcq9dM1OPRrNCg0EvSHtbc3JzmHvN6Ac8QLiDELpk7zEXSTKZQxFG5UCFOVUrVRcpAPzvxNLctRiVPG7APoQK+9K7mLtnazFrCL7rgtJ6yTLM/ttS6fMD1xuPNAtUo3Fzj1+q38iH70gOVDM4UEhy/IZQlJydqJkojPx6xF0AQWQiaAEj5gPIz7HjmYeG03GzYf9Ri0VXPGc9M0fnWnOAS7hH+JA8BIK4vAT0GR0dNFVBOUOlO0EyESnpIkUZVRO1ArDsCNJ0piBw1DbT8UuxK3VXQ8MV+vka6Crkdum68OL/7wbvEhcepyp7O39O/2j7jVu2B+BAE4A4BGJgebCJhI80hCB7qGCUTiA1UCLMDbP9f+0P3zPLB7fvn2OG422XWc9Lq0KHSpdg948XxVQIKE2oioy/LOV1AY0PRQxRDbUKrQulDHEZuSIhJ7EfKQt45Oi1fHWYLDfk36EHao88uyIzDXMHnwEXBW8HCwKG/tL6LvtS/a8PoyVvTFN8+7K75UAbnEJIYzhz0HZwcrhngFUYSfQ/uDS8NrQx6C+IIbQQO/hj2/+yz4zHboNSu0BLQLdN72r3l/vMwA6kRUB7XKL4w/jUtOWo7vz23QIhE1kgUTRtQk1BaTR1GEDutLN0bLQp5+UzrO+D+1+7Rfs08ymHHPMRNwAe8S7gytl62OrkhvyHIwtPx4IbuUvt1BjUPSRWsGP4Z0xnuGKkXlBbFFUQVfhThEroPtQrbA5j7hPIz6YDgS9l51FLSB9N/1vrcRObW8Tf+MgrzFGUeYSYFLZYygTccPH9AskRuSGdLvUxfS6BG0T56NOMnfBmDCmP8APB05Y7cAtVrznzIzMJOvSq4ELSvsbOxcLT0uQjCH8xy1xXjRe5V+NsApQcBDToRxhSyFzYaLhyyHWYeAR79GzUYnhJ9C0MDoPo08mvqwOOQ3kPbv9kG2vnbD+B85jvvSvmtA5MN3hZuH0snWy6cNBU62j4FQ3ZG+EgBSv1Ia0U2P4Y2wyuMH9gSjQZL+03xmej44PfZQdOmzG3G8MDAvEK65rnsu0fAgMboze/VJt4+5uXt8vRb+2wBNQe1DI8RuRX7GDsbFhx0GygZVxU9EG8KXART/n74//Ih7gXq5ObE5DPkyuU66kjxNfqrA74MwxSxG4MhdCbDKtIu+DJPN747tz96QjBDQUFmPMs0BCsIIOkUogqmAfL5GvOv7D7mT9/B18rPJMihwRy9LLsOvJa/KcXmy/PSu9n336Tl6+o+8OL1D/yMAjYJXg9aFHcXrhgaGA0WuRKqDlsKVAapAi//lPuT90PzxO6M6hrna+Vu5trqXPLh+7YFkQ6MFasaOh75IKojCyeGK/ww4DYiPJM/RkDZPVk4HjAYJtcbtRJSC3wFyQB4/Hb37fCZ6AXfDtXvy+HEwsDIv6TBwcUoy5/QSdUP2Vvcnt8p43jnquyp8gL5g/+KBVsKOQ0xDrkNkQwbC7kJfQiIB6gGeQVUA57/ivrz9A/wl+wz64rsMvHf+FoCkQvUEicX3RjBGDMYnBgSG+MfiCbwLZ40BjkgOo031jH+KXIhrxnNE0UQmw6zDSEMqgilAvv5fe+R5Ona6dM00KzPktHc1FXY0trX28bbrduc3CzfmeN36SrwsvY0/PH/tgGyAYsABP8D/vb9BP+ZAAECfgLAAaf/IvyE94/yc+417GPs8u5v8xb5Wf+SBRML0w6kEEMRGBIUFKIXyhwgI6ApIy+pMq4z+zEjLjIpWCROIF4dkRt2GicZxxbdEnMNtgYo/4X3tvBo69rn3OXT5P/j+eLL4a3gut8Z3z3ffuDe4tDlvegM647sPe1k7Vrtvu3I7mHwIfLp82j1PPYF9gH1lvMn8vnwd/Cg8ArxRvFW8YrxDPL38nD01fZn+jT/vgRWCkAPTROoFswZBh16IAckniccKyEu6y8VMNEuvSwoKkwnbyTcIYYfMh2LGmMXkxMtD0AKKQVdAFX8Kfm09q30yPLE8I/uSOwV6gzoRuYK5WnkN+QL5MjjVePG4jDi+uE94uLij+M85NzkdOXj5Ujmq+Y65wboRunW6mjslu1Y7t3ua+9I8MvxK/Rf9137GABaBYEKIQ8xExMX7RrSHq4iiiZFKrItZjAXMqUyTTJPMf4vdy7LLNEqeSiiJVUigB4/GqMV7BBLDPwHDQR+ACP92/mJ9jLz5O/M7CvqIOig5n7lqOT4407jduKE4Z/gIuAY4HXg/eDG4a3ie+Pl4yHkVuSr5Bvl6uUe54rotelr6r3qC+ue65fsBu4i8Bjz0/YY+6P/RgTCCPEMuhBGFMoXdBstH8giCSbdKBwrnywiLasseSsFKoQoAidKJUsj8iBUHlgbChhzFM4QMA3DCZsGyQM0AcD+SPzD+Sz3m/Q/8kTww+6s7eLsNuyX693q9unf6OPnLufh5tjmEOdu5/DnTuhS6NznTef15gbna+cy6DPpOOrw6l7ruutl7Hvt1e5l8HjyUfW9+Gz8RwBfBH8IfgxdED4UCxioG/Ue6yFlJE0mfycAKNgnOCc8Jhwl7CO+Imchxx+4HUUbbRhVFQ8Szg6oC70ICgaKAxwBrf4j/ID52PZR9BryTPDo7tLt+uw57HHrgeqH6ZToxucT55zmWuZV5m7ms+b/5j7nVOeA5+/nwujL6e7q8uvG7GTtBO7N7uDvL/Gq8lj0WvbF+IP7c/6DAcEEIwiPC88OzBF9FOUW5hiNGhQcsx07H1IgoyApIPoeWh2DG7oZGRi+FpAVYBTOEsUQZQ4FDMIJsQfbBVAE7wKVASAAiP7B/On6M/nH96T2sfXg9B70V/Nw8nbxf/Cx7xfvvu6G7lfuGe7o7c/t0O3O7dXt7O0t7rPuu+8u8a7yzvOI9Pr0QfV19d31oPal98v4K/rq+//9TgDFAngFZQhqCysOhxCrEswUvhZvGBga5BtiHR8e9B04HTAc/xqlGXgYDRiEGO0YTBhWFjMT3A6qCbcEFgHU/jr9d/vx+GH1NfGC7VTr8+r967ntWu8z8ALwM++N7tLuNfBW8nf0C/ak9j32J/VB9ET0cPVQ9zL5Wfp5+oj53ffz9Wz0qPOK86Lzh/Ps8sTxr/DQ8A7zNPeE/CgCdgewC54OxBAOEw4W1RnvHaohPyQOJeEjGiGpHaQatBicF1wW7BPfD04KpQOT/Av2B/Hp7R7sXOqc59bj6t/U3Fvb1Ns23vrhQ+Yz6kfttu8j8jT1Ifmq/TECHAbSCCMKQgr/CRwK9go3DDkNPg3pCy0JggV0AZ39cfob+En2LvQ+8ZntOOpA6Kjom+vS8Gr3Z/6qBLoJzw2/ET0Wlht0IRsnqCs2LlAuLCziKJElxCIyIDUdBBksE54L3ALI+WXxTepl5GrfO9us10nUBNGNzvTNrc9/06vYa94r5IHpRO6z8ov3Ov1xA1EJPw7rEXIU/BXzFoAXrRdRF2IWjhSQEVcNaQh9A/z+xfpQ9ofx5OxL6UPnVufd6fvuxPUa/ecD2QkEDwIUbhmpH3Um+CwOMrc0vTSfMm4v+yuXKOEkTiBSGskS4Ak4AIL2YO1U5ZXe99jo0/DOD8r3xZDDl8MQxoLKItA61kzcS+KU6Hfv6vaD/t8FiQw4Ep8W2RnyGxcdYB0eHSYcIxq4FjUSIA3PBzwCNfzu9fPvLes36JfnWOmI7YLzd/oqASYHqgyHEhUZRCCXJz0uPjPPNfE1LTRmMSQugSr+JRognBjsD44GAv2W85/qhOJ722XV18+OysHFNcKvwIjBXcSOyJXNGNPL2KPe/eQX7MfzcPugAvMIUA6oEj0WChn5Gt4b8xskGzkZ9BW3ERMNVgheA8v9wPfo8T3tPOpm6fnqJu8h9ez7bQJ0CEkOpxTNG30j4yosMdY1gjgTOco3eTWrMkMviyojJBoc+BJXCdP/mvac7fPkBN3+1ZDPhMlDxKPAE79+v27BdsRYyAbNfNKu2KnfTedP7y/3ov5QBR8L9w8aFI4XSBr+G7ccTBy5GuYXFRSYD7EKZgWP/2r5svNY77vsUexa7rDy7/ft/EgBuQXRCukQvBfFHjIlZyojLmAwTjFKMckwyy/ILRgqtST8HXgWlw7TBlX/5vdM8KPoF+G+2eTSM81IyR7HVMaKxpjHb8kszAHQCtUn2/vhH+kr8PT2Nv3JAooHtgtfD4MSwBQAFhIW/hTYEvwPkwxnCIMDhf4n+qf2qfQb9Wz4R/0oAmAGegrrDhEU0RnpH7AlnCpILnYwIDGQMFMvtS2BKyMoTCMHHccVDw5eBur+s/ej8KzpyOIL3LLVJtDvy17JZciUyH7JB8tMzWzQctRw2UTfmuUJ7G7yi/gx/hkDXgcQC0wO3BCpEnITNRP3EQAQaw0jCi0G2QGY/bX50/a39RD3dfrl/gsDmAb3Cf8NzhIiGIAdmCL3JjYqKizqLLYs6yvIKgwpKCbFIUccQhYDEIgJ5wJE/KP1Cu+e6IXi3dzo1wrUf9EY0HnPds8Q0FXRVdMs1s7ZDd6i4nfnZ+xa8Qb2SvoO/n4BoQR1B7EJNwv6CzAM5Qv6CloJLAe7BEgCPQAl/8L/UgJgBpgKHA7cEK8TGBccGyQfwSKwJfkniiknKqEpKyg9JhgkeSHXHQwZbRONDcgHJwJ5/KD2wfAr6wjmVeEg3a3ZSdfv1U7VHdVO1RTWp9ch2j/dsuA+5Prn6usF8OXzR/cW+q/8Mv+QAWYDogRHBYMFQAVRBLkCxQDB/rj89foq+m77If+rBH0Keg9uE0cXwBvdIL4lxCnhLHEvfjF/Mu0x7S9ELXUqKSehIrMc3hXKDtUHDwFP+nPzuOyJ5iXhaNw42MDUWdIe0dbQOtEv0tbTVdax2ZjdvOHo5Tjqqu4o80/39/r//YYAjgI7BGwFGwYwBuEFHAWpA3MByP4H/EH5jPZU9K/zdfXN+aD/kAWYCjsPkRQPG5Qh6yblKlkuyDG1NDI21DUfNOcxZC/uK9smNSDGGGIRRAoTA4n73POF7OflD+Da2jrWeNLmz5XOLc5pzmPPVdE31OHXYNye4Uzn4ewe8tL2APuK/oMB2AOnBdgGeQdvB9wGpgW9AyABEf7e+rD3ifR/8VfvCe9S8bf1EPsNAKYEiwl+DyEWgRzNIVAmzSpfLwkzsTRSNO0yXTF8L4Is0CeoIfIaaRT5DRgHjf/C93XwAOo35NHe6dnd1QrTX9GS0HbQIdG00kXV2thR3Xfi9Od37ZzyOfdA++j+KwL1BPQGMAiyCLwIOAgUBygFjQKO/3f8Xvk19lPzbfGE8e7zH/iz/O4A8gSgCUUPeRVTG5ggpCW5Kj4vRDJ7M2gzrjJoMTYvpSvNJjohaxtaFbgOYAeo/yn4OfHf6gbltd8B2x7XKtQv0hrR29By0fvSm9VD2bDdbeI259zrbPDU9Bb57PwyAL4CuAQtBj4HpQcvB74FkwMHAWb+uPsE+cL2qfVl9tv4VPzI/wsDjQb1ChwQZxUtGoQe0CILJ20qQCylLFQstSt/KjAojyQAIBAbBBamELoKRgST/QP33PAq69zlC+Hx3LvZVtef1ZbUWNTu1FnWrNjd27/f/eNg6LrsBvEt9S35zPzy/3MCcgT6BTkH4weWBxgGywMtAX3+sfvf+Jj2kfVT9qL40vsO/0gC1wUsCggP6xNaGHwcmiCxJCYobSqCK98rzSsZK1EpTSZyIjYeqRmVFPEO6gipAlT8J/ZO8NLqwuVE4WPd9tn41rLUa9MR03fTqNTF1s3Zdt124YvlrOnY7RnyPfYq+rL95AC7A0oGSgh4CYMJcQicBqMEsgKBADX+sPzs/Mz+dQH6A1YG7AhDDC4QMhTKFxYbZR7LIcsk4CbrJ0YoNSifJzMmvyN0IKwckhgWFCkP0AkjBFP+mfgc8+ftEenE5BLh2d0C27XYM9ec1tbWwtdR2Zfbgd7T4TblnugM7IvvAPN29r/5svwn/1ABMQOwBF4FAwXOA00CzgA3/3D92PtR+2n89v4BAuQEjgejCm4OuhLXFnoawR0IITYk2SZ/KC4pLSm9KMQn8iUeI3kfXRsFF3ESfA0ZCHMCz/xd9yzySu3R6OLkgOGW3h7cNdoO2b/YM9k+2tjbBN7F4OnjP+eO6tXtD/FK9FT3F/pv/Hj+NAC8AbsC3AL/AYcA4v42/XT7uvmZ+Kv4QPrn/PD/wQKBBY4IWQzEEGEViRknHX4gviOGJmMoQCltKR4pQCieJhUktSDCHHYY6RMRD+oJiwQa/7r5mPTl77Pr3ucz5Knghd0r29XZa9mc2TPaRNsW3bTf3uIk5mHpouwO8Ifz6/bq+Xv8pP6oAGUClwPfA1cDPALHABv/ef0O/N/6LPpj+sL71P0MACwCmQSfB14Lbw9OE3kWHBm3G5MeSiFMI2Ak0CTZJGgkJyPkIM8dVxq/FvcSyw4aCvYEnP9P+kr1svCW7OTob+UZ4hTf0Nyi23Hb39ul3Nbdt99V4nDlqOjw61zv/vKd9g76Ff26/wACBwSsBcgGIAe3BqQFHgRmAtgAjf9X/kT9vfwr/VP+vf8YAbAC1QTIB0ILqQ5KEUMTRhXlF8saNh2mHkcfcx9AH2geqhwlGlAXfBSVEVIOcgr7BUsB3vzr+E/11/F+7lnraejC5azja+L14Qrid+I944zkbua56Crrue118G/zcPZA+bL78f3+/7ABzAJ8A9UDwQMSA/gBswBm/wf+pfx9+8362fqq+wr9gf4PAAwCwwTOB5YKxQzBDhgRAxQOF6MZdBu8HLwdZx5kHoQdBhxVGo0YcBa9E1gQTwzxB6sDsv/g+xL4WfTm8Mbt8+qC6JXmOOVh5ADkAORU5PLk4OUj58zoy+oH7WXv9fGa9CL3Tvk5+wH9vv49AF0BCgJyApMCQgJkAUYAQ/9q/pz9z/xI/FH8EP1O/s3/XgE6A4wFPgjMCuIMkw5hEJISABUmF7YYwhmOGhYbHRt0GjkZshcZFmAURBKLD0IMrwgdBbIBaf4r+/v36fT58SDvZuwA6jPoGueU5mjmbua95mrnfOjf6Zzrmu2n74LxLfO69FH23/dT+ZX6wfvI/IX9yf25/aD9wv0f/ob+6P5w/1kApAEiA50ELAb0B/8J9wt/DW4OIw8hEKERTBOqFIIVAhZPFm4WOBaVFYYURBMBEsgQbw+5DX4L1wgTBncDCQGy/lb85flM95j0B/Lo72HuZO3G7FfsB+zi6wvsk+yB7bHu9+858ZnyBfRA9SH29fYC+ED5Y/po+2L8YP07/tb+F/8X/w//Qf+2/zwArQATAaIBaAJVA0kEPwU4BlIHjgjQCdoKlQsTDJEMLA3YDWQOvA7eDtYOjg7wDQIN9gv2ChsKTQlcCA8HYwWAA60BHADA/lH9v/tH+hH56/eQ9iH1FPTI8xr0ffRp9NvzI/ON8lPyvvK989X0n/VN9ij3J/ge+SL6NPsT/JL8//y0/bn+vP90AM4A5ADvABwBeAHqAVgCswIDA1sD0gNzBD0FCQbMBokHTAj+CIcJ2gkPCkAKegqnCrYKowpzChYKfAmqCMAH3AYOBk4FhQSYA3cCIQGc///9YfzX+mv5H/jg9p/1TvT+8uTxQ/Ey8YTx7fFE8pHy+vKX83D0cPWI9rX3Cfl5+uD7Mf2V/hQAdAGGAnwDpwQOBmkHaAj+CFwJrAneCdMJnQltCU0JJgnPCEQInAf1BkYGmAUOBcUElARDBL0DLQPKAq0CrgKkAoUCUQLzAU4BdACP/77+Cv5p/cT8EPxB+136b/mP+Nb3Uvfu9o32Lfb99Sb2qfZc9xr42fij+XX6Pfvp+4X8LP3x/cf+mv9jAD0BOAI+AzEEBAWzBS4GfAbFBiIHdQedB5wHgwdLB+0GdQYBBpkFPwXsBKQEYQQcBL0DPwO4AkECzQFoATkBTwFrAVEBBQHEALYA0QDuAOoAxACCACAAiv/D/ub9Gv1z/O/7cvvq+lf61vmB+Wb5bvl0+W75h/nk+YL6Pfv5+6/8Zf0W/r7+Uv/X/1EAyAA7Aa0BGAJtAp8CvALZAgIDLAM6Ax0D4QKfAmMCKwLqAZwBRwHuAIsAIgDE/37/Sv8p/y//Zf+x//P/IABUAKgADwFUAWkBfwGxAc0BjQH3AGoAQQB7ALUAkgAXAJD/Lv/w/sP+kv5O/gf+2f3T/ej9+f3x/eD98f0z/ov+2P4l/5P/KQDNAFUBqQHSAe8BGQJAAkMCCAKfATcB9wDTAJoAJwCM//n+nv5s/ij+uP1F/fn8vPxp/BX87Pvv+wr8OvyO/BH9sv1O/tj+a/8jAPcAuAE9ApwCFgOuAwsE9gO5A8MDGgRlBFwE+wN3AwIDpAJGAtwBbwH7AIkAKgDl/57/R//y/rr+nf6R/pr+tf7C/rf+sf7D/tX+1v7o/j//6v+iAAQBAwEHATwBNwGIAHH/hv4M/tT9ov1V/fX8nPxa/Cj8/fvn+/j7V/wk/TX+G/+a/+//WwC9AO4AKAGYAQACLgJuAgcDxgMvBBEEuwOmA/kDYARnBPoDZQP0Ar0CqQKNAkgC3AFdAeoAmgBqADcA8/+s/4b/gv+B/13/H//2/g7/Yv+7/+n/5f/S/8D/mf9A/8P+Rv7Z/W/9B/2n/FX8Gfz5++X7yfuw+8r7PPzw/Jz9//0Q/gT+Gv5v/u7+ef/0/08AmADuAFsBxQEMAjUCZQLBAkEDtAPiA70DcQM/A0EDVgNQAxoDxgJtAhgCyQGGAV4BUwFPAUEBLwEhAQABpQAAADH/eP4I/uf98P31/eT9x/2p/YX9Xv1N/Wr9q/3e/dn9lv1J/SL9I/04/WH9j/2c/X39b/2i/f/9Q/5T/kz+Zv6x/g3/ZP/T/3AAEgGKAesBSAJ1AlkCJwInAl4CoALPAvsCSAO9Ay0EZwRlBEUEFQTeA6YDcwM6A/0CzwKqAmMC3QEvAYgA8v9f/9H+WP7+/cz9wv3B/ZP9Kv29/IH8cvxa/B78zfuX+5P7tvvp+yz8f/zF/Ov8Ef1d/dD9Sf61/hH/Zv/D/zgAvQA0AYYBwAH4ATUCYwJsAloCUQJpApICtQLTAgcDWwO1A+ID2QPCA8oD4gPgA7QDeANNAzgDGQPaAokCPwLzAZIBIQGtAC4Amv/2/lz+4/2M/T/95vyA/BX8n/sa+5b6Kvro+dr5Cfpu+ur6VPub+8r7B/xe/Lf8/vxO/bn9KP5+/s3+L/+j/wsAXQCnAAEBYQGaAZkBjQGqAekBJwJaApUC4gItA1YDXQNqA44DnANuAyMDBwM/A58DygOuA54D0wMGBOIDeAMMA58CEgJxAegAkABXABIArP84/9D+av7x/XP9DP3G/Jv8jvyc/L382/zm/OD84vz8/CP9Sf14/bX98P0d/lT+nv7j/hj/Yv/f/3AAzwDWAKsApADaAA0BBwHuAAkBWQGlAcQB0QEHAmcCmgJ6AlcCjgIBA1cDbgN9A8IDKwRbBB8EsANtA18DRgPwAmYC0wFWAe0AfgAAAH3/8f5W/rD9Af1H/JT7D/vI+qP6hfp++qP65foa+yv7L/tf+9D7WvzK/C79mv3+/VT+zf59/ykAhwCQAIoAvwArAYIBlgGXAcUBEwJPAnIClwLAAuMC/gIKA/QCswJaAgECqAFaATQBRQFrAYMBjQGTAYMBWQE0AS0BLwESAcgAdQBKAE4ATwAYAKz/Pf/7/tr+ov4x/qb9N/30/ML8hPxA/Br8E/z8+777k/uy+wX8XvzH/Fn9A/6g/ir/n//p//b/2//S/w4AlgA4AbYB+AEOAhQCKgJoAsgCHgNIA00DTANbA3cDhAOAA4YDnAOgA4UDdwOkA+ID2gNWA3ACdQGvADIA7f/E/6T/dP8v//L+z/66/o7+Nv7L/YH9Zf05/dT8avwx/A78+ftF/An9vP3U/X79Mv0i/UP9p/1N/v/+gv/S/woAOAA+APz/cv/k/rL+HP8HABgB6gFRAl4CPgIcAg8CEQIGAuEBtgGlAbsB7AEUAhsC/QHKAZsBewFiAUUBIgHwAKcAZQBwANgAPAE4Ac4AQQDD/2v/T/9w/6P/rP9r//r+o/6U/rT+0/7p/gH/G/8r/yn/Gv8A/7z+I/5a/eP8D/2X/f/9G/4c/jf+bP6O/qr+Gf/0/8IAIQFWAckBWAKoArQCsAKpAp4CoAKwAqQCZAIUAvQBIgKFAuEC/AK4AiUCcAHUAH4AYgA8ANj/Qf+u/kr+D/7j/cT91f0p/p3+8f4F/+P+q/58/m/+fv6K/ob+h/6M/m7+Hv7a/eD9Gv5W/of+sP6+/qD+b/5j/qf+K/+2/w4AOABeAKMA+QAvARgBtgA5AOD/1f8lAKwAJgFiAWwBdgGtARgClwLuAusClQIwAvkB8wHxAc4BhAEhAcsAqAC0ALUAgQAlAND/lf9w/13/UP84/wr/zP6c/pX+nv5z/v/9lP2W/Rb+x/5P/37/Xf8b/+3+8/4u/37/sv+f/07/C/80/87/ZgCKAEYAAAAAAEkArADrAOAAmQBPADsAeQDmADQBNAEAAdcA4AAIARcBCAEZAWwByAHvAf4BIQI4AhMCxQF7ATgB8QC2AIsASgDd/2L/Dv/2/v/+AP/j/rr+oP6Z/o7+av4l/sv9ff1q/Zr93f0E/gn+6/2c/TD9A/1p/Vf+av9BALQA0QDMAMkAtwBmAOX/lv/O/30AQAHFAfUB5QHGAbYBuwHAAaYBVAHvAM4AEgF1AZUBYwEWAeQA1gDNALAAfgBAAPf/sv+o//j/eQDdAO0AtQB1AEEA4/9I/8n+oP6J/jv+7f0B/nP+3/7y/rL+b/5v/rD+8f77/uD+5P4a/07/Tv80/zz/dP+o/57/Vv8P//z+Ef9A/6n/VQD7AFEBcQGZAcgB5AHrAdEBdAHgAHAAbgCwAOAA4QDGAKIAlwDcAHAB/AEuAgsCvwFeAecAZgD9/8D/lf9F/83+ff6e/hL/bv9d//f+rf6+/vr+E/8K//z+1f5v/uf9iv2P/eP9O/5h/mb+gf7H/h3/a/+9/zMA7ADcAbICFQPrAnECEwIZAlQCSwLNATAB8QAgAW4BjQFsASEB8AAiAaoBIQItAtgBWgHCACMAsv97/zf/qP7x/XX9c/3L/R/+RP5r/tD+Zv/g/xMACQDg/6j/a/8h/8L+a/5K/lz+Zf48/g3+H/6C/gf/bv+4/ycAuADwALEAoQAlAZ0BRQFVAKD/i//t/3AA0wD3APMA8gAJAS8BXwGbAd8BGQIkAu4BhwETAasAPAC0/yH/pP5J/hn+Kf5x/rn+3f73/jL/jP/Y//f/6f/E/5b/U//2/qj+h/52/nf+yf5x//r/KwBsACsBMALFAn8CrgEZATMBsQHxAbcBRwHtAMgAyADfAA8BaQHgAVECrgLpAuoCsAJVAu0BbAGyALr/tf4A/qD9Nf18/L37WvtP+1T7TPtT+3/7xvsV/E/8bfyI/Mb8Gv1N/Tj9A/0N/Zj9kf6k/2sAtQDKADQBMQJtA2UE4wQ3BcMFlQZQB5YHaAc1B2MH6gdaCEAIkwecBpgFqQTtAygD3wECADj+Cv1M/E37sfm89wb24PQf9FzzePKj8SLxA/E58Z7xFfJ18pPyUvLn8azx6/G68gD0cfXA9hv4CvoD/c0AxwRaCKULJA86E5EXeBtlHmkg4CEvI2kkNCUEJaIjTyGgHgocaBklFu8RIw1pCBAE1/9a+332f/Hl7BLp2uW44nXfhdyo2jjazNqp22PcO9253iHhI+RT50Hq1+xW71PywPUC+Wv7Fv16/un/OgE0Ar8CAwNEA6QDYQTEBfAHcwrzDGYPMBJqFd0Y8xtLHswf2CDJIbIiNSP6IuohSiBbHjoc0Bn+FrgTFhA4DE4IfQTIAAP9/fjE9Jrwxux86cbmheSY4g/hNOBW4InhZ+NZ5Q3nvujY6o/tfvAf8yD1yvaF+JX6vvy0/jsAdgF4Aj0DtwMOBDcE3QPfAq4B/wAhAeYB4QIJBJUF4Ae+CrQNMxA1Ev4T+RUnGDQarBtmHHocJBx9G3Ea3RimFssTcBDXDDYJnwXQAXf9p/gA9CLwJO156o7nbuTV4WfgF+BL4KHgDOG34dTin+Tu5ljpa+so7dnu+PCB8xz2Vfg5+u77if3l/vz/sADSAE0Aa/+3/qf+fv8hAXADPQabCXoNxREYFgYaGB1rH3EhfiNAJSkm+yXuJFYjYiEHHy0c1BgUFfIQiwwZCNQDwP+a+x33evJL7vTqNuiA5abiFuBm3tLdFt623oPfo+BW4qnkj+eq6qHtSPDj8pv1bvgC+yz93/5UAJEBgwL2AvACfgKkAWMA7f6c/bz8k/wt/YL+XQC0AmsFiAjcCykPExKkFB4XwBlLHFMelB8gICAguB/rHq0d8xuyGdYWdBPbDzsMbAhIBO//qPuT96nz7u+G7JrpReeD5Uvkp+Oa4wjk1uQL5qXni+mQ67Dt2O/+8fXzv/Vb9/H4YPp1+/b7C/za+3X7ufqn+Xz4nPdZ97j3nfjk+aD71f2FAHcDigarCfoMcBD6E14XdhoeHUwf8iAQIq4i1CJsIlshmR8sHSkaqxbYEtAOngpEBsABNP3V+Nj0PvEH7j7rAelW50Xm0+X15X/mT+dq6NfpiOtU7S7v+vCv8i/0h/W49uL34fiQ+bz5gfkE+W/4l/dG9qX0YvMP85jzpPQU9ib48/pb/vIBngV9CbIN2xGRFb0YphtpHtggliJ2I5wjVSOyIoYhnR/2HL0ZRxbPElAPjAthB/AClf6R+vb2rPOU8J3t7urM6Frndubu5bzl+OW35t7nSunU6oDsQO4K8LbxTvPT9Fr2t/fQ+IH59/lI+nn6Xvr3+Tv5J/j09iP2EPaf9qD3Evki+779qACOA3sGpwkkDXgQRBOfFfIXVxqEHBAe3B4RHwAfvR4VHsAcvhpSGMIVCxMLELcMMgmVBfYBYP4B+w34ifUo87vwee7E7LfrHOuy6mHqUOqg6lDrMOwo7SXuKu8m8CvxNfJS82H0S/Xt9V72vPY797z3+PfE92H3CPeo9jv2H/a19ub3ePla+7D9cABxA2sGXQloDKIPtxJaFX8XZxkuG7gcvB0hHgIemx3vHNsbNhoeGNcVjhMbEVwOYwtnCG8FcAJw/5v8E/re99f16PMj8rPwqO/p7lzu8e207bLt9e1e7tHuMu+V7wLwh/AZ8cbxd/IV84rz//OK9C/1u/UT9j72d/a/9uX22/YI98/3H/mt+lH8Kf5GAJkC3gQOB10J6AtVDlsQFRLXE50VKxdIGP8YbhmyGbQZUxl7GFMX+xWJFOES7hCmDjAMuQlXB/EEgAIhAPb96vvm+fX3O/bD9H/zYPJc8X/w1u9170nvOO8f7w7vFe9P76vvIfCQ8PPwSPG48UPy3vJd88PzFvRw9Mf0EvVi9fT18/ZN+OD5rvvD/fz/MQJXBIUGwgj6CvgMpw4hEJIR9BIqFBwVzxU8FnQWiBZ7FhsWXxVlFFwTLxLDEBEPRQ11C6IJqQeFBVIDOQE3/0b9cfvS+Wr4Ivfl9b302/NM8+byePIW8trxwPGq8arxx/H08RHyMfJl8sLyLvOY8/DzT/TF9Fn18vWJ9hj3qvc9+ND4Yfn7+bD6kvuo/Of9Sv/NAGkC9QNqBeEGdggNCnkLmgyQDYYOgg9FEKoQzhDnEN8QmxAlEKMPAw84DkgNSww8CxMKxghoBw4GwgRpA/YBeQAS/8L9fvxC+xf6CfkU+DD3W/at9S/10fR39Cr09fPe89bz5PMB9C70YfSs9A31efXh9Vb23fZ29xT4x/iV+XD6P/sH/ND8nf1j/iX/7P/EALIBrgKxA7oExAW2Bo0HYAg/CQgKpQomC64LOAytDPMMEg0LDeUMkQwRDHULywr+CQ0JEAgjBy4GDwW4A0cC2wCL/1P+Iv3v+7/6nvmU+Kr32/YY9mb15fSe9Hj0WvRZ9Iz07fRe9eH1ffY69wf41fid+XD6SfsP/LD8Sf34/bn+dP8lANYAiAEwAsUCVAP1A7IEagUNBqQGSwf4B5IIAwlaCasJAwpJCmkKXAo/ChsK8wm+CW4J6wg9CIkH2Ab/Bd8EkwNPAhcB0f9v/gf9vPuX+ob5efiF98H2Jvaj9UL1E/UY9Tn1bPWu9RT2mfYn96X3JPi1+Fj58Pl5+vj6f/sQ/KX8M/3C/VT+3/5R/7H/EAB+APQAZwHPASsCiwL5AnQD4gNBBKcEJQWiBQgGXgbDBjkHpwflB/MH7wfzB+UHpAcrB5gGAAZiBbAE5AMHAysCWQGOAL//7v4u/o39Av2A/Av8sftx+0H7IvsP+wH7/foi+3j74fs7/In83vw//aD99f1E/qP+Af8t/x7/If9o/8P/2P+V/zr/E/8i/yn/BP/l/gT/Rf9w/4j/tP/8/0sAlQDfADkBogEBAkoCjgLkAkMDjgO0A8IDywPUA8sDnwNWAwcDtwJhAv0BiwEYAa0ARQDe/3n/Hf/C/m/+Qf5C/lL+WP5h/n3+lP6J/m/+aP6B/qv+2/75/vH+wv6L/mP+Sf4p/vr9xv2d/YL9bv1a/U39Uv1k/Xv9mP2//fH9KP5h/p3+3/4m/3D/uP/3/zUAhwDwAFkBrQHvATACcQKqAtgC/QIZAywDNQM3AzEDIwMLA+sCywKqAnACKgIRAiYCCQKRASMBFwEuAfwAjQAxAAQA5P+2/3r/OP/8/sz+nP5h/iP++v3v/fX9+f36/QH+Df4P/v/93/3H/cH9x/3J/cz92P3x/RD+Mv5c/pT+1/4S/zz/Yv+V/9L/CAAuAFAAggDIAAoBNQFVAYgB3AFBApcCzwL0AhsDPwNUA1YDTQM6Ax4D+QLOApYCVQIQAsQBXQHoAJYAfABvADgA1v+E/3X/kP+B/yj/yf6t/rj+qf6C/mv+Zf5e/mH+eP6U/qP+sP7J/u3+EP8u/0H/PP8c/+3+v/6e/oP+av5Q/kD+Pv5A/j3+QP5V/nP+kv61/uj+Kv9s/6P/1f8SAGUAvwALAUcBeQGoAdIB7wH8Af0B+QHzAeoB1wG9AZ8BfgFZASkB5ACbAHAAYgA3ANr/g/9r/2r/R/8K/+j+9v4n/2b/pv/X//P//P/7/wAADgANAPf/6v/y//L/zf+f/4r/gv9k/y//+P7R/rv+sP6o/qL+pP6r/rj+zP7p/gn/J/9G/3P/uv8bAIcA7gBLAasBGQKIAtMC6QLiAuAC6wLpAsUCiAJRAiwC9wGcAS8B2wCjAHEAMwDx/7v/nP+Q/4n/gv+D/4z/jf9w/yj/yP5z/kn+TP5h/mP+QP4C/sz9q/2O/WT9QP03/UT9T/1X/Wn9j/3F/QP+RP6G/s7+HP9p/7H/8v8uAGkAowDaAAUBLAFtAcgBDgIzAnMC6wJVA2sDTgNFA1EDRgMVA9QCnAJwAj0C/wHUAcgBrAFtAUMBUwFdASkB5QDbAAABDAHSAGYAAAC6/3n/G/+s/lP+JP4M/uz9vf2U/Yv9pv3L/ej99v3//Qr+G/4n/iT+Ff4S/iX+QP5Y/oL+zf4l/2r/nv/Y/yUAdgCnALUAyQD1AAkB5ACyAKwAyADXAMgAvgDgAC4BdAGTAaUBzQH3AQAC+QH8AfwB5AHAAZkBWQHvAHQAFgDp/9L/o/9O//v+2P7o/gP///7a/rH+gv4f/nD9tPw2/AH86PvK+7j73ftE/Mr8RP2w/ST+p/4e/3T/tP8AAG0A6QBCAVkBQAEmASQBJQEQAfMA9gAqAYcB+AFeAo0ChgJ3AoACgwJfAigC+AG/AXYBUQFxAagBvgG3Ab8B5QENAgoC5gHdAQYCHALeAW0B/QB4AL///P5l/vD9e/0I/bb8l/yj/M/8Ef1l/cv9QP6q/uj+7P7M/qX+hv5r/lP+RP5K/mP+gf6m/vL+dP8NAJcACgFuAbsB3AHOAacBgwFnAT0B7AB5AAgAv/+m/6P/rP/c/0IAugAZAWMBqQHWAeIB7wEYAkICQgIUAssBbAHxAGEA4P+R/4L/mv+s/6j/lf+C/3P/Xf83/wX/wv5c/sv9Mv2z/FD8FPwj/Ir8Gf2Y/f/9bP7o/mX/0v8hAFMAewC2AAYBSwFgAUIBBAG1AGIAEgDX/7v/xv/y/0MAxABkAeoBLQI+AkkCWgJaAjAC4AGDATQB/ADLAJAAYABnALMAHAFuAZ8ByQH4AR4CHQLlAYkBDQFhAI//4P6E/lL+Df60/YD9mP3k/R/+L/5G/oz+4/4S/yH/Nv9d/3H/Sv/w/pn+df59/on+i/6j/gD/of9OANgAQgGoAQECMQI6AikC/AGvAVAB8QCVAEUAHAAjAEEAVwBiAHEAkQC4ANEA4AD8ABcB8gBqAL//UP9B/1n/Qf/h/nT+O/4y/in+Df4L/mH+D//N/0gAdAB9AIwAkABYAND/K/+f/iz+wf14/WP9Vv02/Tz9mP0o/rL+L/+p//v/BgDl/8P/tf/C//z/cQATAcEBWgK5ArICRwKuAToBIQFuAQsCvgI6A1cDMQP5ArwCdwIrAuMBmwE+Ab8AMAC6/3r/Z/9U/xb/0f7v/oT/FQBDAEgAbwCBACcAiP8K/9X+xf6n/m/+Qf44/jr+Nf5Q/pv+2f7s/iv/0v+KAPAAHgE+ARYBegDB/z//1P5D/rD9dP2v/TX+zf5M/5n/zP8UAGEAYAAWAA8AqACCAfUB1wGYAa0BGgJ1AmcCEALdAQUCYAKbAoYCJwKkAQ0BeAAFAL//ef8i//f+Qf8AAN4AcAGNAV4BJgH7AM4AlQBYABwA0/9v//j+i/48/v79wv2d/ar95/09/p7+7f77/qP+9v0y/Zv8aPy0/Fj9/v2J/jP/JwA5AQECQQI2AlwCpAJXAh4BtP/t/rP+cv4T/ur9IP6F/sv+5/4n/7n/TQCuACwBAgLEAuoCigIXAskBhgEqAbQARgALAAgAKABjAKAApgBzAFoAcgBIAKP/B//a/qj+B/5j/T39Rv0E/aL8oPwU/b/9a/77/mv/yP8pAJYAAQE7AQ4BhgAKAOj/AwAoAGMAxAAXATIBOQFcAYMBbAH7AGUABQD9/wMA4f/B/8//4//h/wkApwCNAS0CEgJ4AS0BnwFTArYC8gJbA60DewPoAlICwwEWAVAAif/H/iX+0P3O/dr9lv3i/A/8qvv4+7f8c/32/Vn+yP5K/8f/PADKAFIBYQHKABgA5v8jAGcAiACRAHwAYwCRABQBfgFtAQEBnQBvAGQAWAA5AA4A6P/H/8z/KwDRADIB/QCNAGsAqwAcAbMBawILA0kDGQOmAicCrAEXAU8Adf+8/kD+9/3L/bD9p/2n/Zf9i/3I/VT+wv60/l3+J/4x/l7+o/7s/gn/3f6L/lv+gv7x/mb/tv/4/08AtQABAR0BFQH8ANwAugCXAG8ATAA4ACYA8v+v/7f/MQDIABQBEwEbAWwB+gGNAggDhQMaBKIExwRgBJEDrgLpATMBaQCM/8b+N/7F/TX9ePzG+2n7YvuC+6X7tPuf+3z7hPvi+4n8Mv2Y/bv94/1E/sz+Pv+C/7r/FwCeABwBawGpAfkBQgJjAm0CgwKgAp4CXgIJAvQBQgKuAukC6wIFA3wDNQTBBPoELwWzBVMGkQY0BmsFhgSfA5YCUgEFAOL+z/2c/Fr7Pvph+cP4Zfg8+C34DPi991H3EPcq9473+/dE+HP4yPhT+ez5cfoL++D7z/yQ/Rb+jv40//b/ggCuAK0AzgAKASUB9gDoAJcBUAOiBQgIXAoPDWMQ+hPeFqAYwBnjGucbNxyuG24aehivFR0S/A2dCTYF5QCg/GT4Z/T+8Cjub+uE6L3ln+M94nPhZuHw4XnipuL44szjy+Rs5ezl0OZS6DbqYOzU7pbxtfQl+K77//5SAl8GyQtPEj8Z5B/SJaYqOy6nMDQyDzMhMysy6S9qLA0oUyMTHpAXXg8nBgT9gfS37Ljlud+82sbW0dMR0qvRsdLS1PHXI9yr4WXosu/J9jr9PwMtCRAPVhRxGMsaUxshGsQXqxRVEZ8NNQnJA6/9Z/dW8YHr4eW44I/c4Nmn2JfYPdmj2tXc/9/o46/ose6+9hgBaA13Gu4mwDF9Oi1BM0YRSrlMn03uS5BH/0AiOWsw3CYMHNAPvQL+9WXq2t9C1v3Nw8eKwynBfMCewT3EOMiLzXPU49xa5gDwHvmWAYgJFxHLFyodviDAIkMjZyLQH4sbzRU2DwwIbwBI+ODv1+fZ4DLbqtYV02DQ+c78zp/Q19MI2X/g0Orj9/QGUxZuJHAwVzp4QhtJck7zUeBSc1D5SiBD4jltL4gjBRZyB774n+p+3ZjRd8eFvzS6Tbevthi4lLvdwPPHxdBf21fn0fO+/38KWBR0HaolNizWME4zuzPaMc4tlyezH5UW5gzJAj74Yu3b4lbZ/dDVyfnD4r+YvYK91b/cxCzM3dUz4ozxGQNvFe4mgjbBQ69OgVcUXkJiR2OWYP9ZnlBTRZA4ICo8Gn8JsPhx6CrZW8ttvxC2ca/Gq8GqYaxlsM22S7/PyR7W9uOm8icBlw5kGr0ksC0/NbM6mj1xPXw61zQOLWUjhBjYDNsArPR36KbcANIoyRXCz7x9uV242bjUupK+3MSmzdnYP+b/9bcHfxrNLBE9aUrSVPJcCGPtZp1ndWRdXW1TcEfOOXcq5BnoCDv4T+hZ2cPL67+ntm6woa3RrcOwCLaJvc/GldGG3XLq7PcmBUoRphtWJHErJDHcNDs2yDTWMJUqgiLdGE0OTAM7+DntiuKb2O/P+8jSw47AHr+Tv4HB1sRwycPPBdhy4tDuP/24Db8fvjHKQbdOfVj2X4Rl0GjjaHplV16TU7VFcjb5Jk0XHgfp9qHnmNntzLrBqrgNsnau862UsNm1aL29xpHRht0p6tz2EQOPDuAYmSEkKLEsVS9XMFwvRSzdJpkfxhbRDB8Chven7avkidxf1XzP9Mrgx0nGa8ZCyLzLUdDF1ebb9+IV63f0Mv+vCw0aqSnJOGpFek43VM5X81mEWn5YUlPASj0/jjEDI3wUIAYB+HbqEN7s0kLJZcEkvMS5V7o8veLBtMevzvHWYuBm6kD0j/0EBmwNahMrGL4bUR6QH1EfOx2AGVAUJw5oB6MAEfqm8z3t9OYp4UTcg9jc1VDU3NOL1P3VHNjh2rTezeOH6h/zJP6xCxgbcyqJNwRBK0d5SxBP6FGvUkBQOEpzQRk3QSwwIbAVtgmP/dHx2Obk3BPUD81YyE7GbcYNyKDKXc6j067aEuPZ6w30Mvt5ASQHbAzqEEwUURZHFyEXrxVvEpcNqQdmAVL7wPWb8KXrrObd4crdI9s62rbaFtz83Vzg+uLW5ePofOzi8H72l/3NBnsSMyAwLic6jEJ2R0BKMUyDTR1N3klOQzE6vC8WJYgavg+cBGr56O6S5YPdcdba0IPNI80vz3jS9NW/2Z/eLOXv7Lb0ivv7ADUFmAjXC+cOUxF/EpcStRHPD3UMxQciAjn8jvaE8Qjt0eiH5CHgGNw42RHYgdgC2g3cZd7Y4IfjiOYy6rLuVPRU+1gE2g93HWErPDd8Pz5E5Ea1SO9Jn0nNRglB5ThSL1wlZRtLEfIGcvwz8oLokd9u19DQi8xFy27M+c7w0WTV6tke4M/nMPBd+KX/wgWxCuwOiRJuFSwXwBf8FtQUCBHpC+wFv//Y+YL0nO/X6gjmbeGT3f3a9tlo2v3bM96z4EvjGuYa6Y7spvCX9XD7sgIODM0X1STqMNg5zj7DQGpB0UGeQdE/dTuENMMrdiJPGU8QTQdP/sD13+2w5grgVNox1nLUC9U+1/fZz9wZ4HrkCeoy8DD2fvsWACQE7gdJCwwO4Q/DEKEQnQ92DQgKSAXS/1n6cPUa8R/tLOkq5Xnhzt6F3Vbd5N0e3w/hYeO55fXnh+rH7e7x5vbS/BUEWA2JGHUkAi+BNrk61TxDPoM/DUC8Puw6yDRCLRclnxzZE8MKtgEE+cvw4+iA4SfbzdbO1OfULNYI2Gza593H4sToDu/t9Dj6If/rA24IfgzFDy8SkxP+EzQTMxH0DdUJIAUpAA/7BvYd8VXszufu4//g9t613UXdt93X3kjgr+E/41/lf+iE7FTxGveA/uAHFhMWH0cqGDMFOcU8fT/IQUNDJ0O2QN47GzVjLUwl8xxAFDMLCgL2+APwLOf43i7YnNMo0TzQJ9Du0PLSqdbm2xLifejZ7i/1i/vgAeAHXw0cEgQWuxgaGuQZURiDFcMRIg3rBzcCK/zk9b/v9umV5JvfOdvx1zvWDda31rjXD9lA21zeXOIy5xntQfQL/YgHVBNJH/IpLzL/N3E8g0BHRM5GJke5RLg/wTjRMHko1R+7FgYN6wLW+BvvzeVk3YrW9dFwz1zODs6bzm3QCdRU2bjfaOb17GHzzPlAAH8GXgySEfEVFhneGh4bFhrdF6UUZRBZC6QFhv8t+ezy9exg50bi492n2uTYmNg82XDaG9yQ3tjh9+XY6prwVvdZ/64IDhOJHe0mRy6IM3o39DodPk1Aw0D1PvA6LjWALmAn2h/IFy0PRwZg/a/0R+x75KjdHtiw013QZ85FzuXP8tL61sjbNeEz56vtUPS/+qwALwYsC20PhxKKFIwVwhUJFWMTthArDdoI/gO8/l35HPQq76jquOZw49Pg/d4N3k7e2N+L4uXllOmL7SHye/eO/QMEkwoFEVEXZx0tI2kowyzZL48xKzL+MRsxYy/FLEIp4iTDHyUaQRQjDucHvAHh+1r2N/GO7LDoz+X34+fieOKw4rHjZ+WC57Hp0usN7nHw8PI59Sz3qvjD+Wn6uvqw+mf60Pn6+Nj3l/ZJ9Q309fIs8qXxMfGR8NHvV++p78Hw8/G68k/zV/QP9kr4u/pn/XUAHwRHCL0MQhHIFRYa+h09IewjKiYqKN4pACsyK14quCiQJvkj5yBDHS8Z0RRFEIILogbhAaX9DvoP92b0APLq7zzu3eyt67LqEOrk6QvqT+pw6nDqXepi6nDqguqA6ozqk+qC6jbq6enW6S/qtuor62Drkesc7E7t5+5d8HLxi/Io9Ev2mvjX+iX9u//SAmsGYwpzDnASGxaGGd0cNyBDI8AlqScrKTEqkSokKv8oRyctJa0ixx92HLIYTBSAD+AK8gaJA0cACP38+TX3yfTR8lHxGPAG7zfuuu1y7SHtvexK7Obrf+sT643qCeqF6RLpmug/6A3oKOh16NnoJel16cbpFupm6v3q6Ovm7KztYu5q7wHxKPPF9cL4Bvy4/wQE3wjFDUsSXhZLGiwe7CFAJfMn1SnuKkorEitmKlUpuyeaJQcjNiAdHaAZnhVaESsNgwlxBqgDlAAx/Qb6pvf39YX0EvO/8bvwCvCQ7xfvi+7r7Vftwuwm7HDryuow6pPp4+h06Groqujv6F3pGeoh6zrsXO137ozvivCO8Z3yvvPV9Nf1uvaJ92f4h/kL+/D8Qv8PAnEFOwkWDYsQihNGFhsZ/BuVHnQgmiFaIg4jkiOoIzsjeSJmIREgdx6cHFgaqBehFJIRqw7eC8oIOwVZAaH9YvqW9+30QfK775Ttyes96gXpMeiv50nn+ebC5sHm6OYs53nn+ueu6IHpSuow60Lscu2X7s7vGfFt8pXzmfSX9cH2+ff1+IP50vk++vf6APxc/Sr/awFCBLMHhAsVDyUS5BTDF74adB1uH7ggsyGkIj0jJiNkIkwh7B89Hj4c+RlQFz8U2hBzDUEKNgfrAysALPxv+EL1jPL3727tP+uw6aXo3udl51fnpecQ6IroFunW6a7qdevv60TsiezO7ATtZu3k7TruOO5Q7t3u1e/p8BbydPP79Hf2y/cK+WL6+/vV/eL/IgLHBOEHaAsXD5EScxXyF5Uarh25IAcjTiTlJCklNyXLJLQj/SHpH4MdzxrdF78URhGCDb4JQgbwAoj/8/uj+Cj2m/Rg887x4e8T7sbs7+tZ687qWuoB6r3pe+l16azp4+ng6fjpcupL6x3svewi7Xzt1u077q7uYu9o8K7x+fI79J31Zfd8+WL7xPzk/T//9gDjAugELQfHCbkMww+PEtAUuBalGOEaIh3pHssf+x/3Hw4g6x88Hw0eoxzdGpsY/RU+E0AQ/QynCXcGWwMwAPn8D/rW9zj2nfSt8svweu+m7tTt2ezR6+7qN+qr6Tnp8ujJ6LTooOjC6E7pcerp61Xtde6I77LwyfGY8mbzgfTz9Vr3d/hd+Xb62fsd/eL9Xf4S/ykAiQEfAwYFRwf0CeoM5w+AEpUUQRb5FwQaPxz8HegeRh+cH/AfAiCeH9Iemx36G+IZZheiFLQRfw4FC3IH9QNzAAT9Afqm95/1efMs8SHvyO0O7XXsk+uX6tTpW+n76Lroo+i06Mvo9ehW6TnqnutM7QDv1PDG8qL0J/aA9934Qfpc+/z7OPx8/Oz8Nf0B/YH8Lfw5/K/8o/0y/zcBsgOpBvoJDw2aD8oRFRR5FpsYDRrIGhMbSRt0G3cbMxutGtAZmBgKFz0VLBPYEDoOXgtWCD8FJgI0/4r8I/q89zv13vIO8e7vQO+n7ujtGu1r7P3rvOuW63brY+tc63Hrqus27BjtP+6D7+/wdvL681n1vPYp+H35b/oB+1/7yvs4/G38PfzY+5v7u/tL/FP95/72AIADbAaKCXAMCA+JETYU0hbtGEUa/xpYG48bsRulGzcbbRplGUkYCheFFY4TRRHjDocM/gkoByQEOwF4/rn77fgr9qbznfEw8Dzvc+6Z7b3sDOyp63/rdutu62zrceuW6+Lrd+xK7UTuPe9H8GTxk/K189b08fUL9wP40Phz+RP6r/oh+0L7K/sk+2j7GPw2/cf+tgAFA54FbAg4CwIO2xDUE6gWCRnDGuobmhz9HBkd7BxeHHQbOxrTGEIXhBV2EyoRxw5oDOIJGQcfBDgBff7P+//4DvZA8/PwSu8W7gft7uvl6ifq6ekb6pHqFuup60rsAu2+7YvuYO848PrwuPFt8h/zvPNY9PX0n/U69sD2L/em9yb4k/jL+Nr4+/hm+UT6lvth/ZH/IALtBOEH2grqDRgRXxR1Fx8aORziHS0fIiCnIK8gNyBoH1seHh2RG4YZzRaIEwkQrQyFCX0GcgNyAI/90/oy+Jv1DPO28NLuW+0K7LPqjOno6N7oQOnu6c3q2Ov27CTuS+9x8IjxmPKL82/0NPXg9Wn26vZl9+f3Vvir+OX4Kvl4+af5oPmV+dj5h/qm+yj9Iv+IAVMEVQdxCoQNoRDLEwAX+hmEHIEeBSAcIdEhHSLwISohyB/mHZobzxh1FZoRdA0tCd4EkABk/JD4PfVR8rfveO2g6wTqm+ih527nEehA6ZXq1esf7afuiPCZ8rr0v/aY+Cb6cftv/Dr90f07/mP+U/4G/pj9Af1D/E77Pfoj+RD4EPc69of1yPT883DzifNY9Of1RfiG+1P/WANfB3cLmQ/PEwYYGRy1H4IiQyQXJWElWCXLJGQjEyH/HVgaFBYbEY8L1wVFAMj6M/Wu76zqf+ZT4xnhqt/I3nXe2t5T4AnjuOa26nzuFvLM9cf5zv2fAeYEegcyCSgKcgpXCtIJwQjjBlsEdAGP/rn70Pim9VfyNu+X7LTqjOkG6d/oD+m/6WjrU+6+8nT4Af+eBdELiBERF5ocFyIqJ1krPy6oL6ovmS70LMUqqCc9I8EdshdnEdEKzwOH/Fr1s+6h6BrjL9462nLXDtYH1irXCdlx23neZeJE573sPvJg9zv87wB3BYcJFQ3rD8wRfRJREoQRLRAUDkYL3AcQBAIA5vu8933zO+9I6wToiOXQ47XiSOKP4unjr+ZI64jxNPnGAa8KJhPiGh4iMCnZL3E1fDm2OyQ8AjvPOKo1XDGjK7kkER0IFaMMzwPC+uzxzel84urbH9Z80U7O58w3ze7Oe9Gs1LHY4N0u5BXr8PFI+B/+kwPTCKoN4BEIFfcWhRfoFkwVCxMnEJUMSQicA9z+Jfpj9anwO+xh6FTlA+N14aHgteCz4e7jtedo7cj0Y/2EBpoPGRjfHw8nyi3YM5k4fTtBPDs72jh8NQYxRSsmJAEcPxM3ChQBCPhg71LnBuB+2ezTls/5zDvMOs1xz3rSMNba2rPgm+f77hf2l/x7AgoISQ0hEh4W9BhYGmkaTxl2F9oUUxG6DIAHBQJw/MX2XPFy7Obnl+PG3+zcK9uC2rza3dvM3cPg9+Te6pjyG/y7BqwRJhyuJQsuTDWZO7hAGUQMRX9D1D/VOtQ0yS1pJcgbYRHhBrH83vKC6dTgQNne0sbNBsr4x8LHgcnjzH3R1NbK3HPj++pO89f7zwOtCqgQ9BWSGgkeMyDWIPQfjh0bGs0VtRCmCtQDq/zA9Xbv5On25Jzg7twF2i/Yp9eT2IPaMt184LDkAOra8H756gNSD7MaPCWCLmA28jxsQo1Gt0gwSP5Eoj/zOEgxoCi4HqUT/Qec/AryO+gY37nWos8iymDGOMTLwzHFkciKzZXTNdpE4cLoxvBU+e4B3QmEEA4Wrxp6HgohTCIRIm8gZR1MGVQUtA5KCA4BPfmY8c/qEuU04APcj9jv1XzUcdT+1cPYbNyg4KPl6+sl9GD+OQqyFpgi4Cw4NQ4850HIRtdJJ0peR1VCCzwUNTotQCQGGrcO6wKG9xrthuOh2oLSq8tkxuzCTcG+wSbEW8jLzQ/U/tqo4vbqzvMl/XYG6g7JFVQb5B+RI98lsibcJXAjiB+xGhUVnw4/B3//+Pfu8GPqdeRb3yPb2deE1XLUz9SW1iDZG9yz36fkWesT9LH+tgoAF24iaCzwNEQ8pEIVSMVLikzYSbpEcz6UN6kvVSaFG5MPLwM29yzs/uGo2FLQg8l+xIDBgMCXwY3EOMkvzyDWvt3m5XPuTfddACoJDRFzF4gcjiDAI7QlFyaXJH0hKB0eGFcSrAsSBBX8WfQ67c3mHuFP3GHYddWx01/TetTp1jnaF95A4gPn4+xm9G79cgefET8b4iN3KyoyKDhtPVRBAEP7Qew+sDrCNdkvnCjZH9YVJAtqAFH2Qe1A5dXd+tZF0aPNOsyozC/OcNBT01XX69wb5DHsJvRG+5wB2Ac3DkwUGxk4HLYdJx6yHVQclhlcFc8PmAkqA8X8XfYL8Nrp1eM33nrZJdY01F3TINOA09PUAtin3RLmpPB0/GUI0BN2HqkowDJ3PMtEfkovTUNNuUv3SM9Eej6sNZoqEx4NEW8Ed/jB7CjhFdZ/zPnEmr/du8u5xrlXvCLBpMd/z7fYCOP77Qz55wN8DmEY8CBqJ+krqC70L5Yvki2vKQsk1By0FC8MjQPc+kXy9+kP4h7b9tX00l/Re9Ax0DbR7tM12FPd9uIz6X3wzfibATEKkBJMG6ckzC2PNY078T/oQmZEhUQaQ94/fToYMy0qiCB1Fr4LYAAV9cbqreGp2aPS5cyGyN7FHsVgxj3JWs180snYVeDX6JHxu/kdAcUH3w1nE3cYfByyHn0eehx7GQsW9REWDREH2f8B+OLwPOuW5vjhA9132FfVH9RF1HHVydfv28Dh5OgL8XP6FwWzEGEcUyciMbw5B0HaRjxL602EToRMBUhoQVc57C8CJY0YPQv+/VrxZuUZ2rHPgMYvvx26gbcIt4e40LsZwVzIYtF62+7lTPBr+lYEAw5oF8gfNibzKXQrVSsZKo4nqiNKHp8X5Q+pB2H/bvf/7xfpy+JK3f3YJ9YJ1YXVYdch2rHdKeLN53Tuv/Ut/Z0EIgy/Ex8b3iHTJwgteTEENYc30jjGOEw3djSNMAYs+SYRIR8aihLxCpIDXvxC9XbuMui/4jPentr211LWrtUe1p3XJdqU3cPhjebY65LxbvcC/bsBagUHCOcJFQuQC/AKHwkfBmwCgv7E+iD3RvMY79/qpudv5ovnFup77eTxGPj3/70IVBFDGX8gRSeBLRozHzg7PJ8+pz67PIo5czXhLy8oVB5cE1sIs/0A8w7oOd0u07fKPcTEv+28qbsWvJm+LcOEyf7Q/NgP4U7pNvLH+04Fkg3vE3AY2xt/HkQgqyDHH80dCBtYF8ASXg2WB8YBGfyF9g/xB+zR57XkiuIv4ZzgG+G54nblG+mk7fvyFfmZ/0EG5gxxE5wZJB/wI+wn7CrLLJstiy27LCMrsyhhJUohsBzYF98Ssw1ECKUCEP2m93zymO0V6Q/ltOEX30rdSNwL3IDctd3J39Hirubv6hfv1fJW9sj5Nf1CALMCNgTHBIME1AMBAywCCQE2/+38EPtv+vL6Mfzx/ZUAUwQLCfgNjhKlFn4aDx5CIQwkbiY/KCApvygqJ+kkGCI4HucYpRJEDBwGxv/K+GLxd+qu5K/f9tqn1mDTWtGe0DXRR9PI1i/btN8o5Efpge8g9s/7HQBMA+YFIAgqCn0LcwvZCZMHXgVLA9UA8v3f+uH3L/US84rxPvDd7mrtW+wj7OnsTu4M8CTyC/UE+QX+kwNECcwOQBSlGfke/iNaKJ4ruS3wLqsvAzC4L2ku9yugKNQk0SCKHMEXSxIvDOMFAADb+jr2p/Hi7EjoiOT24S7gh97R3EDbH9q/2X/aDNyU3VfelN4p3/HghuO15bfmLudc6M3qEO6A8Sr1nvms/2cHJxDPGNogVyiVL2A2LjyMQCBDqENDQpM/8js5N8wwayi1Hu4UrQtmAnv4TO725BHdfda30KbLn8c1xW7EYsVIyAHNoNJ72OXek+aH77/4FwHeB1oNDBJXFswZBRyHHGUb6Bi/FeQR9wyaBln/DPhV8UDrruWK4OHbF9iX1afUE9Wx1mPZPd0V4tvnb+6+9Xn9OQWPDJoT5xpeIuMoqi1FMXw0CzclOLQ3FTZ1M9cvZytZJrUghxrsEyMNVAbh/yL6WfVH8cPtz+q16HbnKufV51vpR+tI7W/vGvJ/9SH5K/wK/hf/+v8TAeABtgFIAD3+TPzH+mf5APhn9nj0YvKl8Lrvke/v76TwOvJa9WD6rABUB6ANqhPCGfwfzCVzKpMtNC+hL/4ubC28KskmZSGqGg0TWgvIA+n7c/P+6orjhd2r2GvUrdDJzVPMbMwMzhbRX9Vw2v7fJ+Yl7eD0sfzYA9sJ7A5DE/sWphkSGxQb4hmgF6EUwhDfC+UFSv+k+G7yvex355/iZt4s2yXZZti52Cva1tzF4HjlyeoA8Ur48P9wBw8PLhdHH38mfyxrMWU1VTgaOo86tDmJNxk0YS+OKfciARzvFMENawb8/r/3+PAQ6z/mieKW3z7dn9s3207chd7u4AHjLOUE6Hnry+6F8X/z+/Qw9nL3pPif+QL6nfmg+LD3K/fX9q32QPdc+f38pAG8BgIMOBFsFqgbzCBSJccoCSs0LGssrSv+KUknhCOgHsEYJxI9C0UETf1T9oPvKel4453ertq916nVddRC1DjVOtc12ire8eIQ6CLtO/KQ9x79eAJCBzcLdw4WESsTiBQpFe4U0xPeEWEPfww1CW8FYwFc/X350/Vz8n7vA+0l6/vpuOlj6uLr2e028CDzzPb3+j7/YAN5B6ML2w/nE2kXGhoEHHIdix4xHxsfMR6QHGAauRemFDURew2fCb8F7QEz/p/6P/dA9Mbx2O9K7v/s+OuI6wPsQO2T7pjvvfB/8rT0s/Yz+Db57Pl6+iL72vtt/JX8R/y1+yz7xPpT+gz6hPpD/AP/UALuBQEKZA7fEiEXFRurHtMhUiTnJYcmTiZcJa4jMyHMHXwZbhT1DlUJuQMQ/jv4T/Kr7KrnXOOm33zc99kt2EbXader2Ora2t0r4bvkp+j+7KDxNfaR+oL+8gHMBEgHSgmXCvEKrArjCXEIBgbrAo//Tfz3+Eb1MvE37eLpUudZ5dbjJeO24+jlguk27qzz2/mHAJQHyw4MFgYdaiPwKHwtFzHRM7E1dDbCNYszPTAyLGInrCFLG8IUXw44CDUCa/z09i7yRu4366volOYi5c/ku+Wa59vpHOxX7uTwHPS39/H6J/2a/r7/ywCAAeMBuQGgAH/+E/ye+aH27fKd77Tt5ewq7B7rS+pW6mTr7uzJ7mvxePWn+kgA6QWqC58RpxdHHSgiSybXKbEsei75LkUusixwKnUneiNfHmQYGhK6CwcF6v3e9nvwv+pg5VvgDdy+2IzWVdXr1CvVQtZq2MrbQ+BU5WbqQ+9Q9MT5Uv80BBUI3grNDAUO3g4vD6oO9gxECtsGDAPJ/gj6OPVF8ZLufuxX6kvoF+fu5qrnE+kr69rtKPEK9Xz5WP55A6UIsg16Eu4W+xqLHnkhuiNnJXEmjyaoJRckGyJxH+0b8Bf5E/oPrgsQB3oCMv5c+uv2zvPu8JPuFu2S7JfssuzV7EftO+6f7z7x0vI49F71Y/ZY92r4e/lT+rb6wPqI+hf6Wflz+Jn3+faT9lr2RvZo9uP2vff6+JH6gvyw/hMBoQNjBkQJOAwVD8sRShR6FiEYTxliGoMbQBw/HLcbBBsCGl4YHRZ4E3gQKQ3DCWAGyQL0/jX78Pch9YnyBfDJ7R7sIOuV6kTqPeqz6qnr5Owy7mfvg/CP8a/y3fMT9SH29PaC9wP4hfgD+Vf5h/mZ+Z75gflA+ez4vvjM+PX4GPlK+bj5ZvpH+1H8lv0X/88ApQKJBHUGcwh4Cn8MaQ4tEMURIxMUFLIUWRU+FvoWPhcxFyEX5BYqFugUWxOfEbEPdg32ClsI0AVMA8EAN/7Y+7X5zPcL9nH0EfMN8nLxNvFI8ZPxDPKn8mXzOvQc9fv12Pai90340/hT+dz5a/ro+lX7vfs1/K38C/1C/XP9vP0a/nX+zf4u/5n/CwCRACgBrAEsAuwCCAQjBQIG5wYQCC8J9AmICjQL0QsLDNILWQvDCgwKEAnEB0sGywQ5A5MBBQCw/nf9HPyH+t74YPcU9sP0RfPV8bvw++9u7yLvGe8t71vv+e808cXyT/TY9Yb3Tvnx+lb8i/26/t7/1gB+Ae8BUQKuAvcCLANlA7QDIASTBAoFkAU8BvwGyQecCIEJXQobC54LDgyqDIANLw6XDg8P3w+hEOQQvBB9EBYQRQ/5DVoMiwqVCHAGGgSpAUT/+fzJ+rX4yPYJ9ZnznfIQ8q7xV/E/8Z3xVvIl8/zz5vTg9d328fcW+TP6K/sV/AT9/v3i/p7/LQCeAPwAWQGdAaMBXQH4AJAAFgBu/6z+9/1W/cP8SPzx+7L7k/uz+yj82Pyp/Zn+t//yADMCZAOJBKgFrwZ6B/QHNghXCEwI+wdyB8IG7QX2BAgELwM9AgEBg//v/Wj86vph+dP3aPZN9Yz0EPTH88LzIfT29Cb2m/di+W77cv01/9wAjwIsBGwFPQbBBiYHbgd+B0oH7waUBjcGyQVUBe0EhQQbBMcDhwMdA3ECtwE8AfsAxQB0ACIA+P8KADwAcgC2ACEBowEkAqACIgOhAwIEKAQaBP8D7APGA2oD5gJbAtIBQAGjAP//WP+3/iT+qf1O/QP9pfwt/Mr7m/t++1T7OvtY+6T7/ftk/Ob8fP0X/rr+Yf8AAIcA/ABXAYgBfgFHAfQAkAAaAJr/FP+L/gT+j/01/fn81Py8/Lv84vwt/XL9mv25/fb9U/61/gT/U//O/4AARgH0AY0CLwPeA3IEuQSkBGEEDgSWA+ICFQJLAWUAWP9h/sr9iv1g/R796fwS/aT9Nf54/p/+Af+G/+b/FwBFAIcA0gASAUoBlwH7AUICUgJkAqoC+AILA+cCvAKgAoACQgLnAYQBJgG6ACgAg//o/lf+1v2G/XX9fP14/YH9w/1A/tT+Xf/P/yQAeQDuAHwB6QElAmkC6QKJAwEEOwRPBFIEQQQRBKkD9AIAAvwABgAS/wv+/vwR/Fn72PqD+lj6WfqP+vz6nvtt/Fb9N/78/rH/YwAJAY4B7wEtAkwCRgIiAu4BwAGMATMBqQAXAKX/Rf/O/jP+fP2z/OX7Nfun+hL6b/n3+N74DPla+dL5mvqp+9z8IP5u/7oA9QEQA/4DuQQ8BYsFqgWeBXAFMwXvBKIERATZA3EDHgPjAqkCZAIZAtEBfgETAZAADACV/zL/3/6e/m/+Y/6L/uv+a//4/4wALAHSAW0C6wJDA3cDggNfAw4DpQIqApEB1QAXAH3/BP+Y/jL+4v25/bv92f0A/h/+PP5h/pD+vv7k/gT/K/9d/5P/xP/w/yUAfgAKAbwBcQIDA18DkwO4A8oDpQMuA3sCvAEYAYUA6f89/6P+PP7+/dH9sP2r/cf9+f0y/nP+zf4t/1j/Lf/f/rP+tf61/pD+Rv7//dz97P0T/jL+Of4y/iv+Kf4c/v/9xv1p/er8afz6+5/7Uvsd+xH7NPt+++H7YPwM/eb90f6r/3AAJwHJAUsCqQLuAiMDSwNfA2cDgQO4A+YDAwQ8BKgEAwUTBfsEAQUkBTAF+gSSBB8EtgM6A5MC3AFKAe4ArwBwACwA9//j/+7/+//k/7f/rf/S/9//nP8v/+P+wv6m/nj+Rv4k/h7+KP4//nT+yf4b/0n/Yv96/4f/c/9L/yL/+/7B/mr+Cv7M/cv99f0q/mH+n/7f/iT/g/8KAKwAQQGoAd8B+AEHAgoC+QHTAakBjAF+AXUBYwE9AQ4B6QDVAMQAqQCLAIEAkACVAF0A3f9B/9P+uv69/m7+r/3n/Ir8lvy6/MH8u/zL/Pf8I/0z/Tf9Qv1I/S79/vzX/NT89fws/XH9x/0y/qf+HP+a/ygAugA7AZ8B6gEdAj8CVQJmAnYChQKNApsCtwLhAvQCwwI5Ap0BbAHtAesC7QOdBP0EQgVjBQcFFwQEAycCQAEOAO7+ef7f/rH/SACDANAAVwF8AdQA8f+E/27/IP+L/h7+Lv6b/vH+7f7N/u7+Rf+K/6j/wP/p/xIAJQALANL/lP9m/zr/9v6N/g3+mv1S/UH9YP2e/ef9M/6B/tj+Pf+o/wgAYgDJAD0BmgHFAdgBBQJaArkCAwMbA/QCrQKJAqICygLAAnsCJALlAboBdQHoABcALv9S/qr9U/0n/cX8BPww+736zfoh+2P7ffug+/j7cfzq/G/9Ff6+/jn/h//Q/zcAvwBfAfYBWAKcAgkDbQMXA88BewAfALkAbwGEAbkAJf8b/RP7hfnH+Bn5bPpa/FL+8v8vAUUCSAMmBLkEAQUuBXcF6AVdBq0GuwZ5BhUG5AUHBjwGLQbDBTUFtAQ4BIADVgLOAC7/rv11/Jz7+Poq+gf5z/f89tD2Dvcg9wj3jfcH+a364fsw/S//NgE/AkQCFgJoAiMDrgOrA28DcQOlA5AD+AI1AtQB9wEgAuEBaQEkAQ0B2QB1AA0Ayf+l/4b/Y/9V/2f/av87//v+5v4E/zD/Rf9F/1T/fv+Z/4b/aP9H/+z+N/59/RT97/zB/Gj8EfwC/EX8kfyw/L784PwC/QL9Av1N/QD+wv4D/6T+M/5J/uP+h//f/xMAhAAyAaEBkAF8AesBpwJEA80DZAS9BGYEVgP2AckAFADD/7//KwAJAe0BcwKmAs4C+AIIA+8C1QLmAiwDfAOZA20DGwPZAqACKgJ3AfgAAAFKAWEBKgHzAAEBLwENAYMAEAD//9n/Ev/g/db8K/yv+0P74vqL+ln6dvrT+iD7TPum+1z8I/2U/bT9/f3c/iQAMgG7AUACSwObBJoFJwaKBu4GQwd1B34HaAc+B+0GZQa7BfUE6wOUAjkBHgAy/0f+Zf25/Ez8A/y3+177D/vn+uX69voY+077lvvl+zD8ePzL/B/9W/1p/WD9aP2Y/dv9Ef4u/lP+nv4J/2r/nv+V/1T/7f58/iz+JP5e/qL+uf6d/of+u/4r/3f/iv/P/5AAbwHsARoCWwLKAjcDewObA7UDwwODA/ACggJwAkACtQFvAecBlQKoAhoCewEmAfIAgQDE/x7/2v6z/lj+Af74/Qf+4v2s/a394v0Z/jv+Yv61/jH/nv/R/+X///8NAPn/3P/c//L//P/u/+f/EwB3ANoAGQFMAaEBFAJ3Aq4CxwLiAgoDIgMZAwwDFAMUA/UCzwLNAvACCgPvAqwChQKJAmcC4QErAZ0AQADV/y7/Yf6r/S39z/xm/Pn7pfts+0D7Jvsp+0f7c/uk++D7RPzG/Cb9Vf2e/SD+gP5//nX+0v6G/ycAggDFAD4B+wGyAiIDagPPA1IEvwTxBPkE+wQGBfkEywSoBKsEoQRdBAQEzwOzA3QD7wI7AogB5QAyAEf/Lv4W/R38QPtw+p75x/gG+IX3Uvdb93H3dveD99/3jPgx+Zb5BvrF+pn7Nfy+/H39b/5R/wQArgCSAbQCwAOIBEYFRgZiB0YIzwgwCZgJCwpTCk0KDQrTCbkJqAl3CRoJnAgPCGwHlQZvBQoElwIwAb//Hv5b/JL60PgV93r1CvS98oXxdfCt70HvKO9K75bvFPDJ8LPxvfLj8yP1gPbk9zv5i/r9+6b9Yf8AAYACBgSnBVYH5wg/ClgLZwycDfkOMhAmEfQR3BLKE5QUIBV5FZAVYBXoFDAUMRPREfYPow0JC0sIZgUxAqf+5/o697zzWfD17MDp6OZz5Fri2eDX3+Lev93y3OPcX93T3S/e0d4m4EXiAeUO6D7r2u5Y8/X4U/8QBvkMOBS6G0QjZSriMJA2ejuZP8VCskRWRelEUkMGQLo6/zObLMYkMxzAEr4Iv/4k9e7rDOO42kfTvMwVx5HCV781vRu8XLwsvjrB8MQgyfLNntPs2XXgxObi7Ajzffnn/8IFjApuDpsRMBTwFc4WqBZqFTITeRDfDcoLVgo+Cb0IRgkwC+EN4BD6E6cX6xs/IJAj7CVYKKYrEC8dMSkxBTDaLsgtpStUJyMhQRpwE5AMTwWH/Wj1Ze3z5Vfft9kL1RnR2s2Yy6jKD8uqzFrP+9JS1xncOeGl5lvsBvJR9+v7BADIA2MHaQp5DDUN5gzJCxoKxQfHBCwBJf3Q+Ff0dfA07lXuWPBt8w73jPsDAa4HRw/8FnodbCKxJngr0TBQNUo3VDavM8Uw1i3EKZgjThvuEbEIUwCW+M7wnuhI4IbYAtIXzbLJd8fhxdrE18SCxhjKNc8d1SrbNeF15zvuVvVM/F8CUAc3C6oOwxFIFIcVQBV9E80Qng0jClkGOwKu/ZP4pfNI8OfvbvK+9lL7s/8xBOYJJhEnGSogKSVnKFErCS/+Mlo15DRSMiEv6ysNKOIiTRzDFO4MVwUS/vr2ye9O6Lngp9nZ06TPyMyfyu/IJcgDydjLT9C81YjbceGW5zvuPvUr/FECcAeRCx8PEhIwFOwURRRDEiMPLQvgBnUCvv15+OzyXe417FbtDPHI9fz5v/0dAmYIcRC2GDYfnSNIJ8MrDTGLNa03RDdwNTgzoDDNLFEnaCCkGIgQgAiKAGr48O8/5+TelNfP0YbNb8pGyBPHAsdhyFrLyM8m1eLavOC65gzthPPR+Vz/6wOAB48KHA35DpsP/w42DZ4KYAepA5//ZPv39lLyDO5C60frQe4684L4Rf22ATAHbw7cFpceXiRpKCksojBWNcA4vzmFOBY2LzOnLwkrByXKHdsVzg3lBRb+P/ZU7ovmRt8J2S/U19C7zoTN/sxhzRPPR9Kz1rvb6uAS5lXrofDN9XD6av6oAWAEdwbpB3wITQhRB6wFawPRAAf+GfvN9/XzD/Ap7UfsYO3J77Dy+fXS+az+eATdCjoRNReeHLQhxSanK5Iv9DH0MhYzgzLtMBUuDSo8JQIgcxp4FBYOeQfDADv6OPQW783qUeeN5Hvi8+AT4DDgfeGm4yPmrOg96/HtqfBJ8431ZPfE+OT5p/ry+pv68vka+RD4l/bc9ADzJvFO76btRuwr6yXqFuk96CXoLOkh66ftkvD388H32/svALAELQmADZERbBUaGYEcTR9dIdki9SOTJJEk9SMGI+EhgCCqHnocOBo2GEUWORQGEvwPMQ6dDPsKMwlHB2MFjgPFAQkAW/6q/Nn63vi89pD0cPJw8I7u1Owx66LpJOjm5vjlVOXI5FTk9uPV4wLknuSE5YnmWOfm523odekb6wftqu7470rxEfNq9Sj4/vq+/W4AJwP2Bc8IrQt8Dj8R7BN6FsoY1RqRHA8eQB8bIIcgmSBmIAUgUh87Hrcc9xoaGTEXGxXYEnkQGQ6VC9kI9wUkA28A1v1Q++j4qfaZ9K/y2/Ah74ntLOwL6y/qf+nx6HPoGujs5//nLuhg6IDozOhe6Snq8+rG65HsP+3C7W/uge/v8Ffyc/NX9Hr1KfdA+W/7ov35/3YCDAWpB08K6gx7D/MRVRSRFp0YVxq/G9McqB0xHmoeSR7bHRQdBBy1GjoZdRdqFTET+xDCDoQMPAr7B7UFbQMrAQj/DP03+3353vdf9gX10fOy8qrxtfDg7yfvme4k7rjtUO0b7SLtUe1/7cftPO7a7nvvK/Dv8M/xqfJu8x/06fTZ9dz2vPdu+Ab5rPlr+kL7JPwa/Sr+Rf9lAKABAQNgBKgF6gZLCLkJFwtVDIoNuQ7hD+QQvRFyEhoTpRMQFFcUhhR8FCoUkxPWEvgR+hDMD3IO6gw/C24JhAeQBaQDuwHT//H9Jvx5+un4cvcX9tv0xvPj8izyl/EZ8cDwk/Cb8MTwBvFY8c/xYfL68nnz9vOH9D31+PWg9ib3tPdX+AP5lfkY+qD6OPvZ+478WP0p/vP+xP+nAJYBigKKA6MEzQXzBgII9gjQCZQKLgudC+oLJwxQDGEMWgxADAUMqQs4C8sKYQr0CXcJ7whbCLQH4AbfBdEE1APcAtIBsQCF/07+Dv3Y+7v6v/nS+OL34/bl9fz0N/ST8xHzq/Jk8jryMfJL8pPyCPOs82v0OPUb9jr3l/gA+j/7X/yQ/fb+fgD4AToDTgRQBUoGQAc/CD8JDAqFCrUKzAraCuAK0QqwCngKLgrLCV0J6wiFCB4IsQc0B74GXgYQBqIF/wRABJED9AJQApYBygD3/xX/Gv4M/Qv8I/s8+jL5Efj09vP1DfVF9JrzEfOl8lbyJvIt8nDy5/J58yD06/Tu9S33lPgC+m372/xc/v//ygGWAxsFNgYZB/wH4QieCRsKVAo7CtwJZQn6CIkIBQiEBxkHngb/BVgF4QSUBFcEEQTVA7kDwgPPA8oDvgPBA8EDqwOKA2kDNQPaAmMC5wFiAb0A6f/q/uP95/zz+/36E/pI+Z34Dfim93P3bfeE97T3Afh4+Bj51vmn+o37e/xR/Qb+w/6f/3gAHQGIAdUBGAJQAnYCgQJtAjkC8wGnAV4BHwHuAMoArACRAHQAYQBiAH0AowDRABQBbwHEAQECOgKBAsAC3ALiAugC5gLHAo4CRgLzAZQBKgHAAFgA9/+a/0L/9v68/pD+b/5Y/k3+Tv5Z/mr+gv6i/sr+8f4U/zj/Xv94/4z/u/8MAE4AVQA9ADQAQABHAEEANgAqABkABADz/+7/9v/3/+3/7v8YAHAA2wA4AYQB3QE/AnACTAICAswBngFTAfcAswCQAHkAWAApAPz/2/+//6H/lv+c/4v/Tf8K/+L+vv50/hL+v/2K/WX9RP0p/ST9Nv1N/WL9lP3u/U7+gf6G/oX+p/7j/gj/+v7b/tn+8f4H/xf/Nf9i/5T/xP/8/1QA1ABdAdYBPgKmAgcDUgOAA50DrwO2A6oDiQNfA0cDTQNnA3IDWQMeA9oCmwJbAgYClQETAYwA+/9f/9H+ZP4I/rT9d/1p/Yb9qv2z/bT96P1d/sf+5P7b/vH+Lv9a/1P/Kv8O/wf/5/6T/jz+Fv4H/tj9hv08/Rr9Hf0s/Tz9XP2a/eL9KP6C/gf/nv8vAMkAfAE5At8CWwO6AxYEaASFBFgEDQTUA6UDZAMQA74CaAIBAogBEwG/AI8AYQAcAMn/d/8g/7b+T/4D/s/9s/3I/fv9Av7D/ZD9sv0H/jj+Lv4X/in+X/6P/pD+dP5T/iP+2/2e/X/9W/0O/b38l/yb/Lf89fxo/f/9n/5B/+3/qABfAekBQAKOAvMCUQOBA5QDowOlA48DgQOVA6oDnAN3A1kDOgMTA/AC4ALPAp8CTALrAZYBZgFnAYcBmwGCAT0B7gC/AKcAagDp/1D/2P6B/iT+uf1P/ev8i/w6/AD83fvF+637mvuq+9/7E/wz/Gr80/xD/ZT99/2U/kD/wv8vALEAOAGdAeYBKAJoApwCygL3Ah4DMwMsAxUDBwMGA+8CrAJRAgECwAF8AS8B7ADEALIAlQBjAD0ATACLAM8A8gD3APcACgEqATcBGAHPAHkALgDy/7T/a/8a/8j+eP4y/vn9zP2g/Wn9Kf31/Nr8z/zG/Mv86fwV/UT9hv3j/Un+pP77/ln/sf/4/0YAowDyABoBNAFZAX4BgQFZAR8B9wDpANsAtwCHAGYAWABQAEEAOABPAIkAvwDZAO4AJQGDAd0B/AHeAbcBrgGsAYsBVQEoAQkB5gC1AIQAXQAwANH/N/+a/i3+4v2P/TL96fzG/L/8xvzV/Ov8Ef1J/Y391f0m/pX+If+x/ycAjADvAE8BoAHlASYCXgKFApwCmwJxAicC7wHhAdcBpwFjATABDgHnALYAiABiAD4AEgDm/83/3f8OAEcAbwCIAKgA1QD3APsA9wAEASEBLQEOAc4AkQBRANb/Bf8l/oP9Hv3B/Fb8Afzv+yf8e/y//Pr8Rv2m/QL+Tv6P/sz+B/88/3L/v/8tAKcAFAFxAcsBJwJwAo0CegJRAiwCCgLeAaQBZwEvAfwAwwCOAHAAdQCHAIcAbwBdAHAApADIAL4AnwCTAJ4ApQCeAJgAngCyANIA5gDRAJkAbABQAAgAcP/J/l3+H/7Y/Yb9SP0o/Rr9H/04/WD9jP2v/cn95/0W/lP+k/7R/hX/a//P/yUAXgCHAK8AzQDUANIA1wDgAN8A0QDGANIA9wAXASoBRwGEAcQB5gHqAfABAQIWAiICJAInAjwCYwKTArwC0gLFApoCaAI9AgUCtQFaAf0AiwD3/13/4f59/hr+tP1c/R/9/vz0/Pr8DP0m/T/9Uv1p/Yz9tP3T/ef9+f0W/kf+kP7n/kb/pv8JAGAAkACNAHAAWABYAGIAYQBVAFQAYwBhAD4AFwAeAFgAqgD3ADsBegG5AfMBGQIYAv0B6gHyAQECAwIGAhsCJgIEArIBTQHyALMAlQCMAH0AXQA4ABMA4P+Q/zP/5f6r/n7+V/5B/kr+cf6d/sP+9/48/2r/a/9s/5L/w//L/6P/b/9K/yr/6P55/g7+0v28/bj92/0e/jb+/v3I/e/9af78/pH/MwDXAEoBYgE8AT4BrwFYAvACfQP+AzAE/QPfAygEdgQnBA0DVgFB/wz9GPvK+Ur5b/nV+U36BvtJ/AP+3v9/AbwChAPuAy4ESQQeBLMDZQN3A8UD8QPVA48DPgPkAnICzwHyAAsAbP8f/8v+Kv5r/dn8bPwJ/Nn77vv8+7z7Vvsm+1X7zPto/Bb90P2Q/kD/3f+IAFQBHQKxAhUDWwN7A1oD9AJbAqQB9AB0ADYAKQAwAEYAegDgAF0BqQFoAWEAr/69/AX71flg+cn56/o0/Df9AP7K/o//WAByARID7ARoBiYHIQeaBuIFNwWrBDcEwQMsA3ACrgH4ADwAd//N/nH+Yf5p/lP+Bv6Y/TH96/zQ/N789vzm/J/8W/xX/Jb8Cf2w/XX+Df9D/z3/Tv+s/0YA6QBeAZYBoQGfAZwBkQF7AV4BSAE9ATEBFwH7APwALQF1AawBwAGxAYMBPAHpAJ4AZgA7AAkAz/+t/7z/7v8eADwASQBGADEADQDp/9f/1v+//3b/E//B/pT+iv6n/uf+Lv9q/5//zf/g/8n/mv95/4P/p/+6/6P/fv9n/07/JP8A/wf/N/97/7//AgBBAHUAmgC3AOAALwGtAUECtwLuAvQC9QIVA10DxgM0BHwEfAQoBI4DzwICAi8BZAC//1H/BP+3/lz+AP6r/Wb9O/0r/Sz9MP0t/Rz9/vzg/N38Af02/VT9RP0N/dT8uPzL/Af9ZP3d/W/+Af9r/53/tv/W//f//v/p/8//xP/M/+D/AAA8AK4AXgE4AgsDvwNcBPEEZQWgBawFpAWLBWIFRgVABTIF7QRhBJUDlgJ8AWcAaf9z/nv9jvy9+wH7VPrI+Xn5b/mY+d/5PPqx+j77zvs5/F/8PvwC/ND7u/vI+wv8e/zm/Av92fx1/CL8EfxD/Jn86/w0/Y/9D/6h/lj/aADzAaUDMgWXBgcIfAn3CpYMlw7yEGsTohVaF4QYLRlWGdgYjRdfFW0Svg5SCiQFfv/C+Ur0We8s68znBeW54gzhOuBG4ArhZeIf5BTmIOhi6sXsBe9p8GLw3+6v7NbqE+qY6kDs5e4n8vH1K/r3/loEHgsuFNgfviy8OCZCUkhuS9pLEUofRhJAyzd/LVEhvBNvBVv3h+qR39fWNdCvyx3JjMiyyYnMz9CP1n7dKeXb7H70v/z+Ba0PxhjgIHEnvSvTLAkrOCeWInIdfhetD2oF/PjF64PfkdWOzj7KNsjoxxzJgss4z27UDttd4hXqvfIz/OoEGgtmDroPIBBDEKsQHxKIFVsb1CKpKsYxVTeIOmk7+Dr8OQo43TPALPEimxfxC8wAjfZT7UnlYd6v2EbUc9FD0NrQ/9KS1jXbg+Du5Uvr6/Au9yT+WAVLDFYSDhffGaoalxl/FwMVXhL2Di0KqAPr+93zhOyw5tbiyuCs37fer90Y3YvdUN864hrm7+qd8IP2kfsG/7sAKgFsAXsCsgSDB3MKuA1fEjoZOiL2K4U0ZzoVPfo8GjuUOGw1jjABKTMfTRRMCb3+FPXO7P3lq+CI3IzZvNcl13DXC9nh3DvjnOo18YH2Ivva/+QENwo7DzoTTxU7FSAT+w+RDD8JmQUcAWn7zfQA7vnnheP+4Azgsd8u33TeGd663pLggeNv52DsD/Kl9/T7X/4n/+7+Fv/uAGkEEAiuC0oRABvdJ4E0vj1hQiBD9EHKQJI/nDxyNnQtvyILF4cK7/1t8qvoEOFj2yjXm9Ob0JTOA88U06Xak+OW69/xJPeR/LgCgAkNEGYVgBgPGTQXFhSREA4NGwlABAj+lvZ27q7mKuBf2zDYBtaE1LbT5dMz1bjXp9sU4Y3nXu7s9FP6r/05/zsAZgI/BtEK6Q5DE2gaCCZUNPxAW0i9SStHb0M/QD49FjlrMrYoZhznDowBHPUw6inhQdrt1LPQXc1Fy5vK8cuuzxTWed6n51nw5veU/hQF+wsFE2QZ3B3HH+geBBz5F8sTrQ9OC/AFT/+I9zzvUeeu4NPbhthr1kzVVdWp1kfZ8dxn4YDmN+xu8qT4K/5NAr0EKQakB84JVQzLDqcRqxZPH/QqVjbWPfc/Cz6hOqw3pzWbMyUwUSocIhAYMA2FAs34i/Cs6fbjAN+12hrXvNQd1L3VdNnr3o3lw+ze81v6IABOBSQKjA5UEgAVYhYlFlYUFREUDc8IgATU/4j6ePTx7Yjn8OGc3Y3alNiP16XXCNnT28nfaeQl6b7tVvIR99n7FQAjA/gEGwZGB7QILAqsC0QOfBMTHJ4mLzANNo83LzYqNNcy/TGRMHctISicIJsX3Q0MBPL6KvMI7R/o3OPq353cYtrT2R7bKN5X4iLnLOw88SL2qfrR/p4CKgYpCUoLIQzSC5QK0wiiBhEECgGr/f75K/ZN8qfuhesb6XjnieYp5j7m6eZq6MbqmO1O8KbytfTF9vv4WvuY/WL/qACpAagCqgOoBNYFzgcbC/cP2xWvGx8gjiJEIwwjfyLjIUchiSBJHwsdhBnpFNsPHAv3Bo8D4QDc/h79Z/us+Uf4gfdr97P3D/h0+Of4Sflh+S75uPgC+A/3FPYy9Xn0yPMa83Ty9PGe8W3xUvFo8cLxZPIt8wT00fSW9Uz2/fai90T47/jE+aX6Wfum+677ufsB/IP8H/2i/fH9D/4k/lL+o/4H/2f/w/8lAKUANAHZAaUC4wPDBW8IuwtOD4wSQBWFF5wZbhv3HGEezB/jIDkhoyAyH+kc3xlUFp8S9Q5tC/0HhQTbAPP82fjd9Fbxf+4+7IPqXuna6MLo4+hU6T/qpOtV7T3vM/EM85n07/UE98/3U/jt+MX5rPon+xT7efqU+a34Lfgf+Cz45Pc291T2jPUK9en0JPWf9Ub2B/fm9+P4FfqN+479SwDfAwIIQwwqEIwTZhbyGFQbih1cH50gTyGDISohCiDqHdIaGRcWE+cOkgo0Bu8Buf1u+fv0r/AI7XLq2ej956vn5uem6O3pvOsB7ojwE/OR9eX39vml+wf9FP7I/gD/1f59/lP+Sv4C/in9CPz9+iT6Y/nN+FX4rveV9j31DfRO8wTzEfNQ86zzJfS/9JL1vfZi+GH6yfzF/28DbwemC0cQbhVoGoAekyHdI3IlbCYdJ6onrSeBJtQjyB/kGqEVOxDiCsQF7wAK/Nb2gPGp7MzoROYU5R/lD+aq57/pPOwE7wvyTPWk+Nz7tP40AUcDywR3BV0FoQSJAysCqADh/sX8UvrV94z1k/Pd8WjwH+/j7aXsoOsf60zrBOz57OjtyO7C7wfxrvKj9Oj2fvlp/Iz/4gKVBggLXRA5Fqcb2R+hIkwkMSWaJcglxCUyJZQjrCCQHKkXeRJjDa4IXARJABn8sPdF827vl+wO68DqgOvs7MHuzvAJ82L12fds+gz9o/8DAh8EygXuBmgHUAeoBn0FygPAAXX/+fxC+nf3wPRN8ivwXO7P7HvrWuqC6RbpRukU6lXrvOwb7nXv+fDI8uD0NPe1+V/8HP/dAaEEtAd7C+4PWhQmGEwbAx4aIDQhRyGhIJQfSh7AHNAaVhhMFcQR+g0uCqMGYANdAHz9yfpX+GD2AfVU9EX00PTc9Tv3j/iN+Tn6vvpL+/v77PwA/vH+bf90/yH/nf7q/RX9HfwP+935hfj89mf18fPG8vDxX/Ht8ITwFvC675jv5e+p8MHx5/Lx89702PX/9lf44vml+6H9sf+7AcsDLgYtCc4MohBAFHEXLBo4HFUdcR3QHNcbzhqqGS0YIRZ1EzMQlwz5CL4FBwPLAL7+xPzv+mj5KPgy96X2tfZW90D4Dflx+WH5DvnH+MP4G/mk+SD6Tvoq+r35MvmV+PX3S/el9vH1JfUu9C3zTPK48XPxbfF68YTxe/Fx8Y3xB/Ls8hf0QPVD9iL3CPgV+Ur6sftT/Tf/KgEXAyEFlweYCjYOVhKnFnMaNB3VHpIfnB83H7QeRB6pHXgcbxqPFwwURxCbDEEJIQYLA83/evxP+Y72PPRd8gLxR/AY8ETwm/AJ8Y3xLvL28tPzuvSo9c/2G/g/+eT5IfoR+rn5/fgW+Dr3jfbt9UL1YvRJ8wPy0/D977/vHvDv8NPxcvK98gTztfP89N32KfnJ+4b+TQEtBIYHugsvEbwXmh5oJEMoOCoGK1crhyuxK6sr+ioRKasl5yBGG2wVyA9wCiAFkf+n+abz8e0F6SvliuL44E7gX+AS4T/i4+Ma5tzo1+vK7uPxP/W4+Ov70v5KASsDIARABJwDYwKNAEn+uPsg+ZL2CPRg8afuBuzD6Szohefj5w7pn+o17LXtS+9B8afzgfax+Sn9rAA4BAIIjwwvEg0ZvyBdKI0uhDJvNCw1hjXTNe01VTVyM7Mv9CmqIuAaihPcDHQGyf+S+NfwLulv4mLdJtqE2P/XSdgu2cLaH91m4IPkJOnU7UvyuPYr+4H/QANBBmoI3Ql+ClIKJQkAB+sDRQBO/E34VPSE8MjsCOlY5TLiA+DW3nrexN6q3xrhB+NZ5UTo8OuI8M71nfsCAnQJKxIaHIMmRjAmOJs9CkFJQ/lEKEZvRh9FnkGaO2wz9SlYIFcX2Q5IBhv9RvM86fjfcNhG0zDQpc4TzlrOfs+/0T3VAtrK3xnmceyI8oH4Wf7dA48IVAweDxcRDxLuEWUQjQ2ZCRYFXwDF+z73vfIt7rHpc+Wg4YTegdzF2wbc8Nxi3m3g+uID5ozp2e3n8qD4rP7oBHAL0RJrGyIl8C5zN409CkGbQjFDY0MeQ9ZByj53OcwxdiiCHu0UMQwDBMT78fK76d3gWdnD01TQss5zzhjPdtCY0sfVIdqW38rlQOyX8p34b/7wA/QIFw1YEK0SLBSZFOsT+xH0Dg8LyQZoAhr+z/mD9TLx9ezj6Bfl4eGp36Teht4B3xXg9OGV5OHnvesw8AX1Hvpd/80EfQqxEJsXPh8TJzAumzPyNpc4QDlfOfI4sjc2NSoxaitEJFccZRT7DCEGi//R+OPxBuvL5J/f29t+2XLYZtga2WLaT9z73n7iuOZf6ybw0PRY+aX9qAEkBQsIRQrkC8wM+Aw3DJQKLgh0Ba4CBABc/aj65/cq9YXyCvDb7SPsFuvT6krrPuyJ7S/vN/F38871Svj/+tD9jAAtA8EFRwi4CgYNKg8TEcgSYRTuFUsXThjUGNcYTBhdF1UWahVyFDUTlhGlD2gNBQu4CMAGDQVzA7sB2//j/QH8VPr2+PH3O/ey9j325vWx9Yz1ZPVQ9WX1n/Xp9Uz2yfZR98j3N/ik+BH5gfkT+sX6dfv9+3f8Af2h/Tz+0f5a/8j/BAAXAPb/i//V/gn+Tf2g/PD7Vfvq+qP6aPo9+jX6VPqc+hn7x/uE/ET9IP4p/zwAPwFDAm8DrwThBe8G5gfUCNQJ8gonDEgNFg5bDiIOrg1DDeUMbAyoC5oKYAkRCJ4GCQVyAwoCzQCQ/yT+kPwL+8P5r/i39+f2Uvbu9aT1evWF9dP1V/b99rr3mfiU+ZD6afsn/Nr8iv0o/rD+F/9Y/2P/N//p/qz+nP6w/r7+sP6L/mb+U/5c/oT+yP4i/4L/3v8zAIoA5ABJAcABTgLmAoIDJATQBHkFAwZUBmwGZwZpBn4GlwaaBnQGHAabBf8EYATUA2MD+QJ7AtcBFwFUAKH/9v5O/rD9Jv2q/DL8yvt7+z37BfvX+rz6u/rR+gH7SPug+/v7Ufyn/BH9mP03/tb+a//t/10AswDpAPsA9wDjAL8AfAASAIT/6f5R/sL9Q/3w/Nr88PwY/Un9kv3//Yb+BP9t/9f/VQDWAEgBwQFQAtcCOQOFA94DPwSOBL4E1ATQBLUEhgRDBOcDfQMVA8ACewIwAsQBSgH4APAAEwEwATkBQAFGAUYBQgFDAUYBRQE4ARoB7gC1AHQALADg/4//PP/l/ov+NP7n/aP9W/3//I78Evyk+1T7JvsZ+zD7XPuD+5f7qfvU+yP8g/zd/DD9nf0s/rn+Gv9Z/5b/4P8vAIIA3QBHAawB5QHnAeYBBgIrAh0CzgFiAQABsABdAAAAtv+r/+n/TQCeAMwA+ABMAcQBSwLYAnMDCAR1BKYErAS1BNcE9QTpBLAEXwT5A3UD2AI0ApYB/QBdALP/Dv96/vH9Zv3d/HD8Nfwr/Dr8Ufx3/LX8A/1I/Xz9q/3x/Ub+fP55/mb+bf6F/o/+kP6a/qb+o/6Z/pX+mf6a/pn+i/5m/hr+qv00/d38t/yq/KT8s/z9/Ir9QP7x/ov/HADBAH4BQgL5ApUDCAREBEkEMgQtBFkEpgTqBAQF7QSwBFsE9QODAxADpAI1ArkBNAGvACoAo/8X/5z+U/5R/oH+x/4T/1v/kP+u/83/BwBdAK4A1gDIAJ8AdABPACQA9//M/57/Y/8l/+v+sP5v/jP++f2v/U79+vzA/H/8Gfyu+2v7VPte+5L7Bvyz/Hj9Lf7G/ln///+1AGgBBgKDAs4C6QLwAv8CGQM0A0gDVANNAycD6wKhAkcC5QGSAUkB2gA4AKT/Vf8t//7+zf6+/sf+0/7p/hb/Sv96/7b/FQCaACkBpAHyAQoC/AHhAcMBnwF1AV4BaQGDAYMBVQHsAEAAYv+C/r/9DP1T/KX7HPu6+nT6S/pQ+oz6A/uz+4H8P/3W/V3++P6x/3gARwEWAtgCegP6A1wEpgTcBP8ECQXsBJ0EHwSEA+ECSQLAATMBggCv/9/+Qv7Z/ZT9Zf1P/Uj9Sv1X/XX9pv3y/Wb+Af+t/0UAugAaAYgBFAKpAiADaQOPA68DzQPZA7UDVgO3AtIBtgCV/5T+tP3l/Cf8g/v3+oT6NPoP+hf6Tvq2+kr76vty/Mr8Bf1S/dn9mP6F/58A1QHlApwDDQRbBIkEqATtBGsF1QXVBWYFugT1AykDbQLPAUcBuQAJADv/b/7F/Tb9vPxt/HL81Pxz/RH+kf4B/2X/lP+J/5b/CADMAJQBOgKxAuoC3QKlAnQCbQKKAqAChgI+AtwBZwHhAFgA2v9d/9P+N/6b/R/9xvxt/Pv7ifs++yb7OPt2++H7aPz3/Ib9Ef6P/v3+a//r/3kACwGfAScChAKfAo4CcgJeAlMCTAJDAisC+QGoAUMB2wCBADgA+//E/5P/Yv8v/wD/3P7M/uX+Pf/S/3QA9QBCAWYBcAFvAXUBkgHFAfQBAQLiAbIBjwF1AVYBLwEBAcQAcQAXANb/zf/z/w0A8P+f/0D/6P6i/n3+hP6n/sj+1v7M/rX+pv6w/tL+9v4G/wT/AP8E/xb/OP9f/3T/bf9U/z//Qf9Z/3n/n//X/w0ACACq/yb/yP6r/rz+6P4p/2v/k/+Q/3b/fv/g/5kAgQFaAvACHgPkAnECCALXAeMBCwIeAgECsgFGAd4AhwBHABcA7f+//5//tv8WAJ4AEwFHASoByAA8ALH/V/9U/6L/DQBRAEEA7P+R/2T/a/+K/63/t/+G/xP/kP4u/vr95P3n/Qr+Sv5//m7+Ev66/ab9wf3f/RL+ef76/mf/sf/k/wAA/v/g/8r/+P+EAE8BGgK8AiQDPwMFA5cCJwLhAc8B0gHEAZIBNAGsABgAwP/I/wgARABdAFMAGwC6/1j/N/95/wkAngDqANIAbgDt/4f/cP+w/xIAXgCDAHgAKQCY//v+kf5q/mf+YP5I/jP+Fv7B/Tj94/z+/DX9I/3j/Mv87/wk/VL9lP0X/t7+rP9GALIABgE4ATQBHQE2Aa0BcgI6A7YDxwN4A+8CXQL9AfEBJgJqAoQCTwLAAfcAPADa/+n/VADWACUBDwGKALr/7f6C/q7+Sv8MAMAANQE4AdIAZwBaALUARAHOASsCPgLqAS4BPwB//yb/Fv8R/wX/6P6Y/v39O/2h/G78kPy3/Kb8bvw7/BT89Pv9+2T8Lf0r/iD/7P+VAC0BrQECAjACXgK4AjkDqgPMA44DGQOqAlEC7gF9ATUBOQFPASQBrQAlAMT/mv+e/8T//P8xADcA7v9i/+L+yP43//v/xwBxAeMBBQLTAX8BPQETAfIA2wDEAIYAEACH/x3/4/7K/rr+qf6Z/oD+U/4D/pj9Lf3s/NL8t/yH/GX8bPx6/Gr8Vvx+/Pn8sv2B/lX/JQDmAHUBvQHXAQICcgIXA6oD+gMgBDkEMQTkA2QD9QLGAsQCqQI7AnUBfwB5/3/+uf1e/Yb9Df6d/vL+Dv8p/3T/9f+HAAsBbAGgAZoBVwH3AKwAmQDEABgBaAGIAWMBCgGaACoAu/88/6z+IP6d/Qv9cvwR/BL8R/x0/Jj82Pw6/a39Kf65/mb/IgDIADgBcAGWAdgBNAJ6ApACnAK4ArsCewIeAt4BtgF+ATUB4gCBACcAEwBVAJQAhwBMAAoAov/x/jj+0v3Q/QD+N/5g/nj+kP7D/g3/Sv9p/4f/yv8pAIIAugDSANEAwgCxAKAAiwCBAJoAzADbAJUADgCD/xz/3P61/pr+gv5j/jL+8P20/aD9x/0j/pT+Av9s/87/EQBEAKQAWAE0AvsCqwNRBNAEDQUlBUMFbwWGBWYFCAWBBNQD5gKhASoA0v7Z/Vj9Nv05/Rr9u/ww/K77XvtX+5b7Evyz/F799f1k/qf+zf7y/iX/cP/L/ykAggDIAOkA0QCLAEsAQwB5AM4AJgFkAWwBOgHyAMUAyAD4ADgBcQGRAYwBTwHrAJUAhAC6AB8BmwEKAjQCAQKWATQBAAEDATkBkgHuASUCGQK4AQoBLgBd/8j+hv51/k7+3f0j/VH8m/sk+/f6F/t6+wv8oPwa/Xj9xP0I/k/+sP4v/6j/3v+x/yj/c/7Y/Z392P1q/h3/xP85AFMADgCk/2X/h/8sAF4B+gKiBOcFjAayBsAGGwfXB8IIignmCZwJqQhHB8kFbgRdA6ACKwLOAUsBdAA+/8L9Tvw5+636kfqL+kb6qvnx+Ez4uPcc95f2XvaN9gj3pvch+En4G/je98r34ff49//34PeR90r3j/eD+Kf5YPqD+of61Pp++xL8yvyI/kcCBQgqDysXsR/0J6cuTjIpMuAuyCkvJOselhrPFkUSxwtOA/T5C/Hc6SHlU+Mr5NXm4uly7Jvu8/Cl86f2D/qt/egA2wImA9oBpP/h/M/5oPYG9Eby6PAU753sz+kY5/XkGeTF5JDmzugp6yTtGO7k7XXtu+3V7lnwGvJL9Pb2vPnQ+3D92f9sBDoL1RMDHr8pJTYuQYdI5UrsSD5ERz5qN4UvVibqG5MQ3ATV+b3wmeoQ53vlGeW95RHn5+j36nTtvfAI9fH5uv71AkIGVQjpCEQIrAZuBLEB3/4n/Kf5NvfW9KHyzvBq70nuL+0L7A/rkOq26onrvuwM7jfvSPDk8HTwq+437O/pP+hO52bn0+hR63LurfFs9XH6oQERC3IWbyOAMWI/L0sSUzhVzlDgRrM6BC95JBsaNA+zA7v3/euv4X3aPNcf2P7beOEf5zXsYvDz84X3rfufANkFlAq+DcYOWw3eCesEh/+M+pb2r/N/8XjvRO396iXpYugO6QbrsO1Q8G3y4fPu9L71g/ZM91P4Y/n2+Uv5Ovf98zTwl+zb6ZLozehU6nfsAe8B8lP2r/yMBcMQ6B1GLJc61kZ6TtBPrEryQEY1CCoKIOkWug3xA7P5j+/F5o/gE94h3wHjU+jw7dTyyPY5+tL9/QGGBukKNA6mD5cOFwuNBfv+ifhv80Dwwu4c7nfteexZ68XqZOtr7XHwxPPF9vf4IPoT+hH5pPev9pb2Hfdi9672nvRo8bjtjeri6BjpH+sp7qPxBPW6+Jj9twTCDusblSsLPIFKsVN3VaxPoUSoN8ArACLLGacRbQjO/Svy+eYP3nDZo9ks3jTltuzi8hr35Plv/L//AwS5CJcMdg5sDZ0JlwN7/IL1/O+k7FDrEevg6jPqMumk6FjpretU74rze/dk+uX7vvs3+vD3/fUF9QT1KPWQ9J7yZ++a61PotOZK5x/qT+748ib37/oX//0E1A07Gr0pgDpoSeNSl1RLTnZCqTQ6KIIe7hbDD2MHHP1C8Xvl59vg1jfXf9yf5CztG/S++KT7H/5VAZYFYgplDnMQsw9iDBcHyABr+gX1S/FP73vu/+1K7VrsxOs27ALu3PAX9Av3Pfl++pn6p/np9w/2rfQX9PHzovOK8pLwD+6l6w7qzuky69HtN/Gn9B/4AfxNAf4I3xMBIkcyRkKqTpxUx1JJSsM9XTAOJGAZpA/tBcb7VfGK53rfm9qW2aPcouIP6j7xO/fd+6D/MQPYBmoKEw0MDpkM2AhkA2792/co823vuOwa64fqxuqN68LsdO7P8Mjz7/a1+Z77pfzr/K786fux+gf5LPdb9ejz2PIC8ijxQ/Bt783un+4Z72jwSfKh9DX3R/of/k4DagoHFEAgKy6sO+JFgUqhSFlBvzYcK7sfDRXrCjMBE/jb7xrpHOSI4ZThYuQu6QPv1/Qe+rH+qAIzBjsJlgu4DDgMzwnpBQcByfus9k3yK+9z7dbsxuza7BHtuu0S7wbxRfNo9Tr3kfhl+Y75FvkT+N32uvXy9Hf0IPSf89ny4/EC8ZDwvfCd8ezyofSb9jH5uPyzAYQIkBHcHKApCTaYP1JEakPBPRU1XSu1IXIYWQ84Bi39kPQL7SjnrOPR4qLkUugE7c/xRPZB+vD9kQEjBWAIkgokC7AJgwYbAjH9V/g99ErxlO/k7u3uTe+j7+HvVfBq8TfzWfVI9574b/nw+VP6gvpw+gv6dPnA+Br4c/e39sH1lfRU8zvyifFX8bLxVvJo8w71vvey+1wBPwnLE6MgTC5uOp1ChkUnQ808IjS/Kl4hFBibDvEEZ/t28vPqieXq4ujiEOVl6CjsxO8k82z26vnW/eUBeAW3B1sIUgfnBGcBc/2G+Qr2LPMK8Zrvuu4m7rDtdO3L7RDvNfGq87b1A/f19xb5o/pO/ML9rf4E/83+QP5r/V/8D/t9+cX3I/bS9NbzTfMk863zDvWv9+r7YwKVC48XQCV3Moc8bEHfQBs8OzXeLckmqB/SF9AO4wTk+tjx1epS5nLkfuS65WXnQelH69vtUfHE9c76qf+zA3gGAghgCL8HKQbeA/cAoP0T+uH2XvRy8rHw5O417Qbsuutg7J3t3+7n7wLxpvIJ9dX3h/qn/B/+Av+L/7v/kf/j/rD9BPwr+nH4/vb29Sr1wvTu9Dn2JPmF/vMGeRK0HzksczXWOZw5WzYdMgYuFipIJbMeAxbtC6kBbvgq8Qjs0ei35inl4OMv43jjSeXN6L/tSfN3+MH8DwCuAsIERQbuBrIGdgVsA+UAi/6i/Pf65fgP9rfyqO+Z7aDsVOw27DLsjuy27env/vKJ9g/6Sf3+/xMCWQPQA3YDbQLlADT/hf2x+8/5JPhN96X3xflP/tIF2Q8hG7Ulvi0hMvoygzEjL7Ys/ikzJnQgrhiBDyEGm/1f9nfwhOtV57/j4ODf3kPeaN9z4s/mq+to8NP0FvlT/XkBHwXTByMJIwkFCFgGkgQaA6sBrP+C/Fz4EPSW8GLuHu067Gjr+up/62/t0/A19cj50P3yABoDdwQ1BZUFogVKBVAEjgIeAD/9jPqZ+Az4QPm0/KUCDgvxFLcekCZpK0gtGC0JLMgqYCkVJx0jBx1XFQEN+wTI/Vb3gPEe7EjnEuPK38Pdft0T30DiR+aB6rHu/fKT91T82wCDBOUGyQegB+QGMgaxBUEFHwSQAVb9N/hl87rvSO2I6wfquegK6HfoSepl7W/xuvWt+fr8a/8JATICowOFBSoHjQdHBs0D7QCK/kn9qv3N//cDFwqFEbcYWB7vIQokaiWeJsUnbijvJ6clkCEVHAkW+A/xCbwDNv2G9vfv9unS5PbgkN7M3X7eYOAW44LmqeqG78P0y/kb/lcBnAMUBSkGDgf0B2kI0gePBdIBTP3e+O/0aPHz7X7qaOdQ5ZvkNOXK5vvoi+tP7g3xnPMn9iL5hfyG/2kBUgLtAqUDrwRLBukIxQzSEXkXBR3TIXglnydRKPknCieiJXwjXCA3HFUXFBLADHEHFAKx/GD3X/LV7fjp6+bu5A7kReRQ5Q/neemV7DTwGvQV+An84P9HA/YFvQfrCLAJDAqICeoHOgXzAYD+Hfuv9yn0tPC07Y3rZ+ol6n7qT+uP7C/uAPDo8Qn0nva2+fb80f8BAr8DNwUfBnAGxgbuBwsKBw3gEKIVwhp2H/kiBCXEJbclMSVNJOcinSAYHYgY0BPBD2sMNwlwBdgAqfto9oTxW+0Y6tPnVuZ25SblluX15kTpNeyD7wzzv/Zw+q39JADiAXcDFwVvBrwGzQXXA2wBxf7u+8v4iPVi8ovvCu3z6mLpZegJ6E7oEOkS6lfrPO3+72Xz+vZZ+l795f/ZATkDigSqBkoKQw8DFfMajSAeJTUo7Sm4Kt4qdypkKWEnLSSzH00auxTDD50LrQc0A/b9UPjC8svtu+m15ojk/eLm4WHhquH/4lDlYujh65rvgvNn9w77R/49ARYE1wb1CPAJgQkjCEIGCwREAfb9S/qR9gTz8++C7a3re+r86SLqmuot6/7rZ+2f74LypPWn+Fb7oP10//AAewK6BBkIpwzzEVQXFxziH6oiliTDJVomfiYgJuckciLQHoIaLhZCEqYO7AqaBq8BofwK+C70HPG27tvsR+vm6ePok+gc6WrqMOw97o3wCfNr9Xb3WPlP+239b/8hAUICvAJ9ArIBegAN/3/95fs++pj49/Zr9RP0JPOr8nLyPvIW8hTyQ/K38qjzGPWa9tH3yPjM+QD7mvzu/kkCeQYMC3gPbhPEFqAZQhzgHlghaSPCJB0lUiSDIiAgnB0XG0sYyxRnEFkLIAYlAaT8mfjz9InxSe4465voy+bu5bbl1+VN5i3nYOi16TnrDu1P79bxavTK9vb41fpM/DL9vv0a/mD+cv5T/v39fP3N/A/8Zfvz+rn6mvpt+ir67fnp+TP6sfo9+7L7Evxg/LD8Gv3o/Wf/ugGKBHwHYgpIDRIQxhJ+FV4YLhuaHVgfSCBqIPgfRR9xHjkdOhtIGJcUkBCPDK4I6wQ5AZP93/kz9t/yKPD/7Tnsxeqw6fbojeh46Mjolene6pfslO638M7yuvRQ9pf3nPiL+W36R/vt+1H8Wvwi/Mn7g/tp+3r7i/t1+y/76vrR+u76LPtx+8D7I/yY/Af9kf2R/k8AlgISBY4HDgp1DL8O9xBRE9EVVxiGGhEc3BwHHbscHxw4G+AZ0xf2FH4RyA0WCnkG3QI1/3/73Pd09G7x3+7S7DTr+ukX6YroUuh76CDpUuoL7CHubPCw8r/0avbC99X4zPmz+qD7dfwQ/UL9Hv3P/JL8ffyO/Jj8e/wp/MD7XvsP+9X6rfqj+rv67Poc+3L7RPzf/RIAlgIzBd4HagrMDBEPfREpFPgWgBluG7ccjB0GHi0e+R1HHdEbbBk4Fo8Syw4HCyEH9QKQ/ij67vUN8qjuz+tv6Xvn8+Xx5H7kluQv5Ufm5+cO6qXsdO9J8t/0FPfX+GL63Ptb/cL+CQD6AGIBJQGaABMAuv9q/wT/aP6P/X38WvtR+oL5CPna+OX4CflI+cP52/rZ/ML/CwNCBjwJHAziDpoRThQQF68Z4BteHTAemB7hHgwf3x4QHmUcyxl1FsoSHw95C5YHLANA/jP5efRG8J7sdenI5ofktuJy4ejgLOEy4trjDObH6O3rN+9E8vL0QPdc+WD7af1b/xgBUgLhAr0CRwLFAUsBqgDN/6n+V/3j+2f6CPn290336vaz9q/2E/f095H5FfyC/1EDDQeCCuENRxGvFNwXqRoCHdweDSCKIIcgTSDjHwYfWR3DGo4XHBSPEOAMDQn7BGoAWfs/9qjxuO1J6jbnhORE4qLgxN+031HgbOHw4gTl7Oeb65TvO/Na9gf5g/vu/WYAzQLxBHMGJQcMB5EG+QVOBVkEEQN0AZD/d/1o+4j5vfcC9nn0fPM387/z9/T+9vP54f1VAuUGTwuwDw0UUhgzHJEfdyLJJBUmJyZsJWskISM/IasecxubFywTWg5/CekEhADg+8z2ufE07U7pzeWn4gPg9d2O3ObbA9zQ3CLe1t8P4iflFelH7RvxkfTq90r7hf6NAS8ENwZnB9wHvQdQB6oG5AXdBHcDpwGj/5/9rvvK+ef3QfYm9ef0evXV9t/4u/tZ/5QD/QdYDJEQyBTrGN0cbyCMIw4mtydCKLonkiYrJWcj9iDLHfEZWxUvEPMKBwZGAUz8+faX8ZPsJOgy5Jrged0G20nZRtgh2MjY39ks2wPd1t+04yPokuym8Hn0OvgP/L//FQO+BZYHhQjPCJ8IJwhbB0YG1gQQAwcB8v7x/Pf6Bvk79+z1UPWY9bz21PjP+6L/7ANjCMAMDxFPFYUZhB0kITEknyZkKGopkynfKHonoyVoI5cg6hxKGPQSWg3hB48CI/1w95fx/esD56biod4A21DY9NaV1qXWEtcN2JTZoNt03jXiqeY/65nvmvOF93D7QP+LAikF+AYUCIAIcQj3ByYH3wURBLUBBf9O/Mj5mvfP9XX0i/N28630jve3+4gAUwURCvEOPBS0GfEejyN+J8IqZS1SL1cwPDABL+AsJSryJh0jXx6oGD0Snws4BQj/wvhS8gzsW+ZM4abcU9id1PDRmNB60D7RmdJ01ObWEdoS3s7iDehn7ZzyhPdD/NIAGwW4CHkLTA2ADjsPjw9MD24O7wztCnMInQWcArf/Cf1r+uH3wfWA9Bv0bPRD9bf2w/h5+7/+hQKRBssKDQ9SE3oXYBvCHoAhnCNAJX0mOScwJyQmCyQ3ISQe9RpPF90SvA1hCB4D6v2T+ETziO616nbnSeQp4WveR9za2kzapNq320PdON+c4Yfk2edj69buGvIJ9ar34fnJ+1T9hv4u/0b/uf6v/Vr8/Pq9+af4tff09sX2mPfV+U79jwHyBUsKqg55E8YYTR5kI6YnBCu7Ld4vPzGaMdIwAy9hLAsp8CT/HzUaqROnDJoFvf4D+FTxzuq85FDfiNpM1qjS3M83ztHNes7zzwrSwNQO2OrbNeDz5PfpCe/S80j4cvx1ABYE/wYNCb8KZQzWDaUO2g6dDvgNwQz7CuEIxQa9BJECGgCL/VP7rPmY+Oz3rffe97H4Ifon/JD+WgFzBPwH5QsaEE4UQRi1G8wexSGtJB0nkijOKA0otybYJCAidx5dGlkWSxKvDVIIcAJy/Lb2cfGt7FzofuQZ4UneOtwB24jantor2w/cP92e3j7gD+IS5BnmH+j26Zbr9exA7qLvOvHn8n30EPYI+Pr6Ev8OBEkJXg4sEw4YOR2qIuEncSwSMOAyAzV+NhM3kDb6NIIySS9AK1MmfSDjGbISFwsrAx37GPNH67nje9yz1aTPnMrLxjLEucJcwjjDU8V3yHnMatFA16rdQeT96t7x0Ph1/5kFFwsNEGgUDxjLGrIcwB30HR8dUxvEGM0VhhLLDngKvwUOAbj82PhU9T/yt+8D7iTtEu2i7fbuLfFU9Af4B/xHANYEXwmxDesRNxZSGs4dZSAtImAjAiTXI9UiWiG/H+EdQxupF0oTnQ7yCUUFdACT+9P2SPL87Rjqwub2473hPuCH32bfn9814EHhy+Kx5OLmO+mu6xPuXvCN8sn0Hvdv+ZH7i/2R/9sBvwRzCOIMdRG+FaYZiR2IIYMlBynRK88tJi/QL7Evry7OLBoqtSbKImAeZBnFE6UNOAesAAL6NvNR7H/l6N6w2O3S0c2WyXLGdMSZw9DDE8Vpx+bKZM+U1CzaK+B/5vTsKfMN+ZL+xgNoCEYMJg84EZoSYxODEy0TZRIWETkPIw0FC7II7gXZAtj/KP3S+rT43/Z29a/0b/Ss9Gj11/bt+JT7kP7IASUFoggTDHYP3hJMFm0Z+xvmHVUfTyC+IIsg2h/xHuIdXRwHGuAWQhN8D6gLrgeBAzP/9frm9hTzh+9Z7KPpg+cG5h7lo+SA5MTkguW35kboHOog7DzuV/B38qb04fYh+WT7t/0pAAsDrQYuCyUQExWcGecdLCJeJuspYCzGLWwuXy5mLV0rTihlJNcf0BpuFdYPGwo/BEn+Yfil8gzthuc34kbdwti91HPRCs9yzafM48xTztfQJtQk2M3cGuLX59TtyfOa+fz+vAOgB9YKVg0HD54PQA8dDnkMbwo1CNYFVgO1ABr+uvu2+fT3KvZY9Nby//Gy8cPxPPJQ89/00PYl+f37M/+yAnoGkgq9DrkSWRaQGUscgx48IHQhCiLiIe0gRR8eHZYaoxdwFFoRlg7WC7kIOAWoAU7+Mvst+DL1ZfL57/DtNezO6sjpG+m/6MzoR+kT6v/qB+w07ZnuKfDY8YvzOfXX9mX48fmE+y/98v7qADoDTAZmCpAPPBXZGv8f0iSBKe8tfTGrM3M0KTT9MrowIS0jKA8iShsZFKAMHAXE/a721+9P6TbjsN3O2IfU3dDozdPLvMqgym3LF82tzzHTidd83OLhked87X7zi/lk/+MErQmRDWMQVRJiE3YTVxI3EF4NLQrMBlsD3f9p/B75IfaY85jxE/DM7rTt9ezf7HjtpO408CnygvRN93D61f1eARwFEQk6DWwRbRUCGRYcph6yICsi9SL4IjsizSDEHiYcBhmGFfQRig5vC5MI3AUeA3QAE/4S/C76RfiF9i31GvQn82/yKfJI8qHyKfPi88j0w/XK9tP34/jr+eX6uPto/Pr8j/0N/kD++f1X/ZH8xfvv+gn6SPn2+G35v/rw/OD/eQN2B5QLfA8TE1EWGxkVGygcuBwIHdAcwRscGjMY2RXJEi4PXwtrB1cDY//I+4D4d/W+8lvwFu68613pRefA5enkseQD5eXlWOdU6Zrr9O1d8CHzFvag+DP6LPv5+5r8nvwH/PT6lPn993v2N/U89HDz1fJx8lHyhPIg8wj08vSs9Vr2Pfdq+L75FPtr/Nr9ff9LATcDOAVkB8IJXAwkD/4RphQBFxEZ4xpGHBwdaR1RHcQcwBtdGsoYChc6FYUTHBLbEJMPHg6NDO0KRgl2B2UFEQONAOz9Qfu1+Gn2ZvSq8jXxCPAb727uF+4d7m7u8e6376DwYvHS8UXy6PKK88rzv/Ox89rzHfRO9G/00vTL9WT3cvnT+4X+egGKBGcH8AlDDHMOQBCEEXISVBMaFJUUvhTIFNoU6RSvFAQU9RKkEQMQAQ62C1UJ6QZhBKkBxf7O+/74jvaU9PryrvG88C3w8+/i7+7vGvCE8AXxWfFA8eLwaPDo71DvyO5p7kDuOu5z7gHv9+8j8UPyKPP78+n0AfYO9+z3h/j1+Ff51vl0+hz71PvG/Bn+tf9zAUQDNQU0BzQJKgsWDd4OdRDJEeQSxxNyFMsU5RTjFPMU+hTiFJ0UUxQRFNUTaROxEq4RfxAkD5wN6gsgCjoIPQYyBC4COABk/sH8ffu3+l76IPrJ+XD5P/ko+QP5zPiQ+FL4Afil90b39Pal9lX2/vW79Zz1qPW/9cn1vvXA9dX17vXw9e/1E/Z/9iv39ffP+NL5IfvB/Kj+wwAgA78FfAj/ChUN0A5REHkRFhIdEsgRXhHqEC0QAQ+TDS0M0ApkCesHgQYgBaUD+AEaACn+R/yH+tL4B/cI9ePywfDf7lvtOuxc67HqS+pi6hLrQ+yd7d/u6e/c8NPx5/Lr87X0KfVw9bz1NPbP9nv3QPhG+az6Y/xM/lAAawKFBKMG3ghFC6UN0A+3EW4T7RQvFiYX9hfCGJIZGRpGGlAacxpoGvwZVBmWGGYXhBUoE8sQdw7zCxAJCAZFAwkBGv87/Xz7APqX+BD3l/Vv9Jjz5PJE8qnxAfE38GLvo+4k7t/twu2z7dXtR+4g70PwofHs8tnzUPS79D31lfVW9aP02vNJ8+HygPI38mvyWfPL9In2sfhz+4r+oQGsBNIH/woKDs4QMhMRFYUW3RdFGXwaMRtFG/Aaaxq3GYwY6xYwFZITpxEKD/QL4QjjBdMCqP+f/Pf5wvfN9QT0nvLH8Ubx5PDC8PnwRvFU8TvxMfFG8WXxq/EL8lryfPK08j7zJvQK9Zn19PXI9jH4dvnr+ev5MPrk+qX7Ovze/Pv9u//IAcgDtwXEB88JsAtzDUAPBBGqEjIUlRWQFvsW6haMFt8V2BSAE+4RGxAEDrELUgkUB/oEygJoAP/92vsT+pX4Q/cd9i/1bPSm873yz/Ea8cDwrvDO8PnwIvFP8arxKfKq8vnyKfNg89DzbvQm9cD1JvZO9lr2V/ZR9jv2IvYX9kP2qPYr98P3mfjE+Rf7a/zW/Xz/PQHlAmEEzgU+B7MIEQpTC38MtQ3wDjIQcRGxEtkT4hTIFY0WDxdBFysX5BZeFnoVERQzEg4Q0A10C/YIZwYKBAsCbQD7/on9FfzB+p75ovi097r2rfWS9IvzsPIU8r/xvfHk8fTx1fHU8TXy+vK+8zL0c/QV9TL2NPd19yT30vbJ9u32Mfe096L4DvrO+7f9wP/wARUEIwZJCMgKjQ1qEDYT0RX8F40Zghr2GvEafBqcGVwYwBa6FDgSWw9tDJgJqAZgA9L/Uvwp+W32DfT98T7wxu5p7QLsqeqi6TLpbulV6qbrFO1r7tPvI/Hz8f/xx/HF8f3x+vGg8Sbx+PA18cDxWPIJ8+/zDfU+9m73efgo+Xr5yfln+kr7avz3/R0AlQImBdkH3wr9DRARKRSMFykb0x5DIkMliCfkKEQpvihxJ4glIiNWIB0dbBk3FZgQvwvwBkwC5/21+dH1avKm73ftxOtw6nLpp+jk5xnnheav5uPn++l67BfvofEA9Ov1NPfi92v4//h3+Y35jPms+cz5ffmw+Kr30/Zt9oj2Dffn9xz5sfqI/Fz+5/8FAcwBbQIMA6ADKASsBC8FeAWcBfwFIQcaCdALFg/oEhQXNRubHtog4SHaIccgyh5jHAgaxBdcFaoSjQ/bC4cHvALh/U/5S/Xr8TzvTu0W7FXr0epx6jbqCerc6dLpJuod68nsL+/08Z30vPZT+Fb5r/lh+ff4x/jG+JX4MvjC92n39PYm9vX0yPMd8zLz3fPb9Pb1I/dY+HT5Yvod+9H7jvyE/dX+7QAuBMMIQw5GFIca1yCeJkErWy7qLwgw5y7ILAoqHSckJNog2RwCGGkSFwxOBYL+SPjj8nDu4eo06FHmKeWR5Hzk2+S55RDn2ugT68XtC/G09Fb4XvuP/cz+Qf///k3+ZP2m/AD8G/up+fb3N/ZI9A3y/e+g7v7twO257fHtc+5M74PwD/Lk8/f1SfjO+mD9vv+WAckCZAPRA4YE8wU+CH8LrA+hFOMZ3x74It0lYyefJ78mFyUeIyAhHh/bHBYaiBbpETMMsQX6/pT47PI37pDq5+cm5hjlmeR+5MzknOUC5+voX+uR7lzyIPZQ+SD8sP6zAMcBSQKfAtcCgwKMAQMAKf4G/Kf5FPee9JXyFPHq79buwO3P7FPsiex+7RjvLvGi81/2QfkH/E7+9/8hAVoCJATfBo8KKw+UFI8aeCCoJZMpCyz8LJwsSit7KY0niCU1Iz4gdRy+FwUSbwtlBI39W/cR8p3t4em95j7kZeJY4Szh+OGZ4+3ly+gr7AvwKfQQ+Gz7ef5aAfQD6gVMByYIewj0B2oG6QPuANT9w/q099v0bvJ18LLu4uzv6gnpkOfd5hHnG+i96bzr6+058Jzy9/Q09zP5Gfst/db/VgPjB4ANBBTfGmIh0ibEKhQt6i2WLYMsICuYKcAnLiWVIdQc9xZCECQJLgLT+1n2qvGW7dvpfOae46vh5uCA4U/jCeZF6cjsf/Be9ET4/ft0/6wC0gWzCPUKLgxxDMwLRAq+B4oECgGh/Vf6J/cC9AbxUu7r67Hpk+e25XDkAuRm5G3l/uYL6W3r9u168P7yiPVV+Jv7sf/VBDILkhKAGjki+CgLLioxejKAMuAxBDH/L40uUCznKBok+B3lFn8PUQjKAQL85fYj8o3tDen+5Mvh+N+k373g7eLb5STpmuw58PTzpfco+57+CQJTBQAIvQlKCtoJdwg8BjcD4P+D/ED52vVI8qvuVetv6OnlruPj4crgiOAc4YHiguTB5vfoOuvE7bLw+fNp99n6Ef4YASgExgdxDHkSoRlCIVEo7S2MMTAzPjNfMjQxCjDBLucsCCrWJUogqxl2ElALtQTl/qz5vfTO7+DqGeb/4R3f5N083srfEeLG5MbnFOux7oLyWvYV+sf9WgGrBFQHMQkkClgKuQlMCAoGUgNeAFL9/vls9sfyYu9h7LXpQOcd5ZHj1OL94gXkseWm56Pppevc7VXwG/Me9mL58PwQASEGcgzZE7sbDyMUKXYtaDA9MlgzDDR2NFs0STPfMPQstyeJId8aMBTQDdEH4AGv+yb1k+5c6BfjOd8B3SzcSdzn3O/dft/N4enkqujG7APxXvWy+c/9XAFJBIkGOggoCToJUwjEBrwEWQJ5/zX8wPhs9UvyT+9Y7IzpNOea5d7k8+Sf5Y3mjOes6B7qAuxs7lHxpPQf+JP78v6XAgoH1wz1E9cbbSPQKXsujzGEM+M06DWLNoc2cjXlMr4uUikfI4MczhU3D9QIaAK0+630uu1u53Di+94M3UTcRdyv3IXdCt+L4fzkCelS7ZDxtvWy+YX9AgEeBKgGkwiSCYkJawikBnIE/AEW/877S/jR9HTxMu4B6xHoseUg5G/jguMZ5Onkz+Xn5mzokepy7e/w3PTo+ND8bwApBK8IpA7fFYcdYCScKR4tVC+9MMcxqjI3M8QywTA6LZkoTCOnHfAXSxKMDIMGHAB/+ePyuux454nj9OCJ3+TexN4J3+ffnOFV5Ozn/esc8AP0vfdZ++j+SgJvBRcIDAoJCyALdwppCQ0IZgZKBMQB5f7J+3n4E/W08ZDu3OvN6XLor+dH5/nmyuYI5w/o8umh7PTvufOO90b7AP8eA9wHVg1kE7AZkx99JBkoaiqnK0ksySxLLWwtiCw2Kp8mTCK7Hf4Y6BNbDogIuAIp/eL35vI87iPqxuZV5NriSeJq4hLjKuTD5fDnp+q+7e3w/vPs9vj5/Px8/xUBMQI0AycEpQScBDEEogOwAvUAW/6d+2z5yfc09nX0mfK78AHvyO0+7UTtnO0l7sPuU+/N73HwkPFE83H14/dR+nb8Vv5GAJYCKQW4Bw0KLAweDgEQ8xEMFCoWLRjeGR4byRvfG28bwxobGo8Z2Bi6FyoWcxTBEhERHw/GDBIKagcuBYEDGAKdAOT+Cv1C+8r5zPg2+LP3+fYG9hP1YvT888fzmvNz817zavOH87nz9vNA9JD09/Rc9aP1u/XJ9df1zvV39eT0XfRL9Lf0WPXU9TX2rPZR9xL47fjh+er64vup/Df9tf1F/tr+Yf/z/7AAlQGdAtUDSAXJBiEINwkXCswKdws0DAgNwQ09DnwOpg7GDtUOrw5NDrMNEg2MDDEM4AtgC24KGgmzB38GZQUmBKUC9wA8/4/9EPzB+of5SfgQ9/j1IfWL9CD0xPN480fzQPNR82/ziPOi88PzBfRY9Kv0BPWl9ZX2g/cg+Jr4NPn1+b/6qvu8/ML9ef7o/kf/xP9eAPIAfwE/Al0DrwTvBf0G3geJCP8IVwm5CS4KpAr2ChcLEwsJC/EKxAp5ChYKjgn8CI4IYghICAIIewfUBi8GmgUEBVQEfAOCAnABYQB5/8L+G/5f/ZP80vs0+7T6Rvrg+Yv5RPn/+Kb4RPjn95z3Xfcs9wf3+fYC9yf3WPeF95/3uPfg9yj4kfgg+cb5a/rz+l77v/s1/Mj8af0B/pD+I//E/24AHAHHAWgCCAOvA2gEMwX+BagGIAdxB6kHtweXB18HLAf8Br8GbAYUBsgFmwWHBYAFdAVqBW8FkAW6BdgF2wXJBacFfAVFBfoEhgTsA00DygJjAgkCrQFEAbUA/f84/4X+5/1T/cb8P/y8+y77lfr5+XD5/PiT+DH4//cR+E34h/i++PH4EfkQ+RL5O/mP+fP5Wfqy+vf6MfuE+wn8uPxy/Sn+4/6x/5IAdQFEAv4CnQMRBEMEOwQUBOcDvgOTA2EDKAP0As8CwgLKAuYCDAM8A3IDrAPeAwAEEQQUBAME6QPZA9sDzwOnA3cDYgNkA2YDVgMsA+ECbwLXASgBdADN/zP/mv71/UX9kvzr+1r72vpm+g/6/Pkt+mb6cfpe+kr6Lvr8+eD5A/pd+sH6Hftr+6378/tf/P38tP1b/uP+ZP8AALwAdQEGAm0CvQICAzYDVgNsA4UDpQO9A7cDhQM4A+sCsAJ2AjgCCwIIAiICRAJoApkCzwIFAz8DgwPGA/oDEQQNBPADygOqA5UDdwNJAxoD+wLmAs0CswKbAnYCLQK3AR0BeQDe/1T/0P5A/qX9Fv2a/B38j/sG+6z6mvq3+s36wPqt+q36tvqy+rb66vpa+977R/yO/Oz8jf1g/i//5f+HABwBmAH9AUsChAKiAqACcAIKAnwB5QBeAOn/gP8v/wb///4S/z3/ev+x/9b/9/8uAH4AzwAKATEBYwGzAQ8CXgKcAtQCBwMsA0gDZAN7A4wDkwOBAzoDtQIPAm8B4ABXAM3/Rf/M/mL++v2L/R/90Pyv/LL8vPy9/L38yfzd/O/8/vwf/WX9wv0M/jn+ff4O/9//wQCbAWMCCwOJA+IDIgROBF0EPwT0A44DHQOWAvUBSwG1ADcAyP9d/wT/yP6r/pn+gP5h/k/+U/5q/ob+oP66/uL+Kv+S/w0AjAAAAWgBxQEUAlUCiQK3AtkC3QKrAkMCuQEvAbEANwC6/zz/z/5z/hz+uf1M/ef8m/xt/Ez8J/z6+9j7yvvF+8T73fse/HL8vPwD/Wb9BP7T/qz/bAAYAbIBJgJtAq8CDgN2A74D2QPUA7gDhgM/A+oCjQIuAsQBTAHNAFoA/P+6/5r/lf+R/3r/T/8s/y//WP+C/5r/u/8HAHQA3AAvAXMBqAHMAeAB7QH4AQAC+AHYAakBcgEvAd4AjABDAPz/rP9d/xz/5P6k/lP++/20/Yz9d/1h/T/9H/0W/R79Hv0R/R/9Y/3C/Q3+Rf6I/uj+Wv/J/yEAYgCWANYAJgF1Aa0BxQHEAbYBpAGRAXoBWQEnAeQAlwBKABAA/P8JABwADwDW/4n/VP9S/3T/of/S/xMAawDTAD0BjwGyAaUBiAF9AZEBrQGoAXIBIQHWAJUAUgAOAND/kP9Q/yH//P60/jz+0f2k/Zf9hf2L/cT9CP4e/hH+Fv5K/ov+mP5u/mL+r/4k/3H/kf+9/w0AawCxANQA6QAPAUsBiAGyAcQBxQG6AagBkQF1AVQBKwH1ALUAgABwAIEAggBZACYAEgAWACEAQQCIAN8AKQFnAa0B+AExAj4CHQLlAb0BuwHWAfMB8wHEAXABDgG1AGsAJQDS/2r/+/6V/jv+6/2r/X79Vv0y/S39T/18/ZP9mP2p/d79Hf4x/hL+BP47/p3+7P4h/1f/lf+9/7v/k/9m/2X/sv8uAI8AtADJAPcAHAEKAdcAwADWAPMA5ACiAFkAMgApAB8ACQD2/+n/4v/g/+r/BAAwAF0AgQCjAMsA8gAIAQUB9gDuAPoAGAE4AUYBPAEhAf0A0QCnAJUAowCwAJoAXQACAIv/DP+//sL+8f4S/xP/Af/j/sH+tf7L/uj+9/4A/w7/F/8L//b+9P4S/z//Xf9d/1j/cv+2/wgARgBWADcABgDu//j/CAAUADQAdACrALIAnwCXAI8AfQB+AKcAzQDBAIcAUQBGAGAAeACJAMUAPgG2AesB9AEKAisCLgIBAroBdQFDASEBBwH8AAIBBQHyAMgAmABmAC8A6f+X/1D/HP/n/rH+qP7S/t3+o/5w/ob+pv6D/kH+O/6G/tz+8f7D/qP+yf4N/zL/Rv9y/6f/sf9+/zT/Df8w/5b/AAAkAAAA6/8MAB4A+f/6/2AAvQCcAD4ADQDx/6v/aP9r/6L/zv/X/9D/zf/Y//P/FgA8AHIAzQA/AZEBngGEAXMBcAFgATQB9QC2AIMAYQBMADwAKQAJAOT/0v/Z/9v/uv9w/xf/zf6O/kX+/P3j/R/+nv4Q/y3/IP9x/0wAJAFsAU0BMAEMAcEAkgCwAMcAiwA0AA8ACADm/6f/lv/v/38AswBdAAwAJAA0AMv/Tf9C/2n/Rf/v/sn+3v4H/0L/iP+x/6v/qP/c/0EAoADEAKoAfgBoAHAAfAB0AGgAeQCrAMwAugCMAHUAggCXAJoAhwBrAE4AMwAKAM3/kv+H/7T/5P/b/5X/Rv8l/0P/jP/d/yAAVQB9AJQAmgCTAIIAdAB6AIMAagA0ACEAWQCsAL0AYQDk/8r/JwB8AGoAQwBsAKsAiAAKAI3/Rf83/1T/ev95/zf/vv5P/jz+nv4p/4//0/8PADYATACbAC0BgQEyAYkA/v+m/2v/Z/+z/xwAPwDj/1H/MP++/24AsgCuAMcA7ADPAHYAFgC+/4T/oP8FAEAA+/9s/wH/3v78/mL/DADEADsBVAE6AUMBjgHWAcoBbQHlAEUAp/9G/1L/qP/j/6z/H//E/vf+hv/7/xwAAADE/3D/Ev/B/pn+oP6w/p7+b/5C/ij+Jv5B/nz+zP4y/8X/awDVAOEA3QADARYB1QB7AEcAAgCH/zX/Vf+J/4L/k/8KAJgAxgCtALYAAAFSAWcBJgG3AEgA3v+B/2j/mf+m/1z/J/9v//X/WwC8AE0B4AEgAgsC3wHOAcsBmgEXAXEA4v9z/yL/Cv84/3n/jP91/23/o/8SAIcAuwCCAPb/Z/8L/9r+s/6V/o7+mP6m/r/+9v5K/7r/UADwAFMBYgFfAX4BlQFpARkB5QDRALMAegAnAL7/Y/9U/6L/BAAzACoAIQBGAIoAvwDGALEAmABvAB4Atv9g/zP/K/84/zv/F//f/tH+E/99/9j/GABJAGYAZQBiAGYATgAJAMX/mv9h//7+qP6j/uj+O/90/5z/zf8XAGsArADNANMAvwCOAEoAAwC//4v/ev97/2H/HP/b/tn+G/98/9b/HwBdAIsAngCiAMQACgEzAQIBjAAaAOX/4f/V/7z/zv8iAGoAaABZAJ0ALwGxAdcBnAEvAcoAhwBGANb/Qf/S/qn+iv4//vb9B/58/hf/mv/2/zwAhADIAPUAAAH7APcA6QCsADUAtv9y/33/wP8SAFcAdAB3AIwAzgAvAX0BiAFKAekAfgAAAGj/0f5q/kX+Rf47/iX+M/6G/gT/cf+s/9H/CgBOAFwAGwDO/73/1v/X/63/ff91/5z/1v8WAHUA9gBdAXcBaAFnAXUBaQE0AeAAeQANALb/fP9P/yv/Jv9F/2b/cP9+/67/7v8WACUANwBnAJ4AogBhABgAAwARAA4A7v/K/7H/sP/b/zIAlQDcAPIA6wDzAAkB8QCVADQA/v+5/zL/nv5X/mD+hP6e/r3+AP9m/8P/9/8TAEAAfQCoAKwAiwBUABkA6f/E/6P/hf91/3X/ef+B/6j/9f9AAG8AlQDMAAABCwHpALYAkQBxADIAzv9x/0P/Mv8l/y//cP/R/yQAVABzAJ4A4gA0AW8BdQFBAekAigA4AO7/mf9F/xf/Iv9B/07/T/9p/6j/9P8pAD4AQQBBAC4A8f+M/yX/5P7S/tX+1/7b/vX+Kf9w/8n/LgCLAM0A8gACAQUB+ADRAJUAXgAsAOT/ev8h//7+9v7e/sT+zf7//kb/lv/e/wAAAAATAEoAbwBNAAAAzf/I/9b/1//F/7b/xf/8/0cAkADKAO4ABAEYASYBIQH7ALoAeABKADcALgAWAOD/lv9Y/0r/dP/J/y8AigC/ANAA4AD6APYAuQBnACkA9v+5/4j/fv+Q/5//qP+8/+D/EgBUAJUAvwDFALYAnwCCAFYAFwDT/5//ff9d/zT/E/8T/zj/bv+j/9D/9/8gAE8AegCVAJoAjABwAEoAIQAEAAAAEgA1AGEAmgDgACIBPQEjAfMAywCsAIoAcABlAFMAJADg/6T/gv9w/0//F//f/s3+8v4r/0H/JP8F/xT/Rf9z/5b/sP+s/4L/Wf9U/2b/cP9m/13/a/+I/5D/g/+W/+j/SQB9AIgAjgCZAJkAjAB7AGsAWAA8ABgA9//i/9L/xv/N//T/LgBrAKMA3gAmAWIBXQEHAZYAQgANAOD/xf/A/6z/cP8v/xz/PP9q/37/c/9m/3X/nv/F/9L/wv+e/4H/kf+6/7D/U//l/rD+q/6j/pr+q/7V/gz/Wf+y/+j/8v8FAFEAtQDyAPcA4QDIALUAqACYAH4AZwBvAK0AHQGXAeUB+QH4AQgCHQIaAgIC5AG7AYUBWgFCASEB3wCVAGMARQAqABIACgANAAoA8v/K/6P/jP9+/13/Ev+q/k7+Hf4N/vr91f2y/bT93/0W/jP+Mv4r/jL+RP5T/lb+WP5n/ov+t/7f/vv+Df8p/2L/s//7/ywAYgC4ABwBZwGNAaMBxQH2AR0CIwIQAvYB3AHFAcUB7AErAmkCkgKtAsUC5gILAy0DPwNCAzoDKgMLA9cCiQIoAsABVgHkAGYA5f9q//v+kP4p/sD9Tf3N/FH85fuI+y370vqD+ln6VPpi+nD6iPq7+gr7Z/vK+zX8rvw1/cL9Sf7D/i//lf///3AA4wBQAbIBDwJzAuYCZgPiA1UEwwQvBYYFvgXgBfwFBAbwBcgFoAV0BToF7QSTBC0ExANkAw4DqQInApsBFQGLAPD/T/+z/gj+Of1W/H37xPog+nj5xvgp+LD3Uff49sH2w/bv9in3d/fd90n4ovj7+Gj57fl5+gr7nfsw/Lr8O/3A/Vz+Fv/b/5kAUAERAusC4APeBNwF0gbGB6oIcwkSCpIKBQuGCxMMpwwsDZwN6w0gDkQOVg4wDsoNOg2NDJkLQAqmCAQHYQWaA6QBi/9f/Uv7jfkH+EX2IfQl8sXwzO/C7rDt5OyA7E3sHuzx6wzsmuyF7YPug++a8PDxgfM99Qj35PjS+sX8r/6aAJIChQRwBmQIgQq7DPQOABHhEqcUXBbXF/sYvRk2GmYaMxpyGTkYxRY/FXYTKhFWDlYLhQj6BXcDswCm/aP6Dfjw9fXz4/Hq71juLO0x7GTr4Oqx6srqJuvA66Hsxu0z78vwd/Ia9K31Kves+B/6Yvt1/LH9H/9XAPMAMAF5AeQBPAJoAncCewJ1Al4CNgIUAhACHQIpAisCMgJDAl0CcQKLAsECMAPLA3oEJQXWBZYGawdDCBEJwgliCvIKZguQC3ILPQsjCw0L0gphCtoJUgnMCDAIdweoBtcF+gT/A90CowFhACn/BP7w/OX77fom+pT5Dflm+K/3EPeg9lX2K/YZ9h32MvZf9pL2t/bO9gf3dff592H4tfgR+Yb5Cvqa+jb73fuB/BX9pP1d/lb/agCHAdACUAS5BdQGzwf1CDYKTAsBDGUMpAzWDOAMqgw+DLkLEgs7CjsJKwgUB+sFmAQyA/QB9AD2/8n+lP2X/Mn7/fom+lf5ofgA+HL37vZx9v/1t/WG9Tz1xfRx9Fv0OvTN82zzVvNR8wPzp/KJ8qDyqfKw8tPyH/OB8wT0qPRi9S/2KPdZ+LD5G/uh/En+9/+ZAT8DCAXpBswIlApIDOsNhg8FEV8SihOSFGoVERZ5FrAWsRaGFiEWhRWrFKYTexI1EcMPJg5nDKwKAwlwB9YFLAR7At4AWP/l/Yr8Qfvt+Yr4SfdK9nT1oPTb8z3zy/Ju8jHyHPIx8lzyofLz8knzmPP282f05PRc9eb1fvYU95T3H/jL+JD5TPoB+7v7ifxa/Rb+sv5Q//3/ogAlAZsBGAKDAsMC6wIaA0wDcAOAA4sDkwOXA5MDiwOFA4QDgAN1A2QDWANNA0ADMQMjAwsD7wLiAu8C/QL9Av4CDQMQA/QCywKvApYCawIwAvYBuwF7ATkB+QC1AHMAQQAqACAAFAAEAAAADgAiACkAHAAJAAAA9//f/8T/sf+U/2r/Vf9l/27/ZP+E/+z/UgByAHUApgD2ACsBOQEzARwB8QC7AIMARQAFANL/wP/W/woASgCKAMkAAgElASwBKwEtASEB8wCxAG8AJADJ/3D/NP8S/wL/Dv85/2b/iP+2//7/NwA7ABMA4v+x/3f/OP/1/qb+Vf4l/iP+Mv5C/nT+6f6M/xwAdACjANsAKgFnAV4BGAHCAH4AQgD8/6j/Yv9J/2L/nP/p/0QAqAAGAUsBbgF6AXkBYgEmAcQASQDI/1X/Bf/d/sz+xv7W/gf/Sv+N/9f/KQBvAI4AhwBoADMA5f+C/yD/2/6w/oH+Rv4l/jv+av6M/qz+5f4u/2f/g/+I/4L/eP9m/0H/AP+t/mb+Q/5F/l7+gv60/gD/Zv/b/0sArAD6AC8BQwE4ARUB5ACtAHQAOwAJAOX/0v/U/+7/GwBPAH8AsQDoABMBLAFCAVMBPQHpAHQAEQDX/7H/gv9H/yH/J/9F/2n/rf8nALoANAGDAbQB0wHVAagBTgHlAIYALgDM/2L/C//f/t7+7f4C/y//fv/R/wwAPQB5ALUAzQCsAGAACQDB/4f/Vf80/yr/Kf85/4P/EQCiAA0BgAEeArIC7gLZAqQCYwIDAoMB8ABYANP/df87/wn/2P7D/uP+Jf9n/6P/5f8qAFEALgC1/w7/cf76/Z79Uv0a/QL9Hf14/Qb+ov46/9z/jAAvAZkBxQG/AZYBTAHuAIYAFwCs/1n/Kf8X/yD/T/+z/0EA2wBiAcwBIgJjAnYCRQLcAVsB1gBTANL/Xv8O//T+Ev9b/7//NgC1ADcBvAEuAmMCSwIQAtYBjAEUAXkA5f9r/w7/0f67/sz+Af9U/7H/AAA/AIcA2gAJAecAfgDw/0//oP76/XT9EP3P/L383Pwe/Xj98f2I/hv/if/S//3/+//E/3X/Jv/R/mv+Df7X/dX9+/07/pf+HP+//1MAwQAmAZwBAQImAhAC3QGaAUEB1gBvABwA5v/I/8L/0v8EAGIA3wBZAbkBAQI5AlUCRAIGAqsBRwHdAGsA9f+M/0b/Jf8g/zP/ZP+s/wAATwCQALUAygDqAAoB9gCSAAkAlf83/9v+gv5H/jz+VP54/qP+8v5v//L/SgB1AIcAhwBqAC4A3v+C/yn/3/6r/o/+kv66/gj/cP/k/2YA+ACIAfkBOQJGAicC5gGRAS8BvwBIANv/iP9P/zT/Qf9//+D/TQC2ABEBWQGKAaQBoQF+ATkB1gBjAO7/ff8X/73+c/5G/kD+ZP6n/vj+T/+p//z/QAB5AJUAdAAQAJr/Of/o/pD+QP4Y/h/+R/59/sD+If+g/yUAkwDlACMBSwFQAS8B7wCeAE0ACQDd/9L/5/8NADoAawCqAPwAWQG3AQECJwIgAvMBrAFQAeQAcAD+/5X/Pf/7/tX+zP7f/gn/Q/+H/83/CQA2AE8AUQA3AAgA2/+4/5D/V/8h/wX/BP8R/yX/R/95/7T/7v8ZADMARQBnAJMAogB5AC8A4f+Q/zL/1v6e/pn+tP7H/sr+3/4m/4b/3f8lAGoAmQCcAH4AVQAuAAQA0v+Y/2v/Vv9T/13/ef+w//L/JwBGAFMAXQBpAHAAYwA8AAQAzf+j/4z/gP90/2v/cP+N/7r/6/8cAFAAggCoAL8AzADSAM4AugCVAGYAOgAXAPz/4P/E/7H/s//S/wQANwBmAKMA9AA4AVIBSwE+AS8BDgHSAIYAQQANANv/p/+R/67/3/8GACoAZQC2AP4AIQEjASYBOAE4AQYBtgBuADMA8/+n/2v/Yv+O/77/1//9/04ApwDRANIAyQC1AIcARgD+/6z/Tf/o/pb+b/5z/ob+n/7g/lX/0f8mAGwAvwAOATABIQH2ALYAWwDp/2z/+/6s/ob+gf6P/rX++/5k/9v/QgCMAL4A6QAIAQUB0QB+ACYA1v+H/zP/3f6L/kv+Lv48/m/+t/4J/1f/lf+9/9b/7/8OABsA7f99/wX/wP65/sT+tf6P/n3+n/7t/kr/rf8XAIIA0ADuANsArAB6AFQAKwDk/4n/Wf93/7r/7P8JACcAPAA2ACAAKgB+AA0BhwG0AbMBsQGeAWABDwHXALYAjABOACMAQgCpAAkBLQFDAYABvwHEAZsBeAFsAVoBIQHDAGwAMwD2/5//Xv9l/5n/zP8AAEYAfQCHAHoAawBFAPL/jP8z/9/+fv4k/vX9//0y/nj+xv4l/5f/BABWAIwArgC6AKgAfgBHABIA4/+7/5v/h/+H/5//wf/S/8L/o/+Z/7X/+/9iANMAJQFGAUcBMwH3AIIA8/90/xf/1/66/r7+0P7w/jj/tf9FAMIAIgFcAVQB/QB+AAcAqP9U/wn/2P7W/vf+Df8D//z+Hf9T/4X/xf8XAFMASgANANn/0v/T/4H/y/4T/r/9yv34/Tz+r/47/8n/XgD7AHkBxgEHAlMCgwJnAgsClgEcAZ8AMwDu/8P/p/+W/43/gv+O/+T/lABoAfQB8gGeAZgB7QHPAb4AXP9s/r/94vwb/PP7Wfzu/Jn9dv6H/6YAmgFDArQC6QKsAv8BYAEoARYBzQBoACUA9v+9/6j/BQDNAK4BVgKgAqkCvgIfA6IDzwNZA3ICigHgAFkAv/8T/5X+av5g/j7+If47/nf+q/7b/gz/Ef/W/oz+XP4t/tL9XP39/Nn85Pz9/Bn9Tv2m/f79O/55/tn+Sv+j/+D/DAApADQAPQBCACQA2P9+/0T/Lv8q/zj/Xf+Q/9D/KgCRAMwAvACDAFoATwBEACUA+P/S/8L/xP/M/9f/7v8NADEAVAB7ALEAAgFsAeABTAKTApsCcQJDAi4CHQLjAXUB9gCVAGYAWABIACAA9P/g//P/GwA9AEYAPQAzADAAKQAcABcAGwANAO7/6f8rAJ4AAgEqAScBJgFHAXoBjAFeAf8AngBdADcAEADS/4X/Sv82/0H/Uv9U/03/VP92/6j/0f/g/93/3P/h/9//3P/3/0IAowDiAO0AAQFsAS8C8AImA5UCwwGdAUACsAIEApIAYf/i/rH+Rf5c/RT83/ol+ub5zPmM+SX52fjj+ED5zfla+sn6JPuX+y78yfxZ/QD+yP5p/9j/fwCtAQEDAAS1BH4FdAZoByMIjgiuCK0IrwirCHII7gc+B6IGOAbaBTsFUwRpA80CcQIKAm0BmACe/5/+zP0a/T78EvvX+eP4SPjY93L3Gffh9uD2I/eb9yj4s/hG+eb5i/oy+/n70vx2/b397f1O/sv+Lv91/8v/QQDHAEEBvwFyAmoDXwQcBcAFggZLB+QHOghmCHIIawhkCGwIdgiBCI4IoAicCG4IGQi5B14H/QZwBpcFcwQmA80BeAAv/8X9+/vs+Sr4/fb/9bv0bPN68uXxbvEj8RzxPvFF8SzxGPFH8dbxufKo82b09fS39ev2bfjv+WT7zPwH/iP/fwBRAjoEwQXYBtoHEAmiCnoMWA7aD+QQmhFqEpgT/RT2FSkWyRVaFQgVnBTCE10SjBCSDp8MwgrsCPcGtAQRAjP/XfzI+XL3KvXR8o3woO4x7TPsjeso6/zqFuuI61XseO2+7vLvHPGd8qT0/fYU+ZX6nPuh/Nz9Kf8VAH0AkgC/ABUBUwEcAXAAfP9g/ij9/vvw+uP5yvjV90b3IvdT99H3mfh3+ZT6Yvz0/ooBvAMDBgUJdAyYDygSbxSjFtMY1Rp4HI4dFB4QHpYdtxxyG6oZWBeUFJARaQ4mC8EHMwR5ALX8G/nZ9efyMfC07ZDr5Om/6Bro5ecW6Kbohumv6izs9e3u7/LxCfQ89o/41vrr/Kn+GwBQAVUCGAOcA9QDywOFAyMDoQLuAfMAv/9y/iz9+vvc+s/51fgF+Hz3Sfdb96b3H/j++H/6rPwg/5wBNwQ2B4EK0w3pELYTLxZgGEQa1Rv4HJYdlh0GHQ4c0Ro/GTMXmBSFER4OjwrzBk0DkP/E+xH4qPSb8eruk+yd6gnp2+ca58nm6+Zw50nobunz6tDs6O4C8Qjz7vTK9pH4RvrH+xD9Gf77/rH/PAB9AGsAAABd/5j+1f0J/R78Cvvy+RD5hvhJ+C34Svjo+Fv6ifwp/+YBxATTBzULxw5JEmYVEhhmGoMcVh6sH1MgWCDoHx4f1x39G6cZAxcQFMcQOg2QCdEFAQIu/m76z/Ze8zDwVu3c6sToFefV5QrlteTg5HnlY+aB59rodOpR7FHuY/Bv8oL0lPar+KP6bfzs/Sn/LAATAc0BQgJbAjkC/QG2AU0BtgDt/wT/F/4//YL80/sn+376+Pm6+dL5HPqJ+iv7Qfza/eH/FAJUBJEG6AheC90NJBAlEvUTuRVQF4YYRBmnGcsZtRk/GUQYsRapFFUS2g8+DXkKfwdoBGMBkP7h+0n51PaZ9Jfyy/BB7wvuI+1+7CLsHex87CHt4u2g7nXvdfCb8cHy6PML9Sv2NPc2+Cf5+/mK+tL63vrb+tX6yfqV+ir6rPlm+XX5rPnn+Ub6O/sI/Zb/bQI8BfkH7QoxDpkRuRRWF24ZNRvAHPIdjh6OHh8eYh0pHFsaKBjZFWMToxCcDW0KEweQA/z/dvwJ+bX1gfKD797spurf6H7nieYO5hnmn+aO58roQurr68vt0+/58R70NPY5+Ev6Yvxq/i4AqAHlAgwEDwXDBQUG/AXKBW8FyATjA9YCsgFyACD/0v2m/KX7uvrk+Ub5APn1+Az5T/nr+eD6I/yi/VH/CgHDAoEEUQYUCLMJJQuBDMUN9g4SEBkR7hGQEgsTbxOcE2kTvBKoEU8Qyw4dDTwLIwnpBqcEbgI8ABD+9Pv3+Rr4W/bE9GXzSfJo8bfwLvDg79XvBfBX8MrwW/EQ8uny9vMv9X/2x/cN+U/6jfuj/Hf9Af5r/sP++/71/sj+nv6P/pj+sf7r/l3/OQCWAWUDWAVGBy0JOAtfDXcPPRGYEo4TPBSwFM0UXxRzE2ASQRG4D3QNuwr9B0kFZAJC/wT82fjj9Tfzz/CZ7pzs/OrX6Snpzuir6MLoLun26Q/rWOzQ7XnvVfFO81n1XfdO+Rz7z/xi/tv/JgE+AhIDqgMFBC0EGATLA0YDlgLQARgBbACi/63+vv0M/Yn8Ffyp+4D7xvuD/Hv9q/49AGwC+gSiB0EKAA3fD8cSfRXrFwMa6RuqHTEfKCB9IGwgFCAUH0gdIhsSGcwW1hM0EFcMiQjPBA8BQ/2C+QX27PIv8KvtYuuH6UToiecs5yPne+c26EHpluol7Ozt1u/Y8dvz4PXR96f5Q/up/Nj96P7O/30A2gDyANIAkAAeAHT/hf5p/UH8OftO+mH5Xfhb94j2/fWq9XD1X/Wp9W72f/fF+F76ivwz/xkC/wTlB9EKxg2VEBETIBXhFm0YxBm+Gi8bBBtwGr4Z8BijF5MV8BIhEEINNQrqBoMDKgD9/AD6LfeC9CXyOfDK7rTt3uxW7DjsgOwS7d7t3O4F8E3xtPIp9Kj1Gvdz+Kj50vrx+/782f2G/gj/b/+y/83/rP9U/8v+Lf6H/eL8L/xe+3j6rfkW+Z34Mfjs9/z3ZfgU+fL5I/vV/BT/lQEZBI0GGAm2CzoOZhAtEqYT/hQ4FisXqRemFzQXhhbDFd8UlxPPEacPYg0SC6QI+wUsA2IAx/1a+w353fbq9FjzKfI+8X/wAfDa7/vvQ/Cz8Erx/fG88p7zqPTO9eb25/fY+Nv55PrX+478Gv2R/f79S/5v/l7+H/6z/Sz9mfwV/Jj7Cvtg+r/5UfkW+QX5G/lx+Q769PoP/HX9R/+GAeIDIAZICI4K4AwJD9cQThKFE58UoxVyFtIWtRY4Fo0VuRSbEw8SFhDKDVcL1Ag7BncDlADC/Sv7zPiV9of0xfJo8XTw0u9u70bvau/v76/wZ/EC8sPy1vMX9TD2Fffy9wT5OPpZ+y38xvxF/bj9CP43/kT+Mv7u/YH97/xW/ML7Pvu9+jj6svlB+fr46PgL+WH58/nJ+uL7Hv17/gUAwwGAAx8FsgZzCGoKbgw6DsAPHBGFEvUTPRUcFoYWlRZ4FjgWsxWrFCITUBFtD2gNIgumCCgGxgN/ATz//PzS+tz4HveL9Rf0yPKz8dzwNPCl70LvEu8S7zLvg+8E8J/wO/H08enyKfSS9fj2QPiC+b/62/u6/H39Nv7a/j3/a/+I/7H/3v/3//D/1//b/yAAugCMAYoCqwP3BF0G1AdOCcwKNAx0DXcOTw8TEMAQIBEYEckQXxDGD+MOxg2MDBsLXwltB20FZANFARL/4fzN+un4Nvev9Ur0GvNF8sjxbPEi8THxzvHL8sHzi/RQ9Vb2l/fU+M75n/p1+1r8Ff2K/b394/0E/v79qv0y/cP8Y/zx+3L76/pY+sH5XflE+U75T/ld+aP5JfrL+oj7Zvxu/Zr+zf/3ACICWQOGBJYFkQaXB7gI4gnaCpkLTAwXDcoNNw5uDqgO5w4KD+cOjg4jDsYNVQ2wDNIL5Ar6CRYJHggMB+4F2QTGA68ClgGKAIz/kv6Y/an83fsz+4f6yPkc+aH4Sfjn93z3I/f59vP2AvcP9yP3R/eF98z3Ffhe+LT4Eflm+Zf5sfnB+d/5Avoc+iL6KvpB+mv6nPrc+jL7pPsq/Lj8Tf32/bH+a/8aANIApAF/AksDAwS+BIYFYAY+BwoIpQgQCWoJwwn1CeEJmQk+CcUIIAhkB54GsAWLBFcDNgISAc7/ef48/Sf8Jfsl+jT5c/j898b3o/do9yT3Gvdn99j3NfiQ+BD5sPlI+tf6cvsw/Ab92f2O/i//xf9PAL4AGAFlAaQBywHhAesB5QHcAe8BHwI5AikCIwJhAs4CPQOmAyUEuQRXBe0FfgYGB4UH5QctCHwI5Qg1CU4JTwlTCSwJvQg7CN8HiAfwBgkGCwUtBHQDqQKlAX4AZv9l/mP9TPwx+zn6bfmv+Oz3Sffz9ub28Pb09vf2Gfdw9/n3lPgp+az5JfqY+gr7evv5+4X8EP2D/e39Sf6G/pX+mf6r/rT+lv5h/jD+A/7X/b79w/3Q/dH90P3z/U7+3f5+/yAAzQCYAXECSQMWBOMErAVyBjkHBQjGCG8J9glMClwKLAraCYgJNgnCCAYIBgfuBecE8APvAs4BkgBK/wr+4vzi+xn7efrV+Sf5rPiG+IX4bvhT+G341fhZ+bn58flM+u/6o/sa/Gn8zvxW/dn9QP6F/rD+xf7R/s7+vv6a/mb+Jf7n/bn9of2Y/Y/9gP13/ZH93v1c/u3+gP8XAMgAjAFZAh4D4QOnBHgFTwYoB/QHqghACaMJwgmnCXMJRwkfCdEIKwg+B1AGjQXLBNgDxgLOAfwAMQBP/1z+gf3a/FD81/uJ+3f7dfta+z77TPuD+7/76vsL/DX8ZfyJ/Jj8tPzv/Dr9a/18/YL9mP2//ef9/P3//fj98f3m/dn9yf25/an9mP2O/aL92P0b/k/+b/6Y/vL+c//a/woANACRABIBhQHTARQCXwK3AhADYwO0AwcESQRnBGUEWgRSBFAESQQwBPoDqQNIA+QCfwIaArcBVgHuAHoAAACO/yr/2v6i/oj+i/6d/qL+j/59/oP+mf6p/qz+pf6Z/oT+av5U/lP+Zf54/nT+V/42/in+Lv4o/g7+//0Y/kn+a/5v/mj+dP6N/o/+cP5n/pD+wv7V/u7+Q//N/0gAhwCXAKwA9ABnAc8B8wHcAdgBGAJ6As4CGgNiA2gD/AJDAqEBWQFoAZYBtQHFAdQB1wHBAaABjwGMAY4BkgGWAYwBeQF6AZ4ByQHbAdMBvwGaAUkBvwAOAGb/8P61/ov+O/6w/Qz9dvz4+4P7GPvJ+qj6p/qj+pH6lvrR+i/7gPu3++z7Pvyu/CP9f/3C/fz9N/5t/p7+xv7o/gf/Kv9X/5X/3P8bAE4AfgC3APIAJAFQAYMBuwHzASwCYQKEApoCwQISA4AD7QM7BHUEugQIBSgFAgW/BJUEcwQiBJMD5gI+ArQBSwH4AKwAagA4ACEAJQA3AEEANwAcAPz/4P/M/7v/ov95/0D/Cf/g/r7+n/6Q/pL+j/50/lP+Rf5E/kD+PP4t/vr9lv0o/dn8qvyA/FH8MPw5/H/8/vyR/Qj+ZP7b/ob/NwCwAOQACQFVAcUBIQJFAk0CZwKWAsAC3QL5AhUDIgMQA98CoAJnAjkCDALJAXEBHQHRAGUA2/9w/1//h/+g/4z/gv/O/3MAHAF0AX8BiwHTATYCYwIwAtMBjAFYAQwBqABEAOT/eP///of+Jf7T/W398vyd/In8f/w8/NP7ift/+5X7n/uY+6n7/PuO/Cr9pv0K/oL+Iv/S/1kAngDEAA8BhAHWAdIBqgGgAagBjgFVASYBGAEYAQoB4QCxAJYAkACOAH0AZQBZAFUANwD5/87/5v8kAFsAiAC/APsAMAFnAbAB/AE4Al8CdQJ7AmMCJwLKAV4B9QCVADgA1v98/0b/Ov83/yT/Dv8N/yD/MP8u/yj/OP9Y/1z/Mf8A/+7+4/65/nn+TP5F/lL+Zv51/nz+k/7b/kn/nv+3/8D/7f8yAGMAcABvAHQAiACoAMwA7gAJARwBLgFLAXgBnwGyAbcBvAHFAcQBrQGCAVUBMwEYAfcA0gCxAJoAiQB5AGgAXQBUADwAEADl/8r/uv+g/3T/S/89/0z/Yv9m/13/XP9r/3//h/+G/5H/sP/W/+f/2//B/6j/jf9m/yv/6P6v/ob+af5Y/lD+U/5g/n3+qv7k/h//T/92/6j/5/8SABUABAABABIAJQAqACMAIAAsAEEAVABmAHwAkAChALEAwAC/AKcAggBqAGsAfAB9AGkAXgByAJAAogDAAP4AQQFjAWIBYQF1AY8BgwFCAfgAxQCPAD4A9P/F/4v/KP/N/q7+uf63/pT+cv54/qP+x/7C/qL+mf6+/vn+IP8p/y//Uf+Q/83/8v8FACAASwB0AIgAkQCbAJ4AiwBrAFEAQQAyACAACwD3/+P/0v/N/+T/HABmAKcAyADaAAEBRAF5AXcBRwEXAQUBCAEFAewAxACfAIcAfgCHAJsAowCVAH4AcQBwAGcARQANANf/tf+j/5P/g/9z/1j/Mv8X/x//Rv9w/4f/jf+V/6//0v/s//L/5P/J/5r/Sf/v/sn+2/7V/oD+HP4I/k7+pv7a/vD+Dv9K/5D/u//J/9T/8/8TABIA6v/J/9L/6P/u//j/JwBqAJ0AuwDYAPwAGwEmARYB8gDNALEAmgB0AEMAKgA2AEAAOgBQAKMABAE4AUcBXAF5AYMBbAE+AQ8B6AC+AIwAYgBHABYAyf+R/4//kP9e/xj/9f76/gL/+/7v/uP+4/72/hX/IP8I/9/+x/7V/gj/VP+j/+T/EAAzAGEAqAD4AC8BNAEdAf8A1QChAH8AcAA7AMr/Xv84/zz/Kf/7/t3+4/4C/yD/Mv88/07/a/+H/5X/k/+M/4v/kP+a/63/y//p/wEAIABYAKwACAFGAVwBYwF1AYcBhgF2AV0BLwHjAIwATQA4AD0ANwAbAAAAAAAXACcAJQAZABIAEgANAPv/2/+2/4z/Xv8z/xb/Cf8K/xf/NP9r/7r/BAA4AGIAhgCLAGYAOAAgAA0A5P+o/3P/Sv8m/wT/8/4A/zD/ef/D//z/IgBGAGwAjACXAIwAdQBdAEcAMwAhABIACgAJABEAJQBHAHAAkACZAJcAqADYAA8BHwHyAKoAhwCZAKcAegAcAM7/tv/A/7X/iP9i/2//nv++/8T/w//I/9L/2//e/9b/xv+2/6f/kP92/3D/h/+j/7D/wP/i/wQAEAAOABIAIAAnABcA8v/S/8X/v/+v/5//mP+H/1//OP8w/0X/Y/+D/5//rP+m/5//p/+6/8b/xP+8/7r/xP/S/9r/4P/q//f/BQAcADkATwBYAGIAdQCHAIYAcABVAEsATQBFAC8AKgBJAG8AfAB5AH8AhwB8AF0AOwAlABkACQDr/8n/rf+V/33/cP99/6P/0v/8/xoALgBAAFgAdgCLAI4AggB1AGYAWABUAFwAYQBeAGIAfgCnAMcA1wDgAO0ABgErAUgBPQEIAdIAuwC1AKAAcAA5AA4A7//N/6b/jP+R/6z/w//J/8P/v//F/83/zf+//6v/lf+D/3n/cv9h/0z/T/93/6f/u/+x/53/h/9w/2L/YP9i/17/WP9S/0b/Lf8S/wH/AP8H/w7/Ev8c/y3/PP87/y//I/8g/y7/VP+C/5X/ev9K/zP/Rv9q/3T/Wf84/zf/U/90/4z/ov+6/9b/9/8bADwAWABrAHwAlQCwALAAmACWAMIA7QDwAPMAJAFmAZABrgHZAfwB/gHvAegB5QHUAbcBnQGMAYABbAFNAS8BIQEhASQBIQEZAQoB+wD3AP0A/ADjALYAhwBmAFIANwANAOD/u/+e/33/U/81/z3/Zf+C/3b/VP9E/0//W/9P/yz/Cf/3/uz+3/7b/uf+8f7s/vL+Ev8z/zf/L/8z/0X/Uv9U/1H/VP9c/13/T/89/y7/G////u3+8f72/uf+1v7W/uT+7P7o/uj+AP8j/yn/Cf/8/if/Zv+C/37/gv+e/7//0v/a//P/JgBcAHsAhwCWAKcAsAC2AMIA0gDZAM0ArgCCAFcAOAAnACUAKgAuADAAMwA8AEoAWgBrAH8AlQCoALEAsgC2AMoA7gAVAS8BNwE0ATEBLwEqASEBGQEOAQAB8wDjAL8AhQBPADQALgAmAA0A9P/u/wMAIAAuAC4AMQA8AEYARQA/AEEAUQBdAFMAPAArACAAFQAJAP//7f/c/+D//P8SABEAEwAwAF0AcgBiADoADQDp/9f/yv+n/2z/M/8T/wD/2/6i/nX+eP6s/uP++v77/gj/Jf86/zj/Kf8q/0L/WP9M/yr/Cv/x/uD+5P76/gT/7v7R/tL+9v4g/yn/FP8J/yT/U/90/4P/kf+e/6D/n/+n/7X/0/8TAHMAwwDrAAoBRQGHAa0BtwHAAc4B1gHTAcQBrQGTAXoBZwFZAVEBSwFEAS8BGQEiAUoBYgFHARQB+AD3APIA1gCvAJAAfgBmADQA7v+3/7H/2f8EAA8A9//a/9f/6P/y/+b/0v/I/7//of9r/y//AP/r/vb+GP88/1z/fv+o/9L/8P8JACEAKQAZAAAA7v/g/8X/nv93/13/Uf9K/0L/OP81/zz/Sf9Z/2X/Zv9o/4j/yP8=\" type=\"audio/wav\" />\n",
              "                    Your browser does not support the audio element.\n",
              "                </audio>\n",
              "              "
            ],
            "text/plain": [
              "<IPython.lib.display.Audio object>"
            ]
          },
          "metadata": {
            "tags": []
          },
          "execution_count": 45
        }
      ]
    },
    {
      "cell_type": "code",
      "metadata": {
        "colab": {
          "base_uri": "https://localhost:8080/"
        },
        "id": "GBbM-QWXTbLP",
        "outputId": "4c9f4c83-dcdb-4b33-f0f0-f9002f56f606"
      },
      "source": [
        "print(openslr_train_data[rand_int][\"target_text\"])"
      ],
      "execution_count": null,
      "outputs": [
        {
          "output_type": "stream",
          "text": [
            "छिपुली में थोड़ीसी चने की तरकारी बची थी \n"
          ],
          "name": "stdout"
        }
      ]
    },
    {
      "cell_type": "markdown",
      "metadata": {
        "id": "1MaL9J2dNVtG"
      },
      "source": [
        "It can be heard, that the speakers change along with their speaking rate, accent, and background environment, etc. Overall, the recordings sound acceptably clear though, which is to be expected from a crowd-sourced read speech corpus.\n",
        "\n",
        "Let's do a final check that the data is correctly prepared, by printing the shape of the speech input, its transcription, and the corresponding sampling rate.\n",
        "\n",
        "**Note**: *You can click the following cell a couple of times to verify multiple samples.*"
      ]
    },
    {
      "cell_type": "code",
      "metadata": {
        "colab": {
          "base_uri": "https://localhost:8080/"
        },
        "id": "1Po2g7YPuRTx",
        "outputId": "23e4bbbe-f8ca-47f7-e199-4a383a790e75"
      },
      "source": [
        "rand_int = random.randint(0, len(openslr_train_data)-1)\n",
        "\n",
        "print(\"Target text:\", openslr_train_data[rand_int][\"target_text\"])\n",
        "print(\"Input array shape:\", np.asarray(openslr_train_data[rand_int][\"speech\"]).shape)\n",
        "print(\"Sampling rate:\", openslr_train_data[rand_int][\"sampling_rate\"])"
      ],
      "execution_count": null,
      "outputs": [
        {
          "output_type": "stream",
          "text": [
            "Target text: एक घण्टे बाद एक नीली कार पेड़ के पास आकर रुकी \n",
            "Input array shape: (51840,)\n",
            "Sampling rate: 16000\n"
          ],
          "name": "stdout"
        }
      ]
    },
    {
      "cell_type": "markdown",
      "metadata": {
        "id": "M9teZcSwOBJ4"
      },
      "source": [
        "Good! Everything looks fine - the data is a 1-dimensional array, the sampling rate always corresponds to 16kHz, and the target text is normalized."
      ]
    },
    {
      "cell_type": "markdown",
      "metadata": {
        "id": "k3Pbn5WvOYZF"
      },
      "source": [
        "Finally, we can process the dataset to the format expected by the model for training. We will again make use of the `map(...)` function.\n",
        "\n",
        "First, we check that the data samples have the same sampling rate of 16kHz.\n",
        "Second, we extract the `input_values` from the loaded audio file. In our case, this includes only normalization, but for other speech models, this step could correspond to extracting, *e.g.* [Log-Mel features](https://en.wikipedia.org/wiki/Mel-frequency_cepstrum). \n",
        "Third, we encode the transcriptions to label ids.\n",
        "\n",
        "**Note**: This mapping function is a good example of how the `Wav2Vec2Processor` class should be used. In \"normal\" context, calling `processor(...)` is redirected to `Wav2Vec2FeatureExtractor`'s call method. When wrapping the processor into the `as_target_processor` context, however, the same method is redirected to `Wav2Vec2CTCTokenizer`'s call method.\n",
        "For more information please check the [docs](https://huggingface.co/transformers/master/model_doc/wav2vec2.html#transformers.Wav2Vec2Processor.__call__)."
      ]
    },
    {
      "cell_type": "code",
      "metadata": {
        "id": "eJY7I0XAwe9p"
      },
      "source": [
        "def prepare_dataset(batch):\n",
        "    # check that all files have the correct sampling rate\n",
        "    assert (\n",
        "        len(set(batch[\"sampling_rate\"])) == 1\n",
        "    ), f\"Make sure all inputs have the same sampling rate of {processor.feature_extractor.sampling_rate}.\"\n",
        "\n",
        "    batch[\"input_values\"] = processor(batch[\"speech\"], sampling_rate=batch[\"sampling_rate\"][0]).input_values\n",
        "    \n",
        "    with processor.as_target_processor():\n",
        "        batch[\"labels\"] = processor(batch[\"target_text\"]).input_ids\n",
        "    return batch"
      ],
      "execution_count": null,
      "outputs": []
    },
    {
      "cell_type": "code",
      "metadata": {
        "id": "9YueAGm0KyNV"
      },
      "source": [
        "!rm -r ~/.cache/huggingface/datasets"
      ],
      "execution_count": null,
      "outputs": []
    },
    {
      "cell_type": "code",
      "metadata": {
        "colab": {
          "base_uri": "https://localhost:8080/"
        },
        "id": "-np9xYK-wl8q",
        "outputId": "f943a828-c799-4866-a7a7-d1a89f006919"
      },
      "source": [
        "PER_DEVICE_TRAINING_BATCH_SIZE = 8\n",
        "\n",
        "openslr_train_data = openslr_train_data.map(prepare_dataset, \n",
        "                                            remove_columns=openslr_train_data.column_names, \n",
        "                                            batch_size=PER_DEVICE_TRAINING_BATCH_SIZE, \n",
        "                                            num_proc=4, \n",
        "                                            batched=True)\n",
        "\n",
        "common_voice_test = common_voice_test.map(prepare_dataset, \n",
        "                                          remove_columns=common_voice_test.column_names, \n",
        "                                          batch_size=PER_DEVICE_TRAINING_BATCH_SIZE, \n",
        "                                          num_proc=4,\n",
        "                                          batched=True)"
      ],
      "execution_count": null,
      "outputs": [
        {
          "output_type": "stream",
          "text": [
            "/usr/local/lib/python3.7/dist-packages/numpy/core/_asarray.py:83: VisibleDeprecationWarning: Creating an ndarray from ragged nested sequences (which is a list-or-tuple of lists-or-tuples-or ndarrays with different lengths or shapes) is deprecated. If you meant to do this, you must specify 'dtype=object' when creating the ndarray\n",
            "  return array(a, dtype, copy=False, order=order)\n"
          ],
          "name": "stderr"
        }
      ]
    },
    {
      "cell_type": "code",
      "metadata": {
        "colab": {
          "base_uri": "https://localhost:8080/"
        },
        "id": "GxfW-Pv4WRzg",
        "outputId": "00e9a003-bbe7-4ac7-a3e9-344ec4680b49"
      },
      "source": [
        "print(len(openslr_train_data), len(common_voice_test))"
      ],
      "execution_count": null,
      "outputs": [
        {
          "output_type": "stream",
          "text": [
            "290 127\n"
          ],
          "name": "stdout"
        }
      ]
    },
    {
      "cell_type": "markdown",
      "metadata": {
        "id": "gYlQkKVoRUos"
      },
      "source": [
        "## Training\n",
        "\n",
        "The data is processed so that we are ready to start setting up the training pipeline. We will make use of 🤗's [Trainer](https://huggingface.co/transformers/master/main_classes/trainer.html?highlight=trainer) for which we essentially need to do the following:\n",
        "\n",
        "- Define a data collator. In contrast to most NLP models, XLSR-Wav2Vec2 has a much larger input length than output length. *E.g.*, a sample of input length 50000 has an output length of no more than 100. Given the large input sizes, it is much more efficient to pad the training batches dynamically meaning that all training samples should only be padded to the longest sample in their batch and not the overall longest sample. Therefore, fine-tuning XLSR-Wav2Vec2 requires a special padding data collator, which we will define below\n",
        "\n",
        "- Evaluation metric. During training, the model should be evaluated on the word error rate. We should define a `compute_metrics` function accordingly\n",
        "\n",
        "- Load a pretrained checkpoint. We need to load a pretrained checkpoint and configure it correctly for training.\n",
        "\n",
        "- Define the training configuration.\n",
        "\n",
        "After having fine-tuned the model, we will correctly evaluate it on the test data and verify that it has indeed learned to correctly transcribe speech."
      ]
    },
    {
      "cell_type": "markdown",
      "metadata": {
        "id": "Slk403unUS91"
      },
      "source": [
        "### Set-up Trainer\n",
        "\n",
        "Let's start by defining the data collator. The code for the data collator was copied from [this example](https://github.com/huggingface/transformers/blob/9a06b6b11bdfc42eea08fa91d0c737d1863c99e3/examples/research_projects/wav2vec2/run_asr.py#L81).\n",
        "\n",
        "Without going into too many details, in contrast to the common data collators, this data collator treats the `input_values` and `labels` differently and thus applies to separate padding functions on them (again making use of XLSR-Wav2Vec2's context manager). This is necessary because in speech input and output are of different modalities meaning that they should not be treated by the same padding function.\n",
        "Analogous to the common data collators, the padding tokens in the labels with `-100` so that those tokens are **not** taken into account when computing the loss."
      ]
    },
    {
      "cell_type": "code",
      "metadata": {
        "id": "tborvC9hx88e"
      },
      "source": [
        "import torch\n",
        "\n",
        "from dataclasses import dataclass, field\n",
        "from typing import Any, Dict, List, Optional, Union\n",
        "\n",
        "@dataclass\n",
        "class DataCollatorCTCWithPadding:\n",
        "    \"\"\"\n",
        "    Data collator that will dynamically pad the inputs received.\n",
        "    Args:\n",
        "        processor (:class:`~transformers.Wav2Vec2Processor`)\n",
        "            The processor used for proccessing the data.\n",
        "        padding (:obj:`bool`, :obj:`str` or :class:`~transformers.tokenization_utils_base.PaddingStrategy`, `optional`, defaults to :obj:`True`):\n",
        "            Select a strategy to pad the returned sequences (according to the model's padding side and padding index)\n",
        "            among:\n",
        "            * :obj:`True` or :obj:`'longest'`: Pad to the longest sequence in the batch (or no padding if only a single\n",
        "              sequence if provided).\n",
        "            * :obj:`'max_length'`: Pad to a maximum length specified with the argument :obj:`max_length` or to the\n",
        "              maximum acceptable input length for the model if that argument is not provided.\n",
        "            * :obj:`False` or :obj:`'do_not_pad'` (default): No padding (i.e., can output a batch with sequences of\n",
        "              different lengths).\n",
        "        max_length (:obj:`int`, `optional`):\n",
        "            Maximum length of the ``input_values`` of the returned list and optionally padding length (see above).\n",
        "        max_length_labels (:obj:`int`, `optional`):\n",
        "            Maximum length of the ``labels`` returned list and optionally padding length (see above).\n",
        "        pad_to_multiple_of (:obj:`int`, `optional`):\n",
        "            If set will pad the sequence to a multiple of the provided value.\n",
        "            This is especially useful to enable the use of Tensor Cores on NVIDIA hardware with compute capability >=\n",
        "            7.5 (Volta).\n",
        "    \"\"\"\n",
        "\n",
        "    processor: Wav2Vec2Processor\n",
        "    padding: Union[bool, str] = True\n",
        "    max_length: Optional[int] = None\n",
        "    max_length_labels: Optional[int] = None\n",
        "    pad_to_multiple_of: Optional[int] = None\n",
        "    pad_to_multiple_of_labels: Optional[int] = None\n",
        "\n",
        "    def __call__(self, features: List[Dict[str, Union[List[int], torch.Tensor]]]) -> Dict[str, torch.Tensor]:\n",
        "        # split inputs and labels since they have to be of different lenghts and need\n",
        "        # different padding methods\n",
        "        input_features = [{\"input_values\": feature[\"input_values\"]} for feature in features]\n",
        "        label_features = [{\"input_ids\": feature[\"labels\"]} for feature in features]\n",
        "\n",
        "        batch = self.processor.pad(\n",
        "            input_features,\n",
        "            padding=self.padding,\n",
        "            max_length=self.max_length,\n",
        "            pad_to_multiple_of=self.pad_to_multiple_of,\n",
        "            return_tensors=\"pt\",\n",
        "        )\n",
        "        with self.processor.as_target_processor():\n",
        "            labels_batch = self.processor.pad(\n",
        "                label_features,\n",
        "                padding=self.padding,\n",
        "                max_length=self.max_length_labels,\n",
        "                pad_to_multiple_of=self.pad_to_multiple_of_labels,\n",
        "                return_tensors=\"pt\",\n",
        "            )\n",
        "\n",
        "        # replace padding with -100 to ignore loss correctly\n",
        "        labels = labels_batch[\"input_ids\"].masked_fill(labels_batch.attention_mask.ne(1), -100)\n",
        "\n",
        "        batch[\"labels\"] = labels\n",
        "\n",
        "        return batch"
      ],
      "execution_count": null,
      "outputs": []
    },
    {
      "cell_type": "code",
      "metadata": {
        "id": "lbQf5GuZyQ4_"
      },
      "source": [
        "data_collator = DataCollatorCTCWithPadding(processor=processor, padding=True)"
      ],
      "execution_count": null,
      "outputs": []
    },
    {
      "cell_type": "markdown",
      "metadata": {
        "id": "xO-Zdj-5cxXp"
      },
      "source": [
        "Next, the evaluation metric is defined. As mentioned earlier, the \n",
        "predominant metric in ASR is the word error rate (WER), hence we will use it in this notebook as well."
      ]
    },
    {
      "cell_type": "code",
      "metadata": {
        "id": "9Xsux2gmyXso",
        "colab": {
          "base_uri": "https://localhost:8080/",
          "height": 66,
          "referenced_widgets": [
            "1053b9bd56604a6fa90b22359446e583",
            "7e9d0e486def4a19b2f8e218b39b8218",
            "7fc84c1f60be402193d50a1fcb86c888",
            "ebccd2fa60cf4fa891c8f125a864c3f4",
            "feb09ad9bb64499c8be5855561488d78",
            "45f8268390f24eb6b5508de5d59a6e9a",
            "10d0aee006394a2680925fbe6ddeb29c",
            "196970879ee540449d2a50d7fc32b9d0"
          ]
        },
        "outputId": "9f3d1b19-6161-4e13-d93a-e5f7ae9121ad"
      },
      "source": [
        "wer_metric = load_metric(\"wer\")"
      ],
      "execution_count": null,
      "outputs": [
        {
          "output_type": "display_data",
          "data": {
            "application/vnd.jupyter.widget-view+json": {
              "model_id": "1053b9bd56604a6fa90b22359446e583",
              "version_minor": 0,
              "version_major": 2
            },
            "text/plain": [
              "HBox(children=(FloatProgress(value=0.0, description='Downloading', max=1764.0, style=ProgressStyle(description…"
            ]
          },
          "metadata": {
            "tags": []
          }
        },
        {
          "output_type": "stream",
          "text": [
            "\n"
          ],
          "name": "stdout"
        }
      ]
    },
    {
      "cell_type": "markdown",
      "metadata": {
        "id": "E1qZU5p-deqB"
      },
      "source": [
        "The model will return a sequence of logit vectors:\n",
        "$\\mathbf{y}_1, \\ldots, \\mathbf{y}_m$ with $\\mathbf{y}_1 = f_{\\theta}(x_1, \\ldots, x_n)[0]$ and $n >> m$.\n",
        "\n",
        "A logit vector $\\mathbf{y}_1$ contains the log-odds for each word in the vocabulary we defined earlier, thus $\\text{len}(\\mathbf{y}_i) =$ `config.vocab_size`. We are interested in the most likely prediction of the model and thus take the `argmax(...)` of the logits. Also, we transform the encoded labels back to the original string by replacing `-100` with the `pad_token_id` and decoding the ids while making sure that consecutive tokens are **not** grouped to the same token in CTC style ${}^1$."
      ]
    },
    {
      "cell_type": "code",
      "metadata": {
        "id": "1XZ-kjweyTy_"
      },
      "source": [
        "def compute_metrics(pred):\n",
        "    pred_logits = pred.predictions\n",
        "    pred_ids = np.argmax(pred_logits, axis=-1)\n",
        "\n",
        "    pred.label_ids[pred.label_ids == -100] = processor.tokenizer.pad_token_id\n",
        "\n",
        "    pred_str = processor.batch_decode(pred_ids)\n",
        "    # we do not want to group tokens when computing the metrics\n",
        "    label_str = processor.batch_decode(pred.label_ids, group_tokens=False)\n",
        "\n",
        "    wer = wer_metric.compute(predictions=pred_str, references=label_str)\n",
        "\n",
        "    return {\"wer\": wer}"
      ],
      "execution_count": null,
      "outputs": []
    },
    {
      "cell_type": "markdown",
      "metadata": {
        "id": "Xmgrx4bRwLIH"
      },
      "source": [
        "Now, we can load the pretrained `XLSR-Wav2Vec2` checkpoint. The tokenizer's `pad_token_id` must be to define the model's `pad_token_id` or in the case of `Wav2Vec2ForCTC` also CTC's *blank token* ${}^2$. To save GPU memory, we enable PyTorch's [gradient checkpointing](https://pytorch.org/docs/stable/checkpoint.html) and also set the loss reduction to \"*mean*\".\n",
        "\n",
        "Because the dataset is quite small (~6h of training data) and because Common Voice is quite noisy, fine-tuning Facebook's [wav2vec2-large-xlsr-53 checkpoint](https://huggingface.co/facebook/wav2vec2-large-xlsr-53) seems to require some hyper-parameter tuning. Therefore, I had to play around a bit with different values for dropout, [SpecAugment](https://arxiv.org/abs/1904.08779)'s masking dropout rate, layer dropout, and the learning rate until training seemed to be stable enough. \n",
        "\n",
        "**Note**: When using this notebook to train XLSR-Wav2Vec2 on another language of Common Voice those hyper-parameter settings might not work very well. Feel free to adapt those depending on your use case. "
      ]
    },
    {
      "cell_type": "code",
      "metadata": {
        "colab": {
          "base_uri": "https://localhost:8080/",
          "height": 149,
          "referenced_widgets": [
            "47b5d84c7bb043b5b55009130bcf6ab0",
            "8dfc57cdc1314beda1f478cb7ed3b646",
            "2a24c196b49b4d5091269d4c17d8e5ae",
            "dff8b89aaa5c403f9981e21950094285",
            "b172c3cd24e84ca7954dc5eede649a6c",
            "ac65107b31974fb58f5683b092e274a1",
            "1982812221954116ad20632e96902c01",
            "553f48c336cc4f1c9095abf1735ba6e4",
            "1ffcaae8fa72485fa4f3f5eac2269e90",
            "a730f50dcb334e79ba93d7db872a2767",
            "2029bd796756405cb33e8153169c0cb2",
            "d988ee8bd2824b3991b32c34e10e9313",
            "334513f0df414c1fa12b4f7fdd6f420b",
            "a9be6d674cb74ff7a69d98f882531e34",
            "cd2b28cbb86a407b9d6f9c9d45b7ce08",
            "b6c60e6dab514d638112b2c7cb5ef85c"
          ]
        },
        "id": "e7cqAWIayn6w",
        "outputId": "6089fdb5-fe72-4795-aced-b07c4c776074"
      },
      "source": [
        "from transformers import Wav2Vec2ForCTC\n",
        "\n",
        "model = Wav2Vec2ForCTC.from_pretrained(\n",
        "    \"facebook/wav2vec2-large-xlsr-53\", \n",
        "    attention_dropout=0.1,\n",
        "    hidden_dropout=0.1,\n",
        "    feat_proj_dropout=0.0,\n",
        "    mask_time_prob=0.05,\n",
        "    layerdrop=0.1,\n",
        "    gradient_checkpointing=True, \n",
        "    ctc_loss_reduction=\"mean\", \n",
        "    pad_token_id=processor.tokenizer.pad_token_id,\n",
        "    vocab_size=len(processor.tokenizer)\n",
        ")"
      ],
      "execution_count": null,
      "outputs": [
        {
          "output_type": "display_data",
          "data": {
            "application/vnd.jupyter.widget-view+json": {
              "model_id": "47b5d84c7bb043b5b55009130bcf6ab0",
              "version_minor": 0,
              "version_major": 2
            },
            "text/plain": [
              "HBox(children=(FloatProgress(value=0.0, description='Downloading', max=1451.0, style=ProgressStyle(description…"
            ]
          },
          "metadata": {
            "tags": []
          }
        },
        {
          "output_type": "stream",
          "text": [
            "\n"
          ],
          "name": "stdout"
        },
        {
          "output_type": "display_data",
          "data": {
            "application/vnd.jupyter.widget-view+json": {
              "model_id": "1ffcaae8fa72485fa4f3f5eac2269e90",
              "version_minor": 0,
              "version_major": 2
            },
            "text/plain": [
              "HBox(children=(FloatProgress(value=0.0, description='Downloading', max=1261920069.0, style=ProgressStyle(descr…"
            ]
          },
          "metadata": {
            "tags": []
          }
        },
        {
          "output_type": "stream",
          "text": [
            "\n"
          ],
          "name": "stdout"
        },
        {
          "output_type": "stream",
          "text": [
            "Some weights of Wav2Vec2ForCTC were not initialized from the model checkpoint at facebook/wav2vec2-large-xlsr-53 and are newly initialized: ['lm_head.weight', 'lm_head.bias']\n",
            "You should probably TRAIN this model on a down-stream task to be able to use it for predictions and inference.\n"
          ],
          "name": "stderr"
        }
      ]
    },
    {
      "cell_type": "markdown",
      "metadata": {
        "id": "1DwR3XLSzGDD"
      },
      "source": [
        "The first component of XLSR-Wav2Vec2 consists of a stack of CNN layers that are used to extract acoustically meaningful - but contextually independent - features from the raw speech signal. This part of the model has already been sufficiently trained during pretraining and as stated in the [paper](https://arxiv.org/pdf/2006.13979.pdf) does not need to be fine-tuned anymore. \n",
        "Thus, we can set the `requires_grad` to `False` for all parameters of the *feature extraction* part."
      ]
    },
    {
      "cell_type": "code",
      "metadata": {
        "id": "oGI8zObtZ3V0"
      },
      "source": [
        "model.freeze_feature_extractor()"
      ],
      "execution_count": null,
      "outputs": []
    },
    {
      "cell_type": "markdown",
      "metadata": {
        "id": "lD4aGhQM0K-D"
      },
      "source": [
        "In a final step, we define all parameters related to training. \n",
        "To give more explanation on some of the parameters:\n",
        "- `group_by_length` makes training more efficient by grouping training samples of similar input length into one batch. This can significantly speed up training time by heavily reducing the overall number of useless padding tokens that are passed through the model\n",
        "- `learning_rate` and `weight_decay` were heuristically tuned until fine-tuning has become stable. Note that those parameters strongly depend on the Common Voice dataset and might be suboptimal for other speech datasets.\n",
        "\n",
        "For more explanations on other parameters, one can take a look at the [docs](https://huggingface.co/transformers/master/main_classes/trainer.html?highlight=trainer#trainingarguments).\n",
        "\n",
        "**Note**: If one wants to save the trained models in his/her google drive the commented-out `output_dir` can be used instead."
      ]
    },
    {
      "cell_type": "code",
      "metadata": {
        "id": "KbeKSV7uzGPP"
      },
      "source": [
        "from transformers import TrainingArguments\n",
        "\n",
        "training_args = TrainingArguments(\n",
        "  output_dir=\"/content/gdrive/MyDrive/wav2vec2-large-xlsr-hindi\",\n",
        "  # output_dir=\"./wav2vec2-large-xlsr-turkish-demo\",\n",
        "  group_by_length=False,\n",
        "  per_device_train_batch_size=PER_DEVICE_TRAINING_BATCH_SIZE,\n",
        "  gradient_accumulation_steps=2,\n",
        "  evaluation_strategy=\"steps\",\n",
        "  num_train_epochs=30,\n",
        "  fp16=True,\n",
        "  save_steps=400,\n",
        "  eval_steps=400,\n",
        "  logging_steps=400,\n",
        "  learning_rate=1e-4,\n",
        "  warmup_steps=500,\n",
        "  save_total_limit=1,\n",
        ")"
      ],
      "execution_count": null,
      "outputs": []
    },
    {
      "cell_type": "markdown",
      "metadata": {
        "id": "OsW-WZcL1ZtN"
      },
      "source": [
        "Now, all instances can be passed to Trainer and we are ready to start training!"
      ]
    },
    {
      "cell_type": "code",
      "metadata": {
        "id": "rY7vBmFCPFgC"
      },
      "source": [
        "from transformers import Trainer\n",
        "\n",
        "trainer = Trainer(\n",
        "    model=model,\n",
        "    data_collator=data_collator,\n",
        "    args=training_args,\n",
        "    compute_metrics=compute_metrics,\n",
        "    train_dataset=openslr_train_data,\n",
        "    eval_dataset=common_voice_test,\n",
        "    tokenizer=processor.feature_extractor,\n",
        ")"
      ],
      "execution_count": null,
      "outputs": []
    },
    {
      "cell_type": "markdown",
      "metadata": {
        "id": "UoXBx1JAA0DX"
      },
      "source": [
        "\n",
        "\n",
        "---\n",
        "\n",
        "${}^1$ To allow models to become independent of the speaker rate, in CTC, consecutive tokens that are identical are simply grouped as a single token. However, the encoded labels should not be grouped when decoding since they don't correspond to the predicted tokens of the model, which is why the `group_tokens=False` parameter has to be passed. If we wouldn't pass this parameter a word like `\"hello\"` would incorrectly be encoded, and decoded as `\"helo\"`.\n",
        "\n",
        "${}^2$ The blank token allows the model to predict a word, such as `\"hello\"` by forcing it to insert the blank token between the two l's. A CTC-conform prediction of `\"hello\"` of our model would be `[PAD] [PAD] \"h\" \"e\" \"e\" \"l\" \"l\" [PAD] \"l\" \"o\" \"o\" [PAD]`."
      ]
    },
    {
      "cell_type": "markdown",
      "metadata": {
        "id": "rpvZHM1xReIW"
      },
      "source": [
        "### Training"
      ]
    },
    {
      "cell_type": "markdown",
      "metadata": {
        "id": "j-3oKSzZ1hGq"
      },
      "source": [
        "Training will take between 180 and 240 minutes depending on the GPU allocated to this notebook. While the trained model yields somewhat satisfying results on *Common Voice*'s test data of Turkish, it is by no means an optimally fine-tuned model. The purpose of this notebook is to demonstrate how XLSR-Wav2Vec2's [checkpoint](https://huggingface.co/facebook/wav2vec2-large-xlsr-53) can be fine-tuned on a low-resource ASR dataset.\n",
        "\n",
        "In case you want to use this google colab to fine-tune your model, you should make sure that your training doesn't stop due to inactivity. A simple hack to prevent this is to paste the following code into the console of this tab (*right mouse click -> inspect -> Console tab and insert code*)."
      ]
    },
    {
      "cell_type": "markdown",
      "metadata": {
        "id": "VYYAvgkW4P0m"
      },
      "source": [
        "```javascript\n",
        "function ConnectButton(){\n",
        "    console.log(\"Connect pushed\"); \n",
        "    document.querySelector(\"#top-toolbar > colab-connect-button\").shadowRoot.querySelector(\"#connect\").click() \n",
        "}\n",
        "setInterval(ConnectButton,60000);\n",
        "```"
      ]
    },
    {
      "cell_type": "code",
      "metadata": {
        "id": "_UEjJqGsQw24",
        "colab": {
          "base_uri": "https://localhost:8080/",
          "height": 452
        },
        "outputId": "33629e12-c6bb-4f88-bd76-8148d08edba6"
      },
      "source": [
        "trainer.train()"
      ],
      "execution_count": null,
      "outputs": [
        {
          "output_type": "stream",
          "text": [
            "/usr/local/lib/python3.7/dist-packages/torch/optim/lr_scheduler.py:134: UserWarning: Detected call of `lr_scheduler.step()` before `optimizer.step()`. In PyTorch 1.1.0 and later, you should call them in the opposite order: `optimizer.step()` before `lr_scheduler.step()`.  Failure to do this will result in PyTorch skipping the first value of the learning rate schedule. See more details at https://pytorch.org/docs/stable/optim.html#how-to-adjust-learning-rate\n",
            "  \"https://pytorch.org/docs/stable/optim.html#how-to-adjust-learning-rate\", UserWarning)\n"
          ],
          "name": "stderr"
        },
        {
          "output_type": "display_data",
          "data": {
            "text/html": [
              "\n",
              "    <div>\n",
              "        <style>\n",
              "            /* Turns off some styling */\n",
              "            progress {\n",
              "                /* gets rid of default border in Firefox and Opera. */\n",
              "                border: none;\n",
              "                /* Needs to be in here for Safari polyfill so background images work as expected. */\n",
              "                background-size: auto;\n",
              "            }\n",
              "        </style>\n",
              "      \n",
              "      <progress value='163' max='270' style='width:300px; height:20px; vertical-align: middle;'></progress>\n",
              "      [163/270 21:49 < 14:30, 0.12 it/s, Epoch 17.95/30]\n",
              "    </div>\n",
              "    <table border=\"1\" class=\"dataframe\">\n",
              "  <thead>\n",
              "    <tr style=\"text-align: left;\">\n",
              "      <th>Step</th>\n",
              "      <th>Training Loss</th>\n",
              "      <th>Validation Loss</th>\n",
              "      <th>Wer</th>\n",
              "      <th>Runtime</th>\n",
              "      <th>Samples Per Second</th>\n",
              "    </tr>\n",
              "  </thead>\n",
              "  <tbody>\n",
              "    <tr>\n",
              "      <td>50</td>\n",
              "      <td>14.270800</td>\n",
              "      <td>3.614136</td>\n",
              "      <td>1.000000</td>\n",
              "      <td>17.806600</td>\n",
              "      <td>7.132000</td>\n",
              "    </tr>\n",
              "    <tr>\n",
              "      <td>100</td>\n",
              "      <td>3.656300</td>\n",
              "      <td>3.448345</td>\n",
              "      <td>1.000000</td>\n",
              "      <td>17.837700</td>\n",
              "      <td>7.120000</td>\n",
              "    </tr>\n",
              "    <tr>\n",
              "      <td>150</td>\n",
              "      <td>3.542000</td>\n",
              "      <td>3.383998</td>\n",
              "      <td>1.000000</td>\n",
              "      <td>17.905400</td>\n",
              "      <td>7.093000</td>\n",
              "    </tr>\n",
              "  </tbody>\n",
              "</table><p>"
            ],
            "text/plain": [
              "<IPython.core.display.HTML object>"
            ]
          },
          "metadata": {
            "tags": []
          }
        },
        {
          "output_type": "display_data",
          "data": {
            "text/html": [
              "\n",
              "    <div>\n",
              "        <style>\n",
              "            /* Turns off some styling */\n",
              "            progress {\n",
              "                /* gets rid of default border in Firefox and Opera. */\n",
              "                border: none;\n",
              "                /* Needs to be in here for Safari polyfill so background images work as expected. */\n",
              "                background-size: auto;\n",
              "            }\n",
              "        </style>\n",
              "      \n",
              "      <progress value='270' max='270' style='width:300px; height:20px; vertical-align: middle;'></progress>\n",
              "      [270/270 36:53, Epoch 29/30]\n",
              "    </div>\n",
              "    <table border=\"1\" class=\"dataframe\">\n",
              "  <thead>\n",
              "    <tr style=\"text-align: left;\">\n",
              "      <th>Step</th>\n",
              "      <th>Training Loss</th>\n",
              "      <th>Validation Loss</th>\n",
              "      <th>Wer</th>\n",
              "      <th>Runtime</th>\n",
              "      <th>Samples Per Second</th>\n",
              "    </tr>\n",
              "  </thead>\n",
              "  <tbody>\n",
              "    <tr>\n",
              "      <td>50</td>\n",
              "      <td>14.270800</td>\n",
              "      <td>3.614136</td>\n",
              "      <td>1.000000</td>\n",
              "      <td>17.806600</td>\n",
              "      <td>7.132000</td>\n",
              "    </tr>\n",
              "    <tr>\n",
              "      <td>100</td>\n",
              "      <td>3.656300</td>\n",
              "      <td>3.448345</td>\n",
              "      <td>1.000000</td>\n",
              "      <td>17.837700</td>\n",
              "      <td>7.120000</td>\n",
              "    </tr>\n",
              "    <tr>\n",
              "      <td>150</td>\n",
              "      <td>3.542000</td>\n",
              "      <td>3.383998</td>\n",
              "      <td>1.000000</td>\n",
              "      <td>17.905400</td>\n",
              "      <td>7.093000</td>\n",
              "    </tr>\n",
              "    <tr>\n",
              "      <td>200</td>\n",
              "      <td>3.550500</td>\n",
              "      <td>3.363573</td>\n",
              "      <td>1.000000</td>\n",
              "      <td>17.943000</td>\n",
              "      <td>7.078000</td>\n",
              "    </tr>\n",
              "    <tr>\n",
              "      <td>250</td>\n",
              "      <td>3.484500</td>\n",
              "      <td>3.352853</td>\n",
              "      <td>1.000000</td>\n",
              "      <td>18.022700</td>\n",
              "      <td>7.047000</td>\n",
              "    </tr>\n",
              "  </tbody>\n",
              "</table><p>"
            ],
            "text/plain": [
              "<IPython.core.display.HTML object>"
            ]
          },
          "metadata": {
            "tags": []
          }
        },
        {
          "output_type": "execute_result",
          "data": {
            "text/plain": [
              "TrainOutput(global_step=270, training_loss=5.536068047417535, metrics={'train_runtime': 2222.9056, 'train_samples_per_second': 0.121, 'total_flos': 1.4587193439461376e+18, 'epoch': 29.95, 'init_mem_cpu_alloc_delta': 354913, 'init_mem_gpu_alloc_delta': 1262009344, 'init_mem_cpu_peaked_delta': 18306, 'init_mem_gpu_peaked_delta': 0, 'train_mem_cpu_alloc_delta': 1013127, 'train_mem_gpu_alloc_delta': 3795987456, 'train_mem_cpu_peaked_delta': 103019260, 'train_mem_gpu_peaked_delta': 3840578560})"
            ]
          },
          "metadata": {
            "tags": []
          },
          "execution_count": 44
        }
      ]
    },
    {
      "cell_type": "markdown",
      "metadata": {
        "id": "RHIVc44_fY2N"
      },
      "source": [
        "The training loss goes down and we can see that the WER on the test set also improves nicely. Because this notebook is just for demonstration purposes, we can stop here.\n",
        "\n",
        "The resulting model of this notebook has been saved to [`patrickvonplaten/wav2vec2-large-xlsr-turkish-demo`](https://huggingface.co/patrickvonplaten/wav2vec2-large-xlsr-turkish-demo)\n",
        "\n",
        "As a final check, let's load the model and verify that it indeed has learned to transcribe Turkish speech.\n",
        "\n",
        "Let's first load the pretrained checkpoint."
      ]
    },
    {
      "cell_type": "code",
      "metadata": {
        "colab": {
          "base_uri": "https://localhost:8080/",
          "height": 562
        },
        "id": "J8E8pxJ9hgZS",
        "outputId": "d8e877e6-8ec5-4f8c-8b5b-c531e0bec8c8"
      },
      "source": [
        "from transformers import Wav2Vec2ForCTC, Wav2Vec2Processor\n",
        "\n",
        "model = Wav2Vec2ForCTC.from_pretrained(\"facebook/wav2vec2-large-xlsr-53\").to(\"cuda\")\n",
        "processor = Wav2Vec2Processor.from_pretrained(\"facebook/wav2vec2-large-xlsr-53\")"
      ],
      "execution_count": null,
      "outputs": [
        {
          "output_type": "stream",
          "text": [
            "Some weights of Wav2Vec2ForCTC were not initialized from the model checkpoint at facebook/wav2vec2-large-xlsr-53 and are newly initialized: ['lm_head.weight', 'lm_head.bias']\n",
            "You should probably TRAIN this model on a down-stream task to be able to use it for predictions and inference.\n",
            "404 Client Error: Not Found for url: https://huggingface.co/facebook/wav2vec2-large-xlsr-53/resolve/main/preprocessor_config.json\n"
          ],
          "name": "stderr"
        },
        {
          "output_type": "error",
          "ename": "OSError",
          "evalue": "ignored",
          "traceback": [
            "\u001b[0;31m---------------------------------------------------------------------------\u001b[0m",
            "\u001b[0;31mHTTPError\u001b[0m                                 Traceback (most recent call last)",
            "\u001b[0;32m/usr/local/lib/python3.7/dist-packages/transformers/feature_extraction_utils.py\u001b[0m in \u001b[0;36mget_feature_extractor_dict\u001b[0;34m(cls, pretrained_model_name_or_path, **kwargs)\u001b[0m\n\u001b[1;32m    340\u001b[0m                 \u001b[0mlocal_files_only\u001b[0m\u001b[0;34m=\u001b[0m\u001b[0mlocal_files_only\u001b[0m\u001b[0;34m,\u001b[0m\u001b[0;34m\u001b[0m\u001b[0;34m\u001b[0m\u001b[0m\n\u001b[0;32m--> 341\u001b[0;31m                 \u001b[0muse_auth_token\u001b[0m\u001b[0;34m=\u001b[0m\u001b[0muse_auth_token\u001b[0m\u001b[0;34m,\u001b[0m\u001b[0;34m\u001b[0m\u001b[0;34m\u001b[0m\u001b[0m\n\u001b[0m\u001b[1;32m    342\u001b[0m             )\n",
            "\u001b[0;32m/usr/local/lib/python3.7/dist-packages/transformers/file_utils.py\u001b[0m in \u001b[0;36mcached_path\u001b[0;34m(url_or_filename, cache_dir, force_download, proxies, resume_download, user_agent, extract_compressed_file, force_extract, use_auth_token, local_files_only)\u001b[0m\n\u001b[1;32m   1137\u001b[0m             \u001b[0muse_auth_token\u001b[0m\u001b[0;34m=\u001b[0m\u001b[0muse_auth_token\u001b[0m\u001b[0;34m,\u001b[0m\u001b[0;34m\u001b[0m\u001b[0;34m\u001b[0m\u001b[0m\n\u001b[0;32m-> 1138\u001b[0;31m             \u001b[0mlocal_files_only\u001b[0m\u001b[0;34m=\u001b[0m\u001b[0mlocal_files_only\u001b[0m\u001b[0;34m,\u001b[0m\u001b[0;34m\u001b[0m\u001b[0;34m\u001b[0m\u001b[0m\n\u001b[0m\u001b[1;32m   1139\u001b[0m         )\n",
            "\u001b[0;32m/usr/local/lib/python3.7/dist-packages/transformers/file_utils.py\u001b[0m in \u001b[0;36mget_from_cache\u001b[0;34m(url, cache_dir, force_download, proxies, etag_timeout, resume_download, user_agent, use_auth_token, local_files_only)\u001b[0m\n\u001b[1;32m   1295\u001b[0m             \u001b[0mr\u001b[0m \u001b[0;34m=\u001b[0m \u001b[0mrequests\u001b[0m\u001b[0;34m.\u001b[0m\u001b[0mhead\u001b[0m\u001b[0;34m(\u001b[0m\u001b[0murl\u001b[0m\u001b[0;34m,\u001b[0m \u001b[0mheaders\u001b[0m\u001b[0;34m=\u001b[0m\u001b[0mheaders\u001b[0m\u001b[0;34m,\u001b[0m \u001b[0mallow_redirects\u001b[0m\u001b[0;34m=\u001b[0m\u001b[0;32mFalse\u001b[0m\u001b[0;34m,\u001b[0m \u001b[0mproxies\u001b[0m\u001b[0;34m=\u001b[0m\u001b[0mproxies\u001b[0m\u001b[0;34m,\u001b[0m \u001b[0mtimeout\u001b[0m\u001b[0;34m=\u001b[0m\u001b[0metag_timeout\u001b[0m\u001b[0;34m)\u001b[0m\u001b[0;34m\u001b[0m\u001b[0;34m\u001b[0m\u001b[0m\n\u001b[0;32m-> 1296\u001b[0;31m             \u001b[0mr\u001b[0m\u001b[0;34m.\u001b[0m\u001b[0mraise_for_status\u001b[0m\u001b[0;34m(\u001b[0m\u001b[0;34m)\u001b[0m\u001b[0;34m\u001b[0m\u001b[0;34m\u001b[0m\u001b[0m\n\u001b[0m\u001b[1;32m   1297\u001b[0m             \u001b[0metag\u001b[0m \u001b[0;34m=\u001b[0m \u001b[0mr\u001b[0m\u001b[0;34m.\u001b[0m\u001b[0mheaders\u001b[0m\u001b[0;34m.\u001b[0m\u001b[0mget\u001b[0m\u001b[0;34m(\u001b[0m\u001b[0;34m\"X-Linked-Etag\"\u001b[0m\u001b[0;34m)\u001b[0m \u001b[0;32mor\u001b[0m \u001b[0mr\u001b[0m\u001b[0;34m.\u001b[0m\u001b[0mheaders\u001b[0m\u001b[0;34m.\u001b[0m\u001b[0mget\u001b[0m\u001b[0;34m(\u001b[0m\u001b[0;34m\"ETag\"\u001b[0m\u001b[0;34m)\u001b[0m\u001b[0;34m\u001b[0m\u001b[0;34m\u001b[0m\u001b[0m\n",
            "\u001b[0;32m/usr/local/lib/python3.7/dist-packages/requests/models.py\u001b[0m in \u001b[0;36mraise_for_status\u001b[0;34m(self)\u001b[0m\n\u001b[1;32m    940\u001b[0m         \u001b[0;32mif\u001b[0m \u001b[0mhttp_error_msg\u001b[0m\u001b[0;34m:\u001b[0m\u001b[0;34m\u001b[0m\u001b[0;34m\u001b[0m\u001b[0m\n\u001b[0;32m--> 941\u001b[0;31m             \u001b[0;32mraise\u001b[0m \u001b[0mHTTPError\u001b[0m\u001b[0;34m(\u001b[0m\u001b[0mhttp_error_msg\u001b[0m\u001b[0;34m,\u001b[0m \u001b[0mresponse\u001b[0m\u001b[0;34m=\u001b[0m\u001b[0mself\u001b[0m\u001b[0;34m)\u001b[0m\u001b[0;34m\u001b[0m\u001b[0;34m\u001b[0m\u001b[0m\n\u001b[0m\u001b[1;32m    942\u001b[0m \u001b[0;34m\u001b[0m\u001b[0m\n",
            "\u001b[0;31mHTTPError\u001b[0m: 404 Client Error: Not Found for url: https://huggingface.co/facebook/wav2vec2-large-xlsr-53/resolve/main/preprocessor_config.json",
            "\nDuring handling of the above exception, another exception occurred:\n",
            "\u001b[0;31mOSError\u001b[0m                                   Traceback (most recent call last)",
            "\u001b[0;32m<ipython-input-4-d05b2ba2c3f6>\u001b[0m in \u001b[0;36m<module>\u001b[0;34m()\u001b[0m\n\u001b[1;32m      2\u001b[0m \u001b[0;34m\u001b[0m\u001b[0m\n\u001b[1;32m      3\u001b[0m \u001b[0mmodel\u001b[0m \u001b[0;34m=\u001b[0m \u001b[0mWav2Vec2ForCTC\u001b[0m\u001b[0;34m.\u001b[0m\u001b[0mfrom_pretrained\u001b[0m\u001b[0;34m(\u001b[0m\u001b[0;34m\"facebook/wav2vec2-large-xlsr-53\"\u001b[0m\u001b[0;34m)\u001b[0m\u001b[0;34m.\u001b[0m\u001b[0mto\u001b[0m\u001b[0;34m(\u001b[0m\u001b[0;34m\"cuda\"\u001b[0m\u001b[0;34m)\u001b[0m\u001b[0;34m\u001b[0m\u001b[0;34m\u001b[0m\u001b[0m\n\u001b[0;32m----> 4\u001b[0;31m \u001b[0mprocessor\u001b[0m \u001b[0;34m=\u001b[0m \u001b[0mWav2Vec2Processor\u001b[0m\u001b[0;34m.\u001b[0m\u001b[0mfrom_pretrained\u001b[0m\u001b[0;34m(\u001b[0m\u001b[0;34m\"facebook/wav2vec2-large-xlsr-53\"\u001b[0m\u001b[0;34m)\u001b[0m\u001b[0;34m\u001b[0m\u001b[0;34m\u001b[0m\u001b[0m\n\u001b[0m",
            "\u001b[0;32m/usr/local/lib/python3.7/dist-packages/transformers/models/wav2vec2/processing_wav2vec2.py\u001b[0m in \u001b[0;36mfrom_pretrained\u001b[0;34m(cls, pretrained_model_name_or_path, **kwargs)\u001b[0m\n\u001b[1;32m    102\u001b[0m                 \u001b[0;34m:\u001b[0m\u001b[0;32mclass\u001b[0m\u001b[0;34m:\u001b[0m\u001b[0;31m`\u001b[0m\u001b[0;34m~\u001b[0m\u001b[0mtransformers\u001b[0m\u001b[0;34m.\u001b[0m\u001b[0mPreTrainedTokenizer\u001b[0m\u001b[0;31m`\u001b[0m\u001b[0;34m\u001b[0m\u001b[0;34m\u001b[0m\u001b[0m\n\u001b[1;32m    103\u001b[0m         \"\"\"\n\u001b[0;32m--> 104\u001b[0;31m         \u001b[0mfeature_extractor\u001b[0m \u001b[0;34m=\u001b[0m \u001b[0mWav2Vec2FeatureExtractor\u001b[0m\u001b[0;34m.\u001b[0m\u001b[0mfrom_pretrained\u001b[0m\u001b[0;34m(\u001b[0m\u001b[0mpretrained_model_name_or_path\u001b[0m\u001b[0;34m,\u001b[0m \u001b[0;34m**\u001b[0m\u001b[0mkwargs\u001b[0m\u001b[0;34m)\u001b[0m\u001b[0;34m\u001b[0m\u001b[0;34m\u001b[0m\u001b[0m\n\u001b[0m\u001b[1;32m    105\u001b[0m         \u001b[0mtokenizer\u001b[0m \u001b[0;34m=\u001b[0m \u001b[0mWav2Vec2CTCTokenizer\u001b[0m\u001b[0;34m.\u001b[0m\u001b[0mfrom_pretrained\u001b[0m\u001b[0;34m(\u001b[0m\u001b[0mpretrained_model_name_or_path\u001b[0m\u001b[0;34m,\u001b[0m \u001b[0;34m**\u001b[0m\u001b[0mkwargs\u001b[0m\u001b[0;34m)\u001b[0m\u001b[0;34m\u001b[0m\u001b[0;34m\u001b[0m\u001b[0m\n\u001b[1;32m    106\u001b[0m \u001b[0;34m\u001b[0m\u001b[0m\n",
            "\u001b[0;32m/usr/local/lib/python3.7/dist-packages/transformers/feature_extraction_utils.py\u001b[0m in \u001b[0;36mfrom_pretrained\u001b[0;34m(cls, pretrained_model_name_or_path, **kwargs)\u001b[0m\n\u001b[1;32m    269\u001b[0m             \u001b[0;32massert\u001b[0m \u001b[0munused_kwargs\u001b[0m \u001b[0;34m==\u001b[0m \u001b[0;34m{\u001b[0m\u001b[0;34m'foo'\u001b[0m\u001b[0;34m:\u001b[0m \u001b[0;32mFalse\u001b[0m\u001b[0;34m}\u001b[0m\u001b[0;34m\u001b[0m\u001b[0;34m\u001b[0m\u001b[0m\n\u001b[1;32m    270\u001b[0m         \"\"\"\n\u001b[0;32m--> 271\u001b[0;31m         \u001b[0mfeature_extractor_dict\u001b[0m\u001b[0;34m,\u001b[0m \u001b[0mkwargs\u001b[0m \u001b[0;34m=\u001b[0m \u001b[0mcls\u001b[0m\u001b[0;34m.\u001b[0m\u001b[0mget_feature_extractor_dict\u001b[0m\u001b[0;34m(\u001b[0m\u001b[0mpretrained_model_name_or_path\u001b[0m\u001b[0;34m,\u001b[0m \u001b[0;34m**\u001b[0m\u001b[0mkwargs\u001b[0m\u001b[0;34m)\u001b[0m\u001b[0;34m\u001b[0m\u001b[0;34m\u001b[0m\u001b[0m\n\u001b[0m\u001b[1;32m    272\u001b[0m \u001b[0;34m\u001b[0m\u001b[0m\n\u001b[1;32m    273\u001b[0m         \u001b[0;32mreturn\u001b[0m \u001b[0mcls\u001b[0m\u001b[0;34m.\u001b[0m\u001b[0mfrom_dict\u001b[0m\u001b[0;34m(\u001b[0m\u001b[0mfeature_extractor_dict\u001b[0m\u001b[0;34m,\u001b[0m \u001b[0;34m**\u001b[0m\u001b[0mkwargs\u001b[0m\u001b[0;34m)\u001b[0m\u001b[0;34m\u001b[0m\u001b[0;34m\u001b[0m\u001b[0m\n",
            "\u001b[0;32m/usr/local/lib/python3.7/dist-packages/transformers/feature_extraction_utils.py\u001b[0m in \u001b[0;36mget_feature_extractor_dict\u001b[0;34m(cls, pretrained_model_name_or_path, **kwargs)\u001b[0m\n\u001b[1;32m    353\u001b[0m                 \u001b[0;34mf\"- or '{pretrained_model_name_or_path}' is the correct path to a directory containing a {FEATURE_EXTRACTOR_NAME} file\\n\\n\"\u001b[0m\u001b[0;34m\u001b[0m\u001b[0;34m\u001b[0m\u001b[0m\n\u001b[1;32m    354\u001b[0m             )\n\u001b[0;32m--> 355\u001b[0;31m             \u001b[0;32mraise\u001b[0m \u001b[0mEnvironmentError\u001b[0m\u001b[0;34m(\u001b[0m\u001b[0mmsg\u001b[0m\u001b[0;34m)\u001b[0m\u001b[0;34m\u001b[0m\u001b[0;34m\u001b[0m\u001b[0m\n\u001b[0m\u001b[1;32m    356\u001b[0m \u001b[0;34m\u001b[0m\u001b[0m\n\u001b[1;32m    357\u001b[0m         \u001b[0;32mexcept\u001b[0m \u001b[0mjson\u001b[0m\u001b[0;34m.\u001b[0m\u001b[0mJSONDecodeError\u001b[0m\u001b[0;34m:\u001b[0m\u001b[0;34m\u001b[0m\u001b[0;34m\u001b[0m\u001b[0m\n",
            "\u001b[0;31mOSError\u001b[0m: Can't load feature extractor for 'facebook/wav2vec2-large-xlsr-53'. Make sure that:\n\n- 'facebook/wav2vec2-large-xlsr-53' is a correct model identifier listed on 'https://huggingface.co/models'\n\n- or 'facebook/wav2vec2-large-xlsr-53' is the correct path to a directory containing a preprocessor_config.json file\n\n"
          ]
        }
      ]
    },
    {
      "cell_type": "markdown",
      "metadata": {
        "id": "QsfGCQYSvY8C"
      },
      "source": [
        "Now, we will just take the first example of the test set, run it through the model and take the `argmax(...)` of the logits to retrieve the predicted token ids."
      ]
    },
    {
      "cell_type": "code",
      "metadata": {
        "colab": {
          "base_uri": "https://localhost:8080/"
        },
        "id": "EA6fxk-jiHby",
        "outputId": "8b91a977-2559-4adc-8298-b4ad6b7ff196"
      },
      "source": [
        "input_dict = processor(common_voice_test[\"input_values\"][0], return_tensors=\"pt\", padding=True)\n",
        "\n",
        "logits = model(input_dict.input_values.to(\"cuda\")).logits\n",
        "\n",
        "pred_ids = torch.argmax(logits, dim=-1)[0]"
      ],
      "execution_count": null,
      "outputs": [
        {
          "output_type": "stream",
          "text": [
            "It is strongly recommended to pass the ``sampling_rate`` argument to this function.Failing to do so can result in silent errors that might be hard to debug.\n"
          ],
          "name": "stderr"
        }
      ]
    },
    {
      "cell_type": "markdown",
      "metadata": {
        "id": "1JDyVCMDvlYd"
      },
      "source": [
        "We adapted `common_voice_test` quite a bit so that the dataset instance does not contain the original sentence label anymore. Thus, we re-use the original dataset to get the label of the first example."
      ]
    },
    {
      "cell_type": "code",
      "metadata": {
        "colab": {
          "base_uri": "https://localhost:8080/"
        },
        "id": "8dPE2GRIgtx-",
        "outputId": "a211d1ee-d850-481d-8bac-dc46c3efa561"
      },
      "source": [
        "common_voice_test_transcription = load_dataset(\"common_voice\", \"hi\", data_dir=\"./cv-corpus-6.1-2020-12-11\", split=\"test\")"
      ],
      "execution_count": null,
      "outputs": [
        {
          "output_type": "stream",
          "text": [
            "Using custom data configuration tr-ad9f7b76efa9f3a0\n",
            "Reusing dataset common_voice (/root/.cache/huggingface/datasets/common_voice/tr-ad9f7b76efa9f3a0/6.1.0/32954a9015faa0d840f6c6894938545c5d12bc5d8936a80079af74bf50d71564)\n"
          ],
          "name": "stderr"
        }
      ]
    },
    {
      "cell_type": "markdown",
      "metadata": {
        "id": "ApS3MmN4v5P7"
      },
      "source": [
        "Finally, we can decode the example."
      ]
    },
    {
      "cell_type": "code",
      "metadata": {
        "colab": {
          "base_uri": "https://localhost:8080/"
        },
        "id": "Phqxa1O1jMDk",
        "outputId": "60d48c9f-f745-45ac-9105-446dc71025ca"
      },
      "source": [
        "print(\"Prediction:\")\n",
        "print(processor.decode(pred_ids))\n",
        "\n",
        "print(\"\\nReference:\")\n",
        "print(common_voice_test_transcription[\"sentence\"][0].lower())\n"
      ],
      "execution_count": null,
      "outputs": [
        {
          "output_type": "stream",
          "text": [
            "Prediction:\n",
            "hata küçük şeyler için birbüy bi şeyler kolaluyor ve yenekiçük şeyler için bir bimizi inciltiyoruz\n",
            "\n",
            "Reference:\n",
            "hayatta küçük şeyleri kovalıyor ve yine küçük şeyler için birbirimizi incitiyoruz.\n"
          ],
          "name": "stdout"
        }
      ]
    },
    {
      "cell_type": "markdown",
      "metadata": {
        "id": "4n_8vhzUv7aw"
      },
      "source": [
        "Alright! The transcription can definitely be recognized from our prediction, but it is far from being perfect. Training the model a bit longer, spending more time on the data preprocessing, and especially using a language model for decoding would certainly improve the model's overall performance. \n",
        "\n",
        "For a demonstration model on a low-resource language, the results are acceptable, however 🤗."
      ]
    }
  ]
}