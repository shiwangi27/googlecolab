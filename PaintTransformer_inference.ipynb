{
  "nbformat": 4,
  "nbformat_minor": 0,
  "metadata": {
    "colab": {
      "name": "PaintTransformer_inference.ipynb",
      "provenance": [],
      "collapsed_sections": [],
      "include_colab_link": true
    },
    "kernelspec": {
      "name": "python3",
      "display_name": "Python 3"
    },
    "language_info": {
      "name": "python"
    },
    "accelerator": "GPU"
  },
  "cells": [
    {
      "cell_type": "markdown",
      "metadata": {
        "id": "view-in-github",
        "colab_type": "text"
      },
      "source": [
        "<a href=\"https://colab.research.google.com/github/shiwangi27/googlecolab/blob/main/PaintTransformer_inference.ipynb\" target=\"_parent\"><img src=\"https://colab.research.google.com/assets/colab-badge.svg\" alt=\"Open In Colab\"/></a>"
      ]
    },
    {
      "cell_type": "code",
      "metadata": {
        "colab": {
          "base_uri": "https://localhost:8080/"
        },
        "id": "xVm91xF0IXkJ",
        "outputId": "e562c624-856e-41bd-eb74-32d78bcc1225"
      },
      "source": [
        "%cd /content\n",
        "!git clone https://github.com/lucabeetz/PaintTransformer.git\n",
        "%cd PaintTransformer/inference"
      ],
      "execution_count": null,
      "outputs": [
        {
          "output_type": "stream",
          "text": [
            "/content\n",
            "Cloning into 'PaintTransformer'...\n",
            "remote: Enumerating objects: 85, done.\u001b[K\n",
            "remote: Counting objects: 100% (85/85), done.\u001b[K\n",
            "remote: Compressing objects: 100% (80/80), done.\u001b[K\n",
            "remote: Total 85 (delta 18), reused 14 (delta 5), pack-reused 0\u001b[K\n",
            "Unpacking objects: 100% (85/85), done.\n",
            "/content/PaintTransformer/inference\n"
          ],
          "name": "stdout"
        }
      ]
    },
    {
      "cell_type": "code",
      "metadata": {
        "colab": {
          "base_uri": "https://localhost:8080/"
        },
        "id": "yF54nnSel403",
        "outputId": "6be1ff8a-6f65-4e68-a542-15db8c28ebe6"
      },
      "source": [
        "from PIL import Image\n",
        "\n",
        "input_img = 'input/me_kayak_small.jpg'\n",
        "\n",
        "with Image.open(input_img) as im:\n",
        "  im_height, im_width = im.size\n",
        "\n",
        "IMAGE_WIDTH = int(im_width*0.60)\n",
        "IMAGE_HEIGHT = int(im_height*0.60)\n",
        "\n",
        "print(\"image resize:\", IMAGE_WIDTH, IMAGE_HEIGHT)"
      ],
      "execution_count": null,
      "outputs": [
        {
          "output_type": "stream",
          "text": [
            "image resize: 403 388\n"
          ],
          "name": "stdout"
        }
      ]
    },
    {
      "cell_type": "code",
      "metadata": {
        "id": "ovrg6GqOIbzm"
      },
      "source": [
        "from inference import run_inference\n",
        "\n",
        "run_inference(input_path=input_img,\n",
        "              model_path='model.pth',\n",
        "              output_dir='output/', # whether need intermediate results for animation.\n",
        "              need_animation=True,  # resize original input to this size. None means do not resize.\n",
        "              resize_h=IMAGE_WIDTH,        # resize original input to this size. None means do not resize.\n",
        "              resize_w=IMAGE_HEIGHT,\n",
        "              serial=True)          # if need animation, serial must be True."
      ],
      "execution_count": null,
      "outputs": []
    },
    {
      "cell_type": "code",
      "metadata": {
        "id": "63S0ohZmI1Qf"
      },
      "source": [
        "# Create gif from individual steps\n",
        "import glob\n",
        "\n",
        "# Set to dir with output images\n",
        "in_dir = 'output/me_kayak_small/*.jpg'\n",
        "out_path = 'output/me_kayak_small.gif'\n",
        "\n",
        "def filter_files(imglist):\n",
        "  filtered_imglist = []\n",
        "  for _img in imglist:\n",
        "    fname = _img.split(\"/\")[-1]\n",
        "    fnum = int(fname.strip(\".jpg\"))\n",
        "    if fnum%2 == 1:\n",
        "      filtered_imglist.append(_img)\n",
        "  return filtered_imglist\n",
        "\n",
        "all_images = glob.glob(in_dir)\n",
        "sampled_images = filter_files(all_images)\n",
        "\n",
        "img, *imgs = [Image.open(f) for f in sorted(sampled_images)]\n",
        "img.save(fp=out_path, format='GIF', append_images=imgs,\n",
        "          save_all=True, duration=50, loop=0)"
      ],
      "execution_count": null,
      "outputs": []
    },
    {
      "cell_type": "code",
      "metadata": {
        "colab": {
          "base_uri": "https://localhost:8080/"
        },
        "id": "of14va_7fk7-",
        "outputId": "0ca707eb-df51-4837-99b7-55a307ca715a"
      },
      "source": [
        "!ls"
      ],
      "execution_count": null,
      "outputs": [
        {
          "output_type": "stream",
          "text": [
            "brush\t      input    model.pth      network.py  __pycache__\n",
            "inference.py  main.py  morphology.py  output\n"
          ],
          "name": "stdout"
        }
      ]
    },
    {
      "cell_type": "code",
      "metadata": {
        "id": "y1VuYk0QnNNx"
      },
      "source": [
        "! rm -rf output/me_kayak_small*"
      ],
      "execution_count": null,
      "outputs": []
    },
    {
      "cell_type": "code",
      "metadata": {
        "id": "3KcfhfoQnX8e"
      },
      "source": [
        ""
      ],
      "execution_count": null,
      "outputs": []
    }
  ]
}