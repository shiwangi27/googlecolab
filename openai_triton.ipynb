{
  "nbformat": 4,
  "nbformat_minor": 0,
  "metadata": {
    "colab": {
      "name": "openai_triton.ipynb",
      "provenance": [],
      "collapsed_sections": [],
      "authorship_tag": "ABX9TyNSkGu/SogQ+ksQOWZDgonW",
      "include_colab_link": true
    },
    "kernelspec": {
      "name": "python3",
      "display_name": "Python 3"
    },
    "language_info": {
      "name": "python"
    },
    "accelerator": "GPU"
  },
  "cells": [
    {
      "cell_type": "markdown",
      "metadata": {
        "id": "view-in-github",
        "colab_type": "text"
      },
      "source": [
        "<a href=\"https://colab.research.google.com/github/shiwangi27/googlecolab/blob/main/openai_triton.ipynb\" target=\"_parent\"><img src=\"https://colab.research.google.com/assets/colab-badge.svg\" alt=\"Open In Colab\"/></a>"
      ]
    },
    {
      "cell_type": "code",
      "metadata": {
        "colab": {
          "base_uri": "https://localhost:8080/"
        },
        "id": "JCX8p3vkWDh4",
        "outputId": "953b3502-1b72-4c33-f081-bc4c6c02e7a7"
      },
      "source": [
        "!pip install triton"
      ],
      "execution_count": null,
      "outputs": [
        {
          "output_type": "stream",
          "text": [
            "Collecting triton\n",
            "  Downloading triton-1.0.0-cp37-cp37m-manylinux_2_17_x86_64.manylinux2014_x86_64.whl (15.2 MB)\n",
            "\u001b[K     |████████████████████████████████| 15.2 MB 36 kB/s \n",
            "\u001b[?25hRequirement already satisfied: torch in /usr/local/lib/python3.7/dist-packages (from triton) (1.9.0+cu102)\n",
            "Requirement already satisfied: typing-extensions in /usr/local/lib/python3.7/dist-packages (from torch->triton) (3.7.4.3)\n",
            "Installing collected packages: triton\n",
            "Successfully installed triton-1.0.0\n"
          ],
          "name": "stdout"
        }
      ]
    },
    {
      "cell_type": "code",
      "metadata": {
        "id": "ERal7t2hdEB7"
      },
      "source": [
        "def next_power_of_2(n):\n",
        "    n -= 1\n",
        "    n |= n >> 1\n",
        "    n |= n >> 2\n",
        "    n |= n >> 4\n",
        "    n |= n >> 8\n",
        "    n |= n >> 16\n",
        "    n += 1\n",
        "    return n\n"
      ],
      "execution_count": null,
      "outputs": []
    },
    {
      "cell_type": "code",
      "metadata": {
        "id": "bny-0f-KWQPa"
      },
      "source": [
        "import triton\n",
        "import triton.language as tl\n",
        "\n",
        "@triton.jit\n",
        "def _softmax(Y, X, stride_xm, stride_ym, M, N, **meta):\n",
        "    # row index\n",
        "    m = tl.program_id(0)\n",
        "    # col indices\n",
        "    # here BLOCK is the smallest power of two greater than `N`\n",
        "    n = tl.arange(0, meta['BLOCK'])\n",
        "    # the memory address of all the elements\n",
        "    # that we want to load can be computed as follows\n",
        "    X = X + m * stride_xm + n\n",
        "    x = tl.load(X, mask=n < N, other=-float('inf'))\n",
        "    # Substract maximum for numerical stability\n",
        "    z = x - tl.max(x, axis=0)\n",
        "    # Note that exponentials in Triton are fast\n",
        "    # but approximate (i.e., think __expf in CUDA)\n",
        "    num = tl.exp(z)\n",
        "    denom = tl.sum(num, axis=0)\n",
        "    y = num / denom\n",
        "    # Write back to Y\n",
        "    Y = Y + m * stride_ym + n\n",
        "    tl.store(Y, y, mask=n < N)\n",
        "\n",
        "\n",
        "@triton.jit\n",
        "def _relu(Y, X, stride_xm, stride_ym, M, N, **meta):\n",
        "  # row index\n",
        "    m = tl.program_id(0)\n",
        "    # col indices\n",
        "    # here BLOCK is the smallest power of two greater than `N`\n",
        "    n = tl.arange(0, meta['BLOCK'])\n",
        "    # the memory address of all the elements\n",
        "    # that we want to load can be computed as follows\n",
        "    X = X + m * stride_xm + n\n",
        "    x = tl.load(X, mask=n < N, other=-float('inf'))\n",
        "    \n",
        "    # Relu \n",
        "    y = tl.maximum(x, 0.0)\n",
        "\n",
        "    # Write back to Y\n",
        "    Y = Y + m * stride_ym + n\n",
        "    tl.store(Y, y, mask=n < N)\n",
        "\n",
        "\n",
        "@triton.jit\n",
        "def _sigmoid(Y, X, stride_xm, stride_ym, M, N, **meta):\n",
        "    # row index\n",
        "    m = tl.program_id(0)\n",
        "    # col indices\n",
        "    # here BLOCK is the smallest power of two greater than `N`\n",
        "    n = tl.arange(0, meta['BLOCK'])\n",
        "    # the memory address of all the elements\n",
        "    # that we want to load can be computed as follows\n",
        "    X = X + m * stride_xm + n\n",
        "    x = tl.load(X, mask=n < N, other=-float('inf'))\n",
        "    \n",
        "    # Sigmoid \n",
        "    exp = tl.exp(-x)\n",
        "    y = 1 / (1 + exp)\n",
        "\n",
        "    # Write back to Y\n",
        "    Y = Y + m * stride_ym + n\n",
        "    tl.store(Y, y, mask=n < N)\n",
        "    "
      ],
      "execution_count": null,
      "outputs": []
    },
    {
      "cell_type": "code",
      "metadata": {
        "id": "R_W-iFTmWT41"
      },
      "source": [
        "\n",
        "def softmax(x):\n",
        "    M, N = x.shape\n",
        "    # The block size is the smallest power of two greater than the number of columns in `x`\n",
        "    BLOCK = next_power_of_2(N)\n",
        "    # Another trick we can use is to ask the compiler to use more threads per row by\n",
        "    # increasing the number of warps (`num_warps`) over which each row is distributed.\n",
        "    # You will see in the next tutorial how to auto-tune this value in a more natural\n",
        "    # way so you don't have to come up with manual heuristics yourself.\n",
        "    num_warps = 4\n",
        "    if BLOCK >= 2048: num_warps = 8\n",
        "    if BLOCK >= 4096: num_warps = 16\n",
        "    # Allocate output\n",
        "    y = torch.empty_like(x)\n",
        "    # Enqueue kernel. The launch grid is simple: we have one kernel instance per row of the input matrix\n",
        "    _softmax[(M, )](y, x, x.stride(0), y.stride(0), M, N, num_warps=num_warps, BLOCK=BLOCK)\n",
        "    return y\n",
        "\n",
        "def relu(x):\n",
        "    M, N = x.shape\n",
        "    # The block size is the smallest power of two greater than the number of columns in `x`\n",
        "    BLOCK = next_power_of_2(N)\n",
        "    # Another trick we can use is to ask the compiler to use more threads per row by\n",
        "    # increasing the number of warps (`num_warps`) over which each row is distributed.\n",
        "    # You will see in the next tutorial how to auto-tune this value in a more natural\n",
        "    # way so you don't have to come up with manual heuristics yourself.\n",
        "    num_warps = 4\n",
        "    if BLOCK >= 2048: num_warps = 8\n",
        "    if BLOCK >= 4096: num_warps = 16\n",
        "    # Allocate output\n",
        "    y = torch.empty_like(x)\n",
        "    # Enqueue kernel. The launch grid is simple: we have one kernel instance per row of the input matrix\n",
        "    _relu[(M, )](y, x, x.stride(0), y.stride(0), M, N, num_warps=num_warps, BLOCK=BLOCK)\n",
        "    return y\n",
        "\n",
        "def sigmoid(x):\n",
        "    M, N = x.shape\n",
        "    # The block size is the smallest power of two greater than the number of columns in `x`\n",
        "    BLOCK = next_power_of_2(N)\n",
        "    # Another trick we can use is to ask the compiler to use more threads per row by\n",
        "    # increasing the number of warps (`num_warps`) over which each row is distributed.\n",
        "    # You will see in the next tutorial how to auto-tune this value in a more natural\n",
        "    # way so you don't have to come up with manual heuristics yourself.\n",
        "    num_warps = 4\n",
        "    if BLOCK >= 2048: num_warps = 8\n",
        "    if BLOCK >= 4096: num_warps = 16\n",
        "    # Allocate output\n",
        "    y = torch.empty_like(x)\n",
        "    # Enqueue kernel. The launch grid is simple: we have one kernel instance per row of the input matrix\n",
        "    _sigmoid[(M, )](y, x, x.stride(0), y.stride(0), M, N, num_warps=num_warps, BLOCK=BLOCK)\n",
        "    return y"
      ],
      "execution_count": null,
      "outputs": []
    },
    {
      "cell_type": "code",
      "metadata": {
        "colab": {
          "base_uri": "https://localhost:8080/"
        },
        "id": "eRuFAzA8b22X",
        "outputId": "728d176d-1769-486e-99f7-901abcad115e"
      },
      "source": [
        "x = torch.randn(100, 100, device='cuda', dtype=torch.float32)\n",
        "relu(x)"
      ],
      "execution_count": null,
      "outputs": [
        {
          "output_type": "execute_result",
          "data": {
            "text/plain": [
              "tensor([[0.0000, 0.8540, 0.0000,  ..., 0.4478, 0.0000, 1.3876],\n",
              "        [0.2218, 0.0000, 0.1983,  ..., 0.0000, 0.7606, 0.0000],\n",
              "        [1.3607, 1.3590, 0.0000,  ..., 0.1590, 0.0000, 0.4678],\n",
              "        ...,\n",
              "        [0.0000, 0.6066, 0.5151,  ..., 0.0000, 0.0000, 0.8314],\n",
              "        [0.8935, 0.2409, 0.0000,  ..., 0.0000, 0.3104, 0.9568],\n",
              "        [0.1568, 0.0000, 0.0000,  ..., 0.0000, 0.0000, 0.0000]],\n",
              "       device='cuda:0')"
            ]
          },
          "metadata": {
            "tags": []
          },
          "execution_count": 35
        }
      ]
    },
    {
      "cell_type": "code",
      "metadata": {
        "colab": {
          "base_uri": "https://localhost:8080/"
        },
        "id": "21IUfB8icWel",
        "outputId": "fd2b6450-a31a-4bb8-c426-fa4f64eea211"
      },
      "source": [
        "torch.relu(x)"
      ],
      "execution_count": null,
      "outputs": [
        {
          "output_type": "execute_result",
          "data": {
            "text/plain": [
              "tensor([[0.0000, 0.8540, 0.0000,  ..., 0.4478, 0.0000, 1.3876],\n",
              "        [0.2218, 0.0000, 0.1983,  ..., 0.0000, 0.7606, 0.0000],\n",
              "        [1.3607, 1.3590, 0.0000,  ..., 0.1590, 0.0000, 0.4678],\n",
              "        ...,\n",
              "        [0.0000, 0.6066, 0.5151,  ..., 0.0000, 0.0000, 0.8314],\n",
              "        [0.8935, 0.2409, 0.0000,  ..., 0.0000, 0.3104, 0.9568],\n",
              "        [0.1568, 0.0000, 0.0000,  ..., 0.0000, 0.0000, 0.0000]],\n",
              "       device='cuda:0')"
            ]
          },
          "metadata": {
            "tags": []
          },
          "execution_count": 36
        }
      ]
    },
    {
      "cell_type": "code",
      "metadata": {
        "colab": {
          "base_uri": "https://localhost:8080/"
        },
        "id": "hfVsqibNZkpq",
        "outputId": "a474343e-69b6-47eb-ad33-ae249216f662"
      },
      "source": [
        "sigmoid(x)"
      ],
      "execution_count": null,
      "outputs": [
        {
          "output_type": "execute_result",
          "data": {
            "text/plain": [
              "tensor([[0.1082, 0.7014, 0.2970,  ..., 0.6101, 0.3600, 0.8002],\n",
              "        [0.5552, 0.2010, 0.5494,  ..., 0.4796, 0.6815, 0.1123],\n",
              "        [0.7959, 0.7956, 0.2000,  ..., 0.5397, 0.1757, 0.6149],\n",
              "        ...,\n",
              "        [0.4810, 0.6472, 0.6260,  ..., 0.1944, 0.3924, 0.6967],\n",
              "        [0.7096, 0.5599, 0.1938,  ..., 0.4543, 0.5770, 0.7225],\n",
              "        [0.5391, 0.2901, 0.3627,  ..., 0.4326, 0.2999, 0.3227]],\n",
              "       device='cuda:0')"
            ]
          },
          "metadata": {
            "tags": []
          },
          "execution_count": 41
        }
      ]
    },
    {
      "cell_type": "code",
      "metadata": {
        "colab": {
          "base_uri": "https://localhost:8080/"
        },
        "id": "D19vZ_HQdzn_",
        "outputId": "c6d8fc30-03aa-4268-cbcd-e152a4a2c889"
      },
      "source": [
        "torch.sigmoid(x)"
      ],
      "execution_count": null,
      "outputs": [
        {
          "output_type": "execute_result",
          "data": {
            "text/plain": [
              "tensor([[0.1082, 0.7014, 0.2970,  ..., 0.6101, 0.3600, 0.8002],\n",
              "        [0.5552, 0.2010, 0.5494,  ..., 0.4796, 0.6815, 0.1123],\n",
              "        [0.7959, 0.7956, 0.2000,  ..., 0.5397, 0.1757, 0.6149],\n",
              "        ...,\n",
              "        [0.4810, 0.6472, 0.6260,  ..., 0.1944, 0.3924, 0.6967],\n",
              "        [0.7096, 0.5599, 0.1938,  ..., 0.4543, 0.5770, 0.7225],\n",
              "        [0.5391, 0.2901, 0.3627,  ..., 0.4326, 0.2999, 0.3227]],\n",
              "       device='cuda:0')"
            ]
          },
          "metadata": {
            "tags": []
          },
          "execution_count": 42
        }
      ]
    },
    {
      "cell_type": "markdown",
      "metadata": {
        "id": "jg3tdwgMc8QS"
      },
      "source": [
        "### Benchmarking"
      ]
    },
    {
      "cell_type": "code",
      "metadata": {
        "id": "onEX5eU1XJDy"
      },
      "source": [
        "# Compute the row-wise softmax of x\n",
        "@torch.jit.script\n",
        "def naive_softmax(x):\n",
        "    # read  MN elements ; write M  elements\n",
        "    x_max = x.max(dim=1)[0]\n",
        "    # read 2MN elements ; write MN elements\n",
        "    z = x - x_max[:, None]\n",
        "    # read  MN elements ; write MN elements\n",
        "    numerator = torch.exp(x)\n",
        "    # read  MN elements ; write M  elements\n",
        "    denominator = numerator.sum(dim=1)\n",
        "    # read 2MN elements ; write MN elements\n",
        "    ret = numerator / denominator[:, None]\n",
        "    # in total: read 7MN elements ; wrote 3MN + 2M elements\n",
        "    return ret"
      ],
      "execution_count": null,
      "outputs": []
    },
    {
      "cell_type": "code",
      "metadata": {
        "colab": {
          "base_uri": "https://localhost:8080/",
          "height": 534
        },
        "id": "Ehm15nF9WWff",
        "outputId": "3aae4e04-fe25-44c2-ba26-db02becdcca5"
      },
      "source": [
        "@triton.testing.perf_report(\n",
        "    triton.testing.Benchmark(\n",
        "        x_names=['N'],  # argument names to use as an x-axis for the plot\n",
        "        x_vals=[128 * i for i in range(2, 100)],  # different possible values for `x_name`\n",
        "        line_arg='provider',  # argument name whose value corresponds to a different line in the plot\n",
        "        line_vals=['triton', 'torch-native', 'torch-jit'],  # possible values for `line_arg``\n",
        "        line_names=[\"Triton\", \"Torch (native)\", \"Torch (jit)\"],  # label name for the lines\n",
        "        styles=[('blue', '-'), ('green', '-'), ('green', '--')],  # line styles\n",
        "        ylabel=\"GB/s\",  # label name for the y-axis\n",
        "        plot_name=\"softmax-performance\",  # name for the plot. Used also as a file name for saving the plot.\n",
        "        args={'M': 4096}  # values for function arguments not in `x_names` and `y_name`\n",
        "    )\n",
        ")\n",
        "def benchmark(M, N, provider):\n",
        "    x = torch.randn(M, N, device='cuda', dtype=torch.float32)\n",
        "    if provider == 'torch-native':\n",
        "        ms, min_ms, max_ms = triton.testing.do_bench(lambda: torch.softmax(x, axis=-1))\n",
        "    if provider == 'triton':\n",
        "        ms, min_ms, max_ms = triton.testing.do_bench(lambda: softmax(x))\n",
        "    if provider == 'torch-jit':\n",
        "        ms, min_ms, max_ms = triton.testing.do_bench(lambda: naive_softmax(x))\n",
        "    gbps = lambda ms: 2 * x.nelement() * x.element_size() * 1e-9 / (ms * 1e-3)\n",
        "    return gbps(ms), gbps(max_ms), gbps(min_ms)\n",
        "\n",
        "\n",
        "benchmark.run(show_plots=True, print_data=True)\n"
      ],
      "execution_count": null,
      "outputs": [
        {
          "output_type": "display_data",
          "data": {
            "image/png": "[encoded data removed]",
            "text/plain": [
              "<Figure size 432x288 with 1 Axes>"
            ]
          },
          "metadata": {
            "tags": [],
            "needs_background": "light"
          }
        },
        {
          "output_type": "stream",
          "text": [
            "softmax-performance:\n",
            "          N      Triton  Torch (native)  Torch (jit)\n",
            "0     256.0  137.464082      205.926154    92.925911\n",
            "1     384.0  227.555555      219.428568    90.104488\n",
            "2     512.0  222.344357      219.275613    91.006425\n",
            "3     640.0  225.287038      216.934793    92.252251\n",
            "4     768.0  227.555555      215.578943    93.234383\n",
            "..      ...         ...             ...          ...\n",
            "93  12160.0  233.718862      137.275408    98.930126\n",
            "94  12288.0  234.065855      136.628213    98.996979\n",
            "95  12416.0  233.657111      135.875261    98.884565\n",
            "96  12544.0  233.470063      135.705367    98.968000\n",
            "97  12672.0  233.606284      133.741423    98.881559\n",
            "\n",
            "[98 rows x 4 columns]\n"
          ],
          "name": "stdout"
        }
      ]
    },
    {
      "cell_type": "code",
      "metadata": {
        "colab": {
          "base_uri": "https://localhost:8080/",
          "height": 538
        },
        "id": "hoaN1a-BXOk7",
        "outputId": "fffa0867-6f9e-4f5a-a0f2-1c6725cd1850"
      },
      "source": [
        "@triton.testing.perf_report(\n",
        "    triton.testing.Benchmark(\n",
        "        x_names=['N'],  # argument names to use as an x-axis for the plot\n",
        "        x_vals=[128 * i for i in range(2, 100)],  # different possible values for `x_name`\n",
        "        line_arg='provider',  # argument name whose value corresponds to a different line in the plot\n",
        "        line_vals=['triton', 'torch-native'],  # possible values for `line_arg``\n",
        "        line_names=[\"Triton\", \"Torch (native)\"],  # label name for the lines\n",
        "        styles=[('blue', '-'), ('green', '-')],  # line styles\n",
        "        ylabel=\"GB/s\",  # label name for the y-axis\n",
        "        plot_name=\"softmax-performance\",  # name for the plot. Used also as a file name for saving the plot.\n",
        "        args={'M': 4096}  # values for function arguments not in `x_names` and `y_name`\n",
        "    )\n",
        ")\n",
        "def benchmark(M, N, provider):\n",
        "    x = torch.randn(M, N, device='cuda', dtype=torch.float32)\n",
        "    if provider == 'torch-native':\n",
        "        ms, min_ms, max_ms = triton.testing.do_bench(lambda: torch.relu(x))\n",
        "    if provider == 'triton':\n",
        "        ms, min_ms, max_ms = triton.testing.do_bench(lambda: relu(x))\n",
        "    gbps = lambda ms: 2 * x.nelement() * x.element_size() * 1e-9 / (ms * 1e-3)\n",
        "    return gbps(ms), gbps(max_ms), gbps(min_ms)\n",
        "\n",
        "\n",
        "benchmark.run(show_plots=True, print_data=True)"
      ],
      "execution_count": null,
      "outputs": [
        {
          "output_type": "display_data",
          "data": {
            "image/png": "[encoded data removed]",
            "text/plain": [
              "<Figure size 432x288 with 1 Axes>"
            ]
          },
          "metadata": {
            "tags": [],
            "needs_background": "light"
          }
        },
        {
          "output_type": "stream",
          "text": [
            "softmax-performance:\n",
            "          N      Triton  Torch (native)\n",
            "0     256.0  216.112112      211.236097\n",
            "1     384.0  219.428568      219.551087\n",
            "2     512.0  223.481677      223.386456\n",
            "3     640.0  227.555552      227.555552\n",
            "4     768.0  227.292483      227.753259\n",
            "..      ...         ...             ...\n",
            "93  12160.0  229.108901      237.508148\n",
            "94  12288.0  229.059253      237.498573\n",
            "95  12416.0  228.891079      237.329597\n",
            "96  12544.0  229.175470      237.519534\n",
            "97  12672.0  228.662300      237.579695\n",
            "\n",
            "[98 rows x 3 columns]\n"
          ],
          "name": "stdout"
        }
      ]
    },
    {
      "cell_type": "code",
      "metadata": {
        "colab": {
          "base_uri": "https://localhost:8080/",
          "height": 534
        },
        "id": "kWuq9nDlaSIB",
        "outputId": "bcf23895-0fca-49c7-d350-1419bf037714"
      },
      "source": [
        "@triton.testing.perf_report(\n",
        "    triton.testing.Benchmark(\n",
        "        x_names=['N'],  # argument names to use as an x-axis for the plot\n",
        "        x_vals=[128 * i for i in range(2, 100)],  # different possible values for `x_name`\n",
        "        line_arg='provider',  # argument name whose value corresponds to a different line in the plot\n",
        "        line_vals=['triton', 'torch-native'],  # possible values for `line_arg``\n",
        "        line_names=[\"Triton\", \"Torch (native)\"],  # label name for the lines\n",
        "        styles=[('blue', '-'), ('green', '-')],  # line styles\n",
        "        ylabel=\"GB/s\",  # label name for the y-axis\n",
        "        plot_name=\"softmax-performance\",  # name for the plot. Used also as a file name for saving the plot.\n",
        "        args={'M': 4096}  # values for function arguments not in `x_names` and `y_name`\n",
        "    )\n",
        ")\n",
        "def benchmark(M, N, provider):\n",
        "    x = torch.randn(M, N, device='cuda', dtype=torch.float32)\n",
        "    if provider == 'torch-native':\n",
        "        ms, min_ms, max_ms = triton.testing.do_bench(lambda: torch.sigmoid(x))\n",
        "    if provider == 'triton':\n",
        "        ms, min_ms, max_ms = triton.testing.do_bench(lambda: sigmoid(x))\n",
        "    gbps = lambda ms: 2 * x.nelement() * x.element_size() * 1e-9 / (ms * 1e-3)\n",
        "    return gbps(ms), gbps(max_ms), gbps(min_ms)\n",
        "\n",
        "\n",
        "benchmark.run(show_plots=True, print_data=True)"
      ],
      "execution_count": null,
      "outputs": [
        {
          "output_type": "display_data",
          "data": {
            "image/png": "[encoded data removed]",
            "text/plain": [
              "<Figure size 432x288 with 1 Axes>"
            ]
          },
          "metadata": {
            "tags": [],
            "needs_background": "light"
          }
        },
        {
          "output_type": "stream",
          "text": [
            "softmax-performance:\n",
            "          N      Triton  Torch (native)\n",
            "0     256.0  215.578957      206.901344\n",
            "1     384.0  219.428568      218.696335\n",
            "2     512.0  221.592553      222.911566\n",
            "3     640.0  226.611349      227.555552\n",
            "4     768.0  227.555555      229.146849\n",
            "..      ...         ...             ...\n",
            "93  12160.0  230.568278      239.301987\n",
            "94  12288.0  230.976601      239.182490\n",
            "95  12416.0  230.572250      239.056563\n",
            "96  12544.0  230.694256      239.213657\n",
            "97  12672.0  230.399998      239.354552\n",
            "\n",
            "[98 rows x 3 columns]\n"
          ],
          "name": "stdout"
        }
      ]
    },
    {
      "cell_type": "code",
      "metadata": {
        "id": "JR_YIDzMd8RJ"
      },
      "source": [
        ""
      ],
      "execution_count": null,
      "outputs": []
    }
  ]
}