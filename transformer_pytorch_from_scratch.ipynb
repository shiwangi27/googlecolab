{
  "nbformat": 4,
  "nbformat_minor": 0,
  "metadata": {
    "colab": {
      "name": "transformer-pytorch-from-scratch.ipynb",
      "provenance": [],
      "collapsed_sections": [],
      "authorship_tag": "ABX9TyNYSp42lpQzRn1N7bRKriWR",
      "include_colab_link": true
    },
    "kernelspec": {
      "name": "python3",
      "display_name": "Python 3"
    }
  },
  "cells": [
    {
      "cell_type": "markdown",
      "metadata": {
        "id": "view-in-github",
        "colab_type": "text"
      },
      "source": [
        "<a href=\"https://colab.research.google.com/github/shiwangi27/googlecolab/blob/main/transformer_pytorch_from_scratch.ipynb\" target=\"_parent\"><img src=\"https://colab.research.google.com/assets/colab-badge.svg\" alt=\"Open In Colab\"/></a>"
      ]
    },
    {
      "cell_type": "markdown",
      "metadata": {
        "id": "3AiB9mZMXRHH"
      },
      "source": [
        "PyTorch for building and training Transformer NLP models from scratch. "
      ]
    },
    {
      "cell_type": "markdown",
      "metadata": {
        "id": "nCPd43FHvit8"
      },
      "source": [
        ""
      ]
    },
    {
      "cell_type": "code",
      "metadata": {
        "id": "tAQsXp-3XXrV"
      },
      "source": [
        "import math\n",
        "import torch\n",
        "from torch import Tensor\n",
        "import torch.nn as nn\n",
        "import torch.nn.functional as F "
      ],
      "execution_count": null,
      "outputs": []
    },
    {
      "cell_type": "code",
      "metadata": {
        "id": "hZeBDA1AXa9H"
      },
      "source": [
        "class BertConfig:\n",
        "  pass"
      ],
      "execution_count": null,
      "outputs": []
    },
    {
      "cell_type": "code",
      "metadata": {
        "id": "TzGmOkvSlX1R"
      },
      "source": [
        ""
      ],
      "execution_count": null,
      "outputs": []
    },
    {
      "cell_type": "code",
      "metadata": {
        "id": "OW2V_514X5DX"
      },
      "source": [
        "class SelfAttention(nn.Module):\n",
        "  \"\"\"\n",
        "  Multi-head Self-attention is the learnt subspace representation of a sequence\n",
        "  through linear projections of \n",
        "  attention = softmax (k . q / √d) * v \n",
        "  \"\"\"\n",
        "  def __init__(self, embed_dim: int, \n",
        "               num_heads: int, \n",
        "               activation: nn.functional = F.relu, \n",
        "               bias: bool = True, \n",
        "               mask: bool = False) -> Tensor:\n",
        "    super(SelfAttention, self).__init__()\n",
        "\n",
        "    self.num_heads = num_heads\n",
        "    self.embed_dim = embed_dim\n",
        "    self.activation = activation\n",
        "    self.bias = bias\n",
        "\n",
        "    self.q = nn.Linear(embed_dim, embed_dim)\n",
        "    self.k = nn.Linear(embed_dim, embed_dim)\n",
        "    self.v = nn.Linear(embed_dim, embed_dim)\n",
        "\n",
        "    self.out_projection = nn.Linear(embedding_dim, embedding_dim)\n",
        "  \n",
        "  def _reshape_to_subspace(x):\n",
        "    batch_size, seq_len, embed_dim = x.size()\n",
        "    subspace_dim = embed_sim // self.num_heads\n",
        "    new_batch_size = batch_size * self.num_heads\n",
        "\n",
        "    return x.reshape(batch_size, seq_len, self.num_heads, subspace_dim)\\\n",
        "            .permute((0, 2, 1, 3))\\\n",
        "            .reshape(new_batch_size, seq_len, subspace_dim)\n",
        "\n",
        "  def _reshape_from_subspace(x):\n",
        "    new_batch_size, seq_len, subspace_dim = x.size()\n",
        "    embed_dim = subspace_dim * self.num_heads\n",
        "    batch_size = new_batch_size // self.num_heads\n",
        "\n",
        "    return x.reshape(batch_size, self.num_heads, seq_len, subspace_dim)\\\n",
        "            .permute(0, 2, 1, 3)\\\n",
        "            .reshape(batch_size, seq_len, embed_dim)\n",
        "\n",
        "  def forward(X):\n",
        "    q = self._reshape_to_subspace(q)\n",
        "    k = self._reshape_to_subspace(k)\n",
        "    v = self._reshape_to_subspace(v)\n",
        "\n",
        "    d = q.size(-1)\n",
        "    scaled_dot_product = q.matmul(k.transpose(-2, -1)) / math.sqrt(d)\n",
        "    if mask:\n",
        "      scaled_dot_product.masked_fill(mask[:,:,:seq_len,:seq_len] == 0, float('-inf'))\n",
        "\n",
        "        \n",
        "\n",
        "\n",
        "    "
      ],
      "execution_count": null,
      "outputs": []
    },
    {
      "cell_type": "code",
      "metadata": {
        "id": "RvzrjSnSYOxX"
      },
      "source": [
        "class TransformerBlock(nn.Module):\n",
        "  def __init__(self):\n",
        "    super(TransformerBlock, self).__init__()\n",
        "  def forward(self):\n",
        "    pass"
      ],
      "execution_count": null,
      "outputs": []
    },
    {
      "cell_type": "code",
      "metadata": {
        "id": "4i0i4EmRX73X"
      },
      "source": [
        "class BertModel(nn.Module):\n",
        "  def __init__(self):\n",
        "    super(BertModel, self).__init__()\n",
        "  def forward(self):\n",
        "    pass"
      ],
      "execution_count": null,
      "outputs": []
    },
    {
      "cell_type": "code",
      "metadata": {
        "id": "Nt0xaVOsYBHI"
      },
      "source": [
        ""
      ],
      "execution_count": null,
      "outputs": []
    }
  ]
}