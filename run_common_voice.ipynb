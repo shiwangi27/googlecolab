{
  "nbformat": 4,
  "nbformat_minor": 0,
  "metadata": {
    "colab": {
      "name": "run_common_voice.ipynb",
      "provenance": [],
      "collapsed_sections": [],
      "machine_shape": "hm",
      "authorship_tag": "ABX9TyMK3deWo1EdpARND5WjcJFn",
      "include_colab_link": true
    },
    "kernelspec": {
      "name": "python3",
      "display_name": "Python 3"
    },
    "language_info": {
      "name": "python"
    },
    "accelerator": "GPU"
  },
  "cells": [
    {
      "cell_type": "markdown",
      "metadata": {
        "id": "view-in-github",
        "colab_type": "text"
      },
      "source": [
        "<a href=\"https://colab.research.google.com/github/shiwangi27/googlecolab/blob/main/run_common_voice.ipynb\" target=\"_parent\"><img src=\"https://colab.research.google.com/assets/colab-badge.svg\" alt=\"Open In Colab\"/></a>"
      ]
    },
    {
      "cell_type": "code",
      "metadata": {
        "colab": {
          "base_uri": "https://localhost:8080/"
        },
        "id": "hykLW_7GWFk5",
        "outputId": "56e367e3-ed03-46ba-bf3d-84140ae41cae"
      },
      "source": [
        "from google.colab import drive\n",
        "drive.mount(\"/content/drive\")"
      ],
      "execution_count": 1,
      "outputs": [
        {
          "output_type": "stream",
          "text": [
            "Mounted at /content/drive\n"
          ],
          "name": "stdout"
        }
      ]
    },
    {
      "cell_type": "code",
      "metadata": {
        "colab": {
          "base_uri": "https://localhost:8080/"
        },
        "id": "TKNnPCW4XArj",
        "outputId": "2db96c42-2a94-45ee-d7df-6e3b9f11e124"
      },
      "source": [
        "!pip install -r /content/drive/MyDrive/Projects/requirements.txt"
      ],
      "execution_count": null,
      "outputs": [
        {
          "output_type": "stream",
          "text": [
            "Requirement already satisfied: transformers in /usr/local/lib/python3.7/dist-packages (from -r /content/drive/MyDrive/Projects/requirements.txt (line 1)) (4.4.2)\n",
            "Requirement already satisfied: datasets in /usr/local/lib/python3.7/dist-packages (from -r /content/drive/MyDrive/Projects/requirements.txt (line 2)) (1.5.0)\n",
            "Requirement already satisfied: torch>=1.5.0 in /usr/local/lib/python3.7/dist-packages (from -r /content/drive/MyDrive/Projects/requirements.txt (line 3)) (1.8.0+cu101)\n",
            "Requirement already satisfied: torchaudio in /usr/local/lib/python3.7/dist-packages (from -r /content/drive/MyDrive/Projects/requirements.txt (line 4)) (0.8.1)\n",
            "Requirement already satisfied: jiwer==2.2.0 in /usr/local/lib/python3.7/dist-packages (from -r /content/drive/MyDrive/Projects/requirements.txt (line 5)) (2.2.0)\n",
            "Requirement already satisfied: lang-trans==0.6.0 in /usr/local/lib/python3.7/dist-packages (from -r /content/drive/MyDrive/Projects/requirements.txt (line 6)) (0.6.0)\n",
            "Requirement already satisfied: librosa==0.8.0 in /usr/local/lib/python3.7/dist-packages (from -r /content/drive/MyDrive/Projects/requirements.txt (line 7)) (0.8.0)\n",
            "Requirement already satisfied: tqdm>=4.27 in /usr/local/lib/python3.7/dist-packages (from transformers->-r /content/drive/MyDrive/Projects/requirements.txt (line 1)) (4.41.1)\n",
            "Requirement already satisfied: numpy>=1.17 in /usr/local/lib/python3.7/dist-packages (from transformers->-r /content/drive/MyDrive/Projects/requirements.txt (line 1)) (1.19.5)\n",
            "Requirement already satisfied: sacremoses in /usr/local/lib/python3.7/dist-packages (from transformers->-r /content/drive/MyDrive/Projects/requirements.txt (line 1)) (0.0.43)\n",
            "Requirement already satisfied: tokenizers<0.11,>=0.10.1 in /usr/local/lib/python3.7/dist-packages (from transformers->-r /content/drive/MyDrive/Projects/requirements.txt (line 1)) (0.10.1)\n",
            "Requirement already satisfied: filelock in /usr/local/lib/python3.7/dist-packages (from transformers->-r /content/drive/MyDrive/Projects/requirements.txt (line 1)) (3.0.12)\n",
            "Requirement already satisfied: regex!=2019.12.17 in /usr/local/lib/python3.7/dist-packages (from transformers->-r /content/drive/MyDrive/Projects/requirements.txt (line 1)) (2019.12.20)\n",
            "Requirement already satisfied: packaging in /usr/local/lib/python3.7/dist-packages (from transformers->-r /content/drive/MyDrive/Projects/requirements.txt (line 1)) (20.9)\n",
            "Requirement already satisfied: importlib-metadata; python_version < \"3.8\" in /usr/local/lib/python3.7/dist-packages (from transformers->-r /content/drive/MyDrive/Projects/requirements.txt (line 1)) (3.7.2)\n",
            "Requirement already satisfied: requests in /usr/local/lib/python3.7/dist-packages (from transformers->-r /content/drive/MyDrive/Projects/requirements.txt (line 1)) (2.23.0)\n",
            "Requirement already satisfied: xxhash in /usr/local/lib/python3.7/dist-packages (from datasets->-r /content/drive/MyDrive/Projects/requirements.txt (line 2)) (2.0.0)\n",
            "Requirement already satisfied: pyarrow>=0.17.1 in /usr/local/lib/python3.7/dist-packages (from datasets->-r /content/drive/MyDrive/Projects/requirements.txt (line 2)) (3.0.0)\n",
            "Requirement already satisfied: pandas in /usr/local/lib/python3.7/dist-packages (from datasets->-r /content/drive/MyDrive/Projects/requirements.txt (line 2)) (1.1.5)\n",
            "Requirement already satisfied: fsspec in /usr/local/lib/python3.7/dist-packages (from datasets->-r /content/drive/MyDrive/Projects/requirements.txt (line 2)) (0.8.7)\n",
            "Requirement already satisfied: dill in /usr/local/lib/python3.7/dist-packages (from datasets->-r /content/drive/MyDrive/Projects/requirements.txt (line 2)) (0.3.3)\n",
            "Requirement already satisfied: multiprocess in /usr/local/lib/python3.7/dist-packages (from datasets->-r /content/drive/MyDrive/Projects/requirements.txt (line 2)) (0.70.11.1)\n",
            "Requirement already satisfied: huggingface-hub<0.1.0 in /usr/local/lib/python3.7/dist-packages (from datasets->-r /content/drive/MyDrive/Projects/requirements.txt (line 2)) (0.0.7)\n",
            "Requirement already satisfied: typing-extensions in /usr/local/lib/python3.7/dist-packages (from torch>=1.5.0->-r /content/drive/MyDrive/Projects/requirements.txt (line 3)) (3.7.4.3)\n",
            "Requirement already satisfied: python-Levenshtein in /usr/local/lib/python3.7/dist-packages (from jiwer==2.2.0->-r /content/drive/MyDrive/Projects/requirements.txt (line 5)) (0.12.2)\n",
            "Requirement already satisfied: decorator>=3.0.0 in /usr/local/lib/python3.7/dist-packages (from librosa==0.8.0->-r /content/drive/MyDrive/Projects/requirements.txt (line 7)) (4.4.2)\n",
            "Requirement already satisfied: numba>=0.43.0 in /usr/local/lib/python3.7/dist-packages (from librosa==0.8.0->-r /content/drive/MyDrive/Projects/requirements.txt (line 7)) (0.51.2)\n",
            "Requirement already satisfied: scikit-learn!=0.19.0,>=0.14.0 in /usr/local/lib/python3.7/dist-packages (from librosa==0.8.0->-r /content/drive/MyDrive/Projects/requirements.txt (line 7)) (0.22.2.post1)\n",
            "Requirement already satisfied: scipy>=1.0.0 in /usr/local/lib/python3.7/dist-packages (from librosa==0.8.0->-r /content/drive/MyDrive/Projects/requirements.txt (line 7)) (1.4.1)\n",
            "Requirement already satisfied: pooch>=1.0 in /usr/local/lib/python3.7/dist-packages (from librosa==0.8.0->-r /content/drive/MyDrive/Projects/requirements.txt (line 7)) (1.3.0)\n",
            "Requirement already satisfied: soundfile>=0.9.0 in /usr/local/lib/python3.7/dist-packages (from librosa==0.8.0->-r /content/drive/MyDrive/Projects/requirements.txt (line 7)) (0.10.3.post1)\n",
            "Requirement already satisfied: joblib>=0.14 in /usr/local/lib/python3.7/dist-packages (from librosa==0.8.0->-r /content/drive/MyDrive/Projects/requirements.txt (line 7)) (1.0.1)\n",
            "Requirement already satisfied: audioread>=2.0.0 in /usr/local/lib/python3.7/dist-packages (from librosa==0.8.0->-r /content/drive/MyDrive/Projects/requirements.txt (line 7)) (2.1.9)\n",
            "Requirement already satisfied: resampy>=0.2.2 in /usr/local/lib/python3.7/dist-packages (from librosa==0.8.0->-r /content/drive/MyDrive/Projects/requirements.txt (line 7)) (0.2.2)\n",
            "Requirement already satisfied: six in /usr/local/lib/python3.7/dist-packages (from sacremoses->transformers->-r /content/drive/MyDrive/Projects/requirements.txt (line 1)) (1.15.0)\n",
            "Requirement already satisfied: click in /usr/local/lib/python3.7/dist-packages (from sacremoses->transformers->-r /content/drive/MyDrive/Projects/requirements.txt (line 1)) (7.1.2)\n",
            "Requirement already satisfied: pyparsing>=2.0.2 in /usr/local/lib/python3.7/dist-packages (from packaging->transformers->-r /content/drive/MyDrive/Projects/requirements.txt (line 1)) (2.4.7)\n",
            "Requirement already satisfied: zipp>=0.5 in /usr/local/lib/python3.7/dist-packages (from importlib-metadata; python_version < \"3.8\"->transformers->-r /content/drive/MyDrive/Projects/requirements.txt (line 1)) (3.4.1)\n",
            "Requirement already satisfied: certifi>=2017.4.17 in /usr/local/lib/python3.7/dist-packages (from requests->transformers->-r /content/drive/MyDrive/Projects/requirements.txt (line 1)) (2020.12.5)\n",
            "Requirement already satisfied: urllib3!=1.25.0,!=1.25.1,<1.26,>=1.21.1 in /usr/local/lib/python3.7/dist-packages (from requests->transformers->-r /content/drive/MyDrive/Projects/requirements.txt (line 1)) (1.24.3)\n",
            "Requirement already satisfied: chardet<4,>=3.0.2 in /usr/local/lib/python3.7/dist-packages (from requests->transformers->-r /content/drive/MyDrive/Projects/requirements.txt (line 1)) (3.0.4)\n",
            "Requirement already satisfied: idna<3,>=2.5 in /usr/local/lib/python3.7/dist-packages (from requests->transformers->-r /content/drive/MyDrive/Projects/requirements.txt (line 1)) (2.10)\n",
            "Requirement already satisfied: pytz>=2017.2 in /usr/local/lib/python3.7/dist-packages (from pandas->datasets->-r /content/drive/MyDrive/Projects/requirements.txt (line 2)) (2018.9)\n",
            "Requirement already satisfied: python-dateutil>=2.7.3 in /usr/local/lib/python3.7/dist-packages (from pandas->datasets->-r /content/drive/MyDrive/Projects/requirements.txt (line 2)) (2.8.1)\n",
            "Requirement already satisfied: setuptools in /usr/local/lib/python3.7/dist-packages (from python-Levenshtein->jiwer==2.2.0->-r /content/drive/MyDrive/Projects/requirements.txt (line 5)) (54.1.2)\n",
            "Requirement already satisfied: llvmlite<0.35,>=0.34.0.dev0 in /usr/local/lib/python3.7/dist-packages (from numba>=0.43.0->librosa==0.8.0->-r /content/drive/MyDrive/Projects/requirements.txt (line 7)) (0.34.0)\n",
            "Requirement already satisfied: appdirs in /usr/local/lib/python3.7/dist-packages (from pooch>=1.0->librosa==0.8.0->-r /content/drive/MyDrive/Projects/requirements.txt (line 7)) (1.4.4)\n",
            "Requirement already satisfied: cffi>=1.0 in /usr/local/lib/python3.7/dist-packages (from soundfile>=0.9.0->librosa==0.8.0->-r /content/drive/MyDrive/Projects/requirements.txt (line 7)) (1.14.5)\n",
            "Requirement already satisfied: pycparser in /usr/local/lib/python3.7/dist-packages (from cffi>=1.0->soundfile>=0.9.0->librosa==0.8.0->-r /content/drive/MyDrive/Projects/requirements.txt (line 7)) (2.20)\n"
          ],
          "name": "stdout"
        }
      ]
    },
    {
      "cell_type": "code",
      "metadata": {
        "id": "dbR8PvzPl39n"
      },
      "source": [
        "! rm -rf ~/.cache/huggingface/datasets"
      ],
      "execution_count": null,
      "outputs": []
    },
    {
      "cell_type": "code",
      "metadata": {
        "colab": {
          "base_uri": "https://localhost:8080/"
        },
        "id": "fr5lxZ0roHO-",
        "outputId": "91636192-c0bc-4399-cb2a-1175f3aa9dc4"
      },
      "source": [
        "!python /content/drive/MyDrive/Projects/run_common_voice.py --model_name_or_path=\"facebook/wav2vec2-large-xlsr-53\" --dataset_config_name=\"hi\" --output_dir=./wav2vec2-large-xlsr-hindi-openslr --external_data_path=/content/drive/MyDrive/Projects/OpenSLR_Hindi_Data.zip --max_train_samples=1000 --overwrite_output_dir --num_train_epochs=\"30\" --per_device_train_batch_size=\"8\" --learning_rate=\"1e-4\" --preprocessing_num_workers=\"8\" --warmup_steps=\"500\" --lr_scheduler_type=\"constant_with_warmup\" --evaluation_strategy=\"steps\" --save_steps=\"400\" --eval_steps=\"400\" --logging_steps=\"400\" --save_total_limit=\"1\" --freeze_feature_extractor --feat_proj_dropout=\"0.0\" --layerdrop=\"0.1\" --mask_time_prob=\"0.05\" --gradient_accumulation_steps=\"1\" --gradient_checkpointing --fp16 --group_by_length --do_train --do_eval\n"
      ],
      "execution_count": null,
      "outputs": [
        {
          "output_type": "stream",
          "text": [
            "2021-03-28 21:17:38.156755: I tensorflow/stream_executor/platform/default/dso_loader.cc:49] Successfully opened dynamic library libcudart.so.11.0\n",
            "03/28/2021 21:17:39 - WARNING - __main__ -   Process rank: -1, device: cuda:0, n_gpu: 1distributed training: False, 16-bits training: True\n",
            "03/28/2021 21:17:39 - INFO - __main__ -   Training/evaluation parameters TrainingArguments(output_dir=./wav2vec2-large-xlsr-hindi-openslr, overwrite_output_dir=True, do_train=True, do_eval=True, do_predict=False, evaluation_strategy=IntervalStrategy.STEPS, prediction_loss_only=False, per_device_train_batch_size=8, per_device_eval_batch_size=8, gradient_accumulation_steps=1, eval_accumulation_steps=None, learning_rate=0.0001, weight_decay=0.0, adam_beta1=0.9, adam_beta2=0.999, adam_epsilon=1e-08, max_grad_norm=1.0, num_train_epochs=30.0, max_steps=-1, lr_scheduler_type=SchedulerType.CONSTANT_WITH_WARMUP, warmup_ratio=0.0, warmup_steps=500, logging_dir=runs/Mar28_21-17-39_f5b692c8a6e8, logging_strategy=IntervalStrategy.STEPS, logging_first_step=False, logging_steps=400, save_strategy=IntervalStrategy.STEPS, save_steps=400, save_total_limit=1, no_cuda=False, seed=42, fp16=True, fp16_opt_level=O1, fp16_backend=auto, fp16_full_eval=False, local_rank=-1, tpu_num_cores=None, tpu_metrics_debug=False, debug=False, dataloader_drop_last=False, eval_steps=400, dataloader_num_workers=0, past_index=-1, run_name=./wav2vec2-large-xlsr-hindi-openslr, disable_tqdm=False, remove_unused_columns=True, label_names=None, load_best_model_at_end=False, metric_for_best_model=None, greater_is_better=None, ignore_data_skip=False, sharded_ddp=[], deepspeed=None, label_smoothing_factor=0.0, adafactor=False, group_by_length=True, report_to=['tensorboard'], ddp_find_unused_parameters=None, dataloader_pin_memory=True, skip_memory_metrics=False, _n_gpu=1)\n",
            "03/28/2021 21:17:40 - WARNING - datasets.builder -   Reusing dataset common_voice (/root/.cache/huggingface/datasets/common_voice/hi/6.1.0/0041e06ab061b91d0a23234a2221e87970a19cf3a81b20901474cffffeb7869f)\n",
            "03/28/2021 21:17:40 - WARNING - datasets.builder -   Reusing dataset common_voice (/root/.cache/huggingface/datasets/common_voice/hi/6.1.0/0041e06ab061b91d0a23234a2221e87970a19cf3a81b20901474cffffeb7869f)\n",
            "100% 1000/1000 [00:00<00:00, 22555.72ex/s]\n",
            "03/28/2021 21:17:41 - WARNING - datasets.arrow_dataset -   Loading cached processed dataset at /root/.cache/huggingface/datasets/common_voice/hi/6.1.0/0041e06ab061b91d0a23234a2221e87970a19cf3a81b20901474cffffeb7869f/cache-966d01d0be222c49.arrow\n",
            "100% 1/1 [00:00<00:00, 43.37ba/s]\n",
            "03/28/2021 21:17:41 - WARNING - datasets.arrow_dataset -   Loading cached processed dataset at /root/.cache/huggingface/datasets/common_voice/hi/6.1.0/0041e06ab061b91d0a23234a2221e87970a19cf3a81b20901474cffffeb7869f/cache-0fda2cf5e5bac8b0.arrow\n",
            "100% 1/1 [00:00<00:00, 168.02ba/s]\n",
            "100% 1/1 [00:00<00:00, 533.42ba/s]\n",
            "#0:   0% 0/125 [00:00<?, ?ex/s]\n",
            "#1:   0% 0/125 [00:00<?, ?ex/s]\u001b[A\n",
            "\n",
            "#2:   0% 0/125 [00:00<?, ?ex/s]\u001b[A\u001b[A\n",
            "\n",
            "\n",
            "#3:   0% 0/125 [00:00<?, ?ex/s]\u001b[A\u001b[A\u001b[A\n",
            "\n",
            "\n",
            "\n",
            "#4:   0% 0/125 [00:00<?, ?ex/s]\u001b[A\u001b[A\u001b[A\u001b[A\n",
            "\n",
            "\n",
            "\n",
            "\n",
            "#5:   0% 0/125 [00:00<?, ?ex/s]\u001b[A\u001b[A\u001b[A\u001b[A\u001b[A\n",
            "\n",
            "\n",
            "\n",
            "\n",
            "\n",
            "#6:   0% 0/125 [00:00<?, ?ex/s]\u001b[A\u001b[A\u001b[A\u001b[A\u001b[A\u001b[A\n",
            "\n",
            "\n",
            "\n",
            "\n",
            "\n",
            "\n",
            "#7:   0% 0/125 [00:00<?, ?ex/s]\u001b[A\u001b[A\u001b[A\u001b[A\u001b[A\u001b[A\u001b[A"
          ],
          "name": "stdout"
        }
      ]
    },
    {
      "cell_type": "code",
      "metadata": {
        "colab": {
          "base_uri": "https://localhost:8080/"
        },
        "id": "kvMhgF-V9US8",
        "outputId": "1ce39eeb-a9b3-4ff7-f610-fdfeb686a2a0"
      },
      "source": [
        "!nvidia-smi"
      ],
      "execution_count": null,
      "outputs": [
        {
          "output_type": "stream",
          "text": [
            "Sun Mar 28 20:57:54 2021       \n",
            "+-----------------------------------------------------------------------------+\n",
            "| NVIDIA-SMI 460.56       Driver Version: 460.32.03    CUDA Version: 11.2     |\n",
            "|-------------------------------+----------------------+----------------------+\n",
            "| GPU  Name        Persistence-M| Bus-Id        Disp.A | Volatile Uncorr. ECC |\n",
            "| Fan  Temp  Perf  Pwr:Usage/Cap|         Memory-Usage | GPU-Util  Compute M. |\n",
            "|                               |                      |               MIG M. |\n",
            "|===============================+======================+======================|\n",
            "|   0  Tesla V100-SXM2...  Off  | 00000000:00:04.0 Off |                    0 |\n",
            "| N/A   36C    P0    23W / 300W |      2MiB / 16160MiB |      0%      Default |\n",
            "|                               |                      |                  N/A |\n",
            "+-------------------------------+----------------------+----------------------+\n",
            "                                                                               \n",
            "+-----------------------------------------------------------------------------+\n",
            "| Processes:                                                                  |\n",
            "|  GPU   GI   CI        PID   Type   Process name                  GPU Memory |\n",
            "|        ID   ID                                                   Usage      |\n",
            "|=============================================================================|\n",
            "|  No running processes found                                                 |\n",
            "+-----------------------------------------------------------------------------+\n"
          ],
          "name": "stdout"
        }
      ]
    },
    {
      "cell_type": "code",
      "metadata": {
        "id": "O4UY3EXspQky"
      },
      "source": [
        "import multiprocessing"
      ],
      "execution_count": null,
      "outputs": []
    },
    {
      "cell_type": "code",
      "metadata": {
        "id": "KABFPmuopZMm",
        "colab": {
          "base_uri": "https://localhost:8080/"
        },
        "outputId": "2c3442ba-f4ef-42ac-87d7-dbe0f2ffe9c1"
      },
      "source": [
        "!ps -ax"
      ],
      "execution_count": null,
      "outputs": [
        {
          "output_type": "stream",
          "text": [
            "    PID TTY      STAT   TIME COMMAND\n",
            "      1 ?        Ssl    0:05 /tools/node/bin/node /datalab/web/app.js\n",
            "     15 ?        Ss     0:00 tail -n +0 -F /root/.config/Google/DriveFS/Logs/dpb\n",
            "     59 ?        Sl     0:06 /usr/bin/python2 /usr/local/bin/jupyter-notebook --\n",
            "     60 ?        Sl     0:04 /usr/local/bin/dap_multiplexer --domain_socket_path\n",
            "     93 ?        Z      0:08 [python3] <defunct>\n",
            "    132 ?        S      0:00 /bin/bash --noediting -i\n",
            "    133 ?        Sl     0:00 /opt/google/drive/drive --features=fuse_max_backgro\n",
            "    134 ?        S      0:00 grep --color=auto --line-buffered -E (Go to this UR\n",
            "    199 ?        Sl     0:40 /opt/google/drive/drive --features=fuse_max_backgro\n",
            "    250 ?        S      0:00 bash -c tail -n +0 -F \"/root/.config/Google/DriveFS\n",
            "    251 ?        S      0:00 tail -n +0 -F /root/.config/Google/DriveFS/Logs/dri\n",
            "    252 ?        S      0:00 python3 /opt/google/drive/drive-filter.py\n",
            "    766 ?        Z      0:04 [python3] <defunct>\n",
            "    835 ?        Z      0:02 [python3] <defunct>\n",
            "    862 ?        Z      0:04 [python3] <defunct>\n",
            "    887 ?        Z      0:00 [python3] <defunct>\n",
            "    888 ?        Z      0:00 [python3] <defunct>\n",
            "    889 ?        Z      0:00 [python3] <defunct>\n",
            "    890 ?        Z      0:00 [python3] <defunct>\n",
            "    891 ?        Z      0:00 [python3] <defunct>\n",
            "    892 ?        Z      0:00 [python3] <defunct>\n",
            "    893 ?        Z      0:00 [python3] <defunct>\n",
            "    894 ?        Z      0:00 [python3] <defunct>\n",
            "    940 ?        Z      0:00 [python3] <defunct>\n",
            "   1206 ?        Sl     0:01 /usr/bin/python3 /usr/local/lib/python3.7/dist-pack\n",
            "   1567 ?        Ssl    0:03 /usr/bin/python3 -m ipykernel_launcher -f /root/.lo\n",
            "   1587 ?        Sl     0:00 /usr/bin/python3 /usr/local/lib/python3.7/dist-pack\n",
            "   1795 ?        R      0:00 ps -ax\n"
          ],
          "name": "stdout"
        }
      ]
    },
    {
      "cell_type": "code",
      "metadata": {
        "id": "V11H0NNOqj7_"
      },
      "source": [
        ""
      ],
      "execution_count": null,
      "outputs": []
    },
    {
      "cell_type": "code",
      "metadata": {
        "id": "0aY7IkLHpb2j"
      },
      "source": [
        ""
      ],
      "execution_count": null,
      "outputs": []
    },
    {
      "cell_type": "code",
      "metadata": {
        "id": "PWUTeautqO6T"
      },
      "source": [
        ""
      ],
      "execution_count": null,
      "outputs": []
    }
  ]
}