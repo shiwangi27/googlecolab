{
  "nbformat": 4,
  "nbformat_minor": 0,
  "metadata": {
    "colab": {
      "name": "Text_Classifier_BOW_Sklearn.ipynb",
      "provenance": [],
      "collapsed_sections": [],
      "authorship_tag": "ABX9TyP1HLac9f6zWXNR5//ZND9g",
      "include_colab_link": true
    },
    "kernelspec": {
      "name": "python3",
      "display_name": "Python 3"
    },
    "language_info": {
      "name": "python"
    }
  },
  "cells": [
    {
      "cell_type": "markdown",
      "metadata": {
        "id": "view-in-github",
        "colab_type": "text"
      },
      "source": [
        "<a href=\"https://colab.research.google.com/github/shiwangi27/googlecolab/blob/main/Text_Classifier_BOW_Sklearn.ipynb\" target=\"_parent\"><img src=\"https://colab.research.google.com/assets/colab-badge.svg\" alt=\"Open In Colab\"/></a>"
      ]
    },
    {
      "cell_type": "code",
      "metadata": {
        "id": "p3azbctAsP0X"
      },
      "source": [
        "import re\n",
        "from collections import Counter\n",
        "import pandas as pd"
      ],
      "execution_count": null,
      "outputs": []
    },
    {
      "cell_type": "code",
      "metadata": {
        "id": "uJUzeA9hpw7s"
      },
      "source": [
        "texts = [\n",
        "  \"The cat chased the mouse.\", \n",
        "  \"If jerry was a mouse, tom was a cat\", \n",
        "  \"Are you a cat lady or a plant lady\", \n",
        "  \"Are you a dog person?\", \n",
        "  \"I had an ugly pup named quasi-moto\", \n",
        "  \"And daisy liked pigeons!\"\n",
        "]\n",
        "\n",
        "labels = [0, 1, 0, 1, 1, 0]"
      ],
      "execution_count": null,
      "outputs": []
    },
    {
      "cell_type": "code",
      "metadata": {
        "id": "aLOJs2ADqO_E"
      },
      "source": [
        "def preprocess(text):\n",
        "  text = text.lower()\n",
        "  text = re.sub(\"[\\?\\!\\.\\'\\\"\\_]\", \"\", text)\n",
        "  return text\n",
        "\n",
        "def create_ngrams(text, n):\n",
        "  # I am an animal\n",
        "  words = text.split(\" \")\n",
        "  ngrams = []\n",
        "  for i in range(len(words)-n+1):\n",
        "    _n_gram = tuple(words[i+j] for j in range(n))\n",
        "    ngrams.append(_n_gram)\n",
        "  return ngrams\n",
        "\n",
        "def get_ngram_counts(texts, n):\n",
        "  ngram_counts = Counter()\n",
        "  for text in texts:\n",
        "    ngrams = create_ngrams(text, n)\n",
        "    ngram_counts.update(ngrams)\n",
        "  return ngram_counts\n",
        "\n",
        "def get_vocab(texts, ngram=None):\n",
        "  all_texts = \" \".join([text for text in texts])\n",
        "  words = all_texts.split(\" \")\n",
        "  word_counts = Counter(words)\n",
        "  unique_words = word_counts.keys()\n",
        "  vocab = {w:i+1 for i, w in enumerate(unique_words)}\n",
        "  vocab.update({\"<UNK>\": 0})\n",
        "  return word_counts, vocab\n",
        "  "
      ],
      "execution_count": null,
      "outputs": []
    },
    {
      "cell_type": "code",
      "metadata": {
        "colab": {
          "base_uri": "https://localhost:8080/"
        },
        "id": "OcTnueUBtKaz",
        "outputId": "6b448951-4eee-4cbe-df86-edc2c82024b0"
      },
      "source": [
        "cleaned_texts = list(map(preprocess, texts))\n",
        "cleaned_texts"
      ],
      "execution_count": null,
      "outputs": [
        {
          "output_type": "execute_result",
          "data": {
            "text/plain": [
              "['the cat chased the mouse',\n",
              " 'if jerry was a mouse, tom was a cat',\n",
              " 'are you a cat lady or a plant lady',\n",
              " 'are you a dog person',\n",
              " 'i had an ugly pup named quasi-moto',\n",
              " 'and daisy liked pigeons']"
            ]
          },
          "metadata": {
            "tags": []
          },
          "execution_count": 5
        }
      ]
    },
    {
      "cell_type": "code",
      "metadata": {
        "id": "Y7hQczWWtPg8"
      },
      "source": [
        "word_counts, vocab = get_vocab(cleaned_texts)"
      ],
      "execution_count": null,
      "outputs": []
    },
    {
      "cell_type": "code",
      "metadata": {
        "colab": {
          "base_uri": "https://localhost:8080/"
        },
        "id": "Ct354cXGub9C",
        "outputId": "8592e5a5-cc46-433e-b19e-d9f5ad5be774"
      },
      "source": [
        "vocab"
      ],
      "execution_count": null,
      "outputs": [
        {
          "output_type": "execute_result",
          "data": {
            "text/plain": [
              "{'<UNK>': 0,\n",
              " 'a': 8,\n",
              " 'an': 20,\n",
              " 'and': 25,\n",
              " 'are': 11,\n",
              " 'cat': 2,\n",
              " 'chased': 3,\n",
              " 'daisy': 26,\n",
              " 'dog': 16,\n",
              " 'had': 19,\n",
              " 'i': 18,\n",
              " 'if': 5,\n",
              " 'jerry': 6,\n",
              " 'lady': 13,\n",
              " 'liked': 27,\n",
              " 'mouse': 4,\n",
              " 'mouse,': 9,\n",
              " 'named': 23,\n",
              " 'or': 14,\n",
              " 'person': 17,\n",
              " 'pigeons': 28,\n",
              " 'plant': 15,\n",
              " 'pup': 22,\n",
              " 'quasi-moto': 24,\n",
              " 'the': 1,\n",
              " 'tom': 10,\n",
              " 'ugly': 21,\n",
              " 'was': 7,\n",
              " 'you': 12}"
            ]
          },
          "metadata": {
            "tags": []
          },
          "execution_count": 7
        }
      ]
    },
    {
      "cell_type": "code",
      "metadata": {
        "id": "DpZ9AluUDLPE"
      },
      "source": [
        "bigrams = get_ngram_counts(cleaned_texts, 2)"
      ],
      "execution_count": null,
      "outputs": []
    },
    {
      "cell_type": "code",
      "metadata": {
        "colab": {
          "base_uri": "https://localhost:8080/"
        },
        "id": "J5HJ8a48FN8d",
        "outputId": "bb8643c1-12ae-46d2-df06-b0f088bbf19e"
      },
      "source": [
        "bigrams"
      ],
      "execution_count": null,
      "outputs": [
        {
          "output_type": "execute_result",
          "data": {
            "text/plain": [
              "Counter({('a', 'cat'): 2,\n",
              "         ('a', 'dog'): 1,\n",
              "         ('a', 'mouse,'): 1,\n",
              "         ('a', 'plant'): 1,\n",
              "         ('an', 'ugly'): 1,\n",
              "         ('and', 'daisy'): 1,\n",
              "         ('are', 'you'): 2,\n",
              "         ('cat', 'chased'): 1,\n",
              "         ('cat', 'lady'): 1,\n",
              "         ('chased', 'the'): 1,\n",
              "         ('daisy', 'liked'): 1,\n",
              "         ('dog', 'person'): 1,\n",
              "         ('had', 'an'): 1,\n",
              "         ('i', 'had'): 1,\n",
              "         ('if', 'jerry'): 1,\n",
              "         ('jerry', 'was'): 1,\n",
              "         ('lady', 'or'): 1,\n",
              "         ('liked', 'pigeons'): 1,\n",
              "         ('mouse,', 'tom'): 1,\n",
              "         ('named', 'quasi-moto'): 1,\n",
              "         ('or', 'a'): 1,\n",
              "         ('plant', 'lady'): 1,\n",
              "         ('pup', 'named'): 1,\n",
              "         ('the', 'cat'): 1,\n",
              "         ('the', 'mouse'): 1,\n",
              "         ('tom', 'was'): 1,\n",
              "         ('ugly', 'pup'): 1,\n",
              "         ('was', 'a'): 2,\n",
              "         ('you', 'a'): 2})"
            ]
          },
          "metadata": {
            "tags": []
          },
          "execution_count": 9
        }
      ]
    },
    {
      "cell_type": "code",
      "metadata": {
        "id": "_pDcCQpO22TK"
      },
      "source": [
        "X = [\"I want to adopt a cat or a dog.\"]"
      ],
      "execution_count": null,
      "outputs": []
    },
    {
      "cell_type": "code",
      "metadata": {
        "id": "LbH_gU5J3kCQ"
      },
      "source": [
        "X_clean = preprocess(X[0])"
      ],
      "execution_count": null,
      "outputs": []
    },
    {
      "cell_type": "code",
      "metadata": {
        "colab": {
          "base_uri": "https://localhost:8080/"
        },
        "id": "oDRcg7djFt9c",
        "outputId": "120e0abb-98f5-47fb-bed1-a8cfd156dbbc"
      },
      "source": [
        "X_words = X_clean.split(\" \")\n",
        "X_words"
      ],
      "execution_count": null,
      "outputs": [
        {
          "output_type": "execute_result",
          "data": {
            "text/plain": [
              "['i', 'want', 'to', 'adopt', 'a', 'cat', 'or', 'a', 'dog']"
            ]
          },
          "metadata": {
            "tags": []
          },
          "execution_count": 12
        }
      ]
    },
    {
      "cell_type": "code",
      "metadata": {
        "colab": {
          "base_uri": "https://localhost:8080/"
        },
        "id": "lKygyZDWBM_Z",
        "outputId": "8094193d-f52c-460f-eeed-6dbedeb0af61"
      },
      "source": [
        "X_bigrams = create_ngrams(X_clean, 2)\n",
        "X_bigrams"
      ],
      "execution_count": null,
      "outputs": [
        {
          "output_type": "execute_result",
          "data": {
            "text/plain": [
              "[('i', 'want'),\n",
              " ('want', 'to'),\n",
              " ('to', 'adopt'),\n",
              " ('adopt', 'a'),\n",
              " ('a', 'cat'),\n",
              " ('cat', 'or'),\n",
              " ('or', 'a'),\n",
              " ('a', 'dog')]"
            ]
          },
          "metadata": {
            "tags": []
          },
          "execution_count": 13
        }
      ]
    },
    {
      "cell_type": "code",
      "metadata": {
        "id": "h7oCAHiQC2ls"
      },
      "source": [
        ""
      ],
      "execution_count": null,
      "outputs": []
    },
    {
      "cell_type": "markdown",
      "metadata": {
        "id": "sXzh2yz036eg"
      },
      "source": [
        "## CountVectorizer"
      ]
    },
    {
      "cell_type": "code",
      "metadata": {
        "id": "n_4tnhgJ3z3f"
      },
      "source": [
        "from sklearn.feature_extraction.text import CountVectorizer, TfidfTransformer"
      ],
      "execution_count": null,
      "outputs": []
    },
    {
      "cell_type": "code",
      "metadata": {
        "id": "soxJ2qmUUbQ0"
      },
      "source": [
        "def tokenizer(text):\n",
        "  return text.split()"
      ],
      "execution_count": null,
      "outputs": []
    },
    {
      "cell_type": "code",
      "metadata": {
        "id": "p-mT2wGN31gF"
      },
      "source": [
        "count_vectorizer = CountVectorizer(analyzer=\"word\", \n",
        "                                   max_df=0.5,\n",
        "                                   min_df=0.01,\n",
        "                                   preprocessor=preprocess,\n",
        "                                   tokenizer=tokenizer,\n",
        "                                   max_features=20,\n",
        "                                   ngram_range=(1, 2)\n",
        "                                   )"
      ],
      "execution_count": null,
      "outputs": []
    },
    {
      "cell_type": "code",
      "metadata": {
        "id": "xuHv9O6Wt15L"
      },
      "source": [
        ""
      ],
      "execution_count": null,
      "outputs": []
    },
    {
      "cell_type": "code",
      "metadata": {
        "colab": {
          "base_uri": "https://localhost:8080/"
        },
        "id": "LDbAvinAqObl",
        "outputId": "27af2a30-7156-4df6-8728-f5fd153f890a"
      },
      "source": [
        "count_vectorizer"
      ],
      "execution_count": null,
      "outputs": [
        {
          "output_type": "execute_result",
          "data": {
            "text/plain": [
              "CountVectorizer(analyzer='word', binary=False, decode_error='strict',\n",
              "                dtype=<class 'numpy.int64'>, encoding='utf-8', input='content',\n",
              "                lowercase=True, max_df=0.5, max_features=20, min_df=0.01,\n",
              "                ngram_range=(1, 2),\n",
              "                preprocessor=<function preprocess at 0x7f14a7b60ef0>,\n",
              "                stop_words=None, strip_accents=None,\n",
              "                token_pattern='(?u)\\\\b\\\\w\\\\w+\\\\b',\n",
              "                tokenizer=<function tokenizer at 0x7f1498b50440>,\n",
              "                vocabulary=None)"
            ]
          },
          "metadata": {
            "tags": []
          },
          "execution_count": 126
        }
      ]
    },
    {
      "cell_type": "code",
      "metadata": {
        "id": "nsEtglQTs9Qk"
      },
      "source": [
        "count_vectors = count_vectorizer.fit_transform(texts) "
      ],
      "execution_count": null,
      "outputs": []
    },
    {
      "cell_type": "code",
      "metadata": {
        "colab": {
          "base_uri": "https://localhost:8080/"
        },
        "id": "K5NyYUTZtCih",
        "outputId": "96c755f5-d4d3-4cd0-c002-a83fbde1729b"
      },
      "source": [
        "tf = count_vectors.toarray()\n",
        "tf"
      ],
      "execution_count": null,
      "outputs": [
        {
          "output_type": "execute_result",
          "data": {
            "text/plain": [
              "array([[0, 0, 0, 0, 1, 0, 0, 0, 0, 0, 0, 0, 0, 0, 0, 2, 0, 0, 0, 0],\n",
              "       [2, 1, 0, 0, 1, 0, 0, 0, 0, 0, 0, 0, 0, 0, 0, 0, 2, 2, 0, 0],\n",
              "       [2, 1, 1, 1, 1, 2, 0, 0, 1, 1, 0, 0, 1, 1, 0, 0, 0, 0, 1, 1],\n",
              "       [1, 0, 1, 1, 0, 0, 0, 0, 0, 0, 1, 0, 0, 0, 0, 0, 0, 0, 1, 1],\n",
              "       [0, 0, 0, 0, 0, 0, 1, 1, 0, 0, 0, 0, 0, 0, 1, 0, 0, 0, 0, 0],\n",
              "       [0, 0, 0, 0, 0, 0, 0, 0, 0, 0, 0, 1, 0, 0, 0, 0, 0, 0, 0, 0]])"
            ]
          },
          "metadata": {
            "tags": []
          },
          "execution_count": 128
        }
      ]
    },
    {
      "cell_type": "code",
      "metadata": {
        "id": "3RXJLQWDjXwP"
      },
      "source": [
        "count_df = pd.DataFrame(tf)"
      ],
      "execution_count": null,
      "outputs": []
    },
    {
      "cell_type": "code",
      "metadata": {
        "id": "2cSeeVNymEXB"
      },
      "source": [
        "col_vals = count_df.apply(lambda x: x > 0, axis=1)\n",
        "\n",
        "document_freqs = {}\n",
        "for col in col_vals.columns:\n",
        "  doc_freq = len(col_vals[col_vals[col] == True])\n",
        "  document_freqs[col] = doc_freq"
      ],
      "execution_count": null,
      "outputs": []
    },
    {
      "cell_type": "code",
      "metadata": {
        "colab": {
          "base_uri": "https://localhost:8080/"
        },
        "id": "W1WZv7uKn24Q",
        "outputId": "4a18e629-86bf-4be1-b0a3-cea890db284c"
      },
      "source": [
        "document_freqs"
      ],
      "execution_count": null,
      "outputs": [
        {
          "output_type": "execute_result",
          "data": {
            "text/plain": [
              "{0: 3,\n",
              " 1: 2,\n",
              " 2: 2,\n",
              " 3: 2,\n",
              " 4: 3,\n",
              " 5: 1,\n",
              " 6: 1,\n",
              " 7: 1,\n",
              " 8: 1,\n",
              " 9: 1,\n",
              " 10: 1,\n",
              " 11: 1,\n",
              " 12: 1,\n",
              " 13: 1,\n",
              " 14: 1,\n",
              " 15: 1,\n",
              " 16: 1,\n",
              " 17: 1,\n",
              " 18: 2,\n",
              " 19: 2}"
            ]
          },
          "metadata": {
            "tags": []
          },
          "execution_count": 131
        }
      ]
    },
    {
      "cell_type": "code",
      "metadata": {
        "id": "-dfxx1ptn7WG"
      },
      "source": [
        "def calculate_tfidf(tf, i, document_freqs):\n",
        "  return tf * (np.log((1 + len(document_freqs)) / (1 + document_freqs[i])) + 1)\n",
        "\n",
        "def l2_normalizer(row):\n",
        "  l2_norm = np.sqrt(np.sum([r*r for r in row]))\n",
        "  norm_vals = []\n",
        "  for r in row:\n",
        "    norm_vals.append(r / l2_norm)\n",
        "  return pd.Series(norm_vals)"
      ],
      "execution_count": null,
      "outputs": []
    },
    {
      "cell_type": "code",
      "metadata": {
        "colab": {
          "base_uri": "https://localhost:8080/",
          "height": 235
        },
        "id": "5LLPCr4Qo2f6",
        "outputId": "01e28443-560b-43f6-ee8e-9bfd9d7dba6c"
      },
      "source": [
        "tfidf_df = count_df.apply(lambda w: calculate_tfidf(w, w.name, document_freqs)) \n",
        "tfidf_df"
      ],
      "execution_count": null,
      "outputs": [
        {
          "output_type": "execute_result",
          "data": {
            "text/html": [
              "<div>\n",
              "<style scoped>\n",
              "    .dataframe tbody tr th:only-of-type {\n",
              "        vertical-align: middle;\n",
              "    }\n",
              "\n",
              "    .dataframe tbody tr th {\n",
              "        vertical-align: top;\n",
              "    }\n",
              "\n",
              "    .dataframe thead th {\n",
              "        text-align: right;\n",
              "    }\n",
              "</style>\n",
              "<table border=\"1\" class=\"dataframe\">\n",
              "  <thead>\n",
              "    <tr style=\"text-align: right;\">\n",
              "      <th></th>\n",
              "      <th>0</th>\n",
              "      <th>1</th>\n",
              "      <th>2</th>\n",
              "      <th>3</th>\n",
              "      <th>4</th>\n",
              "      <th>5</th>\n",
              "      <th>6</th>\n",
              "      <th>7</th>\n",
              "      <th>8</th>\n",
              "      <th>9</th>\n",
              "      <th>10</th>\n",
              "      <th>11</th>\n",
              "      <th>12</th>\n",
              "      <th>13</th>\n",
              "      <th>14</th>\n",
              "      <th>15</th>\n",
              "      <th>16</th>\n",
              "      <th>17</th>\n",
              "      <th>18</th>\n",
              "      <th>19</th>\n",
              "    </tr>\n",
              "  </thead>\n",
              "  <tbody>\n",
              "    <tr>\n",
              "      <th>0</th>\n",
              "      <td>0.000000</td>\n",
              "      <td>0.00000</td>\n",
              "      <td>0.00000</td>\n",
              "      <td>0.00000</td>\n",
              "      <td>2.658228</td>\n",
              "      <td>0.000000</td>\n",
              "      <td>0.000000</td>\n",
              "      <td>0.000000</td>\n",
              "      <td>0.000000</td>\n",
              "      <td>0.000000</td>\n",
              "      <td>0.000000</td>\n",
              "      <td>0.000000</td>\n",
              "      <td>0.000000</td>\n",
              "      <td>0.000000</td>\n",
              "      <td>0.000000</td>\n",
              "      <td>6.702751</td>\n",
              "      <td>0.000000</td>\n",
              "      <td>0.000000</td>\n",
              "      <td>0.00000</td>\n",
              "      <td>0.00000</td>\n",
              "    </tr>\n",
              "    <tr>\n",
              "      <th>1</th>\n",
              "      <td>5.316456</td>\n",
              "      <td>2.94591</td>\n",
              "      <td>0.00000</td>\n",
              "      <td>0.00000</td>\n",
              "      <td>2.658228</td>\n",
              "      <td>0.000000</td>\n",
              "      <td>0.000000</td>\n",
              "      <td>0.000000</td>\n",
              "      <td>0.000000</td>\n",
              "      <td>0.000000</td>\n",
              "      <td>0.000000</td>\n",
              "      <td>0.000000</td>\n",
              "      <td>0.000000</td>\n",
              "      <td>0.000000</td>\n",
              "      <td>0.000000</td>\n",
              "      <td>0.000000</td>\n",
              "      <td>6.702751</td>\n",
              "      <td>6.702751</td>\n",
              "      <td>0.00000</td>\n",
              "      <td>0.00000</td>\n",
              "    </tr>\n",
              "    <tr>\n",
              "      <th>2</th>\n",
              "      <td>5.316456</td>\n",
              "      <td>2.94591</td>\n",
              "      <td>2.94591</td>\n",
              "      <td>2.94591</td>\n",
              "      <td>2.658228</td>\n",
              "      <td>6.702751</td>\n",
              "      <td>0.000000</td>\n",
              "      <td>0.000000</td>\n",
              "      <td>3.351375</td>\n",
              "      <td>3.351375</td>\n",
              "      <td>0.000000</td>\n",
              "      <td>0.000000</td>\n",
              "      <td>3.351375</td>\n",
              "      <td>3.351375</td>\n",
              "      <td>0.000000</td>\n",
              "      <td>0.000000</td>\n",
              "      <td>0.000000</td>\n",
              "      <td>0.000000</td>\n",
              "      <td>2.94591</td>\n",
              "      <td>2.94591</td>\n",
              "    </tr>\n",
              "    <tr>\n",
              "      <th>3</th>\n",
              "      <td>2.658228</td>\n",
              "      <td>0.00000</td>\n",
              "      <td>2.94591</td>\n",
              "      <td>2.94591</td>\n",
              "      <td>0.000000</td>\n",
              "      <td>0.000000</td>\n",
              "      <td>0.000000</td>\n",
              "      <td>0.000000</td>\n",
              "      <td>0.000000</td>\n",
              "      <td>0.000000</td>\n",
              "      <td>3.351375</td>\n",
              "      <td>0.000000</td>\n",
              "      <td>0.000000</td>\n",
              "      <td>0.000000</td>\n",
              "      <td>0.000000</td>\n",
              "      <td>0.000000</td>\n",
              "      <td>0.000000</td>\n",
              "      <td>0.000000</td>\n",
              "      <td>2.94591</td>\n",
              "      <td>2.94591</td>\n",
              "    </tr>\n",
              "    <tr>\n",
              "      <th>4</th>\n",
              "      <td>0.000000</td>\n",
              "      <td>0.00000</td>\n",
              "      <td>0.00000</td>\n",
              "      <td>0.00000</td>\n",
              "      <td>0.000000</td>\n",
              "      <td>0.000000</td>\n",
              "      <td>3.351375</td>\n",
              "      <td>3.351375</td>\n",
              "      <td>0.000000</td>\n",
              "      <td>0.000000</td>\n",
              "      <td>0.000000</td>\n",
              "      <td>0.000000</td>\n",
              "      <td>0.000000</td>\n",
              "      <td>0.000000</td>\n",
              "      <td>3.351375</td>\n",
              "      <td>0.000000</td>\n",
              "      <td>0.000000</td>\n",
              "      <td>0.000000</td>\n",
              "      <td>0.00000</td>\n",
              "      <td>0.00000</td>\n",
              "    </tr>\n",
              "    <tr>\n",
              "      <th>5</th>\n",
              "      <td>0.000000</td>\n",
              "      <td>0.00000</td>\n",
              "      <td>0.00000</td>\n",
              "      <td>0.00000</td>\n",
              "      <td>0.000000</td>\n",
              "      <td>0.000000</td>\n",
              "      <td>0.000000</td>\n",
              "      <td>0.000000</td>\n",
              "      <td>0.000000</td>\n",
              "      <td>0.000000</td>\n",
              "      <td>0.000000</td>\n",
              "      <td>3.351375</td>\n",
              "      <td>0.000000</td>\n",
              "      <td>0.000000</td>\n",
              "      <td>0.000000</td>\n",
              "      <td>0.000000</td>\n",
              "      <td>0.000000</td>\n",
              "      <td>0.000000</td>\n",
              "      <td>0.00000</td>\n",
              "      <td>0.00000</td>\n",
              "    </tr>\n",
              "  </tbody>\n",
              "</table>\n",
              "</div>"
            ],
            "text/plain": [
              "         0        1        2        3   ...        16        17       18       19\n",
              "0  0.000000  0.00000  0.00000  0.00000  ...  0.000000  0.000000  0.00000  0.00000\n",
              "1  5.316456  2.94591  0.00000  0.00000  ...  6.702751  6.702751  0.00000  0.00000\n",
              "2  5.316456  2.94591  2.94591  2.94591  ...  0.000000  0.000000  2.94591  2.94591\n",
              "3  2.658228  0.00000  2.94591  2.94591  ...  0.000000  0.000000  2.94591  2.94591\n",
              "4  0.000000  0.00000  0.00000  0.00000  ...  0.000000  0.000000  0.00000  0.00000\n",
              "5  0.000000  0.00000  0.00000  0.00000  ...  0.000000  0.000000  0.00000  0.00000\n",
              "\n",
              "[6 rows x 20 columns]"
            ]
          },
          "metadata": {
            "tags": []
          },
          "execution_count": 190
        }
      ]
    },
    {
      "cell_type": "code",
      "metadata": {
        "colab": {
          "base_uri": "https://localhost:8080/",
          "height": 235
        },
        "id": "CtUYAqluxsS_",
        "outputId": "b32349de-3f3d-4c6c-c576-4dceea0b5597"
      },
      "source": [
        "tfidf_df.apply(l2_normalizer)"
      ],
      "execution_count": null,
      "outputs": [
        {
          "output_type": "execute_result",
          "data": {
            "text/html": [
              "<div>\n",
              "<style scoped>\n",
              "    .dataframe tbody tr th:only-of-type {\n",
              "        vertical-align: middle;\n",
              "    }\n",
              "\n",
              "    .dataframe tbody tr th {\n",
              "        vertical-align: top;\n",
              "    }\n",
              "\n",
              "    .dataframe thead th {\n",
              "        text-align: right;\n",
              "    }\n",
              "</style>\n",
              "<table border=\"1\" class=\"dataframe\">\n",
              "  <thead>\n",
              "    <tr style=\"text-align: right;\">\n",
              "      <th></th>\n",
              "      <th>0</th>\n",
              "      <th>1</th>\n",
              "      <th>2</th>\n",
              "      <th>3</th>\n",
              "      <th>4</th>\n",
              "      <th>5</th>\n",
              "      <th>6</th>\n",
              "      <th>7</th>\n",
              "      <th>8</th>\n",
              "      <th>9</th>\n",
              "      <th>10</th>\n",
              "      <th>11</th>\n",
              "      <th>12</th>\n",
              "      <th>13</th>\n",
              "      <th>14</th>\n",
              "      <th>15</th>\n",
              "      <th>16</th>\n",
              "      <th>17</th>\n",
              "      <th>18</th>\n",
              "      <th>19</th>\n",
              "    </tr>\n",
              "  </thead>\n",
              "  <tbody>\n",
              "    <tr>\n",
              "      <th>0</th>\n",
              "      <td>0.000000</td>\n",
              "      <td>0.000000</td>\n",
              "      <td>0.000000</td>\n",
              "      <td>0.000000</td>\n",
              "      <td>0.57735</td>\n",
              "      <td>0.0</td>\n",
              "      <td>0.0</td>\n",
              "      <td>0.0</td>\n",
              "      <td>0.0</td>\n",
              "      <td>0.0</td>\n",
              "      <td>0.0</td>\n",
              "      <td>0.0</td>\n",
              "      <td>0.0</td>\n",
              "      <td>0.0</td>\n",
              "      <td>0.0</td>\n",
              "      <td>1.0</td>\n",
              "      <td>0.0</td>\n",
              "      <td>0.0</td>\n",
              "      <td>0.000000</td>\n",
              "      <td>0.000000</td>\n",
              "    </tr>\n",
              "    <tr>\n",
              "      <th>1</th>\n",
              "      <td>0.666667</td>\n",
              "      <td>0.707107</td>\n",
              "      <td>0.000000</td>\n",
              "      <td>0.000000</td>\n",
              "      <td>0.57735</td>\n",
              "      <td>0.0</td>\n",
              "      <td>0.0</td>\n",
              "      <td>0.0</td>\n",
              "      <td>0.0</td>\n",
              "      <td>0.0</td>\n",
              "      <td>0.0</td>\n",
              "      <td>0.0</td>\n",
              "      <td>0.0</td>\n",
              "      <td>0.0</td>\n",
              "      <td>0.0</td>\n",
              "      <td>0.0</td>\n",
              "      <td>1.0</td>\n",
              "      <td>1.0</td>\n",
              "      <td>0.000000</td>\n",
              "      <td>0.000000</td>\n",
              "    </tr>\n",
              "    <tr>\n",
              "      <th>2</th>\n",
              "      <td>0.666667</td>\n",
              "      <td>0.707107</td>\n",
              "      <td>0.707107</td>\n",
              "      <td>0.707107</td>\n",
              "      <td>0.57735</td>\n",
              "      <td>1.0</td>\n",
              "      <td>0.0</td>\n",
              "      <td>0.0</td>\n",
              "      <td>1.0</td>\n",
              "      <td>1.0</td>\n",
              "      <td>0.0</td>\n",
              "      <td>0.0</td>\n",
              "      <td>1.0</td>\n",
              "      <td>1.0</td>\n",
              "      <td>0.0</td>\n",
              "      <td>0.0</td>\n",
              "      <td>0.0</td>\n",
              "      <td>0.0</td>\n",
              "      <td>0.707107</td>\n",
              "      <td>0.707107</td>\n",
              "    </tr>\n",
              "    <tr>\n",
              "      <th>3</th>\n",
              "      <td>0.333333</td>\n",
              "      <td>0.000000</td>\n",
              "      <td>0.707107</td>\n",
              "      <td>0.707107</td>\n",
              "      <td>0.00000</td>\n",
              "      <td>0.0</td>\n",
              "      <td>0.0</td>\n",
              "      <td>0.0</td>\n",
              "      <td>0.0</td>\n",
              "      <td>0.0</td>\n",
              "      <td>1.0</td>\n",
              "      <td>0.0</td>\n",
              "      <td>0.0</td>\n",
              "      <td>0.0</td>\n",
              "      <td>0.0</td>\n",
              "      <td>0.0</td>\n",
              "      <td>0.0</td>\n",
              "      <td>0.0</td>\n",
              "      <td>0.707107</td>\n",
              "      <td>0.707107</td>\n",
              "    </tr>\n",
              "    <tr>\n",
              "      <th>4</th>\n",
              "      <td>0.000000</td>\n",
              "      <td>0.000000</td>\n",
              "      <td>0.000000</td>\n",
              "      <td>0.000000</td>\n",
              "      <td>0.00000</td>\n",
              "      <td>0.0</td>\n",
              "      <td>1.0</td>\n",
              "      <td>1.0</td>\n",
              "      <td>0.0</td>\n",
              "      <td>0.0</td>\n",
              "      <td>0.0</td>\n",
              "      <td>0.0</td>\n",
              "      <td>0.0</td>\n",
              "      <td>0.0</td>\n",
              "      <td>1.0</td>\n",
              "      <td>0.0</td>\n",
              "      <td>0.0</td>\n",
              "      <td>0.0</td>\n",
              "      <td>0.000000</td>\n",
              "      <td>0.000000</td>\n",
              "    </tr>\n",
              "    <tr>\n",
              "      <th>5</th>\n",
              "      <td>0.000000</td>\n",
              "      <td>0.000000</td>\n",
              "      <td>0.000000</td>\n",
              "      <td>0.000000</td>\n",
              "      <td>0.00000</td>\n",
              "      <td>0.0</td>\n",
              "      <td>0.0</td>\n",
              "      <td>0.0</td>\n",
              "      <td>0.0</td>\n",
              "      <td>0.0</td>\n",
              "      <td>0.0</td>\n",
              "      <td>1.0</td>\n",
              "      <td>0.0</td>\n",
              "      <td>0.0</td>\n",
              "      <td>0.0</td>\n",
              "      <td>0.0</td>\n",
              "      <td>0.0</td>\n",
              "      <td>0.0</td>\n",
              "      <td>0.000000</td>\n",
              "      <td>0.000000</td>\n",
              "    </tr>\n",
              "  </tbody>\n",
              "</table>\n",
              "</div>"
            ],
            "text/plain": [
              "         0         1         2         3   ...   16   17        18        19\n",
              "0  0.000000  0.000000  0.000000  0.000000  ...  0.0  0.0  0.000000  0.000000\n",
              "1  0.666667  0.707107  0.000000  0.000000  ...  1.0  1.0  0.000000  0.000000\n",
              "2  0.666667  0.707107  0.707107  0.707107  ...  0.0  0.0  0.707107  0.707107\n",
              "3  0.333333  0.000000  0.707107  0.707107  ...  0.0  0.0  0.707107  0.707107\n",
              "4  0.000000  0.000000  0.000000  0.000000  ...  0.0  0.0  0.000000  0.000000\n",
              "5  0.000000  0.000000  0.000000  0.000000  ...  0.0  0.0  0.000000  0.000000\n",
              "\n",
              "[6 rows x 20 columns]"
            ]
          },
          "metadata": {
            "tags": []
          },
          "execution_count": 191
        }
      ]
    },
    {
      "cell_type": "code",
      "metadata": {
        "colab": {
          "base_uri": "https://localhost:8080/",
          "height": 235
        },
        "id": "xhEm12b1xnJh",
        "outputId": "7b4dbd47-6931-4a04-abf1-11b14a3664cb"
      },
      "source": [
        "count_df"
      ],
      "execution_count": null,
      "outputs": [
        {
          "output_type": "execute_result",
          "data": {
            "text/html": [
              "<div>\n",
              "<style scoped>\n",
              "    .dataframe tbody tr th:only-of-type {\n",
              "        vertical-align: middle;\n",
              "    }\n",
              "\n",
              "    .dataframe tbody tr th {\n",
              "        vertical-align: top;\n",
              "    }\n",
              "\n",
              "    .dataframe thead th {\n",
              "        text-align: right;\n",
              "    }\n",
              "</style>\n",
              "<table border=\"1\" class=\"dataframe\">\n",
              "  <thead>\n",
              "    <tr style=\"text-align: right;\">\n",
              "      <th></th>\n",
              "      <th>0</th>\n",
              "      <th>1</th>\n",
              "      <th>2</th>\n",
              "      <th>3</th>\n",
              "      <th>4</th>\n",
              "      <th>5</th>\n",
              "      <th>6</th>\n",
              "      <th>7</th>\n",
              "      <th>8</th>\n",
              "      <th>9</th>\n",
              "      <th>10</th>\n",
              "      <th>11</th>\n",
              "      <th>12</th>\n",
              "      <th>13</th>\n",
              "      <th>14</th>\n",
              "      <th>15</th>\n",
              "      <th>16</th>\n",
              "      <th>17</th>\n",
              "      <th>18</th>\n",
              "      <th>19</th>\n",
              "    </tr>\n",
              "  </thead>\n",
              "  <tbody>\n",
              "    <tr>\n",
              "      <th>0</th>\n",
              "      <td>0</td>\n",
              "      <td>0</td>\n",
              "      <td>0</td>\n",
              "      <td>0</td>\n",
              "      <td>1</td>\n",
              "      <td>0</td>\n",
              "      <td>0</td>\n",
              "      <td>0</td>\n",
              "      <td>0</td>\n",
              "      <td>0</td>\n",
              "      <td>0</td>\n",
              "      <td>0</td>\n",
              "      <td>0</td>\n",
              "      <td>0</td>\n",
              "      <td>0</td>\n",
              "      <td>2</td>\n",
              "      <td>0</td>\n",
              "      <td>0</td>\n",
              "      <td>0</td>\n",
              "      <td>0</td>\n",
              "    </tr>\n",
              "    <tr>\n",
              "      <th>1</th>\n",
              "      <td>2</td>\n",
              "      <td>1</td>\n",
              "      <td>0</td>\n",
              "      <td>0</td>\n",
              "      <td>1</td>\n",
              "      <td>0</td>\n",
              "      <td>0</td>\n",
              "      <td>0</td>\n",
              "      <td>0</td>\n",
              "      <td>0</td>\n",
              "      <td>0</td>\n",
              "      <td>0</td>\n",
              "      <td>0</td>\n",
              "      <td>0</td>\n",
              "      <td>0</td>\n",
              "      <td>0</td>\n",
              "      <td>2</td>\n",
              "      <td>2</td>\n",
              "      <td>0</td>\n",
              "      <td>0</td>\n",
              "    </tr>\n",
              "    <tr>\n",
              "      <th>2</th>\n",
              "      <td>2</td>\n",
              "      <td>1</td>\n",
              "      <td>1</td>\n",
              "      <td>1</td>\n",
              "      <td>1</td>\n",
              "      <td>2</td>\n",
              "      <td>0</td>\n",
              "      <td>0</td>\n",
              "      <td>1</td>\n",
              "      <td>1</td>\n",
              "      <td>0</td>\n",
              "      <td>0</td>\n",
              "      <td>1</td>\n",
              "      <td>1</td>\n",
              "      <td>0</td>\n",
              "      <td>0</td>\n",
              "      <td>0</td>\n",
              "      <td>0</td>\n",
              "      <td>1</td>\n",
              "      <td>1</td>\n",
              "    </tr>\n",
              "    <tr>\n",
              "      <th>3</th>\n",
              "      <td>1</td>\n",
              "      <td>0</td>\n",
              "      <td>1</td>\n",
              "      <td>1</td>\n",
              "      <td>0</td>\n",
              "      <td>0</td>\n",
              "      <td>0</td>\n",
              "      <td>0</td>\n",
              "      <td>0</td>\n",
              "      <td>0</td>\n",
              "      <td>1</td>\n",
              "      <td>0</td>\n",
              "      <td>0</td>\n",
              "      <td>0</td>\n",
              "      <td>0</td>\n",
              "      <td>0</td>\n",
              "      <td>0</td>\n",
              "      <td>0</td>\n",
              "      <td>1</td>\n",
              "      <td>1</td>\n",
              "    </tr>\n",
              "    <tr>\n",
              "      <th>4</th>\n",
              "      <td>0</td>\n",
              "      <td>0</td>\n",
              "      <td>0</td>\n",
              "      <td>0</td>\n",
              "      <td>0</td>\n",
              "      <td>0</td>\n",
              "      <td>1</td>\n",
              "      <td>1</td>\n",
              "      <td>0</td>\n",
              "      <td>0</td>\n",
              "      <td>0</td>\n",
              "      <td>0</td>\n",
              "      <td>0</td>\n",
              "      <td>0</td>\n",
              "      <td>1</td>\n",
              "      <td>0</td>\n",
              "      <td>0</td>\n",
              "      <td>0</td>\n",
              "      <td>0</td>\n",
              "      <td>0</td>\n",
              "    </tr>\n",
              "    <tr>\n",
              "      <th>5</th>\n",
              "      <td>0</td>\n",
              "      <td>0</td>\n",
              "      <td>0</td>\n",
              "      <td>0</td>\n",
              "      <td>0</td>\n",
              "      <td>0</td>\n",
              "      <td>0</td>\n",
              "      <td>0</td>\n",
              "      <td>0</td>\n",
              "      <td>0</td>\n",
              "      <td>0</td>\n",
              "      <td>1</td>\n",
              "      <td>0</td>\n",
              "      <td>0</td>\n",
              "      <td>0</td>\n",
              "      <td>0</td>\n",
              "      <td>0</td>\n",
              "      <td>0</td>\n",
              "      <td>0</td>\n",
              "      <td>0</td>\n",
              "    </tr>\n",
              "  </tbody>\n",
              "</table>\n",
              "</div>"
            ],
            "text/plain": [
              "   0   1   2   3   4   5   6   7   8   ...  11  12  13  14  15  16  17  18  19\n",
              "0   0   0   0   0   1   0   0   0   0  ...   0   0   0   0   2   0   0   0   0\n",
              "1   2   1   0   0   1   0   0   0   0  ...   0   0   0   0   0   2   2   0   0\n",
              "2   2   1   1   1   1   2   0   0   1  ...   0   1   1   0   0   0   0   1   1\n",
              "3   1   0   1   1   0   0   0   0   0  ...   0   0   0   0   0   0   0   1   1\n",
              "4   0   0   0   0   0   0   1   1   0  ...   0   0   0   1   0   0   0   0   0\n",
              "5   0   0   0   0   0   0   0   0   0  ...   1   0   0   0   0   0   0   0   0\n",
              "\n",
              "[6 rows x 20 columns]"
            ]
          },
          "metadata": {
            "tags": []
          },
          "execution_count": 192
        }
      ]
    },
    {
      "cell_type": "code",
      "metadata": {
        "colab": {
          "base_uri": "https://localhost:8080/"
        },
        "id": "GWShwjmEtgbh",
        "outputId": "ade58b64-2d39-40cc-8793-cf39131d813e"
      },
      "source": [
        "count_vectorizer.vocabulary_"
      ],
      "execution_count": null,
      "outputs": [
        {
          "output_type": "execute_result",
          "data": {
            "text/plain": [
              "{'a': 0,\n",
              " 'a cat': 1,\n",
              " 'are': 2,\n",
              " 'are you': 3,\n",
              " 'cat': 4,\n",
              " 'lady': 5,\n",
              " 'named': 6,\n",
              " 'named quasi-moto': 7,\n",
              " 'or': 8,\n",
              " 'or a': 9,\n",
              " 'person': 10,\n",
              " 'pigeons': 11,\n",
              " 'plant': 12,\n",
              " 'plant lady': 13,\n",
              " 'pup': 14,\n",
              " 'the': 15,\n",
              " 'was': 16,\n",
              " 'was a': 17,\n",
              " 'you': 18,\n",
              " 'you a': 19}"
            ]
          },
          "metadata": {
            "tags": []
          },
          "execution_count": 193
        }
      ]
    },
    {
      "cell_type": "code",
      "metadata": {
        "id": "LLRAWOtKVIzE"
      },
      "source": [
        "tfidf = TfidfTransformer(norm=\"l2\", use_idf=True, smooth_idf=True, sublinear_tf=True)"
      ],
      "execution_count": null,
      "outputs": []
    },
    {
      "cell_type": "code",
      "metadata": {
        "id": "xByJ4yLYWgm5"
      },
      "source": [
        "tfidf_vectors = tfidf.fit_transform(count_vectors)"
      ],
      "execution_count": null,
      "outputs": []
    },
    {
      "cell_type": "code",
      "metadata": {
        "colab": {
          "base_uri": "https://localhost:8080/"
        },
        "id": "bCsjEynjWlvJ",
        "outputId": "d2358be2-fab0-4f35-fa85-3713eb91e104"
      },
      "source": [
        "tfidf_vectors.toarray()"
      ],
      "execution_count": null,
      "outputs": [
        {
          "output_type": "execute_result",
          "data": {
            "text/plain": [
              "array([[0.        , 0.        , 0.        , 0.        , 0.37847423,\n",
              "        0.        , 0.        , 0.        , 0.        , 0.        ,\n",
              "        0.        , 0.        , 0.        , 0.        , 0.        ,\n",
              "        0.92561183, 0.        , 0.        , 0.        , 0.        ],\n",
              "       [0.40787481, 0.28533265, 0.        , 0.        , 0.24089743,\n",
              "        0.        , 0.        , 0.        , 0.        , 0.        ,\n",
              "        0.        , 0.        , 0.        , 0.        , 0.        ,\n",
              "        0.        , 0.58914847, 0.58914847, 0.        , 0.        ],\n",
              "       [0.33722839, 0.23591129, 0.23591129, 0.23591129, 0.19917252,\n",
              "        0.48710435, 0.        , 0.        , 0.28769167, 0.28769167,\n",
              "        0.        , 0.        , 0.28769167, 0.28769167, 0.        ,\n",
              "        0.        , 0.        , 0.        , 0.23591129, 0.23591129],\n",
              "       [0.3390679 , 0.        , 0.40161136, 0.40161136, 0.        ,\n",
              "        0.        , 0.        , 0.        , 0.        , 0.        ,\n",
              "        0.4897614 , 0.        , 0.        , 0.        , 0.        ,\n",
              "        0.        , 0.        , 0.        , 0.40161136, 0.40161136],\n",
              "       [0.        , 0.        , 0.        , 0.        , 0.        ,\n",
              "        0.        , 0.57735027, 0.57735027, 0.        , 0.        ,\n",
              "        0.        , 0.        , 0.        , 0.        , 0.57735027,\n",
              "        0.        , 0.        , 0.        , 0.        , 0.        ],\n",
              "       [0.        , 0.        , 0.        , 0.        , 0.        ,\n",
              "        0.        , 0.        , 0.        , 0.        , 0.        ,\n",
              "        0.        , 1.        , 0.        , 0.        , 0.        ,\n",
              "        0.        , 0.        , 0.        , 0.        , 0.        ]])"
            ]
          },
          "metadata": {
            "tags": []
          },
          "execution_count": 196
        }
      ]
    },
    {
      "cell_type": "code",
      "metadata": {
        "id": "DGfH_SltyuKd"
      },
      "source": [
        ""
      ],
      "execution_count": null,
      "outputs": []
    },
    {
      "cell_type": "code",
      "metadata": {
        "id": "5TbBrOKecSIY"
      },
      "source": [
        "import numpy as np"
      ],
      "execution_count": null,
      "outputs": []
    },
    {
      "cell_type": "code",
      "metadata": {
        "id": "JvAgFZxXXAja"
      },
      "source": [
        "from sklearn.pipeline import Pipeline\n",
        "from sklearn.model_selection import train_test_split\n",
        "from sklearn.linear_model import LogisticRegression\n",
        "from sklearn.svm import SVC\n",
        "from sklearn.model_selection import GridSearchCV"
      ],
      "execution_count": null,
      "outputs": []
    },
    {
      "cell_type": "code",
      "metadata": {
        "id": "IyPV2LeUWqym"
      },
      "source": [
        "feature_extraction_pipeline = Pipeline(\n",
        "    [\n",
        "     (\"count_vectorizer\", count_vectorizer), \n",
        "     (\"tfidf_transformer\", tfidf)\n",
        "    ]\n",
        ")"
      ],
      "execution_count": null,
      "outputs": []
    },
    {
      "cell_type": "code",
      "metadata": {
        "id": "Wb1-nhBuXhad"
      },
      "source": [
        "clf_logistic = LogisticRegression(penalty=\"l2\", \n",
        "                                  C=1.0, \n",
        "                                  solver=\"liblinear\", \n",
        "                                  max_iter=1000,\n",
        "                                  scoring\n",
        "                                  )\n",
        "clf_svm = SVC(C=1.0, \n",
        "              kernel=\"rbf\",\n",
        "              gamma=\"auto\") "
      ],
      "execution_count": null,
      "outputs": []
    },
    {
      "cell_type": "code",
      "metadata": {
        "id": "Ple71JzleMUp"
      },
      "source": [
        "clf_pipeline = Pipeline(\n",
        "    [\n",
        "     (\"features\", feature_extraction_pipeline), \n",
        "     (\"classifier\", clf_logistic)\n",
        "    ]\n",
        ")"
      ],
      "execution_count": null,
      "outputs": []
    },
    {
      "cell_type": "code",
      "metadata": {
        "id": "2xb6gAV2hBrM"
      },
      "source": [
        "estimater = clf_pipeline.fit(texts, labels)"
      ],
      "execution_count": null,
      "outputs": []
    },
    {
      "cell_type": "code",
      "metadata": {
        "id": "b9i7FSPMr03Y"
      },
      "source": [
        "X_test = [\"my neighbors cat\", \"do you want a dog\"]\n",
        "Y_test = [0, 1]"
      ],
      "execution_count": null,
      "outputs": []
    },
    {
      "cell_type": "code",
      "metadata": {
        "id": "pAab1iC3rZYM"
      },
      "source": [
        "preds = estimater.predict_proba(X_test)"
      ],
      "execution_count": null,
      "outputs": []
    },
    {
      "cell_type": "code",
      "metadata": {
        "colab": {
          "base_uri": "https://localhost:8080/"
        },
        "id": "heUHUc1Ur98R",
        "outputId": "8778434b-5880-4595-b874-4fc8791920f8"
      },
      "source": [
        "preds"
      ],
      "execution_count": null,
      "outputs": [
        {
          "output_type": "execute_result",
          "data": {
            "text/plain": [
              "array([[0.53621213, 0.46378787],\n",
              "       [0.46168848, 0.53831152]])"
            ]
          },
          "metadata": {
            "tags": []
          },
          "execution_count": 146
        }
      ]
    },
    {
      "cell_type": "code",
      "metadata": {
        "colab": {
          "base_uri": "https://localhost:8080/"
        },
        "id": "sOG_lkiLrlG-",
        "outputId": "ef7dbb6b-6c7b-4245-baaf-9320bda69ecd"
      },
      "source": [
        "preds.argmax(axis=1)"
      ],
      "execution_count": null,
      "outputs": [
        {
          "output_type": "execute_result",
          "data": {
            "text/plain": [
              "array([0, 1])"
            ]
          },
          "metadata": {
            "tags": []
          },
          "execution_count": 147
        }
      ]
    },
    {
      "cell_type": "code",
      "metadata": {
        "id": "VfLnVsiesKiU"
      },
      "source": [
        ""
      ],
      "execution_count": null,
      "outputs": []
    },
    {
      "cell_type": "code",
      "metadata": {
        "id": "KfegxzA2sKn4"
      },
      "source": [
        "param_grid = [\n",
        "          {\n",
        "              'features__count_vectorizer__ngram_range': [(1, 1), (1, 2)],\n",
        "              'classifier__penalty': [\"l2\", \"l1\"],\n",
        "              'classifier__C': np.logspace(-2, 2, 5)            \n",
        "          }\n",
        "          # {\n",
        "          #     'features__min_df': [0.01, 0.05],\n",
        "          #     'features__max_df': [0.7, 0.5], \n",
        "          #     'features__max_features': [20, 25], \n",
        "          #     'classifier__penalty': [\"l2\"],\n",
        "          #     'classifier__C': np.logspace(-2, 2, 5)            \n",
        "          # }\n",
        "]"
      ],
      "execution_count": null,
      "outputs": []
    },
    {
      "cell_type": "code",
      "metadata": {
        "id": "jAwKPRFGeNQK"
      },
      "source": [
        "grid_search = GridSearchCV(estimator=clf_pipeline,\n",
        "                           param_grid=param_grid,\n",
        "                           scoring=\"f1_weighted\",\n",
        "                           cv=2, \n",
        "                           n_jobs=-1)"
      ],
      "execution_count": null,
      "outputs": []
    },
    {
      "cell_type": "code",
      "metadata": {
        "id": "vI2tlaErsKEb"
      },
      "source": [
        "estimators = grid_search.fit(texts, labels)"
      ],
      "execution_count": null,
      "outputs": []
    },
    {
      "cell_type": "code",
      "metadata": {
        "colab": {
          "base_uri": "https://localhost:8080/"
        },
        "id": "biee2V0yeUZe",
        "outputId": "b590f570-f370-494e-fab1-75a81d73c446"
      },
      "source": [
        "estimators.best_estimator_"
      ],
      "execution_count": null,
      "outputs": [
        {
          "output_type": "execute_result",
          "data": {
            "text/plain": [
              "Pipeline(memory=None,\n",
              "         steps=[('features',\n",
              "                 Pipeline(memory=None,\n",
              "                          steps=[('count_vectorizer',\n",
              "                                  CountVectorizer(analyzer='word', binary=False,\n",
              "                                                  decode_error='strict',\n",
              "                                                  dtype=<class 'numpy.int64'>,\n",
              "                                                  encoding='utf-8',\n",
              "                                                  input='content',\n",
              "                                                  lowercase=True, max_df=0.5,\n",
              "                                                  max_features=20, min_df=0.01,\n",
              "                                                  ngram_range=(1, 1),\n",
              "                                                  preprocessor=<function preprocess at 0x7f14a7b60ef0>,\n",
              "                                                  stop_words=No...\n",
              "                                  TfidfTransformer(norm='l2', smooth_idf=True,\n",
              "                                                   sublinear_tf=True,\n",
              "                                                   use_idf=True))],\n",
              "                          verbose=False)),\n",
              "                ('classifier',\n",
              "                 LogisticRegression(C=0.01, class_weight=None, dual=False,\n",
              "                                    fit_intercept=True, intercept_scaling=1,\n",
              "                                    l1_ratio=None, max_iter=1000,\n",
              "                                    multi_class='auto', n_jobs=None,\n",
              "                                    penalty='l1', random_state=None,\n",
              "                                    solver='liblinear', tol=0.0001, verbose=0,\n",
              "                                    warm_start=False))],\n",
              "         verbose=False)"
            ]
          },
          "metadata": {
            "tags": []
          },
          "execution_count": 161
        }
      ]
    },
    {
      "cell_type": "code",
      "metadata": {
        "colab": {
          "base_uri": "https://localhost:8080/"
        },
        "id": "OrkfzVP-eaSY",
        "outputId": "84c013e4-f4fb-4c88-fd92-015b46ebfdaa"
      },
      "source": [
        "estimators.best_score_"
      ],
      "execution_count": null,
      "outputs": [
        {
          "output_type": "execute_result",
          "data": {
            "text/plain": [
              "0.35"
            ]
          },
          "metadata": {
            "tags": []
          },
          "execution_count": 162
        }
      ]
    },
    {
      "cell_type": "code",
      "metadata": {
        "id": "oP3NoBBVvQzw"
      },
      "source": [
        "best_estimator = estimators.best_estimator_"
      ],
      "execution_count": null,
      "outputs": []
    },
    {
      "cell_type": "code",
      "metadata": {
        "colab": {
          "base_uri": "https://localhost:8080/"
        },
        "id": "I5ek-TjtwZ2U",
        "outputId": "6d37223c-083f-4acc-d2ff-9af66dbe6983"
      },
      "source": [
        "preds = best_estimator.predict(X_test)"
      ],
      "execution_count": null,
      "outputs": [
        {
          "output_type": "execute_result",
          "data": {
            "text/plain": [
              "array([0, 0])"
            ]
          },
          "metadata": {
            "tags": []
          },
          "execution_count": 167
        }
      ]
    },
    {
      "cell_type": "code",
      "metadata": {
        "id": "hrqUOfZ5wig_"
      },
      "source": [
        "from sklearn.metrics import classification_report"
      ],
      "execution_count": null,
      "outputs": []
    },
    {
      "cell_type": "code",
      "metadata": {
        "id": "K3xdjFN6wqwn"
      },
      "source": [
        "print(classification_report(preds, Y_test))"
      ],
      "execution_count": null,
      "outputs": []
    }
  ]
}